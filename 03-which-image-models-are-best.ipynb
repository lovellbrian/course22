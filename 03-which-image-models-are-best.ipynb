{
 "cells": [
  {
   "cell_type": "markdown",
   "metadata": {},
   "source": [
    "*The data, concept, and initial implementation of this notebook was done in Colab by Ross Wightman, the creator of timm. I (Jeremy Howard) did some refactoring, curating, and expanding of the analysis, and added prose.*"
   ]
  },
  {
   "cell_type": "markdown",
   "metadata": {},
   "source": [
    "## timm\n",
    "\n",
    "[PyTorch Image Models](https://timm.fast.ai/) (timm) is a wonderful library by Ross Wightman which provides state-of-the-art pre-trained computer vision models. It's like Huggingface Transformers, but for computer vision instead of NLP (and it's not restricted to transformers-based models)!\n",
    "\n",
    "Ross has been kind enough to help me understand how to best take advantage of this library by identifying the top models. I'm going to share here so of what I've learned from him, plus some additional ideas."
   ]
  },
  {
   "cell_type": "markdown",
   "metadata": {},
   "source": [
    "## The data\n",
    "\n",
    "Ross regularly benchmarks new models as they are added to timm, and puts the results in a CSV in the project's GitHub repo. To analyse the data, we'll first clone the repo:"
   ]
  },
  {
   "cell_type": "code",
   "execution_count": 101,
   "metadata": {
    "execution": {
     "iopub.execute_input": "2022-05-21T21:57:16.845484Z",
     "iopub.status.busy": "2022-05-21T21:57:16.844988Z",
     "iopub.status.idle": "2022-05-21T21:57:19.074407Z",
     "shell.execute_reply": "2022-05-21T21:57:19.073343Z",
     "shell.execute_reply.started": "2022-05-21T21:57:16.845369Z"
    },
    "trusted": true
   },
   "outputs": [
    {
     "name": "stderr",
     "output_type": "stream",
     "text": [
      "88974.26s - pydevd: Sending message related to process being replaced timed-out after 5 seconds\n"
     ]
    },
    {
     "name": "stdout",
     "output_type": "stream",
     "text": [
      "Cloning into 'pytorch-image-models'...\n",
      "remote: Enumerating objects: 448, done.\u001b[K\n",
      "remote: Counting objects: 100% (448/448), done.\u001b[K\n",
      "remote: Compressing objects: 100% (386/386), done.\u001b[K\n",
      "remote: Total 448 (delta 93), reused 223 (delta 58), pack-reused 0 (from 0)\u001b[K\n",
      "Receiving objects: 100% (448/448), 2.80 MiB | 2.75 MiB/s, done.\n",
      "Resolving deltas: 100% (93/93), done.\n",
      "/workspaces/course22/pytorch-image-models/results/pytorch-image-models/results/pytorch-image-models/results/pytorch-image-models/results/pytorch-image-models/results/pytorch-image-models/results\n"
     ]
    },
    {
     "name": "stderr",
     "output_type": "stream",
     "text": [
      "/home/vscode/.local/lib/python3.10/site-packages/IPython/core/magics/osm.py:417: UserWarning:\n",
      "\n",
      "using dhist requires you to install the `pickleshare` library.\n",
      "\n"
     ]
    }
   ],
   "source": [
    "! git clone --depth 1 https://github.com/rwightman/pytorch-image-models.git\n",
    "%cd pytorch-image-models/results"
   ]
  },
  {
   "cell_type": "markdown",
   "metadata": {},
   "source": [
    "Using Pandas, we can read the two CSV files we need, and merge them together."
   ]
  },
  {
   "cell_type": "code",
   "execution_count": 102,
   "metadata": {
    "execution": {
     "iopub.execute_input": "2022-05-21T22:32:00.838168Z",
     "iopub.status.busy": "2022-05-21T22:32:00.836794Z",
     "iopub.status.idle": "2022-05-21T22:32:00.84788Z",
     "shell.execute_reply": "2022-05-21T22:32:00.846328Z",
     "shell.execute_reply.started": "2022-05-21T22:32:00.838091Z"
    },
    "trusted": true
   },
   "outputs": [],
   "source": [
    "import pandas as pd\n",
    "df_results = pd.read_csv('results-imagenet.csv')\n",
    "df_results['model'] = df_results['model'].str.split('.').str[0] # split string for new format"
   ]
  },
  {
   "cell_type": "markdown",
   "metadata": {},
   "source": []
  },
  {
   "cell_type": "markdown",
   "metadata": {},
   "source": [
    "We'll also add a \"family\" column that will allow us to group architectures into categories with similar characteristics:\n",
    "\n",
    "Ross has told me which models he's found the most usable in practice, so I'll limit the charts to just look at these. (I also include VGG, not because it's good, but as a comparison to show how far things have come in the last few years.)"
   ]
  },
  {
   "cell_type": "code",
   "execution_count": 103,
   "metadata": {
    "execution": {
     "iopub.execute_input": "2022-05-21T22:28:40.167131Z",
     "iopub.status.busy": "2022-05-21T22:28:40.166722Z",
     "iopub.status.idle": "2022-05-21T22:28:40.175037Z",
     "shell.execute_reply": "2022-05-21T22:28:40.174201Z",
     "shell.execute_reply.started": "2022-05-21T22:28:40.1671Z"
    },
    "trusted": true
   },
   "outputs": [],
   "source": [
    "def get_data(part, col, test):\n",
    "    df = pd.read_csv(f'benchmark-{part}-amp-nhwc-{test}-rtx3090.csv') # adjusted filename\n",
    "    df = df.merge(df_results, on='model')\n",
    "    df['secs'] = 1. / df[col]\n",
    "    df['family'] = df.model.str.extract('^([a-z]+?(?:v2)?)(?:\\d|_|$)')\n",
    "    df = df[~df.model.str.endswith('gn')]\n",
    "    df.loc[df.model.str.contains('in22'),'family'] = df.loc[df.model.str.contains('in22'),'family'] + '_in22'\n",
    "    df.loc[df.model.str.contains('resnet.*d'),'family'] = df.loc[df.model.str.contains('resnet.*d'),'family'] + 'd'\n",
    "    return df[df.family.str.contains('^re[sg]netd?|beit|convnext|levit|efficient|vit|vgg')]"
   ]
  },
  {
   "cell_type": "code",
   "execution_count": 104,
   "metadata": {
    "execution": {
     "iopub.execute_input": "2022-05-21T22:28:40.335394Z",
     "iopub.status.busy": "2022-05-21T22:28:40.334426Z",
     "iopub.status.idle": "2022-05-21T22:28:40.363688Z",
     "shell.execute_reply": "2022-05-21T22:28:40.362455Z",
     "shell.execute_reply.started": "2022-05-21T22:28:40.335349Z"
    },
    "trusted": true
   },
   "outputs": [],
   "source": [
    "df = get_data('infer', 'infer_samples_per_sec','pt113-cu117')"
   ]
  },
  {
   "cell_type": "markdown",
   "metadata": {},
   "source": [
    "## Inference results"
   ]
  },
  {
   "cell_type": "markdown",
   "metadata": {},
   "source": [
    "Here's the results for inference performance (see the last section for training performance). In this chart:\n",
    "\n",
    "- the x axis shows how many seconds it takes to process one image (**note**: it's a log scale)\n",
    "- the y axis is the accuracy on Imagenet\n",
    "- the size of each bubble is proportional to the size of images used in testing\n",
    "- the color shows what \"family\" the architecture is from.\n",
    "\n",
    "Hover your mouse over a marker to see details about the model. Double-click in the legend to display just one family. Single-click in the legend to show or hide a family.\n",
    "\n",
    "**Note**: on my screen, Kaggle cuts off the family selector and some plotly functionality -- to see the whole thing, collapse the table of contents on the right by clicking the little arrow to the right of \"*Contents*\"."
   ]
  },
  {
   "cell_type": "code",
   "execution_count": 105,
   "metadata": {
    "execution": {
     "iopub.execute_input": "2022-05-21T22:28:40.792677Z",
     "iopub.status.busy": "2022-05-21T22:28:40.792348Z",
     "iopub.status.idle": "2022-05-21T22:28:40.79978Z",
     "shell.execute_reply": "2022-05-21T22:28:40.799001Z",
     "shell.execute_reply.started": "2022-05-21T22:28:40.79264Z"
    },
    "trusted": true
   },
   "outputs": [],
   "source": [
    "import plotly.express as px\n",
    "w,h = 1000,800\n",
    "\n",
    "def show_all(df, title, size):\n",
    "    return px.scatter(df, width=w, height=h, size=df[size]**2, title=title,\n",
    "        x='secs',  y='top1', log_x=True, color='family', hover_name='model', hover_data=[size])"
   ]
  },
  {
   "cell_type": "code",
   "execution_count": 106,
   "metadata": {
    "execution": {
     "iopub.execute_input": "2022-05-21T22:28:40.927563Z",
     "iopub.status.busy": "2022-05-21T22:28:40.927292Z",
     "iopub.status.idle": "2022-05-21T22:28:41.145146Z",
     "shell.execute_reply": "2022-05-21T22:28:41.144313Z",
     "shell.execute_reply.started": "2022-05-21T22:28:40.927535Z"
    },
    "trusted": true
   },
   "outputs": [
    {
     "data": {
      "application/vnd.plotly.v1+json": {
       "config": {
        "plotlyServerURL": "https://plot.ly"
       },
       "data": [
        {
         "customdata": [
          [
           224
          ],
          [
           224
          ],
          [
           224
          ],
          [
           224
          ],
          [
           224
          ],
          [
           224
          ],
          [
           224
          ],
          [
           224
          ],
          [
           224
          ],
          [
           224
          ],
          [
           224
          ],
          [
           224
          ],
          [
           224
          ],
          [
           224
          ],
          [
           224
          ],
          [
           224
          ],
          [
           224
          ],
          [
           224
          ]
         ],
         "hovertemplate": "<b>%{hovertext}</b><br><br>family=regnetx<br>secs=%{x}<br>top1=%{y}<br>size=%{marker.size}<br>infer_img_size=%{customdata[0]}<extra></extra>",
         "hovertext": [
          "regnetx_002",
          "regnetx_004",
          "regnetx_006",
          "regnetx_008",
          "regnetx_008",
          "regnetx_016",
          "regnetx_016",
          "regnetx_032",
          "regnetx_032",
          "regnetx_040",
          "regnetx_064",
          "regnetx_160",
          "regnetx_160",
          "regnetx_080",
          "regnetx_080",
          "regnetx_120",
          "regnetx_320",
          "regnetx_320"
         ],
         "legendgroup": "regnetx",
         "marker": {
          "color": "#636efa",
          "size": [
           50176,
           50176,
           50176,
           50176,
           50176,
           50176,
           50176,
           50176,
           50176,
           50176,
           50176,
           50176,
           50176,
           50176,
           50176,
           50176,
           50176,
           50176
          ],
          "sizemode": "area",
          "sizeref": 655.36,
          "symbol": "circle"
         },
         "mode": "markers",
         "name": "regnetx",
         "orientation": "v",
         "showlegend": true,
         "type": "scatter",
         "x": [
          0.00004169550605835703,
          0.00007347430603517949,
          0.00011933857786603528,
          0.0001352286987753689,
          0.0001352286987753689,
          0.00025957777079801996,
          0.00025957777079801996,
          0.00041162088070403636,
          0.00041162088070403636,
          0.0005174322939843322,
          0.0006449449217036865,
          0.0008367640660039495,
          0.0008367640660039495,
          0.0009955102487780112,
          0.0009955102487780112,
          0.0015615972016178147,
          0.003454947484798231,
          0.003454947484798231
         ],
         "xaxis": "x",
         "y": [
          68.76,
          72.432,
          73.884,
          77.288,
          75.062,
          79.452,
          76.924,
          80.926,
          78.166,
          78.494,
          79.06,
          82.576,
          79.858,
          81.56,
          79.216,
          79.608,
          82.824,
          80.262
         ],
         "yaxis": "y"
        },
        {
         "customdata": [
          [
           224
          ],
          [
           224
          ],
          [
           224
          ],
          [
           224
          ],
          [
           224
          ]
         ],
         "hovertemplate": "<b>%{hovertext}</b><br><br>family=levit<br>secs=%{x}<br>top1=%{y}<br>size=%{marker.size}<br>infer_img_size=%{customdata[0]}<extra></extra>",
         "hovertext": [
          "levit_128s",
          "levit_128",
          "levit_192",
          "levit_256",
          "levit_384"
         ],
         "legendgroup": "levit",
         "marker": {
          "color": "#EF553B",
          "size": [
           50176,
           50176,
           50176,
           50176,
           50176
          ],
          "sizemode": "area",
          "sizeref": 655.36,
          "symbol": "circle"
         },
         "mode": "markers",
         "name": "levit",
         "orientation": "v",
         "showlegend": true,
         "type": "scatter",
         "x": [
          0.000044100013538704156,
          0.00006519895134006664,
          0.00007394185508283706,
          0.00010143942544709426,
          0.00017005645874430312
         ],
         "xaxis": "x",
         "y": [
          76.522,
          78.486,
          79.85,
          81.506,
          82.598
         ],
         "yaxis": "y"
        },
        {
         "customdata": [
          [
           224
          ],
          [
           224
          ],
          [
           224
          ],
          [
           224
          ],
          [
           224
          ],
          [
           224
          ],
          [
           224
          ],
          [
           288
          ],
          [
           288
          ],
          [
           288
          ],
          [
           288
          ],
          [
           288
          ],
          [
           288
          ],
          [
           288
          ],
          [
           288
          ],
          [
           288
          ],
          [
           288
          ],
          [
           288
          ],
          [
           288
          ],
          [
           288
          ],
          [
           224
          ],
          [
           224
          ],
          [
           224
          ],
          [
           224
          ],
          [
           224
          ],
          [
           224
          ],
          [
           224
          ],
          [
           224
          ],
          [
           288
          ],
          [
           288
          ],
          [
           288
          ],
          [
           288
          ],
          [
           288
          ],
          [
           288
          ],
          [
           288
          ],
          [
           288
          ],
          [
           288
          ],
          [
           288
          ],
          [
           224
          ],
          [
           224
          ],
          [
           224
          ],
          [
           224
          ],
          [
           224
          ]
         ],
         "hovertemplate": "<b>%{hovertext}</b><br><br>family=regnety<br>secs=%{x}<br>top1=%{y}<br>size=%{marker.size}<br>infer_img_size=%{customdata[0]}<extra></extra>",
         "hovertext": [
          "regnety_002",
          "regnety_004",
          "regnety_004",
          "regnety_006",
          "regnety_008",
          "regnety_016",
          "regnety_016",
          "regnety_040",
          "regnety_040",
          "regnety_040",
          "regnety_032",
          "regnety_032",
          "regnety_032",
          "regnety_032",
          "regnety_080",
          "regnety_080",
          "regnety_080",
          "regnety_064",
          "regnety_064",
          "regnety_064",
          "regnety_120",
          "regnety_120",
          "regnety_120",
          "regnety_320",
          "regnety_320",
          "regnety_320",
          "regnety_320",
          "regnety_320",
          "regnety_160",
          "regnety_160",
          "regnety_160",
          "regnety_160",
          "regnety_160",
          "regnety_160",
          "regnety_160",
          "regnety_160",
          "regnety_160",
          "regnety_160",
          "regnety_640",
          "regnety_1280",
          "regnety_1280",
          "regnety_1280",
          "regnety_2560"
         ],
         "legendgroup": "regnety",
         "marker": {
          "color": "#00cc96",
          "size": [
           50176,
           50176,
           50176,
           50176,
           50176,
           50176,
           50176,
           82944,
           82944,
           82944,
           82944,
           82944,
           82944,
           82944,
           82944,
           82944,
           82944,
           82944,
           82944,
           82944,
           50176,
           50176,
           50176,
           50176,
           50176,
           50176,
           50176,
           50176,
           82944,
           82944,
           82944,
           82944,
           82944,
           82944,
           82944,
           82944,
           82944,
           82944,
           50176,
           50176,
           50176,
           50176,
           50176
          ],
          "sizemode": "area",
          "sizeref": 655.36,
          "symbol": "circle"
         },
         "mode": "markers",
         "name": "regnety",
         "orientation": "v",
         "showlegend": true,
         "type": "scatter",
         "x": [
          0.00004606305940706709,
          0.00008390416131078437,
          0.00008390416131078437,
          0.00010991873707767849,
          0.00014412420047099788,
          0.0002831353273610655,
          0.0002831353273610655,
          0.000596292254759903,
          0.000596292254759903,
          0.000596292254759903,
          0.0006812685219879415,
          0.0006812685219879415,
          0.0006812685219879415,
          0.0006812685219879415,
          0.0012326200571935707,
          0.0012326200571935707,
          0.0012326200571935707,
          0.001520426935883596,
          0.001520426935883596,
          0.001520426935883596,
          0.0015980823012385138,
          0.0015980823012385138,
          0.0015980823012385138,
          0.0016520460590441263,
          0.0016520460590441263,
          0.0016520460590441263,
          0.0016520460590441263,
          0.0016520460590441263,
          0.002828854314002829,
          0.002828854314002829,
          0.002828854314002829,
          0.002828854314002829,
          0.002828854314002829,
          0.002828854314002829,
          0.002828854314002829,
          0.002828854314002829,
          0.002828854314002829,
          0.002828854314002829,
          0.005720496539099593,
          0.012122681537156019,
          0.012122681537156019,
          0.012122681537156019,
          0.020968756552736424
         ],
         "xaxis": "x",
         "y": [
          70.294,
          75.588,
          74.006,
          75.262,
          76.334,
          80.696,
          77.908,
          83.058,
          82.316,
          79.236,
          82.724,
          81.942,
          81.798,
          78.896,
          83.94,
          83.162,
          79.882,
          83.712,
          83.006,
          79.728,
          85.442,
          84.986,
          80.382,
          86.86,
          84.632,
          83.326,
          83.174,
          80.796,
          86.032,
          86.018,
          86.01,
          85.602,
          85.594,
          83.808,
          83.7,
          82.994,
          82.646,
          80.284,
          83.916,
          88.224,
          85.966,
          84.426,
          85.146
         ],
         "yaxis": "y"
        },
        {
         "customdata": [
          [
           224
          ],
          [
           224
          ],
          [
           224
          ],
          [
           224
          ],
          [
           224
          ],
          [
           224
          ],
          [
           224
          ],
          [
           224
          ],
          [
           224
          ],
          [
           384
          ],
          [
           384
          ],
          [
           224
          ],
          [
           224
          ],
          [
           224
          ],
          [
           256
          ],
          [
           224
          ],
          [
           224
          ],
          [
           224
          ],
          [
           224
          ],
          [
           224
          ],
          [
           224
          ],
          [
           384
          ],
          [
           384
          ],
          [
           384
          ],
          [
           384
          ],
          [
           384
          ],
          [
           256
          ],
          [
           224
          ],
          [
           224
          ],
          [
           224
          ],
          [
           224
          ],
          [
           224
          ],
          [
           224
          ],
          [
           224
          ],
          [
           224
          ],
          [
           224
          ],
          [
           224
          ],
          [
           224
          ],
          [
           448
          ],
          [
           224
          ],
          [
           224
          ],
          [
           224
          ],
          [
           384
          ],
          [
           384
          ],
          [
           384
          ],
          [
           384
          ],
          [
           384
          ],
          [
           224
          ],
          [
           384
          ],
          [
           384
          ],
          [
           384
          ],
          [
           384
          ],
          [
           384
          ],
          [
           384
          ],
          [
           384
          ],
          [
           384
          ],
          [
           224
          ],
          [
           224
          ],
          [
           224
          ],
          [
           224
          ],
          [
           384
          ],
          [
           224
          ],
          [
           224
          ],
          [
           224
          ],
          [
           224
          ],
          [
           336
          ],
          [
           336
          ],
          [
           336
          ],
          [
           384
          ],
          [
           336
          ]
         ],
         "hovertemplate": "<b>%{hovertext}</b><br><br>family=vit<br>secs=%{x}<br>top1=%{y}<br>size=%{marker.size}<br>infer_img_size=%{customdata[0]}<extra></extra>",
         "hovertext": [
          "vit_tiny_r_s16_p8_224",
          "vit_small_patch32_224",
          "vit_tiny_patch16_224",
          "vit_base_patch32_clip_224",
          "vit_base_patch32_clip_224",
          "vit_base_patch32_clip_224",
          "vit_base_patch32_224",
          "vit_base_patch32_224",
          "vit_base_patch32_224",
          "vit_small_patch32_384",
          "vit_tiny_r_s16_p8_384",
          "vit_small_patch16_224",
          "vit_small_patch16_224",
          "vit_small_r26_s32_224",
          "vit_relpos_base_patch32_plus_rpn_256",
          "vit_relpos_small_patch16_224",
          "vit_srelpos_small_patch16_224",
          "vit_relpos_medium_patch16_rpn_224",
          "vit_relpos_medium_patch16_224",
          "vit_srelpos_medium_patch16_224",
          "vit_relpos_medium_patch16_cls_224",
          "vit_tiny_patch16_384",
          "vit_base_patch32_384",
          "vit_base_patch32_384",
          "vit_base_patch32_clip_384",
          "vit_base_patch32_clip_384",
          "vit_medium_patch16_gap_256",
          "vit_base_patch16_clip_224",
          "vit_base_patch16_clip_224",
          "vit_base_patch16_clip_224",
          "vit_base_patch16_clip_224",
          "vit_base_patch16_224_miil",
          "vit_base_patch16_224",
          "vit_base_patch16_224",
          "vit_base_patch16_224",
          "vit_base_patch16_224",
          "vit_base_patch16_224",
          "vit_base_patch16_rpn_224",
          "vit_base_patch32_clip_448",
          "vit_relpos_base_patch16_224",
          "vit_relpos_base_patch16_clsgap_224",
          "vit_large_r50_s32_224",
          "vit_small_r26_s32_384",
          "vit_small_patch16_384",
          "vit_small_patch16_384",
          "vit_large_patch32_384",
          "vit_medium_patch16_gap_384",
          "vit_large_patch16_224",
          "vit_large_r50_s32_384",
          "vit_base_patch16_384",
          "vit_base_patch16_384",
          "vit_base_patch16_384",
          "vit_base_patch16_clip_384",
          "vit_base_patch16_clip_384",
          "vit_base_patch16_clip_384",
          "vit_base_patch16_clip_384",
          "vit_large_patch14_clip_224",
          "vit_large_patch14_clip_224",
          "vit_large_patch14_clip_224",
          "vit_large_patch14_clip_224",
          "vit_base_r50_s16_384",
          "vit_base_patch8_224",
          "vit_base_patch8_224",
          "vit_huge_patch14_clip_224",
          "vit_huge_patch14_clip_224",
          "vit_large_patch14_clip_336",
          "vit_large_patch14_clip_336",
          "vit_large_patch14_clip_336",
          "vit_large_patch16_384",
          "vit_huge_patch14_clip_336"
         ],
         "legendgroup": "vit",
         "marker": {
          "color": "#ab63fa",
          "size": [
           50176,
           50176,
           50176,
           50176,
           50176,
           50176,
           50176,
           50176,
           50176,
           147456,
           147456,
           50176,
           50176,
           50176,
           65536,
           50176,
           50176,
           50176,
           50176,
           50176,
           50176,
           147456,
           147456,
           147456,
           147456,
           147456,
           65536,
           50176,
           50176,
           50176,
           50176,
           50176,
           50176,
           50176,
           50176,
           50176,
           50176,
           50176,
           200704,
           50176,
           50176,
           50176,
           147456,
           147456,
           147456,
           147456,
           147456,
           50176,
           147456,
           147456,
           147456,
           147456,
           147456,
           147456,
           147456,
           147456,
           50176,
           50176,
           50176,
           50176,
           147456,
           50176,
           50176,
           50176,
           50176,
           112896,
           112896,
           112896,
           147456,
           112896
          ],
          "sizemode": "area",
          "sizeref": 655.36,
          "symbol": "circle"
         },
         "mode": "markers",
         "name": "vit",
         "orientation": "v",
         "showlegend": true,
         "type": "scatter",
         "x": [
          0.00007079450549683939,
          0.00007246655125160604,
          0.00013468140440381257,
          0.0001893695508911731,
          0.0001893695508911731,
          0.0001893695508911731,
          0.0001893752887973154,
          0.0001893752887973154,
          0.0001893752887973154,
          0.000235899129532212,
          0.0002523309067511134,
          0.00031071532883003247,
          0.00031071532883003247,
          0.00032659246485865077,
          0.0003304201291942705,
          0.0003324180755652769,
          0.00033322670078908084,
          0.0004890334254346284,
          0.0004908047725856086,
          0.0004918476256055874,
          0.000498196528566589,
          0.0006003265776582461,
          0.0006063288606474379,
          0.0006063288606474379,
          0.0006065605590062111,
          0.0006065605590062111,
          0.0006392962626740484,
          0.0008252050634582694,
          0.0008252050634582694,
          0.0008252050634582694,
          0.0008252050634582694,
          0.0008255865792645675,
          0.000826255081468751,
          0.000826255081468751,
          0.000826255081468751,
          0.000826255081468751,
          0.000826255081468751,
          0.0008471776277332067,
          0.0008663934639277081,
          0.0008761861369829407,
          0.0008857866671390862,
          0.0009702426576886879,
          0.0010176252696706964,
          0.0013265766363322808,
          0.0013265766363322808,
          0.0018400956849756187,
          0.001854461835175432,
          0.002559770644550248,
          0.0030321406913280777,
          0.0032563743527955977,
          0.0032563743527955977,
          0.0032563743527955977,
          0.0032648796891834534,
          0.0032648796891834534,
          0.0032648796891834534,
          0.0032648796891834534,
          0.0034966257561453197,
          0.0034966257561453197,
          0.0034966257561453197,
          0.0034966257561453197,
          0.0044185224460940265,
          0.005008263634997747,
          0.005008263634997747,
          0.006486346241162354,
          0.006486346241162354,
          0.009754194303550527,
          0.009754194303550527,
          0.009754194303550527,
          0.00975609756097561,
          0.017421602787456445
         ],
         "xaxis": "x",
         "y": [
          71.82,
          75.996,
          75.452,
          83.306,
          82.63,
          81.946,
          80.736,
          74.906,
          73.706,
          80.482,
          75.962,
          81.414,
          78.842,
          81.844,
          79.496,
          81.476,
          81.108,
          82.308,
          82.466,
          82.25,
          82.572,
          78.446,
          83.352,
          78.754,
          85.41,
          85.226,
          84.45,
          86.21,
          85.962,
          85.494,
          85.286,
          84.272,
          85.11,
          84.532,
          81.786,
          80.242,
          79.142,
          82.216,
          85.8,
          82.476,
          82.762,
          84.432,
          84.074,
          83.804,
          81.134,
          81.506,
          85.554,
          85.85,
          86.184,
          86.006,
          84.208,
          81.096,
          87.212,
          87.028,
          86.638,
          86.218,
          88.162,
          87.898,
          87.86,
          87.298,
          84.994,
          86.228,
          85.836,
          88.278,
          87.624,
          88.264,
          88.192,
          87.866,
          87.094,
          88.628
         ],
         "yaxis": "y"
        },
        {
         "customdata": [
          [
           224
          ],
          [
           224
          ],
          [
           224
          ],
          [
           224
          ],
          [
           224
          ],
          [
           224
          ],
          [
           224
          ],
          [
           224
          ],
          [
           224
          ],
          [
           224
          ],
          [
           224
          ],
          [
           224
          ],
          [
           224
          ],
          [
           224
          ],
          [
           224
          ],
          [
           224
          ],
          [
           224
          ],
          [
           224
          ],
          [
           224
          ],
          [
           224
          ],
          [
           224
          ],
          [
           224
          ],
          [
           224
          ],
          [
           224
          ],
          [
           224
          ],
          [
           224
          ],
          [
           256
          ],
          [
           256
          ],
          [
           224
          ],
          [
           224
          ],
          [
           224
          ],
          [
           224
          ],
          [
           224
          ],
          [
           224
          ],
          [
           224
          ],
          [
           224
          ],
          [
           224
          ],
          [
           224
          ],
          [
           224
          ],
          [
           224
          ],
          [
           224
          ],
          [
           224
          ],
          [
           224
          ],
          [
           224
          ],
          [
           224
          ],
          [
           224
          ],
          [
           224
          ],
          [
           224
          ],
          [
           224
          ],
          [
           224
          ],
          [
           224
          ],
          [
           224
          ],
          [
           224
          ],
          [
           224
          ],
          [
           224
          ],
          [
           224
          ],
          [
           224
          ],
          [
           224
          ],
          [
           224
          ],
          [
           256
          ],
          [
           256
          ],
          [
           256
          ],
          [
           256
          ],
          [
           224
          ],
          [
           224
          ],
          [
           224
          ],
          [
           224
          ],
          [
           224
          ],
          [
           224
          ],
          [
           224
          ],
          [
           224
          ],
          [
           224
          ],
          [
           224
          ],
          [
           224
          ],
          [
           224
          ],
          [
           288
          ],
          [
           288
          ],
          [
           288
          ],
          [
           288
          ],
          [
           224
          ],
          [
           224
          ],
          [
           224
          ],
          [
           224
          ],
          [
           224
          ],
          [
           224
          ],
          [
           224
          ],
          [
           224
          ],
          [
           224
          ],
          [
           224
          ],
          [
           224
          ],
          [
           224
          ]
         ],
         "hovertemplate": "<b>%{hovertext}</b><br><br>family=resnet<br>secs=%{x}<br>top1=%{y}<br>size=%{marker.size}<br>infer_img_size=%{customdata[0]}<extra></extra>",
         "hovertext": [
          "resnet10t",
          "resnet10t",
          "resnet18",
          "resnet18",
          "resnet18",
          "resnet18",
          "resnet18",
          "resnet18",
          "resnet18",
          "resnet18",
          "resnet18",
          "resnet18",
          "resnet14t",
          "resnet14t",
          "resnet34",
          "resnet34",
          "resnet34",
          "resnet34",
          "resnet34",
          "resnet34",
          "resnet34",
          "resnet34",
          "resnet34",
          "resnet34",
          "resnet26",
          "resnet26",
          "resnet26t",
          "resnet26t",
          "resnet50",
          "resnet50",
          "resnet50",
          "resnet50",
          "resnet50",
          "resnet50",
          "resnet50",
          "resnet50",
          "resnet50",
          "resnet50",
          "resnet50",
          "resnet50",
          "resnet50",
          "resnet50",
          "resnet50",
          "resnet50",
          "resnet50",
          "resnet50",
          "resnet50",
          "resnet50",
          "resnet50",
          "resnet50",
          "resnet50",
          "resnet50",
          "resnet50",
          "resnet50",
          "resnet50",
          "resnet50",
          "resnet50",
          "resnet50",
          "resnet50",
          "resnet32ts",
          "resnet32ts",
          "resnet33ts",
          "resnet33ts",
          "resnet101",
          "resnet101",
          "resnet101",
          "resnet101",
          "resnet101",
          "resnet101",
          "resnet101",
          "resnet101",
          "resnet101",
          "resnet101",
          "resnet101",
          "resnet101",
          "resnet51q",
          "resnet51q",
          "resnet61q",
          "resnet61q",
          "resnet152",
          "resnet152",
          "resnet152",
          "resnet152",
          "resnet152",
          "resnet152",
          "resnet152",
          "resnet152",
          "resnet152",
          "resnet152",
          "resnet152",
          "resnet152"
         ],
         "legendgroup": "resnet",
         "marker": {
          "color": "#FFA15A",
          "size": [
           50176,
           50176,
           50176,
           50176,
           50176,
           50176,
           50176,
           50176,
           50176,
           50176,
           50176,
           50176,
           50176,
           50176,
           50176,
           50176,
           50176,
           50176,
           50176,
           50176,
           50176,
           50176,
           50176,
           50176,
           50176,
           50176,
           65536,
           65536,
           50176,
           50176,
           50176,
           50176,
           50176,
           50176,
           50176,
           50176,
           50176,
           50176,
           50176,
           50176,
           50176,
           50176,
           50176,
           50176,
           50176,
           50176,
           50176,
           50176,
           50176,
           50176,
           50176,
           50176,
           50176,
           50176,
           50176,
           50176,
           50176,
           50176,
           50176,
           65536,
           65536,
           65536,
           65536,
           50176,
           50176,
           50176,
           50176,
           50176,
           50176,
           50176,
           50176,
           50176,
           50176,
           50176,
           50176,
           82944,
           82944,
           82944,
           82944,
           50176,
           50176,
           50176,
           50176,
           50176,
           50176,
           50176,
           50176,
           50176,
           50176,
           50176,
           50176
          ],
          "sizemode": "area",
          "sizeref": 655.36,
          "symbol": "circle"
         },
         "mode": "markers",
         "name": "resnet",
         "orientation": "v",
         "showlegend": true,
         "type": "scatter",
         "x": [
          0.00007086132650986,
          0.00007086132650986,
          0.00009022746343532044,
          0.00009022746343532044,
          0.00009022746343532044,
          0.00009022746343532044,
          0.00009022746343532044,
          0.00009022746343532044,
          0.00009022746343532044,
          0.00009022746343532044,
          0.00009022746343532044,
          0.00009022746343532044,
          0.00013459529885540158,
          0.00013459529885540158,
          0.00015393093426841246,
          0.00015393093426841246,
          0.00015393093426841246,
          0.00015393093426841246,
          0.00015393093426841246,
          0.00015393093426841246,
          0.00015393093426841246,
          0.00015393093426841246,
          0.00015393093426841246,
          0.00015393093426841246,
          0.00016962924136714383,
          0.00016962924136714383,
          0.00025384189711280227,
          0.00025384189711280227,
          0.00027258503290101345,
          0.00027258503290101345,
          0.00027258503290101345,
          0.00027258503290101345,
          0.00027258503290101345,
          0.00027258503290101345,
          0.00027258503290101345,
          0.00027258503290101345,
          0.00027258503290101345,
          0.00027258503290101345,
          0.00027258503290101345,
          0.00027258503290101345,
          0.00027258503290101345,
          0.00027258503290101345,
          0.00027258503290101345,
          0.00027258503290101345,
          0.00027258503290101345,
          0.00027258503290101345,
          0.00027258503290101345,
          0.00027258503290101345,
          0.00027258503290101345,
          0.00027258503290101345,
          0.00027258503290101345,
          0.00027258503290101345,
          0.00027258503290101345,
          0.00027258503290101345,
          0.00027258503290101345,
          0.00027258503290101345,
          0.00027258503290101345,
          0.00027258503290101345,
          0.00027258503290101345,
          0.0002863180076847753,
          0.0002863180076847753,
          0.0002889522015268234,
          0.0002889522015268234,
          0.0004428148856651965,
          0.0004428148856651965,
          0.0004428148856651965,
          0.0004428148856651965,
          0.0004428148856651965,
          0.0004428148856651965,
          0.0004428148856651965,
          0.0004428148856651965,
          0.0004428148856651965,
          0.0004428148856651965,
          0.0004428148856651965,
          0.0004428148856651965,
          0.0004915430026395859,
          0.0004915430026395859,
          0.0005429353255440212,
          0.0005429353255440212,
          0.000632503067639878,
          0.000632503067639878,
          0.000632503067639878,
          0.000632503067639878,
          0.000632503067639878,
          0.000632503067639878,
          0.000632503067639878,
          0.000632503067639878,
          0.000632503067639878,
          0.000632503067639878,
          0.000632503067639878,
          0.000632503067639878
         ],
         "xaxis": "x",
         "y": [
          68.346,
          66.724,
          73.288,
          73.164,
          72.636,
          72.362,
          71.488,
          70.844,
          70.634,
          69.752,
          68.246,
          65.664,
          72.242,
          71.318,
          77.938,
          77.148,
          76.508,
          76.414,
          75.516,
          75.162,
          74.574,
          73.298,
          72.982,
          70.572,
          76.378,
          75.292,
          78.33,
          77.884,
          81.24,
          81.146,
          81.012,
          80.928,
          80.856,
          80.844,
          80.78,
          80.706,
          80.652,
          80.47,
          80.382,
          79.974,
          79.904,
          79.868,
          79.86,
          79.828,
          79.766,
          79.652,
          79.564,
          79.432,
          79.38,
          79.26,
          79.252,
          79.032,
          79.004,
          78.814,
          78.432,
          78.052,
          77.58,
          76.156,
          75.994,
          79.388,
          79.054,
          79.708,
          79.216,
          82.802,
          82.322,
          82.224,
          81.95,
          81.906,
          81.494,
          81.344,
          79.906,
          79.82,
          79.306,
          77.928,
          77.404,
          82.356,
          81.778,
          82.524,
          81.966,
          83.494,
          82.818,
          82.744,
          82.62,
          82.294,
          81.998,
          81.764,
          80.548,
          80.212,
          79.712,
          78.896,
          78.33
         ],
         "yaxis": "y"
        },
        {
         "customdata": [
          [
           224
          ],
          [
           224
          ],
          [
           224
          ],
          [
           224
          ],
          [
           240
          ],
          [
           224
          ],
          [
           224
          ],
          [
           256
          ],
          [
           256
          ],
          [
           256
          ],
          [
           256
          ],
          [
           260
          ],
          [
           240
          ],
          [
           300
          ],
          [
           288
          ],
          [
           288
          ],
          [
           320
          ],
          [
           320
          ],
          [
           300
          ],
          [
           300
          ],
          [
           384
          ],
          [
           384
          ],
          [
           448
          ]
         ],
         "hovertemplate": "<b>%{hovertext}</b><br><br>family=efficientnet<br>secs=%{x}<br>top1=%{y}<br>size=%{marker.size}<br>infer_img_size=%{customdata[0]}<extra></extra>",
         "hovertext": [
          "efficientnet_lite0",
          "efficientnet_b0",
          "efficientnet_b0",
          "efficientnet_b0",
          "efficientnet_b1_pruned",
          "efficientnet_es_pruned",
          "efficientnet_es",
          "efficientnet_b1",
          "efficientnet_b1",
          "efficientnet_b1",
          "efficientnet_b1",
          "efficientnet_b2_pruned",
          "efficientnet_em",
          "efficientnet_b3_pruned",
          "efficientnet_b2",
          "efficientnet_b2",
          "efficientnet_b3",
          "efficientnet_b3",
          "efficientnet_el_pruned",
          "efficientnet_el",
          "efficientnet_b4",
          "efficientnet_b4",
          "efficientnet_b5"
         ],
         "legendgroup": "efficientnet",
         "marker": {
          "color": "#19d3f3",
          "size": [
           50176,
           50176,
           50176,
           50176,
           57600,
           50176,
           50176,
           65536,
           65536,
           65536,
           65536,
           67600,
           57600,
           90000,
           82944,
           82944,
           102400,
           102400,
           90000,
           90000,
           147456,
           147456,
           200704
          ],
          "sizemode": "area",
          "sizeref": 655.36,
          "symbol": "circle"
         },
         "mode": "markers",
         "name": "efficientnet",
         "orientation": "v",
         "showlegend": true,
         "type": "scatter",
         "x": [
          0.00010682459614961426,
          0.00012554659850323344,
          0.00012554659850323344,
          0.00012554659850323344,
          0.00015054867464474276,
          0.00016352160120351898,
          0.00016352908855427203,
          0.00023588021059385203,
          0.00023588021059385203,
          0.00023588021059385203,
          0.00023588021059385203,
          0.0002480823236382761,
          0.0002723867892407218,
          0.0002976101901729115,
          0.0003101833183411396,
          0.0003101833183411396,
          0.0005129415144085271,
          0.0005129415144085271,
          0.0006430289234409764,
          0.0006451737775569849,
          0.0009861154938466392,
          0.0009861154938466392,
          0.001875433694041747
         ],
         "xaxis": "x",
         "y": [
          75.49,
          79.37,
          78.572,
          77.696,
          78.252,
          75,
          78.092,
          81.434,
          80.404,
          78.798,
          77.594,
          79.908,
          79.264,
          80.872,
          80.61,
          79.34,
          82.298,
          81.474,
          80.294,
          81.306,
          83.474,
          82.654,
          85.892
         ],
         "yaxis": "y"
        },
        {
         "customdata": [
          [
           224
          ],
          [
           224
          ],
          [
           224
          ],
          [
           224
          ],
          [
           224
          ],
          [
           224
          ],
          [
           224
          ],
          [
           224
          ],
          [
           224
          ],
          [
           224
          ],
          [
           224
          ],
          [
           224
          ],
          [
           224
          ],
          [
           224
          ],
          [
           224
          ],
          [
           224
          ],
          [
           224
          ],
          [
           320
          ],
          [
           320
          ],
          [
           320
          ],
          [
           320
          ],
          [
           320
          ],
          [
           320
          ],
          [
           320
          ],
          [
           320
          ]
         ],
         "hovertemplate": "<b>%{hovertext}</b><br><br>family=resnetd<br>secs=%{x}<br>top1=%{y}<br>size=%{marker.size}<br>infer_img_size=%{customdata[0]}<extra></extra>",
         "hovertext": [
          "resnet18d",
          "resnet18d",
          "resnet34d",
          "resnet34d",
          "resnet26d",
          "resnet26d",
          "resnet50d",
          "resnet50d",
          "resnet50d",
          "resnet50d",
          "resnet50d",
          "resnet50d",
          "resnet50d",
          "resnet50d",
          "resnet50d",
          "resnet50d",
          "resnet50d",
          "resnet101d",
          "resnet101d",
          "resnet101d",
          "resnet152d",
          "resnet152d",
          "resnet152d",
          "resnet200d",
          "resnet200d"
         ],
         "legendgroup": "resnetd",
         "marker": {
          "color": "#FF6692",
          "size": [
           50176,
           50176,
           50176,
           50176,
           50176,
           50176,
           50176,
           50176,
           50176,
           50176,
           50176,
           50176,
           50176,
           50176,
           50176,
           50176,
           50176,
           102400,
           102400,
           102400,
           102400,
           102400,
           102400,
           102400,
           102400
          ],
          "sizemode": "area",
          "sizeref": 655.36,
          "symbol": "circle"
         },
         "mode": "markers",
         "name": "resnetd",
         "orientation": "v",
         "showlegend": true,
         "type": "scatter",
         "x": [
          0.00010712567877508214,
          0.00010712567877508214,
          0.00017047449871973654,
          0.00017047449871973654,
          0.0001957613747146778,
          0.0001957613747146778,
          0.0002983765332824104,
          0.0002983765332824104,
          0.0002983765332824104,
          0.0002983765332824104,
          0.0002983765332824104,
          0.0002983765332824104,
          0.0002983765332824104,
          0.0002983765332824104,
          0.0002983765332824104,
          0.0002983765332824104,
          0.0002983765332824104,
          0.0009616494210870484,
          0.0009616494210870484,
          0.0009616494210870484,
          0.0013470371916968627,
          0.0013470371916968627,
          0.0013470371916968627,
          0.0018343911655721466,
          0.0018343911655721466
         ],
         "xaxis": "x",
         "y": [
          73.794,
          72.268,
          78.44,
          77.104,
          77.424,
          76.698,
          81.83,
          81.444,
          81.35,
          81.168,
          80.956,
          80.73,
          80.548,
          80.268,
          79.08,
          78.742,
          77.222,
          83.018,
          82.252,
          80.466,
          83.684,
          83.156,
          80.476,
          83.976,
          83.24
         ],
         "yaxis": "y"
        },
        {
         "customdata": [
          [
           256
          ],
          [
           256
          ],
          [
           256
          ],
          [
           256
          ],
          [
           256
          ],
          [
           256
          ],
          [
           256
          ],
          [
           256
          ],
          [
           256
          ],
          [
           256
          ],
          [
           256
          ],
          [
           256
          ],
          [
           256
          ]
         ],
         "hovertemplate": "<b>%{hovertext}</b><br><br>family=mobilevitv2<br>secs=%{x}<br>top1=%{y}<br>size=%{marker.size}<br>infer_img_size=%{customdata[0]}<extra></extra>",
         "hovertext": [
          "mobilevitv2_050",
          "mobilevitv2_075",
          "mobilevitv2_100",
          "mobilevitv2_125",
          "mobilevitv2_150",
          "mobilevitv2_150",
          "mobilevitv2_150",
          "mobilevitv2_175",
          "mobilevitv2_175",
          "mobilevitv2_175",
          "mobilevitv2_200",
          "mobilevitv2_200",
          "mobilevitv2_200"
         ],
         "legendgroup": "mobilevitv2",
         "marker": {
          "color": "#B6E880",
          "size": [
           65536,
           65536,
           65536,
           65536,
           65536,
           65536,
           65536,
           65536,
           65536,
           65536,
           65536,
           65536,
           65536
          ],
          "sizemode": "area",
          "sizeref": 655.36,
          "symbol": "circle"
         },
         "mode": "markers",
         "name": "mobilevitv2",
         "orientation": "v",
         "showlegend": true,
         "type": "scatter",
         "x": [
          0.0001460094876965105,
          0.00022758980124582657,
          0.0003007853505502868,
          0.0004044849288915495,
          0.00048277460219372777,
          0.00048277460219372777,
          0.00048277460219372777,
          0.0005960683332737265,
          0.0005960683332737265,
          0.0005960683332737265,
          0.0006868037526957047,
          0.0006868037526957047,
          0.0006868037526957047
         ],
         "xaxis": "x",
         "y": [
          70.158,
          75.604,
          78.092,
          79.678,
          82.606,
          81.47,
          80.404,
          82.928,
          81.944,
          80.874,
          83.41,
          82.322,
          81.148
         ],
         "yaxis": "y"
        },
        {
         "customdata": [
          [
           256
          ],
          [
           256
          ],
          [
           256
          ]
         ],
         "hovertemplate": "<b>%{hovertext}</b><br><br>family=mobilevit<br>secs=%{x}<br>top1=%{y}<br>size=%{marker.size}<br>infer_img_size=%{customdata[0]}<extra></extra>",
         "hovertext": [
          "mobilevit_xxs",
          "mobilevit_xs",
          "mobilevit_s"
         ],
         "legendgroup": "mobilevit",
         "marker": {
          "color": "#FF97FF",
          "size": [
           65536,
           65536,
           65536
          ],
          "sizemode": "area",
          "sizeref": 655.36,
          "symbol": "circle"
         },
         "mode": "markers",
         "name": "mobilevit",
         "orientation": "v",
         "showlegend": true,
         "type": "scatter",
         "x": [
          0.00018099973393039112,
          0.00030747660103066154,
          0.00038668414479001113
         ],
         "xaxis": "x",
         "y": [
          68.928,
          74.632,
          78.302
         ],
         "yaxis": "y"
        },
        {
         "customdata": [
          [
           288
          ],
          [
           288
          ],
          [
           288
          ],
          [
           288
          ],
          [
           288
          ],
          [
           288
          ],
          [
           288
          ],
          [
           288
          ],
          [
           288
          ],
          [
           288
          ],
          [
           288
          ],
          [
           288
          ],
          [
           288
          ],
          [
           288
          ],
          [
           288
          ],
          [
           288
          ],
          [
           288
          ],
          [
           288
          ],
          [
           288
          ],
          [
           288
          ],
          [
           288
          ],
          [
           288
          ],
          [
           288
          ],
          [
           288
          ],
          [
           288
          ],
          [
           288
          ],
          [
           288
          ],
          [
           288
          ],
          [
           288
          ],
          [
           288
          ],
          [
           288
          ],
          [
           288
          ],
          [
           288
          ],
          [
           288
          ],
          [
           288
          ],
          [
           288
          ],
          [
           288
          ],
          [
           288
          ],
          [
           288
          ],
          [
           288
          ],
          [
           288
          ],
          [
           288
          ],
          [
           288
          ],
          [
           288
          ],
          [
           288
          ],
          [
           288
          ],
          [
           288
          ],
          [
           288
          ],
          [
           288
          ],
          [
           288
          ],
          [
           288
          ],
          [
           288
          ],
          [
           288
          ],
          [
           224
          ]
         ],
         "hovertemplate": "<b>%{hovertext}</b><br><br>family=convnext<br>secs=%{x}<br>top1=%{y}<br>size=%{marker.size}<br>infer_img_size=%{customdata[0]}<extra></extra>",
         "hovertext": [
          "convnext_atto",
          "convnext_atto",
          "convnext_atto_ols",
          "convnext_atto_ols",
          "convnext_femto",
          "convnext_femto",
          "convnext_femto_ols",
          "convnext_femto_ols",
          "convnext_pico",
          "convnext_pico",
          "convnext_pico_ols",
          "convnext_pico_ols",
          "convnext_nano",
          "convnext_nano",
          "convnext_nano",
          "convnext_nano",
          "convnext_nano_ols",
          "convnext_nano_ols",
          "convnext_tiny_hnf",
          "convnext_tiny_hnf",
          "convnext_tiny",
          "convnext_tiny",
          "convnext_tiny",
          "convnext_tiny",
          "convnext_tiny",
          "convnext_tiny",
          "convnext_tiny",
          "convnext_tiny",
          "convnext_small",
          "convnext_small",
          "convnext_small",
          "convnext_small",
          "convnext_small",
          "convnext_small",
          "convnext_small",
          "convnext_small",
          "convnext_base",
          "convnext_base",
          "convnext_base",
          "convnext_base",
          "convnext_base",
          "convnext_base",
          "convnext_base",
          "convnext_base",
          "convnext_base",
          "convnext_large",
          "convnext_large",
          "convnext_large",
          "convnext_large",
          "convnext_large",
          "convnext_xlarge",
          "convnext_xlarge",
          "convnext_xlarge",
          "convnext_xxlarge"
         ],
         "legendgroup": "convnext",
         "marker": {
          "color": "#FECB52",
          "size": [
           82944,
           82944,
           82944,
           82944,
           82944,
           82944,
           82944,
           82944,
           82944,
           82944,
           82944,
           82944,
           82944,
           82944,
           82944,
           82944,
           82944,
           82944,
           82944,
           82944,
           82944,
           82944,
           82944,
           82944,
           82944,
           82944,
           82944,
           82944,
           82944,
           82944,
           82944,
           82944,
           82944,
           82944,
           82944,
           82944,
           82944,
           82944,
           82944,
           82944,
           82944,
           82944,
           82944,
           82944,
           82944,
           82944,
           82944,
           82944,
           82944,
           82944,
           82944,
           82944,
           82944,
           50176
          ],
          "sizemode": "area",
          "sizeref": 655.36,
          "symbol": "circle"
         },
         "mode": "markers",
         "name": "convnext",
         "orientation": "v",
         "showlegend": true,
         "type": "scatter",
         "x": [
          0.00018313207118709872,
          0.00018313207118709872,
          0.00018907380306828968,
          0.00018907380306828968,
          0.00021056532578667207,
          0.00021056532578667207,
          0.00021652848540489744,
          0.00021652848540489744,
          0.0002668452751041364,
          0.0002668452751041364,
          0.0002738720579294177,
          0.0002738720579294177,
          0.0003828806407890404,
          0.0003828806407890404,
          0.0003828806407890404,
          0.0003828806407890404,
          0.0004106776180698152,
          0.0004106776180698152,
          0.0005966017563955708,
          0.0005966017563955708,
          0.0006089614770969588,
          0.0006089614770969588,
          0.0006089614770969588,
          0.0006089614770969588,
          0.0006089614770969588,
          0.0006089614770969588,
          0.0006089614770969588,
          0.0006089614770969588,
          0.0010118385105737126,
          0.0010118385105737126,
          0.0010118385105737126,
          0.0010118385105737126,
          0.0010118385105737126,
          0.0010118385105737126,
          0.0010118385105737126,
          0.0010118385105737126,
          0.0014553075064761185,
          0.0014553075064761185,
          0.0014553075064761185,
          0.0014553075064761185,
          0.0014553075064761185,
          0.0014553075064761185,
          0.0014553075064761185,
          0.0014553075064761185,
          0.0014553075064761185,
          0.002680821403678087,
          0.002680821403678087,
          0.002680821403678087,
          0.002680821403678087,
          0.002680821403678087,
          0.004121501875283353,
          0.004121501875283353,
          0.004121501875283353,
          0.005444250871080139
         ],
         "xaxis": "x",
         "y": [
          77.014,
          75.668,
          77.22,
          75.902,
          78.71,
          77.508,
          78.914,
          77.844,
          80.43,
          79.516,
          80.458,
          79.542,
          82.882,
          82.306,
          81.474,
          80.762,
          81.612,
          80.906,
          82.608,
          82.23,
          85.154,
          84.448,
          84.192,
          84.098,
          82.888,
          82.694,
          82.066,
          78.95,
          86.186,
          85.754,
          85.324,
          85.276,
          85.164,
          84.582,
          83.704,
          83.144,
          87.15,
          86.826,
          86.488,
          86.386,
          86.298,
          86.184,
          85.816,
          84.466,
          83.834,
          87.456,
          87.014,
          86.612,
          84.862,
          84.298,
          87.766,
          87.374,
          86.97,
          88.622
         ],
         "yaxis": "y"
        },
        {
         "customdata": [
          [
           224
          ],
          [
           224
          ],
          [
           224
          ],
          [
           224
          ],
          [
           224
          ],
          [
           224
          ],
          [
           224
          ],
          [
           224
          ]
         ],
         "hovertemplate": "<b>%{hovertext}</b><br><br>family=repvgg<br>secs=%{x}<br>top1=%{y}<br>size=%{marker.size}<br>infer_img_size=%{customdata[0]}<extra></extra>",
         "hovertext": [
          "repvgg_b0",
          "repvgg_a2",
          "repvgg_b1g4",
          "repvgg_b1",
          "repvgg_b2",
          "repvgg_b3",
          "repvgg_b2g4",
          "repvgg_b3g4"
         ],
         "legendgroup": "repvgg",
         "marker": {
          "color": "#636efa",
          "size": [
           50176,
           50176,
           50176,
           50176,
           50176,
           50176,
           50176,
           50176
          ],
          "sizemode": "area",
          "sizeref": 655.36,
          "symbol": "circle"
         },
         "mode": "markers",
         "name": "repvgg",
         "orientation": "v",
         "showlegend": true,
         "type": "scatter",
         "x": [
          0.00019037973141227492,
          0.0002507623174450329,
          0.00040431157867499006,
          0.0005036717671827623,
          0.0007661543647814161,
          0.001005803486114883,
          0.0010111530177861815,
          0.001245562682942019
         ],
         "xaxis": "x",
         "y": [
          75.162,
          76.492,
          77.602,
          78.372,
          78.794,
          80.518,
          79.396,
          80.248
         ],
         "yaxis": "y"
        },
        {
         "customdata": [
          [
           224
          ],
          [
           224
          ],
          [
           224
          ]
         ],
         "hovertemplate": "<b>%{hovertext}</b><br><br>family=efficientformer<br>secs=%{x}<br>top1=%{y}<br>size=%{marker.size}<br>infer_img_size=%{customdata[0]}<extra></extra>",
         "hovertext": [
          "efficientformer_l1",
          "efficientformer_l3",
          "efficientformer_l7"
         ],
         "legendgroup": "efficientformer",
         "marker": {
          "color": "#EF553B",
          "size": [
           50176,
           50176,
           50176
          ],
          "sizemode": "area",
          "sizeref": 655.36,
          "symbol": "circle"
         },
         "mode": "markers",
         "name": "efficientformer",
         "orientation": "v",
         "showlegend": true,
         "type": "scatter",
         "x": [
          0.00021900335951153488,
          0.0004897663324827725,
          0.0010389070697626097
         ],
         "xaxis": "x",
         "y": [
          80.502,
          82.564,
          83.386
         ],
         "yaxis": "y"
        },
        {
         "customdata": [
          [
           240
          ],
          [
           240
          ],
          [
           240
          ],
          [
           240
          ],
          [
           240
          ],
          [
           240
          ],
          [
           240
          ],
          [
           240
          ],
          [
           240
          ],
          [
           408
          ],
          [
           408
          ]
         ],
         "hovertemplate": "<b>%{hovertext}</b><br><br>family=crossvit<br>secs=%{x}<br>top1=%{y}<br>size=%{marker.size}<br>infer_img_size=%{customdata[0]}<extra></extra>",
         "hovertext": [
          "crossvit_tiny_240",
          "crossvit_9_240",
          "crossvit_9_dagger_240",
          "crossvit_small_240",
          "crossvit_15_240",
          "crossvit_15_dagger_240",
          "crossvit_18_240",
          "crossvit_18_dagger_240",
          "crossvit_base_240",
          "crossvit_15_dagger_408",
          "crossvit_18_dagger_408"
         ],
         "legendgroup": "crossvit",
         "marker": {
          "color": "#00cc96",
          "size": [
           57600,
           57600,
           57600,
           57600,
           57600,
           57600,
           57600,
           57600,
           57600,
           166464,
           166464
          ],
          "sizemode": "area",
          "sizeref": 655.36,
          "symbol": "circle"
         },
         "mode": "markers",
         "name": "crossvit",
         "orientation": "v",
         "showlegend": true,
         "type": "scatter",
         "x": [
          0.00022313011386329711,
          0.0002373960502045167,
          0.0002441984552005724,
          0.00048042277203939464,
          0.000528412753770225,
          0.0005403390086940546,
          0.0007413722800904475,
          0.0007611624472895006,
          0.0011912845621433593,
          0.0025593775593775593,
          0.00350655726208009
         ],
         "xaxis": "x",
         "y": [
          73.33,
          73.976,
          76.986,
          81.04,
          81.518,
          82.306,
          82.386,
          82.504,
          82.228,
          83.84,
          84.202
         ],
         "yaxis": "y"
        },
        {
         "customdata": [
          [
           224
          ],
          [
           224
          ],
          [
           224
          ],
          [
           224
          ]
         ],
         "hovertemplate": "<b>%{hovertext}</b><br><br>family=resnetv2<br>secs=%{x}<br>top1=%{y}<br>size=%{marker.size}<br>infer_img_size=%{customdata[0]}<extra></extra>",
         "hovertext": [
          "resnetv2_50",
          "resnetv2_50",
          "resnetv2_101",
          "resnetv2_101"
         ],
         "legendgroup": "resnetv2",
         "marker": {
          "color": "#ab63fa",
          "size": [
           50176,
           50176,
           50176,
           50176
          ],
          "sizemode": "area",
          "sizeref": 655.36,
          "symbol": "circle"
         },
         "mode": "markers",
         "name": "resnetv2",
         "orientation": "v",
         "showlegend": true,
         "type": "scatter",
         "x": [
          0.0002586994145632249,
          0.0002586994145632249,
          0.0004290740581824423,
          0.0004290740581824423
         ],
         "xaxis": "x",
         "y": [
          81.408,
          80.406,
          83.002,
          82.042
         ],
         "yaxis": "y"
        },
        {
         "customdata": [
          [
           224
          ],
          [
           224
          ],
          [
           224
          ]
         ],
         "hovertemplate": "<b>%{hovertext}</b><br><br>family=convit<br>secs=%{x}<br>top1=%{y}<br>size=%{marker.size}<br>infer_img_size=%{customdata[0]}<extra></extra>",
         "hovertext": [
          "convit_tiny",
          "convit_small",
          "convit_base"
         ],
         "legendgroup": "convit",
         "marker": {
          "color": "#FFA15A",
          "size": [
           50176,
           50176,
           50176
          ],
          "sizemode": "area",
          "sizeref": 655.36,
          "symbol": "circle"
         },
         "mode": "markers",
         "name": "convit",
         "orientation": "v",
         "showlegend": true,
         "type": "scatter",
         "x": [
          0.00029415138795332407,
          0.0006860875173237098,
          0.001367820651356194
         ],
         "xaxis": "x",
         "y": [
          73.126,
          81.414,
          82.294
         ],
         "yaxis": "y"
        },
        {
         "customdata": [
          [
           288
          ],
          [
           288
          ],
          [
           288
          ],
          [
           288
          ],
          [
           288
          ],
          [
           288
          ],
          [
           288
          ],
          [
           288
          ],
          [
           288
          ],
          [
           288
          ],
          [
           288
          ],
          [
           288
          ],
          [
           288
          ],
          [
           288
          ],
          [
           288
          ],
          [
           288
          ],
          [
           288
          ],
          [
           288
          ],
          [
           288
          ],
          [
           288
          ],
          [
           288
          ],
          [
           288
          ],
          [
           288
          ],
          [
           288
          ],
          [
           288
          ],
          [
           288
          ],
          [
           384
          ],
          [
           384
          ],
          [
           384
          ],
          [
           384
          ]
         ],
         "hovertemplate": "<b>%{hovertext}</b><br><br>family=convnextv2<br>secs=%{x}<br>top1=%{y}<br>size=%{marker.size}<br>infer_img_size=%{customdata[0]}<extra></extra>",
         "hovertext": [
          "convnextv2_atto",
          "convnextv2_atto",
          "convnextv2_femto",
          "convnextv2_femto",
          "convnextv2_pico",
          "convnextv2_pico",
          "convnextv2_nano",
          "convnextv2_nano",
          "convnextv2_nano",
          "convnextv2_nano",
          "convnextv2_nano",
          "convnextv2_tiny",
          "convnextv2_tiny",
          "convnextv2_tiny",
          "convnextv2_tiny",
          "convnextv2_tiny",
          "convnextv2_base",
          "convnextv2_base",
          "convnextv2_base",
          "convnextv2_base",
          "convnextv2_base",
          "convnextv2_large",
          "convnextv2_large",
          "convnextv2_large",
          "convnextv2_large",
          "convnextv2_large",
          "convnextv2_huge",
          "convnextv2_huge",
          "convnextv2_huge",
          "convnextv2_huge"
         ],
         "legendgroup": "convnextv2",
         "marker": {
          "color": "#19d3f3",
          "size": [
           82944,
           82944,
           82944,
           82944,
           82944,
           82944,
           82944,
           82944,
           82944,
           82944,
           82944,
           82944,
           82944,
           82944,
           82944,
           82944,
           82944,
           82944,
           82944,
           82944,
           82944,
           82944,
           82944,
           82944,
           82944,
           82944,
           147456,
           147456,
           147456,
           147456
          ],
          "sizemode": "area",
          "sizeref": 655.36,
          "symbol": "circle"
         },
         "mode": "markers",
         "name": "convnextv2",
         "orientation": "v",
         "showlegend": true,
         "type": "scatter",
         "x": [
          0.0003128196625927119,
          0.0003128196625927119,
          0.0003655090993490283,
          0.0003655090993490283,
          0.00047427080863172874,
          0.00047427080863172874,
          0.000666351260403409,
          0.000666351260403409,
          0.000666351260403409,
          0.000666351260403409,
          0.000666351260403409,
          0.0010743215659311145,
          0.0010743215659311145,
          0.0010743215659311145,
          0.0010743215659311145,
          0.0010743215659311145,
          0.002477762085284571,
          0.002477762085284571,
          0.002477762085284571,
          0.002477762085284571,
          0.002477762085284571,
          0.0041750167000668,
          0.0041750167000668,
          0.0041750167000668,
          0.0041750167000668,
          0.0041750167000668,
          0.01775883502042266,
          0.01775883502042266,
          0.01775883502042266,
          0.01775883502042266
         ],
         "xaxis": "x",
         "y": [
          77.79,
          76.646,
          79.332,
          78.484,
          81.056,
          80.304,
          83.362,
          82.666,
          82.496,
          82.038,
          81.856,
          85.106,
          84.422,
          83.904,
          83.476,
          82.948,
          87.638,
          86.998,
          86.752,
          85.49,
          84.888,
          88.178,
          87.494,
          87.264,
          86.126,
          85.762,
          88.86,
          88.662,
          86.618,
          86.26
         ],
         "yaxis": "y"
        },
        {
         "customdata": [
          [
           224
          ],
          [
           224
          ],
          [
           224
          ],
          [
           224
          ]
         ],
         "hovertemplate": "<b>%{hovertext}</b><br><br>family=resnetaad<br>secs=%{x}<br>top1=%{y}<br>size=%{marker.size}<br>infer_img_size=%{customdata[0]}<extra></extra>",
         "hovertext": [
          "resnetaa50d",
          "resnetaa50d",
          "resnetaa101d",
          "resnetaa101d"
         ],
         "legendgroup": "resnetaad",
         "marker": {
          "color": "#FF6692",
          "size": [
           50176,
           50176,
           50176,
           50176
          ],
          "sizemode": "area",
          "sizeref": 655.36,
          "symbol": "circle"
         },
         "mode": "markers",
         "name": "resnetaad",
         "orientation": "v",
         "showlegend": true,
         "type": "scatter",
         "x": [
          0.00033410958126046177,
          0.00033410958126046177,
          0.0005042915208423685,
          0.0005042915208423685
         ],
         "xaxis": "x",
         "y": [
          82.644,
          81.782,
          84.102,
          83.544
         ],
         "yaxis": "y"
        },
        {
         "customdata": [
          [
           224
          ],
          [
           224
          ],
          [
           224
          ],
          [
           224
          ],
          [
           224
          ],
          [
           224
          ],
          [
           224
          ],
          [
           224
          ]
         ],
         "hovertemplate": "<b>%{hovertext}</b><br><br>family=vgg<br>secs=%{x}<br>top1=%{y}<br>size=%{marker.size}<br>infer_img_size=%{customdata[0]}<extra></extra>",
         "hovertext": [
          "vgg11",
          "vgg11_bn",
          "vgg13",
          "vgg13_bn",
          "vgg16",
          "vgg16_bn",
          "vgg19",
          "vgg19_bn"
         ],
         "legendgroup": "vgg",
         "marker": {
          "color": "#B6E880",
          "size": [
           50176,
           50176,
           50176,
           50176,
           50176,
           50176,
           50176,
           50176
          ],
          "sizemode": "area",
          "sizeref": 655.36,
          "symbol": "circle"
         },
         "mode": "markers",
         "name": "vgg",
         "orientation": "v",
         "showlegend": true,
         "type": "scatter",
         "x": [
          0.00033518017610366456,
          0.0003622689629688666,
          0.00046517902414744313,
          0.0005319941267848403,
          0.0005822619713061301,
          0.0006562282624388067,
          0.0007175093814351623,
          0.0008022334178352533
         ],
         "xaxis": "x",
         "y": [
          69.048,
          70.384,
          69.94,
          71.556,
          71.6,
          73.356,
          72.4,
          74.236
         ],
         "yaxis": "y"
        },
        {
         "customdata": [
          [
           224
          ],
          [
           224
          ],
          [
           288
          ],
          [
           288
          ],
          [
           320
          ],
          [
           320
          ],
          [
           320
          ],
          [
           320
          ],
          [
           352
          ],
          [
           352
          ],
          [
           384
          ],
          [
           384
          ],
          [
           416
          ],
          [
           416
          ]
         ],
         "hovertemplate": "<b>%{hovertext}</b><br><br>family=resnetrs<br>secs=%{x}<br>top1=%{y}<br>size=%{marker.size}<br>infer_img_size=%{customdata[0]}<extra></extra>",
         "hovertext": [
          "resnetrs50",
          "resnetrs50",
          "resnetrs101",
          "resnetrs101",
          "resnetrs152",
          "resnetrs152",
          "resnetrs200",
          "resnetrs200",
          "resnetrs270",
          "resnetrs270",
          "resnetrs350",
          "resnetrs350",
          "resnetrs420",
          "resnetrs420"
         ],
         "legendgroup": "resnetrs",
         "marker": {
          "color": "#FF97FF",
          "size": [
           50176,
           50176,
           82944,
           82944,
           102400,
           102400,
           102400,
           102400,
           123904,
           123904,
           147456,
           147456,
           173056,
           173056
          ],
          "sizemode": "area",
          "sizeref": 655.36,
          "symbol": "circle"
         },
         "mode": "markers",
         "name": "resnetrs",
         "orientation": "v",
         "showlegend": true,
         "type": "scatter",
         "x": [
          0.0003374479486539201,
          0.0003374479486539201,
          0.0008813135096547894,
          0.0008813135096547894,
          0.0015385798907608277,
          0.0015385798907608277,
          0.002120081411126187,
          0.002120081411126187,
          0.0033673435027107112,
          0.0033673435027107112,
          0.005097099750242112,
          0.005097099750242112,
          0.007023951675212474,
          0.007023951675212474
         ],
         "xaxis": "x",
         "y": [
          79.916,
          77.85,
          82.294,
          80.71,
          83.71,
          82.886,
          84.446,
          83.886,
          84.44,
          83.594,
          84.722,
          84.308,
          85.014,
          84.25
         ],
         "yaxis": "y"
        },
        {
         "customdata": [
          [
           240
          ],
          [
           240
          ],
          [
           240
          ],
          [
           240
          ],
          [
           240
          ],
          [
           240
          ],
          [
           240
          ],
          [
           240
          ],
          [
           240
          ]
         ],
         "hovertemplate": "<b>%{hovertext}</b><br><br>family=flexivit<br>secs=%{x}<br>top1=%{y}<br>size=%{marker.size}<br>infer_img_size=%{customdata[0]}<extra></extra>",
         "hovertext": [
          "flexivit_small",
          "flexivit_small",
          "flexivit_small",
          "flexivit_base",
          "flexivit_base",
          "flexivit_base",
          "flexivit_large",
          "flexivit_large",
          "flexivit_large"
         ],
         "legendgroup": "flexivit",
         "marker": {
          "color": "#FECB52",
          "size": [
           57600,
           57600,
           57600,
           57600,
           57600,
           57600,
           57600,
           57600,
           57600
          ],
          "sizemode": "area",
          "sizeref": 655.36,
          "symbol": "circle"
         },
         "mode": "markers",
         "name": "flexivit",
         "orientation": "v",
         "showlegend": true,
         "type": "scatter",
         "x": [
          0.00036552646777153133,
          0.00036552646777153133,
          0.00036552646777153133,
          0.0009641249120236017,
          0.0009641249120236017,
          0.0009641249120236017,
          0.002981959147159684,
          0.002981959147159684,
          0.002981959147159684
         ],
         "xaxis": "x",
         "y": [
          82.592,
          82.392,
          82.17,
          84.688,
          84.56,
          84.402,
          85.644,
          85.53,
          85.282
         ],
         "yaxis": "y"
        },
        {
         "customdata": [
          [
           224
          ],
          [
           224
          ]
         ],
         "hovertemplate": "<b>%{hovertext}</b><br><br>family=resnetblur<br>secs=%{x}<br>top1=%{y}<br>size=%{marker.size}<br>infer_img_size=%{customdata[0]}<extra></extra>",
         "hovertext": [
          "resnetblur50",
          "resnetblur50"
         ],
         "legendgroup": "resnetblur",
         "marker": {
          "color": "#636efa",
          "size": [
           50176,
           50176
          ],
          "sizemode": "area",
          "sizeref": 655.36,
          "symbol": "circle"
         },
         "mode": "markers",
         "name": "resnetblur",
         "orientation": "v",
         "showlegend": true,
         "type": "scatter",
         "x": [
          0.0003723049773452422,
          0.0003723049773452422
         ],
         "xaxis": "x",
         "y": [
          80.248,
          79.306
         ],
         "yaxis": "y"
        },
        {
         "customdata": [
          [
           288
          ],
          [
           288
          ],
          [
           320
          ],
          [
           320
          ],
          [
           320
          ],
          [
           320
          ],
          [
           320
          ],
          [
           320
          ],
          [
           320
          ],
          [
           320
          ],
          [
           320
          ],
          [
           320
          ],
          [
           320
          ],
          [
           320
          ],
          [
           320
          ],
          [
           320
          ]
         ],
         "hovertemplate": "<b>%{hovertext}</b><br><br>family=regnetz<br>secs=%{x}<br>top1=%{y}<br>size=%{marker.size}<br>infer_img_size=%{customdata[0]}<extra></extra>",
         "hovertext": [
          "regnetz_b16",
          "regnetz_b16",
          "regnetz_c16",
          "regnetz_c16",
          "regnetz_d32",
          "regnetz_d32",
          "regnetz_d8",
          "regnetz_d8",
          "regnetz_040",
          "regnetz_040",
          "regnetz_e8",
          "regnetz_e8",
          "regnetz_c16_evos",
          "regnetz_c16_evos",
          "regnetz_d8_evos",
          "regnetz_d8_evos"
         ],
         "legendgroup": "regnetz",
         "marker": {
          "color": "#EF553B",
          "size": [
           82944,
           82944,
           102400,
           102400,
           102400,
           102400,
           102400,
           102400,
           102400,
           102400,
           102400,
           102400,
           102400,
           102400,
           102400,
           102400
          ],
          "sizemode": "area",
          "sizeref": 655.36,
          "symbol": "circle"
         },
         "mode": "markers",
         "name": "regnetz",
         "orientation": "v",
         "showlegend": true,
         "type": "scatter",
         "x": [
          0.00038070437924247444,
          0.00038070437924247444,
          0.0005844911128126296,
          0.0005844911128126296,
          0.0008173206594143081,
          0.0008173206594143081,
          0.0008593723144615172,
          0.0008593723144615172,
          0.001024831671397973,
          0.001024831671397973,
          0.001563892842062462,
          0.001563892842062462,
          0.001675238302648552,
          0.001675238302648552,
          0.0025355612464819086,
          0.0025355612464819086
         ],
         "xaxis": "x",
         "y": [
          80.738,
          79.874,
          82.66,
          82.16,
          84.028,
          83.428,
          84.042,
          83.548,
          84.256,
          83.66,
          85.04,
          84.418,
          82.644,
          81.942,
          84.152,
          83.394
         ],
         "yaxis": "y"
        },
        {
         "customdata": [
          [
           288
          ],
          [
           288
          ],
          [
           384
          ],
          [
           384
          ],
          [
           416
          ],
          [
           416
          ]
         ],
         "hovertemplate": "<b>%{hovertext}</b><br><br>family=efficientnetv2<br>secs=%{x}<br>top1=%{y}<br>size=%{marker.size}<br>infer_img_size=%{customdata[0]}<extra></extra>",
         "hovertext": [
          "efficientnetv2_rw_t",
          "efficientnetv2_rw_t",
          "efficientnetv2_rw_s",
          "efficientnetv2_rw_s",
          "efficientnetv2_rw_m",
          "efficientnetv2_rw_m"
         ],
         "legendgroup": "efficientnetv2",
         "marker": {
          "color": "#00cc96",
          "size": [
           82944,
           82944,
           147456,
           147456,
           173056,
           173056
          ],
          "sizemode": "area",
          "sizeref": 655.36,
          "symbol": "circle"
         },
         "mode": "markers",
         "name": "efficientnetv2",
         "orientation": "v",
         "showlegend": true,
         "type": "scatter",
         "x": [
          0.0003843950966561471,
          0.0003843950966561471,
          0.0008334236208922634,
          0.0008334236208922634,
          0.0018403666010269246,
          0.0018403666010269246
         ],
         "xaxis": "x",
         "y": [
          82.354,
          81.372,
          83.83,
          82.888,
          84.824,
          84.294
         ],
         "yaxis": "y"
        },
        {
         "customdata": [
          [
           224
          ],
          [
           224
          ],
          [
           224
          ],
          [
           224
          ],
          [
           224
          ]
         ],
         "hovertemplate": "<b>%{hovertext}</b><br><br>family=gcvit<br>secs=%{x}<br>top1=%{y}<br>size=%{marker.size}<br>infer_img_size=%{customdata[0]}<extra></extra>",
         "hovertext": [
          "gcvit_xxtiny",
          "gcvit_xtiny",
          "gcvit_tiny",
          "gcvit_small",
          "gcvit_base"
         ],
         "legendgroup": "gcvit",
         "marker": {
          "color": "#ab63fa",
          "size": [
           50176,
           50176,
           50176,
           50176,
           50176
          ],
          "sizemode": "area",
          "sizeref": 655.36,
          "symbol": "circle"
         },
         "mode": "markers",
         "name": "gcvit",
         "orientation": "v",
         "showlegend": true,
         "type": "scatter",
         "x": [
          0.0003904099695089814,
          0.0005076966816944885,
          0.0007464636285596984,
          0.0012266326480545606,
          0.0016599714484910862
         ],
         "xaxis": "x",
         "y": [
          79.75,
          81.968,
          83.4,
          83.908,
          84.454
         ],
         "yaxis": "y"
        },
        {
         "customdata": [
          [
           256
          ],
          [
           256
          ],
          [
           256
          ],
          [
           224
          ],
          [
           224
          ],
          [
           256
          ],
          [
           224
          ],
          [
           224
          ],
          [
           224
          ],
          [
           224
          ],
          [
           384
          ],
          [
           224
          ],
          [
           384
          ],
          [
           512
          ],
          [
           384
          ],
          [
           384
          ],
          [
           384
          ],
          [
           512
          ],
          [
           384
          ],
          [
           384
          ],
          [
           512
          ],
          [
           512
          ],
          [
           384
          ],
          [
           512
          ],
          [
           512
          ],
          [
           512
          ]
         ],
         "hovertemplate": "<b>%{hovertext}</b><br><br>family=maxvit<br>secs=%{x}<br>top1=%{y}<br>size=%{marker.size}<br>infer_img_size=%{customdata[0]}<extra></extra>",
         "hovertext": [
          "maxvit_rmlp_pico_rw_256",
          "maxvit_rmlp_nano_rw_256",
          "maxvit_nano_rw_256",
          "maxvit_tiny_rw_224",
          "maxvit_tiny_tf_224",
          "maxvit_rmlp_tiny_rw_256",
          "maxvit_rmlp_small_rw_224",
          "maxvit_small_tf_224",
          "maxvit_rmlp_base_rw_224",
          "maxvit_base_tf_224",
          "maxvit_tiny_tf_384",
          "maxvit_large_tf_224",
          "maxvit_small_tf_384",
          "maxvit_tiny_tf_512",
          "maxvit_rmlp_base_rw_384",
          "maxvit_base_tf_384",
          "maxvit_base_tf_384",
          "maxvit_small_tf_512",
          "maxvit_large_tf_384",
          "maxvit_large_tf_384",
          "maxvit_base_tf_512",
          "maxvit_base_tf_512",
          "maxvit_xlarge_tf_384",
          "maxvit_large_tf_512",
          "maxvit_large_tf_512",
          "maxvit_xlarge_tf_512"
         ],
         "legendgroup": "maxvit",
         "marker": {
          "color": "#FFA15A",
          "size": [
           65536,
           65536,
           65536,
           50176,
           50176,
           65536,
           50176,
           50176,
           50176,
           50176,
           147456,
           50176,
           147456,
           262144,
           147456,
           147456,
           147456,
           262144,
           147456,
           147456,
           262144,
           262144,
           147456,
           262144,
           262144,
           262144
          ],
          "sizemode": "area",
          "sizeref": 655.36,
          "symbol": "circle"
         },
         "mode": "markers",
         "name": "maxvit",
         "orientation": "v",
         "showlegend": true,
         "type": "scatter",
         "x": [
          0.0004978145939326358,
          0.0006443921770789703,
          0.0006590089822924286,
          0.0007404939094375948,
          0.0008331250520703158,
          0.0009715812484819043,
          0.0012249797878335006,
          0.001286935035519407,
          0.0021183747828665846,
          0.002325311010347634,
          0.0029068922415046074,
          0.0033175198221809376,
          0.004464086424713183,
          0.0061079892499389206,
          0.007598784194528876,
          0.008164598301763554,
          0.008164598301763554,
          0.009361542782250515,
          0.01156871818602499,
          0.01156871818602499,
          0.017283097131005877,
          0.017283097131005877,
          0.019700551615445233,
          0.02436647173489279,
          0.02436647173489279,
          0.04101722723543889
         ],
         "xaxis": "x",
         "y": [
          80.55,
          82.98,
          82.942,
          83.522,
          83.422,
          84.234,
          84.484,
          84.456,
          86.908,
          84.87,
          85.102,
          84.934,
          85.534,
          85.66,
          87.812,
          87.928,
          86.294,
          86.104,
          87.996,
          86.236,
          88.212,
          86.598,
          88.304,
          88.236,
          86.534,
          88.54
         ],
         "yaxis": "y"
        },
        {
         "customdata": [
          [
           288
          ],
          [
           288
          ]
         ],
         "hovertemplate": "<b>%{hovertext}</b><br><br>family=resnetaa<br>secs=%{x}<br>top1=%{y}<br>size=%{marker.size}<br>infer_img_size=%{customdata[0]}<extra></extra>",
         "hovertext": [
          "resnetaa50",
          "resnetaa50"
         ],
         "legendgroup": "resnetaa",
         "marker": {
          "color": "#19d3f3",
          "size": [
           82944,
           82944
          ],
          "sizemode": "area",
          "sizeref": 655.36,
          "symbol": "circle"
         },
         "mode": "markers",
         "name": "resnetaa",
         "orientation": "v",
         "showlegend": true,
         "type": "scatter",
         "x": [
          0.000510686106784465,
          0.000510686106784465
         ],
         "xaxis": "x",
         "y": [
          81.604,
          80.614
         ],
         "yaxis": "y"
        },
        {
         "customdata": [
          [
           288
          ],
          [
           288
          ],
          [
           288
          ],
          [
           288
          ]
         ],
         "hovertemplate": "<b>%{hovertext}</b><br><br>family=regnetv<br>secs=%{x}<br>top1=%{y}<br>size=%{marker.size}<br>infer_img_size=%{customdata[0]}<extra></extra>",
         "hovertext": [
          "regnetv_040",
          "regnetv_040",
          "regnetv_064",
          "regnetv_064"
         ],
         "legendgroup": "regnetv",
         "marker": {
          "color": "#FF6692",
          "size": [
           82944,
           82944,
           82944,
           82944
          ],
          "sizemode": "area",
          "sizeref": 655.36,
          "symbol": "circle"
         },
         "mode": "markers",
         "name": "regnetv",
         "orientation": "v",
         "showlegend": true,
         "type": "scatter",
         "x": [
          0.0005942053098186485,
          0.0005942053098186485,
          0.0015323322096230463,
          0.0015323322096230463
         ],
         "xaxis": "x",
         "y": [
          83.2,
          82.448,
          83.748,
          83.118
         ],
         "yaxis": "y"
        },
        {
         "customdata": [
          [
           224
          ],
          [
           224
          ],
          [
           224
          ],
          [
           224
          ]
         ],
         "hovertemplate": "<b>%{hovertext}</b><br><br>family=mvitv2<br>secs=%{x}<br>top1=%{y}<br>size=%{marker.size}<br>infer_img_size=%{customdata[0]}<extra></extra>",
         "hovertext": [
          "mvitv2_tiny",
          "mvitv2_small",
          "mvitv2_base",
          "mvitv2_large"
         ],
         "legendgroup": "mvitv2",
         "marker": {
          "color": "#B6E880",
          "size": [
           50176,
           50176,
           50176,
           50176
          ],
          "sizemode": "area",
          "sizeref": 655.36,
          "symbol": "circle"
         },
         "mode": "markers",
         "name": "mvitv2",
         "orientation": "v",
         "showlegend": true,
         "type": "scatter",
         "x": [
          0.0006503895833604329,
          0.0008719003940989781,
          0.0012435645534359689,
          0.004000160006400256
         ],
         "xaxis": "x",
         "y": [
          82.408,
          83.772,
          84.438,
          85.264
         ],
         "yaxis": "y"
        },
        {
         "customdata": [
          [
           256
          ],
          [
           256
          ]
         ],
         "hovertemplate": "<b>%{hovertext}</b><br><br>family=maxxvit<br>secs=%{x}<br>top1=%{y}<br>size=%{marker.size}<br>infer_img_size=%{customdata[0]}<extra></extra>",
         "hovertext": [
          "maxxvit_rmlp_nano_rw_256",
          "maxxvit_rmlp_small_rw_256"
         ],
         "legendgroup": "maxxvit",
         "marker": {
          "color": "#FF97FF",
          "size": [
           65536,
           65536
          ],
          "sizemode": "area",
          "sizeref": 655.36,
          "symbol": "circle"
         },
         "mode": "markers",
         "name": "maxxvit",
         "orientation": "v",
         "showlegend": true,
         "type": "scatter",
         "x": [
          0.0007419883804619619,
          0.0016943983191568676
         ],
         "xaxis": "x",
         "y": [
          83.026,
          84.64
         ],
         "yaxis": "y"
        },
        {
         "customdata": [
          [
           256
          ],
          [
           224
          ],
          [
           384
          ]
         ],
         "hovertemplate": "<b>%{hovertext}</b><br><br>family=maxxvitv2<br>secs=%{x}<br>top1=%{y}<br>size=%{marker.size}<br>infer_img_size=%{customdata[0]}<extra></extra>",
         "hovertext": [
          "maxxvitv2_nano_rw_256",
          "maxxvitv2_rmlp_base_rw_224",
          "maxxvitv2_rmlp_base_rw_384"
         ],
         "legendgroup": "maxxvitv2",
         "marker": {
          "color": "#FECB52",
          "size": [
           65536,
           50176,
           147456
          ],
          "sizemode": "area",
          "sizeref": 655.36,
          "symbol": "circle"
         },
         "mode": "markers",
         "name": "maxxvitv2",
         "orientation": "v",
         "showlegend": true,
         "type": "scatter",
         "x": [
          0.0007938398031277288,
          0.0019021532374648101,
          0.00649772579597141
         ],
         "xaxis": "x",
         "y": [
          83.104,
          86.638,
          87.478
         ],
         "yaxis": "y"
        },
        {
         "customdata": [
          [
           224
          ],
          [
           224
          ],
          [
           384
          ],
          [
           384
          ],
          [
           512
          ]
         ],
         "hovertemplate": "<b>%{hovertext}</b><br><br>family=beit<br>secs=%{x}<br>top1=%{y}<br>size=%{marker.size}<br>infer_img_size=%{customdata[0]}<extra></extra>",
         "hovertext": [
          "beit_base_patch16_224",
          "beit_large_patch16_224",
          "beit_base_patch16_384",
          "beit_large_patch16_384",
          "beit_large_patch16_512"
         ],
         "legendgroup": "beit",
         "marker": {
          "color": "#636efa",
          "size": [
           50176,
           50176,
           147456,
           147456,
           262144
          ],
          "sizemode": "area",
          "sizeref": 655.36,
          "symbol": "circle"
         },
         "mode": "markers",
         "name": "beit",
         "orientation": "v",
         "showlegend": true,
         "type": "scatter",
         "x": [
          0.0008990703612464712,
          0.0027730020520215183,
          0.003827458185019329,
          0.011291779584462511,
          0.028304557033682426
         ],
         "xaxis": "x",
         "y": [
          85.244,
          87.488,
          86.816,
          88.382,
          88.578
         ],
         "yaxis": "y"
        },
        {
         "customdata": [
          [
           224
          ],
          [
           224
          ],
          [
           224
          ],
          [
           224
          ]
         ],
         "hovertemplate": "<b>%{hovertext}</b><br><br>family=beitv2<br>secs=%{x}<br>top1=%{y}<br>size=%{marker.size}<br>infer_img_size=%{customdata[0]}<extra></extra>",
         "hovertext": [
          "beitv2_base_patch16_224",
          "beitv2_base_patch16_224",
          "beitv2_large_patch16_224",
          "beitv2_large_patch16_224"
         ],
         "legendgroup": "beitv2",
         "marker": {
          "color": "#EF553B",
          "size": [
           50176,
           50176,
           50176,
           50176
          ],
          "sizemode": "area",
          "sizeref": 655.36,
          "symbol": "circle"
         },
         "mode": "markers",
         "name": "beitv2",
         "orientation": "v",
         "showlegend": true,
         "type": "scatter",
         "x": [
          0.0009020792927698345,
          0.0009020792927698345,
          0.002773309667757502,
          0.002773309667757502
         ],
         "xaxis": "x",
         "y": [
          86.494,
          85.596,
          88.406,
          87.414
         ],
         "yaxis": "y"
        },
        {
         "customdata": [
          [
           288
          ],
          [
           288
          ]
         ],
         "hovertemplate": "<b>%{hovertext}</b><br><br>family=resnetv2d<br>secs=%{x}<br>top1=%{y}<br>size=%{marker.size}<br>infer_img_size=%{customdata[0]}<extra></extra>",
         "hovertext": [
          "resnetv2_50d_evos",
          "resnetv2_50d_evos"
         ],
         "legendgroup": "resnetv2d",
         "marker": {
          "color": "#00cc96",
          "size": [
           82944,
           82944
          ],
          "sizemode": "area",
          "sizeref": 655.36,
          "symbol": "circle"
         },
         "mode": "markers",
         "name": "resnetv2d",
         "orientation": "v",
         "showlegend": true,
         "type": "scatter",
         "x": [
          0.0011698369247326922,
          0.0011698369247326922
         ],
         "xaxis": "x",
         "y": [
          82,
          80.828
         ],
         "yaxis": "y"
        }
       ],
       "layout": {
        "height": 800,
        "legend": {
         "itemsizing": "constant",
         "title": {
          "text": "family"
         },
         "tracegroupgap": 0
        },
        "template": {
         "data": {
          "bar": [
           {
            "error_x": {
             "color": "#2a3f5f"
            },
            "error_y": {
             "color": "#2a3f5f"
            },
            "marker": {
             "line": {
              "color": "#E5ECF6",
              "width": 0.5
             },
             "pattern": {
              "fillmode": "overlay",
              "size": 10,
              "solidity": 0.2
             }
            },
            "type": "bar"
           }
          ],
          "barpolar": [
           {
            "marker": {
             "line": {
              "color": "#E5ECF6",
              "width": 0.5
             },
             "pattern": {
              "fillmode": "overlay",
              "size": 10,
              "solidity": 0.2
             }
            },
            "type": "barpolar"
           }
          ],
          "carpet": [
           {
            "aaxis": {
             "endlinecolor": "#2a3f5f",
             "gridcolor": "white",
             "linecolor": "white",
             "minorgridcolor": "white",
             "startlinecolor": "#2a3f5f"
            },
            "baxis": {
             "endlinecolor": "#2a3f5f",
             "gridcolor": "white",
             "linecolor": "white",
             "minorgridcolor": "white",
             "startlinecolor": "#2a3f5f"
            },
            "type": "carpet"
           }
          ],
          "choropleth": [
           {
            "colorbar": {
             "outlinewidth": 0,
             "ticks": ""
            },
            "type": "choropleth"
           }
          ],
          "contour": [
           {
            "colorbar": {
             "outlinewidth": 0,
             "ticks": ""
            },
            "colorscale": [
             [
              0,
              "#0d0887"
             ],
             [
              0.1111111111111111,
              "#46039f"
             ],
             [
              0.2222222222222222,
              "#7201a8"
             ],
             [
              0.3333333333333333,
              "#9c179e"
             ],
             [
              0.4444444444444444,
              "#bd3786"
             ],
             [
              0.5555555555555556,
              "#d8576b"
             ],
             [
              0.6666666666666666,
              "#ed7953"
             ],
             [
              0.7777777777777778,
              "#fb9f3a"
             ],
             [
              0.8888888888888888,
              "#fdca26"
             ],
             [
              1,
              "#f0f921"
             ]
            ],
            "type": "contour"
           }
          ],
          "contourcarpet": [
           {
            "colorbar": {
             "outlinewidth": 0,
             "ticks": ""
            },
            "type": "contourcarpet"
           }
          ],
          "heatmap": [
           {
            "colorbar": {
             "outlinewidth": 0,
             "ticks": ""
            },
            "colorscale": [
             [
              0,
              "#0d0887"
             ],
             [
              0.1111111111111111,
              "#46039f"
             ],
             [
              0.2222222222222222,
              "#7201a8"
             ],
             [
              0.3333333333333333,
              "#9c179e"
             ],
             [
              0.4444444444444444,
              "#bd3786"
             ],
             [
              0.5555555555555556,
              "#d8576b"
             ],
             [
              0.6666666666666666,
              "#ed7953"
             ],
             [
              0.7777777777777778,
              "#fb9f3a"
             ],
             [
              0.8888888888888888,
              "#fdca26"
             ],
             [
              1,
              "#f0f921"
             ]
            ],
            "type": "heatmap"
           }
          ],
          "heatmapgl": [
           {
            "colorbar": {
             "outlinewidth": 0,
             "ticks": ""
            },
            "colorscale": [
             [
              0,
              "#0d0887"
             ],
             [
              0.1111111111111111,
              "#46039f"
             ],
             [
              0.2222222222222222,
              "#7201a8"
             ],
             [
              0.3333333333333333,
              "#9c179e"
             ],
             [
              0.4444444444444444,
              "#bd3786"
             ],
             [
              0.5555555555555556,
              "#d8576b"
             ],
             [
              0.6666666666666666,
              "#ed7953"
             ],
             [
              0.7777777777777778,
              "#fb9f3a"
             ],
             [
              0.8888888888888888,
              "#fdca26"
             ],
             [
              1,
              "#f0f921"
             ]
            ],
            "type": "heatmapgl"
           }
          ],
          "histogram": [
           {
            "marker": {
             "pattern": {
              "fillmode": "overlay",
              "size": 10,
              "solidity": 0.2
             }
            },
            "type": "histogram"
           }
          ],
          "histogram2d": [
           {
            "colorbar": {
             "outlinewidth": 0,
             "ticks": ""
            },
            "colorscale": [
             [
              0,
              "#0d0887"
             ],
             [
              0.1111111111111111,
              "#46039f"
             ],
             [
              0.2222222222222222,
              "#7201a8"
             ],
             [
              0.3333333333333333,
              "#9c179e"
             ],
             [
              0.4444444444444444,
              "#bd3786"
             ],
             [
              0.5555555555555556,
              "#d8576b"
             ],
             [
              0.6666666666666666,
              "#ed7953"
             ],
             [
              0.7777777777777778,
              "#fb9f3a"
             ],
             [
              0.8888888888888888,
              "#fdca26"
             ],
             [
              1,
              "#f0f921"
             ]
            ],
            "type": "histogram2d"
           }
          ],
          "histogram2dcontour": [
           {
            "colorbar": {
             "outlinewidth": 0,
             "ticks": ""
            },
            "colorscale": [
             [
              0,
              "#0d0887"
             ],
             [
              0.1111111111111111,
              "#46039f"
             ],
             [
              0.2222222222222222,
              "#7201a8"
             ],
             [
              0.3333333333333333,
              "#9c179e"
             ],
             [
              0.4444444444444444,
              "#bd3786"
             ],
             [
              0.5555555555555556,
              "#d8576b"
             ],
             [
              0.6666666666666666,
              "#ed7953"
             ],
             [
              0.7777777777777778,
              "#fb9f3a"
             ],
             [
              0.8888888888888888,
              "#fdca26"
             ],
             [
              1,
              "#f0f921"
             ]
            ],
            "type": "histogram2dcontour"
           }
          ],
          "mesh3d": [
           {
            "colorbar": {
             "outlinewidth": 0,
             "ticks": ""
            },
            "type": "mesh3d"
           }
          ],
          "parcoords": [
           {
            "line": {
             "colorbar": {
              "outlinewidth": 0,
              "ticks": ""
             }
            },
            "type": "parcoords"
           }
          ],
          "pie": [
           {
            "automargin": true,
            "type": "pie"
           }
          ],
          "scatter": [
           {
            "fillpattern": {
             "fillmode": "overlay",
             "size": 10,
             "solidity": 0.2
            },
            "type": "scatter"
           }
          ],
          "scatter3d": [
           {
            "line": {
             "colorbar": {
              "outlinewidth": 0,
              "ticks": ""
             }
            },
            "marker": {
             "colorbar": {
              "outlinewidth": 0,
              "ticks": ""
             }
            },
            "type": "scatter3d"
           }
          ],
          "scattercarpet": [
           {
            "marker": {
             "colorbar": {
              "outlinewidth": 0,
              "ticks": ""
             }
            },
            "type": "scattercarpet"
           }
          ],
          "scattergeo": [
           {
            "marker": {
             "colorbar": {
              "outlinewidth": 0,
              "ticks": ""
             }
            },
            "type": "scattergeo"
           }
          ],
          "scattergl": [
           {
            "marker": {
             "colorbar": {
              "outlinewidth": 0,
              "ticks": ""
             }
            },
            "type": "scattergl"
           }
          ],
          "scattermapbox": [
           {
            "marker": {
             "colorbar": {
              "outlinewidth": 0,
              "ticks": ""
             }
            },
            "type": "scattermapbox"
           }
          ],
          "scatterpolar": [
           {
            "marker": {
             "colorbar": {
              "outlinewidth": 0,
              "ticks": ""
             }
            },
            "type": "scatterpolar"
           }
          ],
          "scatterpolargl": [
           {
            "marker": {
             "colorbar": {
              "outlinewidth": 0,
              "ticks": ""
             }
            },
            "type": "scatterpolargl"
           }
          ],
          "scatterternary": [
           {
            "marker": {
             "colorbar": {
              "outlinewidth": 0,
              "ticks": ""
             }
            },
            "type": "scatterternary"
           }
          ],
          "surface": [
           {
            "colorbar": {
             "outlinewidth": 0,
             "ticks": ""
            },
            "colorscale": [
             [
              0,
              "#0d0887"
             ],
             [
              0.1111111111111111,
              "#46039f"
             ],
             [
              0.2222222222222222,
              "#7201a8"
             ],
             [
              0.3333333333333333,
              "#9c179e"
             ],
             [
              0.4444444444444444,
              "#bd3786"
             ],
             [
              0.5555555555555556,
              "#d8576b"
             ],
             [
              0.6666666666666666,
              "#ed7953"
             ],
             [
              0.7777777777777778,
              "#fb9f3a"
             ],
             [
              0.8888888888888888,
              "#fdca26"
             ],
             [
              1,
              "#f0f921"
             ]
            ],
            "type": "surface"
           }
          ],
          "table": [
           {
            "cells": {
             "fill": {
              "color": "#EBF0F8"
             },
             "line": {
              "color": "white"
             }
            },
            "header": {
             "fill": {
              "color": "#C8D4E3"
             },
             "line": {
              "color": "white"
             }
            },
            "type": "table"
           }
          ]
         },
         "layout": {
          "annotationdefaults": {
           "arrowcolor": "#2a3f5f",
           "arrowhead": 0,
           "arrowwidth": 1
          },
          "autotypenumbers": "strict",
          "coloraxis": {
           "colorbar": {
            "outlinewidth": 0,
            "ticks": ""
           }
          },
          "colorscale": {
           "diverging": [
            [
             0,
             "#8e0152"
            ],
            [
             0.1,
             "#c51b7d"
            ],
            [
             0.2,
             "#de77ae"
            ],
            [
             0.3,
             "#f1b6da"
            ],
            [
             0.4,
             "#fde0ef"
            ],
            [
             0.5,
             "#f7f7f7"
            ],
            [
             0.6,
             "#e6f5d0"
            ],
            [
             0.7,
             "#b8e186"
            ],
            [
             0.8,
             "#7fbc41"
            ],
            [
             0.9,
             "#4d9221"
            ],
            [
             1,
             "#276419"
            ]
           ],
           "sequential": [
            [
             0,
             "#0d0887"
            ],
            [
             0.1111111111111111,
             "#46039f"
            ],
            [
             0.2222222222222222,
             "#7201a8"
            ],
            [
             0.3333333333333333,
             "#9c179e"
            ],
            [
             0.4444444444444444,
             "#bd3786"
            ],
            [
             0.5555555555555556,
             "#d8576b"
            ],
            [
             0.6666666666666666,
             "#ed7953"
            ],
            [
             0.7777777777777778,
             "#fb9f3a"
            ],
            [
             0.8888888888888888,
             "#fdca26"
            ],
            [
             1,
             "#f0f921"
            ]
           ],
           "sequentialminus": [
            [
             0,
             "#0d0887"
            ],
            [
             0.1111111111111111,
             "#46039f"
            ],
            [
             0.2222222222222222,
             "#7201a8"
            ],
            [
             0.3333333333333333,
             "#9c179e"
            ],
            [
             0.4444444444444444,
             "#bd3786"
            ],
            [
             0.5555555555555556,
             "#d8576b"
            ],
            [
             0.6666666666666666,
             "#ed7953"
            ],
            [
             0.7777777777777778,
             "#fb9f3a"
            ],
            [
             0.8888888888888888,
             "#fdca26"
            ],
            [
             1,
             "#f0f921"
            ]
           ]
          },
          "colorway": [
           "#636efa",
           "#EF553B",
           "#00cc96",
           "#ab63fa",
           "#FFA15A",
           "#19d3f3",
           "#FF6692",
           "#B6E880",
           "#FF97FF",
           "#FECB52"
          ],
          "font": {
           "color": "#2a3f5f"
          },
          "geo": {
           "bgcolor": "white",
           "lakecolor": "white",
           "landcolor": "#E5ECF6",
           "showlakes": true,
           "showland": true,
           "subunitcolor": "white"
          },
          "hoverlabel": {
           "align": "left"
          },
          "hovermode": "closest",
          "mapbox": {
           "style": "light"
          },
          "paper_bgcolor": "white",
          "plot_bgcolor": "#E5ECF6",
          "polar": {
           "angularaxis": {
            "gridcolor": "white",
            "linecolor": "white",
            "ticks": ""
           },
           "bgcolor": "#E5ECF6",
           "radialaxis": {
            "gridcolor": "white",
            "linecolor": "white",
            "ticks": ""
           }
          },
          "scene": {
           "xaxis": {
            "backgroundcolor": "#E5ECF6",
            "gridcolor": "white",
            "gridwidth": 2,
            "linecolor": "white",
            "showbackground": true,
            "ticks": "",
            "zerolinecolor": "white"
           },
           "yaxis": {
            "backgroundcolor": "#E5ECF6",
            "gridcolor": "white",
            "gridwidth": 2,
            "linecolor": "white",
            "showbackground": true,
            "ticks": "",
            "zerolinecolor": "white"
           },
           "zaxis": {
            "backgroundcolor": "#E5ECF6",
            "gridcolor": "white",
            "gridwidth": 2,
            "linecolor": "white",
            "showbackground": true,
            "ticks": "",
            "zerolinecolor": "white"
           }
          },
          "shapedefaults": {
           "line": {
            "color": "#2a3f5f"
           }
          },
          "ternary": {
           "aaxis": {
            "gridcolor": "white",
            "linecolor": "white",
            "ticks": ""
           },
           "baxis": {
            "gridcolor": "white",
            "linecolor": "white",
            "ticks": ""
           },
           "bgcolor": "#E5ECF6",
           "caxis": {
            "gridcolor": "white",
            "linecolor": "white",
            "ticks": ""
           }
          },
          "title": {
           "x": 0.05
          },
          "xaxis": {
           "automargin": true,
           "gridcolor": "white",
           "linecolor": "white",
           "ticks": "",
           "title": {
            "standoff": 15
           },
           "zerolinecolor": "white",
           "zerolinewidth": 2
          },
          "yaxis": {
           "automargin": true,
           "gridcolor": "white",
           "linecolor": "white",
           "ticks": "",
           "title": {
            "standoff": 15
           },
           "zerolinecolor": "white",
           "zerolinewidth": 2
          }
         }
        },
        "title": {
         "text": "Inference"
        },
        "width": 1000,
        "xaxis": {
         "anchor": "y",
         "domain": [
          0,
          1
         ],
         "title": {
          "text": "secs"
         },
         "type": "log"
        },
        "yaxis": {
         "anchor": "x",
         "domain": [
          0,
          1
         ],
         "title": {
          "text": "top1"
         }
        }
       }
      },
      "text/html": [
       "<div>                            <div id=\"22c0056f-1d92-4328-b95a-9e89b2569baa\" class=\"plotly-graph-div\" style=\"height:800px; width:1000px;\"></div>            <script type=\"text/javascript\">                require([\"plotly\"], function(Plotly) {                    window.PLOTLYENV=window.PLOTLYENV || {};                                    if (document.getElementById(\"22c0056f-1d92-4328-b95a-9e89b2569baa\")) {                    Plotly.newPlot(                        \"22c0056f-1d92-4328-b95a-9e89b2569baa\",                        [{\"customdata\":[[224],[224],[224],[224],[224],[224],[224],[224],[224],[224],[224],[224],[224],[224],[224],[224],[224],[224]],\"hovertemplate\":\"\\u003cb\\u003e%{hovertext}\\u003c\\u002fb\\u003e\\u003cbr\\u003e\\u003cbr\\u003efamily=regnetx\\u003cbr\\u003esecs=%{x}\\u003cbr\\u003etop1=%{y}\\u003cbr\\u003esize=%{marker.size}\\u003cbr\\u003einfer_img_size=%{customdata[0]}\\u003cextra\\u003e\\u003c\\u002fextra\\u003e\",\"hovertext\":[\"regnetx_002\",\"regnetx_004\",\"regnetx_006\",\"regnetx_008\",\"regnetx_008\",\"regnetx_016\",\"regnetx_016\",\"regnetx_032\",\"regnetx_032\",\"regnetx_040\",\"regnetx_064\",\"regnetx_160\",\"regnetx_160\",\"regnetx_080\",\"regnetx_080\",\"regnetx_120\",\"regnetx_320\",\"regnetx_320\"],\"legendgroup\":\"regnetx\",\"marker\":{\"color\":\"#636efa\",\"size\":[50176,50176,50176,50176,50176,50176,50176,50176,50176,50176,50176,50176,50176,50176,50176,50176,50176,50176],\"sizemode\":\"area\",\"sizeref\":655.36,\"symbol\":\"circle\"},\"mode\":\"markers\",\"name\":\"regnetx\",\"orientation\":\"v\",\"showlegend\":true,\"x\":[0.00004169550605835703,0.00007347430603517949,0.00011933857786603528,0.0001352286987753689,0.0001352286987753689,0.00025957777079801996,0.00025957777079801996,0.00041162088070403636,0.00041162088070403636,0.0005174322939843322,0.0006449449217036865,0.0008367640660039495,0.0008367640660039495,0.0009955102487780112,0.0009955102487780112,0.0015615972016178147,0.003454947484798231,0.003454947484798231],\"xaxis\":\"x\",\"y\":[68.76,72.432,73.884,77.288,75.062,79.452,76.924,80.926,78.166,78.494,79.06,82.576,79.858,81.56,79.216,79.608,82.824,80.262],\"yaxis\":\"y\",\"type\":\"scatter\"},{\"customdata\":[[224],[224],[224],[224],[224]],\"hovertemplate\":\"\\u003cb\\u003e%{hovertext}\\u003c\\u002fb\\u003e\\u003cbr\\u003e\\u003cbr\\u003efamily=levit\\u003cbr\\u003esecs=%{x}\\u003cbr\\u003etop1=%{y}\\u003cbr\\u003esize=%{marker.size}\\u003cbr\\u003einfer_img_size=%{customdata[0]}\\u003cextra\\u003e\\u003c\\u002fextra\\u003e\",\"hovertext\":[\"levit_128s\",\"levit_128\",\"levit_192\",\"levit_256\",\"levit_384\"],\"legendgroup\":\"levit\",\"marker\":{\"color\":\"#EF553B\",\"size\":[50176,50176,50176,50176,50176],\"sizemode\":\"area\",\"sizeref\":655.36,\"symbol\":\"circle\"},\"mode\":\"markers\",\"name\":\"levit\",\"orientation\":\"v\",\"showlegend\":true,\"x\":[0.000044100013538704156,0.00006519895134006664,0.00007394185508283706,0.00010143942544709426,0.00017005645874430312],\"xaxis\":\"x\",\"y\":[76.522,78.486,79.85,81.506,82.598],\"yaxis\":\"y\",\"type\":\"scatter\"},{\"customdata\":[[224],[224],[224],[224],[224],[224],[224],[288],[288],[288],[288],[288],[288],[288],[288],[288],[288],[288],[288],[288],[224],[224],[224],[224],[224],[224],[224],[224],[288],[288],[288],[288],[288],[288],[288],[288],[288],[288],[224],[224],[224],[224],[224]],\"hovertemplate\":\"\\u003cb\\u003e%{hovertext}\\u003c\\u002fb\\u003e\\u003cbr\\u003e\\u003cbr\\u003efamily=regnety\\u003cbr\\u003esecs=%{x}\\u003cbr\\u003etop1=%{y}\\u003cbr\\u003esize=%{marker.size}\\u003cbr\\u003einfer_img_size=%{customdata[0]}\\u003cextra\\u003e\\u003c\\u002fextra\\u003e\",\"hovertext\":[\"regnety_002\",\"regnety_004\",\"regnety_004\",\"regnety_006\",\"regnety_008\",\"regnety_016\",\"regnety_016\",\"regnety_040\",\"regnety_040\",\"regnety_040\",\"regnety_032\",\"regnety_032\",\"regnety_032\",\"regnety_032\",\"regnety_080\",\"regnety_080\",\"regnety_080\",\"regnety_064\",\"regnety_064\",\"regnety_064\",\"regnety_120\",\"regnety_120\",\"regnety_120\",\"regnety_320\",\"regnety_320\",\"regnety_320\",\"regnety_320\",\"regnety_320\",\"regnety_160\",\"regnety_160\",\"regnety_160\",\"regnety_160\",\"regnety_160\",\"regnety_160\",\"regnety_160\",\"regnety_160\",\"regnety_160\",\"regnety_160\",\"regnety_640\",\"regnety_1280\",\"regnety_1280\",\"regnety_1280\",\"regnety_2560\"],\"legendgroup\":\"regnety\",\"marker\":{\"color\":\"#00cc96\",\"size\":[50176,50176,50176,50176,50176,50176,50176,82944,82944,82944,82944,82944,82944,82944,82944,82944,82944,82944,82944,82944,50176,50176,50176,50176,50176,50176,50176,50176,82944,82944,82944,82944,82944,82944,82944,82944,82944,82944,50176,50176,50176,50176,50176],\"sizemode\":\"area\",\"sizeref\":655.36,\"symbol\":\"circle\"},\"mode\":\"markers\",\"name\":\"regnety\",\"orientation\":\"v\",\"showlegend\":true,\"x\":[0.00004606305940706709,0.00008390416131078437,0.00008390416131078437,0.00010991873707767849,0.00014412420047099788,0.0002831353273610655,0.0002831353273610655,0.000596292254759903,0.000596292254759903,0.000596292254759903,0.0006812685219879415,0.0006812685219879415,0.0006812685219879415,0.0006812685219879415,0.0012326200571935707,0.0012326200571935707,0.0012326200571935707,0.001520426935883596,0.001520426935883596,0.001520426935883596,0.0015980823012385138,0.0015980823012385138,0.0015980823012385138,0.0016520460590441263,0.0016520460590441263,0.0016520460590441263,0.0016520460590441263,0.0016520460590441263,0.002828854314002829,0.002828854314002829,0.002828854314002829,0.002828854314002829,0.002828854314002829,0.002828854314002829,0.002828854314002829,0.002828854314002829,0.002828854314002829,0.002828854314002829,0.005720496539099593,0.012122681537156019,0.012122681537156019,0.012122681537156019,0.020968756552736424],\"xaxis\":\"x\",\"y\":[70.294,75.588,74.006,75.262,76.334,80.696,77.908,83.058,82.316,79.236,82.724,81.942,81.798,78.896,83.94,83.162,79.882,83.712,83.006,79.728,85.442,84.986,80.382,86.86,84.632,83.326,83.174,80.796,86.032,86.018,86.01,85.602,85.594,83.808,83.7,82.994,82.646,80.284,83.916,88.224,85.966,84.426,85.146],\"yaxis\":\"y\",\"type\":\"scatter\"},{\"customdata\":[[224],[224],[224],[224],[224],[224],[224],[224],[224],[384],[384],[224],[224],[224],[256],[224],[224],[224],[224],[224],[224],[384],[384],[384],[384],[384],[256],[224],[224],[224],[224],[224],[224],[224],[224],[224],[224],[224],[448],[224],[224],[224],[384],[384],[384],[384],[384],[224],[384],[384],[384],[384],[384],[384],[384],[384],[224],[224],[224],[224],[384],[224],[224],[224],[224],[336],[336],[336],[384],[336]],\"hovertemplate\":\"\\u003cb\\u003e%{hovertext}\\u003c\\u002fb\\u003e\\u003cbr\\u003e\\u003cbr\\u003efamily=vit\\u003cbr\\u003esecs=%{x}\\u003cbr\\u003etop1=%{y}\\u003cbr\\u003esize=%{marker.size}\\u003cbr\\u003einfer_img_size=%{customdata[0]}\\u003cextra\\u003e\\u003c\\u002fextra\\u003e\",\"hovertext\":[\"vit_tiny_r_s16_p8_224\",\"vit_small_patch32_224\",\"vit_tiny_patch16_224\",\"vit_base_patch32_clip_224\",\"vit_base_patch32_clip_224\",\"vit_base_patch32_clip_224\",\"vit_base_patch32_224\",\"vit_base_patch32_224\",\"vit_base_patch32_224\",\"vit_small_patch32_384\",\"vit_tiny_r_s16_p8_384\",\"vit_small_patch16_224\",\"vit_small_patch16_224\",\"vit_small_r26_s32_224\",\"vit_relpos_base_patch32_plus_rpn_256\",\"vit_relpos_small_patch16_224\",\"vit_srelpos_small_patch16_224\",\"vit_relpos_medium_patch16_rpn_224\",\"vit_relpos_medium_patch16_224\",\"vit_srelpos_medium_patch16_224\",\"vit_relpos_medium_patch16_cls_224\",\"vit_tiny_patch16_384\",\"vit_base_patch32_384\",\"vit_base_patch32_384\",\"vit_base_patch32_clip_384\",\"vit_base_patch32_clip_384\",\"vit_medium_patch16_gap_256\",\"vit_base_patch16_clip_224\",\"vit_base_patch16_clip_224\",\"vit_base_patch16_clip_224\",\"vit_base_patch16_clip_224\",\"vit_base_patch16_224_miil\",\"vit_base_patch16_224\",\"vit_base_patch16_224\",\"vit_base_patch16_224\",\"vit_base_patch16_224\",\"vit_base_patch16_224\",\"vit_base_patch16_rpn_224\",\"vit_base_patch32_clip_448\",\"vit_relpos_base_patch16_224\",\"vit_relpos_base_patch16_clsgap_224\",\"vit_large_r50_s32_224\",\"vit_small_r26_s32_384\",\"vit_small_patch16_384\",\"vit_small_patch16_384\",\"vit_large_patch32_384\",\"vit_medium_patch16_gap_384\",\"vit_large_patch16_224\",\"vit_large_r50_s32_384\",\"vit_base_patch16_384\",\"vit_base_patch16_384\",\"vit_base_patch16_384\",\"vit_base_patch16_clip_384\",\"vit_base_patch16_clip_384\",\"vit_base_patch16_clip_384\",\"vit_base_patch16_clip_384\",\"vit_large_patch14_clip_224\",\"vit_large_patch14_clip_224\",\"vit_large_patch14_clip_224\",\"vit_large_patch14_clip_224\",\"vit_base_r50_s16_384\",\"vit_base_patch8_224\",\"vit_base_patch8_224\",\"vit_huge_patch14_clip_224\",\"vit_huge_patch14_clip_224\",\"vit_large_patch14_clip_336\",\"vit_large_patch14_clip_336\",\"vit_large_patch14_clip_336\",\"vit_large_patch16_384\",\"vit_huge_patch14_clip_336\"],\"legendgroup\":\"vit\",\"marker\":{\"color\":\"#ab63fa\",\"size\":[50176,50176,50176,50176,50176,50176,50176,50176,50176,147456,147456,50176,50176,50176,65536,50176,50176,50176,50176,50176,50176,147456,147456,147456,147456,147456,65536,50176,50176,50176,50176,50176,50176,50176,50176,50176,50176,50176,200704,50176,50176,50176,147456,147456,147456,147456,147456,50176,147456,147456,147456,147456,147456,147456,147456,147456,50176,50176,50176,50176,147456,50176,50176,50176,50176,112896,112896,112896,147456,112896],\"sizemode\":\"area\",\"sizeref\":655.36,\"symbol\":\"circle\"},\"mode\":\"markers\",\"name\":\"vit\",\"orientation\":\"v\",\"showlegend\":true,\"x\":[0.00007079450549683939,0.00007246655125160604,0.00013468140440381257,0.0001893695508911731,0.0001893695508911731,0.0001893695508911731,0.0001893752887973154,0.0001893752887973154,0.0001893752887973154,0.000235899129532212,0.0002523309067511134,0.00031071532883003247,0.00031071532883003247,0.00032659246485865077,0.0003304201291942705,0.0003324180755652769,0.00033322670078908084,0.0004890334254346284,0.0004908047725856086,0.0004918476256055874,0.000498196528566589,0.0006003265776582461,0.0006063288606474379,0.0006063288606474379,0.0006065605590062111,0.0006065605590062111,0.0006392962626740484,0.0008252050634582694,0.0008252050634582694,0.0008252050634582694,0.0008252050634582694,0.0008255865792645675,0.000826255081468751,0.000826255081468751,0.000826255081468751,0.000826255081468751,0.000826255081468751,0.0008471776277332067,0.0008663934639277081,0.0008761861369829407,0.0008857866671390862,0.0009702426576886879,0.0010176252696706964,0.0013265766363322808,0.0013265766363322808,0.0018400956849756187,0.001854461835175432,0.002559770644550248,0.0030321406913280777,0.0032563743527955977,0.0032563743527955977,0.0032563743527955977,0.0032648796891834534,0.0032648796891834534,0.0032648796891834534,0.0032648796891834534,0.0034966257561453197,0.0034966257561453197,0.0034966257561453197,0.0034966257561453197,0.0044185224460940265,0.005008263634997747,0.005008263634997747,0.006486346241162354,0.006486346241162354,0.009754194303550527,0.009754194303550527,0.009754194303550527,0.00975609756097561,0.017421602787456445],\"xaxis\":\"x\",\"y\":[71.82,75.996,75.452,83.306,82.63,81.946,80.736,74.906,73.706,80.482,75.962,81.414,78.842,81.844,79.496,81.476,81.108,82.308,82.466,82.25,82.572,78.446,83.352,78.754,85.41,85.226,84.45,86.21,85.962,85.494,85.286,84.272,85.11,84.532,81.786,80.242,79.142,82.216,85.8,82.476,82.762,84.432,84.074,83.804,81.134,81.506,85.554,85.85,86.184,86.006,84.208,81.096,87.212,87.028,86.638,86.218,88.162,87.898,87.86,87.298,84.994,86.228,85.836,88.278,87.624,88.264,88.192,87.866,87.094,88.628],\"yaxis\":\"y\",\"type\":\"scatter\"},{\"customdata\":[[224],[224],[224],[224],[224],[224],[224],[224],[224],[224],[224],[224],[224],[224],[224],[224],[224],[224],[224],[224],[224],[224],[224],[224],[224],[224],[256],[256],[224],[224],[224],[224],[224],[224],[224],[224],[224],[224],[224],[224],[224],[224],[224],[224],[224],[224],[224],[224],[224],[224],[224],[224],[224],[224],[224],[224],[224],[224],[224],[256],[256],[256],[256],[224],[224],[224],[224],[224],[224],[224],[224],[224],[224],[224],[224],[288],[288],[288],[288],[224],[224],[224],[224],[224],[224],[224],[224],[224],[224],[224],[224]],\"hovertemplate\":\"\\u003cb\\u003e%{hovertext}\\u003c\\u002fb\\u003e\\u003cbr\\u003e\\u003cbr\\u003efamily=resnet\\u003cbr\\u003esecs=%{x}\\u003cbr\\u003etop1=%{y}\\u003cbr\\u003esize=%{marker.size}\\u003cbr\\u003einfer_img_size=%{customdata[0]}\\u003cextra\\u003e\\u003c\\u002fextra\\u003e\",\"hovertext\":[\"resnet10t\",\"resnet10t\",\"resnet18\",\"resnet18\",\"resnet18\",\"resnet18\",\"resnet18\",\"resnet18\",\"resnet18\",\"resnet18\",\"resnet18\",\"resnet18\",\"resnet14t\",\"resnet14t\",\"resnet34\",\"resnet34\",\"resnet34\",\"resnet34\",\"resnet34\",\"resnet34\",\"resnet34\",\"resnet34\",\"resnet34\",\"resnet34\",\"resnet26\",\"resnet26\",\"resnet26t\",\"resnet26t\",\"resnet50\",\"resnet50\",\"resnet50\",\"resnet50\",\"resnet50\",\"resnet50\",\"resnet50\",\"resnet50\",\"resnet50\",\"resnet50\",\"resnet50\",\"resnet50\",\"resnet50\",\"resnet50\",\"resnet50\",\"resnet50\",\"resnet50\",\"resnet50\",\"resnet50\",\"resnet50\",\"resnet50\",\"resnet50\",\"resnet50\",\"resnet50\",\"resnet50\",\"resnet50\",\"resnet50\",\"resnet50\",\"resnet50\",\"resnet50\",\"resnet50\",\"resnet32ts\",\"resnet32ts\",\"resnet33ts\",\"resnet33ts\",\"resnet101\",\"resnet101\",\"resnet101\",\"resnet101\",\"resnet101\",\"resnet101\",\"resnet101\",\"resnet101\",\"resnet101\",\"resnet101\",\"resnet101\",\"resnet101\",\"resnet51q\",\"resnet51q\",\"resnet61q\",\"resnet61q\",\"resnet152\",\"resnet152\",\"resnet152\",\"resnet152\",\"resnet152\",\"resnet152\",\"resnet152\",\"resnet152\",\"resnet152\",\"resnet152\",\"resnet152\",\"resnet152\"],\"legendgroup\":\"resnet\",\"marker\":{\"color\":\"#FFA15A\",\"size\":[50176,50176,50176,50176,50176,50176,50176,50176,50176,50176,50176,50176,50176,50176,50176,50176,50176,50176,50176,50176,50176,50176,50176,50176,50176,50176,65536,65536,50176,50176,50176,50176,50176,50176,50176,50176,50176,50176,50176,50176,50176,50176,50176,50176,50176,50176,50176,50176,50176,50176,50176,50176,50176,50176,50176,50176,50176,50176,50176,65536,65536,65536,65536,50176,50176,50176,50176,50176,50176,50176,50176,50176,50176,50176,50176,82944,82944,82944,82944,50176,50176,50176,50176,50176,50176,50176,50176,50176,50176,50176,50176],\"sizemode\":\"area\",\"sizeref\":655.36,\"symbol\":\"circle\"},\"mode\":\"markers\",\"name\":\"resnet\",\"orientation\":\"v\",\"showlegend\":true,\"x\":[0.00007086132650986,0.00007086132650986,0.00009022746343532044,0.00009022746343532044,0.00009022746343532044,0.00009022746343532044,0.00009022746343532044,0.00009022746343532044,0.00009022746343532044,0.00009022746343532044,0.00009022746343532044,0.00009022746343532044,0.00013459529885540158,0.00013459529885540158,0.00015393093426841246,0.00015393093426841246,0.00015393093426841246,0.00015393093426841246,0.00015393093426841246,0.00015393093426841246,0.00015393093426841246,0.00015393093426841246,0.00015393093426841246,0.00015393093426841246,0.00016962924136714383,0.00016962924136714383,0.00025384189711280227,0.00025384189711280227,0.00027258503290101345,0.00027258503290101345,0.00027258503290101345,0.00027258503290101345,0.00027258503290101345,0.00027258503290101345,0.00027258503290101345,0.00027258503290101345,0.00027258503290101345,0.00027258503290101345,0.00027258503290101345,0.00027258503290101345,0.00027258503290101345,0.00027258503290101345,0.00027258503290101345,0.00027258503290101345,0.00027258503290101345,0.00027258503290101345,0.00027258503290101345,0.00027258503290101345,0.00027258503290101345,0.00027258503290101345,0.00027258503290101345,0.00027258503290101345,0.00027258503290101345,0.00027258503290101345,0.00027258503290101345,0.00027258503290101345,0.00027258503290101345,0.00027258503290101345,0.00027258503290101345,0.0002863180076847753,0.0002863180076847753,0.0002889522015268234,0.0002889522015268234,0.0004428148856651965,0.0004428148856651965,0.0004428148856651965,0.0004428148856651965,0.0004428148856651965,0.0004428148856651965,0.0004428148856651965,0.0004428148856651965,0.0004428148856651965,0.0004428148856651965,0.0004428148856651965,0.0004428148856651965,0.0004915430026395859,0.0004915430026395859,0.0005429353255440212,0.0005429353255440212,0.000632503067639878,0.000632503067639878,0.000632503067639878,0.000632503067639878,0.000632503067639878,0.000632503067639878,0.000632503067639878,0.000632503067639878,0.000632503067639878,0.000632503067639878,0.000632503067639878,0.000632503067639878],\"xaxis\":\"x\",\"y\":[68.346,66.724,73.288,73.164,72.636,72.362,71.488,70.844,70.634,69.752,68.246,65.664,72.242,71.318,77.938,77.148,76.508,76.414,75.516,75.162,74.574,73.298,72.982,70.572,76.378,75.292,78.33,77.884,81.24,81.146,81.012,80.928,80.856,80.844,80.78,80.706,80.652,80.47,80.382,79.974,79.904,79.868,79.86,79.828,79.766,79.652,79.564,79.432,79.38,79.26,79.252,79.032,79.004,78.814,78.432,78.052,77.58,76.156,75.994,79.388,79.054,79.708,79.216,82.802,82.322,82.224,81.95,81.906,81.494,81.344,79.906,79.82,79.306,77.928,77.404,82.356,81.778,82.524,81.966,83.494,82.818,82.744,82.62,82.294,81.998,81.764,80.548,80.212,79.712,78.896,78.33],\"yaxis\":\"y\",\"type\":\"scatter\"},{\"customdata\":[[224],[224],[224],[224],[240],[224],[224],[256],[256],[256],[256],[260],[240],[300],[288],[288],[320],[320],[300],[300],[384],[384],[448]],\"hovertemplate\":\"\\u003cb\\u003e%{hovertext}\\u003c\\u002fb\\u003e\\u003cbr\\u003e\\u003cbr\\u003efamily=efficientnet\\u003cbr\\u003esecs=%{x}\\u003cbr\\u003etop1=%{y}\\u003cbr\\u003esize=%{marker.size}\\u003cbr\\u003einfer_img_size=%{customdata[0]}\\u003cextra\\u003e\\u003c\\u002fextra\\u003e\",\"hovertext\":[\"efficientnet_lite0\",\"efficientnet_b0\",\"efficientnet_b0\",\"efficientnet_b0\",\"efficientnet_b1_pruned\",\"efficientnet_es_pruned\",\"efficientnet_es\",\"efficientnet_b1\",\"efficientnet_b1\",\"efficientnet_b1\",\"efficientnet_b1\",\"efficientnet_b2_pruned\",\"efficientnet_em\",\"efficientnet_b3_pruned\",\"efficientnet_b2\",\"efficientnet_b2\",\"efficientnet_b3\",\"efficientnet_b3\",\"efficientnet_el_pruned\",\"efficientnet_el\",\"efficientnet_b4\",\"efficientnet_b4\",\"efficientnet_b5\"],\"legendgroup\":\"efficientnet\",\"marker\":{\"color\":\"#19d3f3\",\"size\":[50176,50176,50176,50176,57600,50176,50176,65536,65536,65536,65536,67600,57600,90000,82944,82944,102400,102400,90000,90000,147456,147456,200704],\"sizemode\":\"area\",\"sizeref\":655.36,\"symbol\":\"circle\"},\"mode\":\"markers\",\"name\":\"efficientnet\",\"orientation\":\"v\",\"showlegend\":true,\"x\":[0.00010682459614961426,0.00012554659850323344,0.00012554659850323344,0.00012554659850323344,0.00015054867464474276,0.00016352160120351898,0.00016352908855427203,0.00023588021059385203,0.00023588021059385203,0.00023588021059385203,0.00023588021059385203,0.0002480823236382761,0.0002723867892407218,0.0002976101901729115,0.0003101833183411396,0.0003101833183411396,0.0005129415144085271,0.0005129415144085271,0.0006430289234409764,0.0006451737775569849,0.0009861154938466392,0.0009861154938466392,0.001875433694041747],\"xaxis\":\"x\",\"y\":[75.49,79.37,78.572,77.696,78.252,75.0,78.092,81.434,80.404,78.798,77.594,79.908,79.264,80.872,80.61,79.34,82.298,81.474,80.294,81.306,83.474,82.654,85.892],\"yaxis\":\"y\",\"type\":\"scatter\"},{\"customdata\":[[224],[224],[224],[224],[224],[224],[224],[224],[224],[224],[224],[224],[224],[224],[224],[224],[224],[320],[320],[320],[320],[320],[320],[320],[320]],\"hovertemplate\":\"\\u003cb\\u003e%{hovertext}\\u003c\\u002fb\\u003e\\u003cbr\\u003e\\u003cbr\\u003efamily=resnetd\\u003cbr\\u003esecs=%{x}\\u003cbr\\u003etop1=%{y}\\u003cbr\\u003esize=%{marker.size}\\u003cbr\\u003einfer_img_size=%{customdata[0]}\\u003cextra\\u003e\\u003c\\u002fextra\\u003e\",\"hovertext\":[\"resnet18d\",\"resnet18d\",\"resnet34d\",\"resnet34d\",\"resnet26d\",\"resnet26d\",\"resnet50d\",\"resnet50d\",\"resnet50d\",\"resnet50d\",\"resnet50d\",\"resnet50d\",\"resnet50d\",\"resnet50d\",\"resnet50d\",\"resnet50d\",\"resnet50d\",\"resnet101d\",\"resnet101d\",\"resnet101d\",\"resnet152d\",\"resnet152d\",\"resnet152d\",\"resnet200d\",\"resnet200d\"],\"legendgroup\":\"resnetd\",\"marker\":{\"color\":\"#FF6692\",\"size\":[50176,50176,50176,50176,50176,50176,50176,50176,50176,50176,50176,50176,50176,50176,50176,50176,50176,102400,102400,102400,102400,102400,102400,102400,102400],\"sizemode\":\"area\",\"sizeref\":655.36,\"symbol\":\"circle\"},\"mode\":\"markers\",\"name\":\"resnetd\",\"orientation\":\"v\",\"showlegend\":true,\"x\":[0.00010712567877508214,0.00010712567877508214,0.00017047449871973654,0.00017047449871973654,0.0001957613747146778,0.0001957613747146778,0.0002983765332824104,0.0002983765332824104,0.0002983765332824104,0.0002983765332824104,0.0002983765332824104,0.0002983765332824104,0.0002983765332824104,0.0002983765332824104,0.0002983765332824104,0.0002983765332824104,0.0002983765332824104,0.0009616494210870484,0.0009616494210870484,0.0009616494210870484,0.0013470371916968627,0.0013470371916968627,0.0013470371916968627,0.0018343911655721466,0.0018343911655721466],\"xaxis\":\"x\",\"y\":[73.794,72.268,78.44,77.104,77.424,76.698,81.83,81.444,81.35,81.168,80.956,80.73,80.548,80.268,79.08,78.742,77.222,83.018,82.252,80.466,83.684,83.156,80.476,83.976,83.24],\"yaxis\":\"y\",\"type\":\"scatter\"},{\"customdata\":[[256],[256],[256],[256],[256],[256],[256],[256],[256],[256],[256],[256],[256]],\"hovertemplate\":\"\\u003cb\\u003e%{hovertext}\\u003c\\u002fb\\u003e\\u003cbr\\u003e\\u003cbr\\u003efamily=mobilevitv2\\u003cbr\\u003esecs=%{x}\\u003cbr\\u003etop1=%{y}\\u003cbr\\u003esize=%{marker.size}\\u003cbr\\u003einfer_img_size=%{customdata[0]}\\u003cextra\\u003e\\u003c\\u002fextra\\u003e\",\"hovertext\":[\"mobilevitv2_050\",\"mobilevitv2_075\",\"mobilevitv2_100\",\"mobilevitv2_125\",\"mobilevitv2_150\",\"mobilevitv2_150\",\"mobilevitv2_150\",\"mobilevitv2_175\",\"mobilevitv2_175\",\"mobilevitv2_175\",\"mobilevitv2_200\",\"mobilevitv2_200\",\"mobilevitv2_200\"],\"legendgroup\":\"mobilevitv2\",\"marker\":{\"color\":\"#B6E880\",\"size\":[65536,65536,65536,65536,65536,65536,65536,65536,65536,65536,65536,65536,65536],\"sizemode\":\"area\",\"sizeref\":655.36,\"symbol\":\"circle\"},\"mode\":\"markers\",\"name\":\"mobilevitv2\",\"orientation\":\"v\",\"showlegend\":true,\"x\":[0.0001460094876965105,0.00022758980124582657,0.0003007853505502868,0.0004044849288915495,0.00048277460219372777,0.00048277460219372777,0.00048277460219372777,0.0005960683332737265,0.0005960683332737265,0.0005960683332737265,0.0006868037526957047,0.0006868037526957047,0.0006868037526957047],\"xaxis\":\"x\",\"y\":[70.158,75.604,78.092,79.678,82.606,81.47,80.404,82.928,81.944,80.874,83.41,82.322,81.148],\"yaxis\":\"y\",\"type\":\"scatter\"},{\"customdata\":[[256],[256],[256]],\"hovertemplate\":\"\\u003cb\\u003e%{hovertext}\\u003c\\u002fb\\u003e\\u003cbr\\u003e\\u003cbr\\u003efamily=mobilevit\\u003cbr\\u003esecs=%{x}\\u003cbr\\u003etop1=%{y}\\u003cbr\\u003esize=%{marker.size}\\u003cbr\\u003einfer_img_size=%{customdata[0]}\\u003cextra\\u003e\\u003c\\u002fextra\\u003e\",\"hovertext\":[\"mobilevit_xxs\",\"mobilevit_xs\",\"mobilevit_s\"],\"legendgroup\":\"mobilevit\",\"marker\":{\"color\":\"#FF97FF\",\"size\":[65536,65536,65536],\"sizemode\":\"area\",\"sizeref\":655.36,\"symbol\":\"circle\"},\"mode\":\"markers\",\"name\":\"mobilevit\",\"orientation\":\"v\",\"showlegend\":true,\"x\":[0.00018099973393039112,0.00030747660103066154,0.00038668414479001113],\"xaxis\":\"x\",\"y\":[68.928,74.632,78.302],\"yaxis\":\"y\",\"type\":\"scatter\"},{\"customdata\":[[288],[288],[288],[288],[288],[288],[288],[288],[288],[288],[288],[288],[288],[288],[288],[288],[288],[288],[288],[288],[288],[288],[288],[288],[288],[288],[288],[288],[288],[288],[288],[288],[288],[288],[288],[288],[288],[288],[288],[288],[288],[288],[288],[288],[288],[288],[288],[288],[288],[288],[288],[288],[288],[224]],\"hovertemplate\":\"\\u003cb\\u003e%{hovertext}\\u003c\\u002fb\\u003e\\u003cbr\\u003e\\u003cbr\\u003efamily=convnext\\u003cbr\\u003esecs=%{x}\\u003cbr\\u003etop1=%{y}\\u003cbr\\u003esize=%{marker.size}\\u003cbr\\u003einfer_img_size=%{customdata[0]}\\u003cextra\\u003e\\u003c\\u002fextra\\u003e\",\"hovertext\":[\"convnext_atto\",\"convnext_atto\",\"convnext_atto_ols\",\"convnext_atto_ols\",\"convnext_femto\",\"convnext_femto\",\"convnext_femto_ols\",\"convnext_femto_ols\",\"convnext_pico\",\"convnext_pico\",\"convnext_pico_ols\",\"convnext_pico_ols\",\"convnext_nano\",\"convnext_nano\",\"convnext_nano\",\"convnext_nano\",\"convnext_nano_ols\",\"convnext_nano_ols\",\"convnext_tiny_hnf\",\"convnext_tiny_hnf\",\"convnext_tiny\",\"convnext_tiny\",\"convnext_tiny\",\"convnext_tiny\",\"convnext_tiny\",\"convnext_tiny\",\"convnext_tiny\",\"convnext_tiny\",\"convnext_small\",\"convnext_small\",\"convnext_small\",\"convnext_small\",\"convnext_small\",\"convnext_small\",\"convnext_small\",\"convnext_small\",\"convnext_base\",\"convnext_base\",\"convnext_base\",\"convnext_base\",\"convnext_base\",\"convnext_base\",\"convnext_base\",\"convnext_base\",\"convnext_base\",\"convnext_large\",\"convnext_large\",\"convnext_large\",\"convnext_large\",\"convnext_large\",\"convnext_xlarge\",\"convnext_xlarge\",\"convnext_xlarge\",\"convnext_xxlarge\"],\"legendgroup\":\"convnext\",\"marker\":{\"color\":\"#FECB52\",\"size\":[82944,82944,82944,82944,82944,82944,82944,82944,82944,82944,82944,82944,82944,82944,82944,82944,82944,82944,82944,82944,82944,82944,82944,82944,82944,82944,82944,82944,82944,82944,82944,82944,82944,82944,82944,82944,82944,82944,82944,82944,82944,82944,82944,82944,82944,82944,82944,82944,82944,82944,82944,82944,82944,50176],\"sizemode\":\"area\",\"sizeref\":655.36,\"symbol\":\"circle\"},\"mode\":\"markers\",\"name\":\"convnext\",\"orientation\":\"v\",\"showlegend\":true,\"x\":[0.00018313207118709872,0.00018313207118709872,0.00018907380306828968,0.00018907380306828968,0.00021056532578667207,0.00021056532578667207,0.00021652848540489744,0.00021652848540489744,0.0002668452751041364,0.0002668452751041364,0.0002738720579294177,0.0002738720579294177,0.0003828806407890404,0.0003828806407890404,0.0003828806407890404,0.0003828806407890404,0.0004106776180698152,0.0004106776180698152,0.0005966017563955708,0.0005966017563955708,0.0006089614770969588,0.0006089614770969588,0.0006089614770969588,0.0006089614770969588,0.0006089614770969588,0.0006089614770969588,0.0006089614770969588,0.0006089614770969588,0.0010118385105737126,0.0010118385105737126,0.0010118385105737126,0.0010118385105737126,0.0010118385105737126,0.0010118385105737126,0.0010118385105737126,0.0010118385105737126,0.0014553075064761185,0.0014553075064761185,0.0014553075064761185,0.0014553075064761185,0.0014553075064761185,0.0014553075064761185,0.0014553075064761185,0.0014553075064761185,0.0014553075064761185,0.002680821403678087,0.002680821403678087,0.002680821403678087,0.002680821403678087,0.002680821403678087,0.004121501875283353,0.004121501875283353,0.004121501875283353,0.005444250871080139],\"xaxis\":\"x\",\"y\":[77.014,75.668,77.22,75.902,78.71,77.508,78.914,77.844,80.43,79.516,80.458,79.542,82.882,82.306,81.474,80.762,81.612,80.906,82.608,82.23,85.154,84.448,84.192,84.098,82.888,82.694,82.066,78.95,86.186,85.754,85.324,85.276,85.164,84.582,83.704,83.144,87.15,86.826,86.488,86.386,86.298,86.184,85.816,84.466,83.834,87.456,87.014,86.612,84.862,84.298,87.766,87.374,86.97,88.622],\"yaxis\":\"y\",\"type\":\"scatter\"},{\"customdata\":[[224],[224],[224],[224],[224],[224],[224],[224]],\"hovertemplate\":\"\\u003cb\\u003e%{hovertext}\\u003c\\u002fb\\u003e\\u003cbr\\u003e\\u003cbr\\u003efamily=repvgg\\u003cbr\\u003esecs=%{x}\\u003cbr\\u003etop1=%{y}\\u003cbr\\u003esize=%{marker.size}\\u003cbr\\u003einfer_img_size=%{customdata[0]}\\u003cextra\\u003e\\u003c\\u002fextra\\u003e\",\"hovertext\":[\"repvgg_b0\",\"repvgg_a2\",\"repvgg_b1g4\",\"repvgg_b1\",\"repvgg_b2\",\"repvgg_b3\",\"repvgg_b2g4\",\"repvgg_b3g4\"],\"legendgroup\":\"repvgg\",\"marker\":{\"color\":\"#636efa\",\"size\":[50176,50176,50176,50176,50176,50176,50176,50176],\"sizemode\":\"area\",\"sizeref\":655.36,\"symbol\":\"circle\"},\"mode\":\"markers\",\"name\":\"repvgg\",\"orientation\":\"v\",\"showlegend\":true,\"x\":[0.00019037973141227492,0.0002507623174450329,0.00040431157867499006,0.0005036717671827623,0.0007661543647814161,0.001005803486114883,0.0010111530177861815,0.001245562682942019],\"xaxis\":\"x\",\"y\":[75.162,76.492,77.602,78.372,78.794,80.518,79.396,80.248],\"yaxis\":\"y\",\"type\":\"scatter\"},{\"customdata\":[[224],[224],[224]],\"hovertemplate\":\"\\u003cb\\u003e%{hovertext}\\u003c\\u002fb\\u003e\\u003cbr\\u003e\\u003cbr\\u003efamily=efficientformer\\u003cbr\\u003esecs=%{x}\\u003cbr\\u003etop1=%{y}\\u003cbr\\u003esize=%{marker.size}\\u003cbr\\u003einfer_img_size=%{customdata[0]}\\u003cextra\\u003e\\u003c\\u002fextra\\u003e\",\"hovertext\":[\"efficientformer_l1\",\"efficientformer_l3\",\"efficientformer_l7\"],\"legendgroup\":\"efficientformer\",\"marker\":{\"color\":\"#EF553B\",\"size\":[50176,50176,50176],\"sizemode\":\"area\",\"sizeref\":655.36,\"symbol\":\"circle\"},\"mode\":\"markers\",\"name\":\"efficientformer\",\"orientation\":\"v\",\"showlegend\":true,\"x\":[0.00021900335951153488,0.0004897663324827725,0.0010389070697626097],\"xaxis\":\"x\",\"y\":[80.502,82.564,83.386],\"yaxis\":\"y\",\"type\":\"scatter\"},{\"customdata\":[[240],[240],[240],[240],[240],[240],[240],[240],[240],[408],[408]],\"hovertemplate\":\"\\u003cb\\u003e%{hovertext}\\u003c\\u002fb\\u003e\\u003cbr\\u003e\\u003cbr\\u003efamily=crossvit\\u003cbr\\u003esecs=%{x}\\u003cbr\\u003etop1=%{y}\\u003cbr\\u003esize=%{marker.size}\\u003cbr\\u003einfer_img_size=%{customdata[0]}\\u003cextra\\u003e\\u003c\\u002fextra\\u003e\",\"hovertext\":[\"crossvit_tiny_240\",\"crossvit_9_240\",\"crossvit_9_dagger_240\",\"crossvit_small_240\",\"crossvit_15_240\",\"crossvit_15_dagger_240\",\"crossvit_18_240\",\"crossvit_18_dagger_240\",\"crossvit_base_240\",\"crossvit_15_dagger_408\",\"crossvit_18_dagger_408\"],\"legendgroup\":\"crossvit\",\"marker\":{\"color\":\"#00cc96\",\"size\":[57600,57600,57600,57600,57600,57600,57600,57600,57600,166464,166464],\"sizemode\":\"area\",\"sizeref\":655.36,\"symbol\":\"circle\"},\"mode\":\"markers\",\"name\":\"crossvit\",\"orientation\":\"v\",\"showlegend\":true,\"x\":[0.00022313011386329711,0.0002373960502045167,0.0002441984552005724,0.00048042277203939464,0.000528412753770225,0.0005403390086940546,0.0007413722800904475,0.0007611624472895006,0.0011912845621433593,0.0025593775593775593,0.00350655726208009],\"xaxis\":\"x\",\"y\":[73.33,73.976,76.986,81.04,81.518,82.306,82.386,82.504,82.228,83.84,84.202],\"yaxis\":\"y\",\"type\":\"scatter\"},{\"customdata\":[[224],[224],[224],[224]],\"hovertemplate\":\"\\u003cb\\u003e%{hovertext}\\u003c\\u002fb\\u003e\\u003cbr\\u003e\\u003cbr\\u003efamily=resnetv2\\u003cbr\\u003esecs=%{x}\\u003cbr\\u003etop1=%{y}\\u003cbr\\u003esize=%{marker.size}\\u003cbr\\u003einfer_img_size=%{customdata[0]}\\u003cextra\\u003e\\u003c\\u002fextra\\u003e\",\"hovertext\":[\"resnetv2_50\",\"resnetv2_50\",\"resnetv2_101\",\"resnetv2_101\"],\"legendgroup\":\"resnetv2\",\"marker\":{\"color\":\"#ab63fa\",\"size\":[50176,50176,50176,50176],\"sizemode\":\"area\",\"sizeref\":655.36,\"symbol\":\"circle\"},\"mode\":\"markers\",\"name\":\"resnetv2\",\"orientation\":\"v\",\"showlegend\":true,\"x\":[0.0002586994145632249,0.0002586994145632249,0.0004290740581824423,0.0004290740581824423],\"xaxis\":\"x\",\"y\":[81.408,80.406,83.002,82.042],\"yaxis\":\"y\",\"type\":\"scatter\"},{\"customdata\":[[224],[224],[224]],\"hovertemplate\":\"\\u003cb\\u003e%{hovertext}\\u003c\\u002fb\\u003e\\u003cbr\\u003e\\u003cbr\\u003efamily=convit\\u003cbr\\u003esecs=%{x}\\u003cbr\\u003etop1=%{y}\\u003cbr\\u003esize=%{marker.size}\\u003cbr\\u003einfer_img_size=%{customdata[0]}\\u003cextra\\u003e\\u003c\\u002fextra\\u003e\",\"hovertext\":[\"convit_tiny\",\"convit_small\",\"convit_base\"],\"legendgroup\":\"convit\",\"marker\":{\"color\":\"#FFA15A\",\"size\":[50176,50176,50176],\"sizemode\":\"area\",\"sizeref\":655.36,\"symbol\":\"circle\"},\"mode\":\"markers\",\"name\":\"convit\",\"orientation\":\"v\",\"showlegend\":true,\"x\":[0.00029415138795332407,0.0006860875173237098,0.001367820651356194],\"xaxis\":\"x\",\"y\":[73.126,81.414,82.294],\"yaxis\":\"y\",\"type\":\"scatter\"},{\"customdata\":[[288],[288],[288],[288],[288],[288],[288],[288],[288],[288],[288],[288],[288],[288],[288],[288],[288],[288],[288],[288],[288],[288],[288],[288],[288],[288],[384],[384],[384],[384]],\"hovertemplate\":\"\\u003cb\\u003e%{hovertext}\\u003c\\u002fb\\u003e\\u003cbr\\u003e\\u003cbr\\u003efamily=convnextv2\\u003cbr\\u003esecs=%{x}\\u003cbr\\u003etop1=%{y}\\u003cbr\\u003esize=%{marker.size}\\u003cbr\\u003einfer_img_size=%{customdata[0]}\\u003cextra\\u003e\\u003c\\u002fextra\\u003e\",\"hovertext\":[\"convnextv2_atto\",\"convnextv2_atto\",\"convnextv2_femto\",\"convnextv2_femto\",\"convnextv2_pico\",\"convnextv2_pico\",\"convnextv2_nano\",\"convnextv2_nano\",\"convnextv2_nano\",\"convnextv2_nano\",\"convnextv2_nano\",\"convnextv2_tiny\",\"convnextv2_tiny\",\"convnextv2_tiny\",\"convnextv2_tiny\",\"convnextv2_tiny\",\"convnextv2_base\",\"convnextv2_base\",\"convnextv2_base\",\"convnextv2_base\",\"convnextv2_base\",\"convnextv2_large\",\"convnextv2_large\",\"convnextv2_large\",\"convnextv2_large\",\"convnextv2_large\",\"convnextv2_huge\",\"convnextv2_huge\",\"convnextv2_huge\",\"convnextv2_huge\"],\"legendgroup\":\"convnextv2\",\"marker\":{\"color\":\"#19d3f3\",\"size\":[82944,82944,82944,82944,82944,82944,82944,82944,82944,82944,82944,82944,82944,82944,82944,82944,82944,82944,82944,82944,82944,82944,82944,82944,82944,82944,147456,147456,147456,147456],\"sizemode\":\"area\",\"sizeref\":655.36,\"symbol\":\"circle\"},\"mode\":\"markers\",\"name\":\"convnextv2\",\"orientation\":\"v\",\"showlegend\":true,\"x\":[0.0003128196625927119,0.0003128196625927119,0.0003655090993490283,0.0003655090993490283,0.00047427080863172874,0.00047427080863172874,0.000666351260403409,0.000666351260403409,0.000666351260403409,0.000666351260403409,0.000666351260403409,0.0010743215659311145,0.0010743215659311145,0.0010743215659311145,0.0010743215659311145,0.0010743215659311145,0.002477762085284571,0.002477762085284571,0.002477762085284571,0.002477762085284571,0.002477762085284571,0.0041750167000668,0.0041750167000668,0.0041750167000668,0.0041750167000668,0.0041750167000668,0.01775883502042266,0.01775883502042266,0.01775883502042266,0.01775883502042266],\"xaxis\":\"x\",\"y\":[77.79,76.646,79.332,78.484,81.056,80.304,83.362,82.666,82.496,82.038,81.856,85.106,84.422,83.904,83.476,82.948,87.638,86.998,86.752,85.49,84.888,88.178,87.494,87.264,86.126,85.762,88.86,88.662,86.618,86.26],\"yaxis\":\"y\",\"type\":\"scatter\"},{\"customdata\":[[224],[224],[224],[224]],\"hovertemplate\":\"\\u003cb\\u003e%{hovertext}\\u003c\\u002fb\\u003e\\u003cbr\\u003e\\u003cbr\\u003efamily=resnetaad\\u003cbr\\u003esecs=%{x}\\u003cbr\\u003etop1=%{y}\\u003cbr\\u003esize=%{marker.size}\\u003cbr\\u003einfer_img_size=%{customdata[0]}\\u003cextra\\u003e\\u003c\\u002fextra\\u003e\",\"hovertext\":[\"resnetaa50d\",\"resnetaa50d\",\"resnetaa101d\",\"resnetaa101d\"],\"legendgroup\":\"resnetaad\",\"marker\":{\"color\":\"#FF6692\",\"size\":[50176,50176,50176,50176],\"sizemode\":\"area\",\"sizeref\":655.36,\"symbol\":\"circle\"},\"mode\":\"markers\",\"name\":\"resnetaad\",\"orientation\":\"v\",\"showlegend\":true,\"x\":[0.00033410958126046177,0.00033410958126046177,0.0005042915208423685,0.0005042915208423685],\"xaxis\":\"x\",\"y\":[82.644,81.782,84.102,83.544],\"yaxis\":\"y\",\"type\":\"scatter\"},{\"customdata\":[[224],[224],[224],[224],[224],[224],[224],[224]],\"hovertemplate\":\"\\u003cb\\u003e%{hovertext}\\u003c\\u002fb\\u003e\\u003cbr\\u003e\\u003cbr\\u003efamily=vgg\\u003cbr\\u003esecs=%{x}\\u003cbr\\u003etop1=%{y}\\u003cbr\\u003esize=%{marker.size}\\u003cbr\\u003einfer_img_size=%{customdata[0]}\\u003cextra\\u003e\\u003c\\u002fextra\\u003e\",\"hovertext\":[\"vgg11\",\"vgg11_bn\",\"vgg13\",\"vgg13_bn\",\"vgg16\",\"vgg16_bn\",\"vgg19\",\"vgg19_bn\"],\"legendgroup\":\"vgg\",\"marker\":{\"color\":\"#B6E880\",\"size\":[50176,50176,50176,50176,50176,50176,50176,50176],\"sizemode\":\"area\",\"sizeref\":655.36,\"symbol\":\"circle\"},\"mode\":\"markers\",\"name\":\"vgg\",\"orientation\":\"v\",\"showlegend\":true,\"x\":[0.00033518017610366456,0.0003622689629688666,0.00046517902414744313,0.0005319941267848403,0.0005822619713061301,0.0006562282624388067,0.0007175093814351623,0.0008022334178352533],\"xaxis\":\"x\",\"y\":[69.048,70.384,69.94,71.556,71.6,73.356,72.4,74.236],\"yaxis\":\"y\",\"type\":\"scatter\"},{\"customdata\":[[224],[224],[288],[288],[320],[320],[320],[320],[352],[352],[384],[384],[416],[416]],\"hovertemplate\":\"\\u003cb\\u003e%{hovertext}\\u003c\\u002fb\\u003e\\u003cbr\\u003e\\u003cbr\\u003efamily=resnetrs\\u003cbr\\u003esecs=%{x}\\u003cbr\\u003etop1=%{y}\\u003cbr\\u003esize=%{marker.size}\\u003cbr\\u003einfer_img_size=%{customdata[0]}\\u003cextra\\u003e\\u003c\\u002fextra\\u003e\",\"hovertext\":[\"resnetrs50\",\"resnetrs50\",\"resnetrs101\",\"resnetrs101\",\"resnetrs152\",\"resnetrs152\",\"resnetrs200\",\"resnetrs200\",\"resnetrs270\",\"resnetrs270\",\"resnetrs350\",\"resnetrs350\",\"resnetrs420\",\"resnetrs420\"],\"legendgroup\":\"resnetrs\",\"marker\":{\"color\":\"#FF97FF\",\"size\":[50176,50176,82944,82944,102400,102400,102400,102400,123904,123904,147456,147456,173056,173056],\"sizemode\":\"area\",\"sizeref\":655.36,\"symbol\":\"circle\"},\"mode\":\"markers\",\"name\":\"resnetrs\",\"orientation\":\"v\",\"showlegend\":true,\"x\":[0.0003374479486539201,0.0003374479486539201,0.0008813135096547894,0.0008813135096547894,0.0015385798907608277,0.0015385798907608277,0.002120081411126187,0.002120081411126187,0.0033673435027107112,0.0033673435027107112,0.005097099750242112,0.005097099750242112,0.007023951675212474,0.007023951675212474],\"xaxis\":\"x\",\"y\":[79.916,77.85,82.294,80.71,83.71,82.886,84.446,83.886,84.44,83.594,84.722,84.308,85.014,84.25],\"yaxis\":\"y\",\"type\":\"scatter\"},{\"customdata\":[[240],[240],[240],[240],[240],[240],[240],[240],[240]],\"hovertemplate\":\"\\u003cb\\u003e%{hovertext}\\u003c\\u002fb\\u003e\\u003cbr\\u003e\\u003cbr\\u003efamily=flexivit\\u003cbr\\u003esecs=%{x}\\u003cbr\\u003etop1=%{y}\\u003cbr\\u003esize=%{marker.size}\\u003cbr\\u003einfer_img_size=%{customdata[0]}\\u003cextra\\u003e\\u003c\\u002fextra\\u003e\",\"hovertext\":[\"flexivit_small\",\"flexivit_small\",\"flexivit_small\",\"flexivit_base\",\"flexivit_base\",\"flexivit_base\",\"flexivit_large\",\"flexivit_large\",\"flexivit_large\"],\"legendgroup\":\"flexivit\",\"marker\":{\"color\":\"#FECB52\",\"size\":[57600,57600,57600,57600,57600,57600,57600,57600,57600],\"sizemode\":\"area\",\"sizeref\":655.36,\"symbol\":\"circle\"},\"mode\":\"markers\",\"name\":\"flexivit\",\"orientation\":\"v\",\"showlegend\":true,\"x\":[0.00036552646777153133,0.00036552646777153133,0.00036552646777153133,0.0009641249120236017,0.0009641249120236017,0.0009641249120236017,0.002981959147159684,0.002981959147159684,0.002981959147159684],\"xaxis\":\"x\",\"y\":[82.592,82.392,82.17,84.688,84.56,84.402,85.644,85.53,85.282],\"yaxis\":\"y\",\"type\":\"scatter\"},{\"customdata\":[[224],[224]],\"hovertemplate\":\"\\u003cb\\u003e%{hovertext}\\u003c\\u002fb\\u003e\\u003cbr\\u003e\\u003cbr\\u003efamily=resnetblur\\u003cbr\\u003esecs=%{x}\\u003cbr\\u003etop1=%{y}\\u003cbr\\u003esize=%{marker.size}\\u003cbr\\u003einfer_img_size=%{customdata[0]}\\u003cextra\\u003e\\u003c\\u002fextra\\u003e\",\"hovertext\":[\"resnetblur50\",\"resnetblur50\"],\"legendgroup\":\"resnetblur\",\"marker\":{\"color\":\"#636efa\",\"size\":[50176,50176],\"sizemode\":\"area\",\"sizeref\":655.36,\"symbol\":\"circle\"},\"mode\":\"markers\",\"name\":\"resnetblur\",\"orientation\":\"v\",\"showlegend\":true,\"x\":[0.0003723049773452422,0.0003723049773452422],\"xaxis\":\"x\",\"y\":[80.248,79.306],\"yaxis\":\"y\",\"type\":\"scatter\"},{\"customdata\":[[288],[288],[320],[320],[320],[320],[320],[320],[320],[320],[320],[320],[320],[320],[320],[320]],\"hovertemplate\":\"\\u003cb\\u003e%{hovertext}\\u003c\\u002fb\\u003e\\u003cbr\\u003e\\u003cbr\\u003efamily=regnetz\\u003cbr\\u003esecs=%{x}\\u003cbr\\u003etop1=%{y}\\u003cbr\\u003esize=%{marker.size}\\u003cbr\\u003einfer_img_size=%{customdata[0]}\\u003cextra\\u003e\\u003c\\u002fextra\\u003e\",\"hovertext\":[\"regnetz_b16\",\"regnetz_b16\",\"regnetz_c16\",\"regnetz_c16\",\"regnetz_d32\",\"regnetz_d32\",\"regnetz_d8\",\"regnetz_d8\",\"regnetz_040\",\"regnetz_040\",\"regnetz_e8\",\"regnetz_e8\",\"regnetz_c16_evos\",\"regnetz_c16_evos\",\"regnetz_d8_evos\",\"regnetz_d8_evos\"],\"legendgroup\":\"regnetz\",\"marker\":{\"color\":\"#EF553B\",\"size\":[82944,82944,102400,102400,102400,102400,102400,102400,102400,102400,102400,102400,102400,102400,102400,102400],\"sizemode\":\"area\",\"sizeref\":655.36,\"symbol\":\"circle\"},\"mode\":\"markers\",\"name\":\"regnetz\",\"orientation\":\"v\",\"showlegend\":true,\"x\":[0.00038070437924247444,0.00038070437924247444,0.0005844911128126296,0.0005844911128126296,0.0008173206594143081,0.0008173206594143081,0.0008593723144615172,0.0008593723144615172,0.001024831671397973,0.001024831671397973,0.001563892842062462,0.001563892842062462,0.001675238302648552,0.001675238302648552,0.0025355612464819086,0.0025355612464819086],\"xaxis\":\"x\",\"y\":[80.738,79.874,82.66,82.16,84.028,83.428,84.042,83.548,84.256,83.66,85.04,84.418,82.644,81.942,84.152,83.394],\"yaxis\":\"y\",\"type\":\"scatter\"},{\"customdata\":[[288],[288],[384],[384],[416],[416]],\"hovertemplate\":\"\\u003cb\\u003e%{hovertext}\\u003c\\u002fb\\u003e\\u003cbr\\u003e\\u003cbr\\u003efamily=efficientnetv2\\u003cbr\\u003esecs=%{x}\\u003cbr\\u003etop1=%{y}\\u003cbr\\u003esize=%{marker.size}\\u003cbr\\u003einfer_img_size=%{customdata[0]}\\u003cextra\\u003e\\u003c\\u002fextra\\u003e\",\"hovertext\":[\"efficientnetv2_rw_t\",\"efficientnetv2_rw_t\",\"efficientnetv2_rw_s\",\"efficientnetv2_rw_s\",\"efficientnetv2_rw_m\",\"efficientnetv2_rw_m\"],\"legendgroup\":\"efficientnetv2\",\"marker\":{\"color\":\"#00cc96\",\"size\":[82944,82944,147456,147456,173056,173056],\"sizemode\":\"area\",\"sizeref\":655.36,\"symbol\":\"circle\"},\"mode\":\"markers\",\"name\":\"efficientnetv2\",\"orientation\":\"v\",\"showlegend\":true,\"x\":[0.0003843950966561471,0.0003843950966561471,0.0008334236208922634,0.0008334236208922634,0.0018403666010269246,0.0018403666010269246],\"xaxis\":\"x\",\"y\":[82.354,81.372,83.83,82.888,84.824,84.294],\"yaxis\":\"y\",\"type\":\"scatter\"},{\"customdata\":[[224],[224],[224],[224],[224]],\"hovertemplate\":\"\\u003cb\\u003e%{hovertext}\\u003c\\u002fb\\u003e\\u003cbr\\u003e\\u003cbr\\u003efamily=gcvit\\u003cbr\\u003esecs=%{x}\\u003cbr\\u003etop1=%{y}\\u003cbr\\u003esize=%{marker.size}\\u003cbr\\u003einfer_img_size=%{customdata[0]}\\u003cextra\\u003e\\u003c\\u002fextra\\u003e\",\"hovertext\":[\"gcvit_xxtiny\",\"gcvit_xtiny\",\"gcvit_tiny\",\"gcvit_small\",\"gcvit_base\"],\"legendgroup\":\"gcvit\",\"marker\":{\"color\":\"#ab63fa\",\"size\":[50176,50176,50176,50176,50176],\"sizemode\":\"area\",\"sizeref\":655.36,\"symbol\":\"circle\"},\"mode\":\"markers\",\"name\":\"gcvit\",\"orientation\":\"v\",\"showlegend\":true,\"x\":[0.0003904099695089814,0.0005076966816944885,0.0007464636285596984,0.0012266326480545606,0.0016599714484910862],\"xaxis\":\"x\",\"y\":[79.75,81.968,83.4,83.908,84.454],\"yaxis\":\"y\",\"type\":\"scatter\"},{\"customdata\":[[256],[256],[256],[224],[224],[256],[224],[224],[224],[224],[384],[224],[384],[512],[384],[384],[384],[512],[384],[384],[512],[512],[384],[512],[512],[512]],\"hovertemplate\":\"\\u003cb\\u003e%{hovertext}\\u003c\\u002fb\\u003e\\u003cbr\\u003e\\u003cbr\\u003efamily=maxvit\\u003cbr\\u003esecs=%{x}\\u003cbr\\u003etop1=%{y}\\u003cbr\\u003esize=%{marker.size}\\u003cbr\\u003einfer_img_size=%{customdata[0]}\\u003cextra\\u003e\\u003c\\u002fextra\\u003e\",\"hovertext\":[\"maxvit_rmlp_pico_rw_256\",\"maxvit_rmlp_nano_rw_256\",\"maxvit_nano_rw_256\",\"maxvit_tiny_rw_224\",\"maxvit_tiny_tf_224\",\"maxvit_rmlp_tiny_rw_256\",\"maxvit_rmlp_small_rw_224\",\"maxvit_small_tf_224\",\"maxvit_rmlp_base_rw_224\",\"maxvit_base_tf_224\",\"maxvit_tiny_tf_384\",\"maxvit_large_tf_224\",\"maxvit_small_tf_384\",\"maxvit_tiny_tf_512\",\"maxvit_rmlp_base_rw_384\",\"maxvit_base_tf_384\",\"maxvit_base_tf_384\",\"maxvit_small_tf_512\",\"maxvit_large_tf_384\",\"maxvit_large_tf_384\",\"maxvit_base_tf_512\",\"maxvit_base_tf_512\",\"maxvit_xlarge_tf_384\",\"maxvit_large_tf_512\",\"maxvit_large_tf_512\",\"maxvit_xlarge_tf_512\"],\"legendgroup\":\"maxvit\",\"marker\":{\"color\":\"#FFA15A\",\"size\":[65536,65536,65536,50176,50176,65536,50176,50176,50176,50176,147456,50176,147456,262144,147456,147456,147456,262144,147456,147456,262144,262144,147456,262144,262144,262144],\"sizemode\":\"area\",\"sizeref\":655.36,\"symbol\":\"circle\"},\"mode\":\"markers\",\"name\":\"maxvit\",\"orientation\":\"v\",\"showlegend\":true,\"x\":[0.0004978145939326358,0.0006443921770789703,0.0006590089822924286,0.0007404939094375948,0.0008331250520703158,0.0009715812484819043,0.0012249797878335006,0.001286935035519407,0.0021183747828665846,0.002325311010347634,0.0029068922415046074,0.0033175198221809376,0.004464086424713183,0.0061079892499389206,0.007598784194528876,0.008164598301763554,0.008164598301763554,0.009361542782250515,0.01156871818602499,0.01156871818602499,0.017283097131005877,0.017283097131005877,0.019700551615445233,0.02436647173489279,0.02436647173489279,0.04101722723543889],\"xaxis\":\"x\",\"y\":[80.55,82.98,82.942,83.522,83.422,84.234,84.484,84.456,86.908,84.87,85.102,84.934,85.534,85.66,87.812,87.928,86.294,86.104,87.996,86.236,88.212,86.598,88.304,88.236,86.534,88.54],\"yaxis\":\"y\",\"type\":\"scatter\"},{\"customdata\":[[288],[288]],\"hovertemplate\":\"\\u003cb\\u003e%{hovertext}\\u003c\\u002fb\\u003e\\u003cbr\\u003e\\u003cbr\\u003efamily=resnetaa\\u003cbr\\u003esecs=%{x}\\u003cbr\\u003etop1=%{y}\\u003cbr\\u003esize=%{marker.size}\\u003cbr\\u003einfer_img_size=%{customdata[0]}\\u003cextra\\u003e\\u003c\\u002fextra\\u003e\",\"hovertext\":[\"resnetaa50\",\"resnetaa50\"],\"legendgroup\":\"resnetaa\",\"marker\":{\"color\":\"#19d3f3\",\"size\":[82944,82944],\"sizemode\":\"area\",\"sizeref\":655.36,\"symbol\":\"circle\"},\"mode\":\"markers\",\"name\":\"resnetaa\",\"orientation\":\"v\",\"showlegend\":true,\"x\":[0.000510686106784465,0.000510686106784465],\"xaxis\":\"x\",\"y\":[81.604,80.614],\"yaxis\":\"y\",\"type\":\"scatter\"},{\"customdata\":[[288],[288],[288],[288]],\"hovertemplate\":\"\\u003cb\\u003e%{hovertext}\\u003c\\u002fb\\u003e\\u003cbr\\u003e\\u003cbr\\u003efamily=regnetv\\u003cbr\\u003esecs=%{x}\\u003cbr\\u003etop1=%{y}\\u003cbr\\u003esize=%{marker.size}\\u003cbr\\u003einfer_img_size=%{customdata[0]}\\u003cextra\\u003e\\u003c\\u002fextra\\u003e\",\"hovertext\":[\"regnetv_040\",\"regnetv_040\",\"regnetv_064\",\"regnetv_064\"],\"legendgroup\":\"regnetv\",\"marker\":{\"color\":\"#FF6692\",\"size\":[82944,82944,82944,82944],\"sizemode\":\"area\",\"sizeref\":655.36,\"symbol\":\"circle\"},\"mode\":\"markers\",\"name\":\"regnetv\",\"orientation\":\"v\",\"showlegend\":true,\"x\":[0.0005942053098186485,0.0005942053098186485,0.0015323322096230463,0.0015323322096230463],\"xaxis\":\"x\",\"y\":[83.2,82.448,83.748,83.118],\"yaxis\":\"y\",\"type\":\"scatter\"},{\"customdata\":[[224],[224],[224],[224]],\"hovertemplate\":\"\\u003cb\\u003e%{hovertext}\\u003c\\u002fb\\u003e\\u003cbr\\u003e\\u003cbr\\u003efamily=mvitv2\\u003cbr\\u003esecs=%{x}\\u003cbr\\u003etop1=%{y}\\u003cbr\\u003esize=%{marker.size}\\u003cbr\\u003einfer_img_size=%{customdata[0]}\\u003cextra\\u003e\\u003c\\u002fextra\\u003e\",\"hovertext\":[\"mvitv2_tiny\",\"mvitv2_small\",\"mvitv2_base\",\"mvitv2_large\"],\"legendgroup\":\"mvitv2\",\"marker\":{\"color\":\"#B6E880\",\"size\":[50176,50176,50176,50176],\"sizemode\":\"area\",\"sizeref\":655.36,\"symbol\":\"circle\"},\"mode\":\"markers\",\"name\":\"mvitv2\",\"orientation\":\"v\",\"showlegend\":true,\"x\":[0.0006503895833604329,0.0008719003940989781,0.0012435645534359689,0.004000160006400256],\"xaxis\":\"x\",\"y\":[82.408,83.772,84.438,85.264],\"yaxis\":\"y\",\"type\":\"scatter\"},{\"customdata\":[[256],[256]],\"hovertemplate\":\"\\u003cb\\u003e%{hovertext}\\u003c\\u002fb\\u003e\\u003cbr\\u003e\\u003cbr\\u003efamily=maxxvit\\u003cbr\\u003esecs=%{x}\\u003cbr\\u003etop1=%{y}\\u003cbr\\u003esize=%{marker.size}\\u003cbr\\u003einfer_img_size=%{customdata[0]}\\u003cextra\\u003e\\u003c\\u002fextra\\u003e\",\"hovertext\":[\"maxxvit_rmlp_nano_rw_256\",\"maxxvit_rmlp_small_rw_256\"],\"legendgroup\":\"maxxvit\",\"marker\":{\"color\":\"#FF97FF\",\"size\":[65536,65536],\"sizemode\":\"area\",\"sizeref\":655.36,\"symbol\":\"circle\"},\"mode\":\"markers\",\"name\":\"maxxvit\",\"orientation\":\"v\",\"showlegend\":true,\"x\":[0.0007419883804619619,0.0016943983191568676],\"xaxis\":\"x\",\"y\":[83.026,84.64],\"yaxis\":\"y\",\"type\":\"scatter\"},{\"customdata\":[[256],[224],[384]],\"hovertemplate\":\"\\u003cb\\u003e%{hovertext}\\u003c\\u002fb\\u003e\\u003cbr\\u003e\\u003cbr\\u003efamily=maxxvitv2\\u003cbr\\u003esecs=%{x}\\u003cbr\\u003etop1=%{y}\\u003cbr\\u003esize=%{marker.size}\\u003cbr\\u003einfer_img_size=%{customdata[0]}\\u003cextra\\u003e\\u003c\\u002fextra\\u003e\",\"hovertext\":[\"maxxvitv2_nano_rw_256\",\"maxxvitv2_rmlp_base_rw_224\",\"maxxvitv2_rmlp_base_rw_384\"],\"legendgroup\":\"maxxvitv2\",\"marker\":{\"color\":\"#FECB52\",\"size\":[65536,50176,147456],\"sizemode\":\"area\",\"sizeref\":655.36,\"symbol\":\"circle\"},\"mode\":\"markers\",\"name\":\"maxxvitv2\",\"orientation\":\"v\",\"showlegend\":true,\"x\":[0.0007938398031277288,0.0019021532374648101,0.00649772579597141],\"xaxis\":\"x\",\"y\":[83.104,86.638,87.478],\"yaxis\":\"y\",\"type\":\"scatter\"},{\"customdata\":[[224],[224],[384],[384],[512]],\"hovertemplate\":\"\\u003cb\\u003e%{hovertext}\\u003c\\u002fb\\u003e\\u003cbr\\u003e\\u003cbr\\u003efamily=beit\\u003cbr\\u003esecs=%{x}\\u003cbr\\u003etop1=%{y}\\u003cbr\\u003esize=%{marker.size}\\u003cbr\\u003einfer_img_size=%{customdata[0]}\\u003cextra\\u003e\\u003c\\u002fextra\\u003e\",\"hovertext\":[\"beit_base_patch16_224\",\"beit_large_patch16_224\",\"beit_base_patch16_384\",\"beit_large_patch16_384\",\"beit_large_patch16_512\"],\"legendgroup\":\"beit\",\"marker\":{\"color\":\"#636efa\",\"size\":[50176,50176,147456,147456,262144],\"sizemode\":\"area\",\"sizeref\":655.36,\"symbol\":\"circle\"},\"mode\":\"markers\",\"name\":\"beit\",\"orientation\":\"v\",\"showlegend\":true,\"x\":[0.0008990703612464712,0.0027730020520215183,0.003827458185019329,0.011291779584462511,0.028304557033682426],\"xaxis\":\"x\",\"y\":[85.244,87.488,86.816,88.382,88.578],\"yaxis\":\"y\",\"type\":\"scatter\"},{\"customdata\":[[224],[224],[224],[224]],\"hovertemplate\":\"\\u003cb\\u003e%{hovertext}\\u003c\\u002fb\\u003e\\u003cbr\\u003e\\u003cbr\\u003efamily=beitv2\\u003cbr\\u003esecs=%{x}\\u003cbr\\u003etop1=%{y}\\u003cbr\\u003esize=%{marker.size}\\u003cbr\\u003einfer_img_size=%{customdata[0]}\\u003cextra\\u003e\\u003c\\u002fextra\\u003e\",\"hovertext\":[\"beitv2_base_patch16_224\",\"beitv2_base_patch16_224\",\"beitv2_large_patch16_224\",\"beitv2_large_patch16_224\"],\"legendgroup\":\"beitv2\",\"marker\":{\"color\":\"#EF553B\",\"size\":[50176,50176,50176,50176],\"sizemode\":\"area\",\"sizeref\":655.36,\"symbol\":\"circle\"},\"mode\":\"markers\",\"name\":\"beitv2\",\"orientation\":\"v\",\"showlegend\":true,\"x\":[0.0009020792927698345,0.0009020792927698345,0.002773309667757502,0.002773309667757502],\"xaxis\":\"x\",\"y\":[86.494,85.596,88.406,87.414],\"yaxis\":\"y\",\"type\":\"scatter\"},{\"customdata\":[[288],[288]],\"hovertemplate\":\"\\u003cb\\u003e%{hovertext}\\u003c\\u002fb\\u003e\\u003cbr\\u003e\\u003cbr\\u003efamily=resnetv2d\\u003cbr\\u003esecs=%{x}\\u003cbr\\u003etop1=%{y}\\u003cbr\\u003esize=%{marker.size}\\u003cbr\\u003einfer_img_size=%{customdata[0]}\\u003cextra\\u003e\\u003c\\u002fextra\\u003e\",\"hovertext\":[\"resnetv2_50d_evos\",\"resnetv2_50d_evos\"],\"legendgroup\":\"resnetv2d\",\"marker\":{\"color\":\"#00cc96\",\"size\":[82944,82944],\"sizemode\":\"area\",\"sizeref\":655.36,\"symbol\":\"circle\"},\"mode\":\"markers\",\"name\":\"resnetv2d\",\"orientation\":\"v\",\"showlegend\":true,\"x\":[0.0011698369247326922,0.0011698369247326922],\"xaxis\":\"x\",\"y\":[82.0,80.828],\"yaxis\":\"y\",\"type\":\"scatter\"}],                        {\"template\":{\"data\":{\"histogram2dcontour\":[{\"type\":\"histogram2dcontour\",\"colorbar\":{\"outlinewidth\":0,\"ticks\":\"\"},\"colorscale\":[[0.0,\"#0d0887\"],[0.1111111111111111,\"#46039f\"],[0.2222222222222222,\"#7201a8\"],[0.3333333333333333,\"#9c179e\"],[0.4444444444444444,\"#bd3786\"],[0.5555555555555556,\"#d8576b\"],[0.6666666666666666,\"#ed7953\"],[0.7777777777777778,\"#fb9f3a\"],[0.8888888888888888,\"#fdca26\"],[1.0,\"#f0f921\"]]}],\"choropleth\":[{\"type\":\"choropleth\",\"colorbar\":{\"outlinewidth\":0,\"ticks\":\"\"}}],\"histogram2d\":[{\"type\":\"histogram2d\",\"colorbar\":{\"outlinewidth\":0,\"ticks\":\"\"},\"colorscale\":[[0.0,\"#0d0887\"],[0.1111111111111111,\"#46039f\"],[0.2222222222222222,\"#7201a8\"],[0.3333333333333333,\"#9c179e\"],[0.4444444444444444,\"#bd3786\"],[0.5555555555555556,\"#d8576b\"],[0.6666666666666666,\"#ed7953\"],[0.7777777777777778,\"#fb9f3a\"],[0.8888888888888888,\"#fdca26\"],[1.0,\"#f0f921\"]]}],\"heatmap\":[{\"type\":\"heatmap\",\"colorbar\":{\"outlinewidth\":0,\"ticks\":\"\"},\"colorscale\":[[0.0,\"#0d0887\"],[0.1111111111111111,\"#46039f\"],[0.2222222222222222,\"#7201a8\"],[0.3333333333333333,\"#9c179e\"],[0.4444444444444444,\"#bd3786\"],[0.5555555555555556,\"#d8576b\"],[0.6666666666666666,\"#ed7953\"],[0.7777777777777778,\"#fb9f3a\"],[0.8888888888888888,\"#fdca26\"],[1.0,\"#f0f921\"]]}],\"heatmapgl\":[{\"type\":\"heatmapgl\",\"colorbar\":{\"outlinewidth\":0,\"ticks\":\"\"},\"colorscale\":[[0.0,\"#0d0887\"],[0.1111111111111111,\"#46039f\"],[0.2222222222222222,\"#7201a8\"],[0.3333333333333333,\"#9c179e\"],[0.4444444444444444,\"#bd3786\"],[0.5555555555555556,\"#d8576b\"],[0.6666666666666666,\"#ed7953\"],[0.7777777777777778,\"#fb9f3a\"],[0.8888888888888888,\"#fdca26\"],[1.0,\"#f0f921\"]]}],\"contourcarpet\":[{\"type\":\"contourcarpet\",\"colorbar\":{\"outlinewidth\":0,\"ticks\":\"\"}}],\"contour\":[{\"type\":\"contour\",\"colorbar\":{\"outlinewidth\":0,\"ticks\":\"\"},\"colorscale\":[[0.0,\"#0d0887\"],[0.1111111111111111,\"#46039f\"],[0.2222222222222222,\"#7201a8\"],[0.3333333333333333,\"#9c179e\"],[0.4444444444444444,\"#bd3786\"],[0.5555555555555556,\"#d8576b\"],[0.6666666666666666,\"#ed7953\"],[0.7777777777777778,\"#fb9f3a\"],[0.8888888888888888,\"#fdca26\"],[1.0,\"#f0f921\"]]}],\"surface\":[{\"type\":\"surface\",\"colorbar\":{\"outlinewidth\":0,\"ticks\":\"\"},\"colorscale\":[[0.0,\"#0d0887\"],[0.1111111111111111,\"#46039f\"],[0.2222222222222222,\"#7201a8\"],[0.3333333333333333,\"#9c179e\"],[0.4444444444444444,\"#bd3786\"],[0.5555555555555556,\"#d8576b\"],[0.6666666666666666,\"#ed7953\"],[0.7777777777777778,\"#fb9f3a\"],[0.8888888888888888,\"#fdca26\"],[1.0,\"#f0f921\"]]}],\"mesh3d\":[{\"type\":\"mesh3d\",\"colorbar\":{\"outlinewidth\":0,\"ticks\":\"\"}}],\"scatter\":[{\"fillpattern\":{\"fillmode\":\"overlay\",\"size\":10,\"solidity\":0.2},\"type\":\"scatter\"}],\"parcoords\":[{\"type\":\"parcoords\",\"line\":{\"colorbar\":{\"outlinewidth\":0,\"ticks\":\"\"}}}],\"scatterpolargl\":[{\"type\":\"scatterpolargl\",\"marker\":{\"colorbar\":{\"outlinewidth\":0,\"ticks\":\"\"}}}],\"bar\":[{\"error_x\":{\"color\":\"#2a3f5f\"},\"error_y\":{\"color\":\"#2a3f5f\"},\"marker\":{\"line\":{\"color\":\"#E5ECF6\",\"width\":0.5},\"pattern\":{\"fillmode\":\"overlay\",\"size\":10,\"solidity\":0.2}},\"type\":\"bar\"}],\"scattergeo\":[{\"type\":\"scattergeo\",\"marker\":{\"colorbar\":{\"outlinewidth\":0,\"ticks\":\"\"}}}],\"scatterpolar\":[{\"type\":\"scatterpolar\",\"marker\":{\"colorbar\":{\"outlinewidth\":0,\"ticks\":\"\"}}}],\"histogram\":[{\"marker\":{\"pattern\":{\"fillmode\":\"overlay\",\"size\":10,\"solidity\":0.2}},\"type\":\"histogram\"}],\"scattergl\":[{\"type\":\"scattergl\",\"marker\":{\"colorbar\":{\"outlinewidth\":0,\"ticks\":\"\"}}}],\"scatter3d\":[{\"type\":\"scatter3d\",\"line\":{\"colorbar\":{\"outlinewidth\":0,\"ticks\":\"\"}},\"marker\":{\"colorbar\":{\"outlinewidth\":0,\"ticks\":\"\"}}}],\"scattermapbox\":[{\"type\":\"scattermapbox\",\"marker\":{\"colorbar\":{\"outlinewidth\":0,\"ticks\":\"\"}}}],\"scatterternary\":[{\"type\":\"scatterternary\",\"marker\":{\"colorbar\":{\"outlinewidth\":0,\"ticks\":\"\"}}}],\"scattercarpet\":[{\"type\":\"scattercarpet\",\"marker\":{\"colorbar\":{\"outlinewidth\":0,\"ticks\":\"\"}}}],\"carpet\":[{\"aaxis\":{\"endlinecolor\":\"#2a3f5f\",\"gridcolor\":\"white\",\"linecolor\":\"white\",\"minorgridcolor\":\"white\",\"startlinecolor\":\"#2a3f5f\"},\"baxis\":{\"endlinecolor\":\"#2a3f5f\",\"gridcolor\":\"white\",\"linecolor\":\"white\",\"minorgridcolor\":\"white\",\"startlinecolor\":\"#2a3f5f\"},\"type\":\"carpet\"}],\"table\":[{\"cells\":{\"fill\":{\"color\":\"#EBF0F8\"},\"line\":{\"color\":\"white\"}},\"header\":{\"fill\":{\"color\":\"#C8D4E3\"},\"line\":{\"color\":\"white\"}},\"type\":\"table\"}],\"barpolar\":[{\"marker\":{\"line\":{\"color\":\"#E5ECF6\",\"width\":0.5},\"pattern\":{\"fillmode\":\"overlay\",\"size\":10,\"solidity\":0.2}},\"type\":\"barpolar\"}],\"pie\":[{\"automargin\":true,\"type\":\"pie\"}]},\"layout\":{\"autotypenumbers\":\"strict\",\"colorway\":[\"#636efa\",\"#EF553B\",\"#00cc96\",\"#ab63fa\",\"#FFA15A\",\"#19d3f3\",\"#FF6692\",\"#B6E880\",\"#FF97FF\",\"#FECB52\"],\"font\":{\"color\":\"#2a3f5f\"},\"hovermode\":\"closest\",\"hoverlabel\":{\"align\":\"left\"},\"paper_bgcolor\":\"white\",\"plot_bgcolor\":\"#E5ECF6\",\"polar\":{\"bgcolor\":\"#E5ECF6\",\"angularaxis\":{\"gridcolor\":\"white\",\"linecolor\":\"white\",\"ticks\":\"\"},\"radialaxis\":{\"gridcolor\":\"white\",\"linecolor\":\"white\",\"ticks\":\"\"}},\"ternary\":{\"bgcolor\":\"#E5ECF6\",\"aaxis\":{\"gridcolor\":\"white\",\"linecolor\":\"white\",\"ticks\":\"\"},\"baxis\":{\"gridcolor\":\"white\",\"linecolor\":\"white\",\"ticks\":\"\"},\"caxis\":{\"gridcolor\":\"white\",\"linecolor\":\"white\",\"ticks\":\"\"}},\"coloraxis\":{\"colorbar\":{\"outlinewidth\":0,\"ticks\":\"\"}},\"colorscale\":{\"sequential\":[[0.0,\"#0d0887\"],[0.1111111111111111,\"#46039f\"],[0.2222222222222222,\"#7201a8\"],[0.3333333333333333,\"#9c179e\"],[0.4444444444444444,\"#bd3786\"],[0.5555555555555556,\"#d8576b\"],[0.6666666666666666,\"#ed7953\"],[0.7777777777777778,\"#fb9f3a\"],[0.8888888888888888,\"#fdca26\"],[1.0,\"#f0f921\"]],\"sequentialminus\":[[0.0,\"#0d0887\"],[0.1111111111111111,\"#46039f\"],[0.2222222222222222,\"#7201a8\"],[0.3333333333333333,\"#9c179e\"],[0.4444444444444444,\"#bd3786\"],[0.5555555555555556,\"#d8576b\"],[0.6666666666666666,\"#ed7953\"],[0.7777777777777778,\"#fb9f3a\"],[0.8888888888888888,\"#fdca26\"],[1.0,\"#f0f921\"]],\"diverging\":[[0,\"#8e0152\"],[0.1,\"#c51b7d\"],[0.2,\"#de77ae\"],[0.3,\"#f1b6da\"],[0.4,\"#fde0ef\"],[0.5,\"#f7f7f7\"],[0.6,\"#e6f5d0\"],[0.7,\"#b8e186\"],[0.8,\"#7fbc41\"],[0.9,\"#4d9221\"],[1,\"#276419\"]]},\"xaxis\":{\"gridcolor\":\"white\",\"linecolor\":\"white\",\"ticks\":\"\",\"title\":{\"standoff\":15},\"zerolinecolor\":\"white\",\"automargin\":true,\"zerolinewidth\":2},\"yaxis\":{\"gridcolor\":\"white\",\"linecolor\":\"white\",\"ticks\":\"\",\"title\":{\"standoff\":15},\"zerolinecolor\":\"white\",\"automargin\":true,\"zerolinewidth\":2},\"scene\":{\"xaxis\":{\"backgroundcolor\":\"#E5ECF6\",\"gridcolor\":\"white\",\"linecolor\":\"white\",\"showbackground\":true,\"ticks\":\"\",\"zerolinecolor\":\"white\",\"gridwidth\":2},\"yaxis\":{\"backgroundcolor\":\"#E5ECF6\",\"gridcolor\":\"white\",\"linecolor\":\"white\",\"showbackground\":true,\"ticks\":\"\",\"zerolinecolor\":\"white\",\"gridwidth\":2},\"zaxis\":{\"backgroundcolor\":\"#E5ECF6\",\"gridcolor\":\"white\",\"linecolor\":\"white\",\"showbackground\":true,\"ticks\":\"\",\"zerolinecolor\":\"white\",\"gridwidth\":2}},\"shapedefaults\":{\"line\":{\"color\":\"#2a3f5f\"}},\"annotationdefaults\":{\"arrowcolor\":\"#2a3f5f\",\"arrowhead\":0,\"arrowwidth\":1},\"geo\":{\"bgcolor\":\"white\",\"landcolor\":\"#E5ECF6\",\"subunitcolor\":\"white\",\"showland\":true,\"showlakes\":true,\"lakecolor\":\"white\"},\"title\":{\"x\":0.05},\"mapbox\":{\"style\":\"light\"}}},\"xaxis\":{\"anchor\":\"y\",\"domain\":[0.0,1.0],\"title\":{\"text\":\"secs\"},\"type\":\"log\"},\"yaxis\":{\"anchor\":\"x\",\"domain\":[0.0,1.0],\"title\":{\"text\":\"top1\"}},\"legend\":{\"title\":{\"text\":\"family\"},\"tracegroupgap\":0,\"itemsizing\":\"constant\"},\"title\":{\"text\":\"Inference\"},\"height\":800,\"width\":1000},                        {\"responsive\": true}                    ).then(function(){\n",
       "                            \n",
       "var gd = document.getElementById('22c0056f-1d92-4328-b95a-9e89b2569baa');\n",
       "var x = new MutationObserver(function (mutations, observer) {{\n",
       "        var display = window.getComputedStyle(gd).display;\n",
       "        if (!display || display === 'none') {{\n",
       "            console.log([gd, 'removed!']);\n",
       "            Plotly.purge(gd);\n",
       "            observer.disconnect();\n",
       "        }}\n",
       "}});\n",
       "\n",
       "// Listen for the removal of the full notebook cells\n",
       "var notebookContainer = gd.closest('#notebook-container');\n",
       "if (notebookContainer) {{\n",
       "    x.observe(notebookContainer, {childList: true});\n",
       "}}\n",
       "\n",
       "// Listen for the clearing of the current output cell\n",
       "var outputEl = gd.closest('.output');\n",
       "if (outputEl) {{\n",
       "    x.observe(outputEl, {childList: true});\n",
       "}}\n",
       "\n",
       "                        })                };                });            </script>        </div>"
      ]
     },
     "metadata": {},
     "output_type": "display_data"
    }
   ],
   "source": [
    "show_all(df, 'Inference', 'infer_img_size')"
   ]
  },
  {
   "cell_type": "markdown",
   "metadata": {},
   "source": [
    "That number of families can be a bit overwhelming, so I'll just pick a subset which represents a single key model from each of the families that are looking best in our plot. I've also separated convnext models into those which have been pretrained on the larger 22,000 category imagenet sample (`convnext_in22`) vs those that haven't (`convnext`). (Note that many of the best performing models were trained on the larger sample -- see the papers for details before coming to conclusions about the effectiveness of these architectures more generally.)"
   ]
  },
  {
   "cell_type": "code",
   "execution_count": 107,
   "metadata": {
    "execution": {
     "iopub.execute_input": "2022-05-21T22:20:03.286855Z",
     "iopub.status.busy": "2022-05-21T22:20:03.286446Z",
     "iopub.status.idle": "2022-05-21T22:20:03.292554Z",
     "shell.execute_reply": "2022-05-21T22:20:03.291071Z",
     "shell.execute_reply.started": "2022-05-21T22:20:03.286818Z"
    },
    "trusted": true
   },
   "outputs": [],
   "source": [
    "subs = 'levit|resnetd?|regnetx|vgg|convnext.*|efficientnetv2|beit'"
   ]
  },
  {
   "cell_type": "markdown",
   "metadata": {},
   "source": [
    "In this chart, I'll add lines through the points of each family, to help see how they compare -- but note that we can see that a linear fit isn't actually ideal here! It's just there to help visually see the groups."
   ]
  },
  {
   "cell_type": "code",
   "execution_count": 108,
   "metadata": {
    "execution": {
     "iopub.execute_input": "2022-05-21T22:28:49.423771Z",
     "iopub.status.busy": "2022-05-21T22:28:49.422877Z",
     "iopub.status.idle": "2022-05-21T22:28:49.429789Z",
     "shell.execute_reply": "2022-05-21T22:28:49.429193Z",
     "shell.execute_reply.started": "2022-05-21T22:28:49.423737Z"
    },
    "trusted": true
   },
   "outputs": [],
   "source": [
    "def show_subs(df, title, size):\n",
    "    df_subs = df[df.family.str.fullmatch(subs)]\n",
    "    return px.scatter(df_subs, width=w, height=h, size=df_subs[size]**2, title=title,\n",
    "        trendline=\"ols\", trendline_options={'log_x':True},\n",
    "        x='secs',  y='top1', log_x=True, color='family', hover_name='model', hover_data=[size])"
   ]
  },
  {
   "cell_type": "code",
   "execution_count": 109,
   "metadata": {
    "execution": {
     "iopub.execute_input": "2022-05-21T22:28:49.623275Z",
     "iopub.status.busy": "2022-05-21T22:28:49.622859Z",
     "iopub.status.idle": "2022-05-21T22:28:49.825596Z",
     "shell.execute_reply": "2022-05-21T22:28:49.824909Z",
     "shell.execute_reply.started": "2022-05-21T22:28:49.623231Z"
    },
    "trusted": true
   },
   "outputs": [
    {
     "data": {
      "application/vnd.plotly.v1+json": {
       "config": {
        "plotlyServerURL": "https://plot.ly"
       },
       "data": [
        {
         "customdata": [
          [
           224
          ],
          [
           224
          ],
          [
           224
          ],
          [
           224
          ],
          [
           224
          ],
          [
           224
          ],
          [
           224
          ],
          [
           224
          ],
          [
           224
          ],
          [
           224
          ],
          [
           224
          ],
          [
           224
          ],
          [
           224
          ],
          [
           224
          ],
          [
           224
          ],
          [
           224
          ],
          [
           224
          ],
          [
           224
          ]
         ],
         "hovertemplate": "<b>%{hovertext}</b><br><br>family=regnetx<br>secs=%{x}<br>top1=%{y}<br>size=%{marker.size}<br>infer_img_size=%{customdata[0]}<extra></extra>",
         "hovertext": [
          "regnetx_002",
          "regnetx_004",
          "regnetx_006",
          "regnetx_008",
          "regnetx_008",
          "regnetx_016",
          "regnetx_016",
          "regnetx_032",
          "regnetx_032",
          "regnetx_040",
          "regnetx_064",
          "regnetx_160",
          "regnetx_160",
          "regnetx_080",
          "regnetx_080",
          "regnetx_120",
          "regnetx_320",
          "regnetx_320"
         ],
         "legendgroup": "regnetx",
         "marker": {
          "color": "#636efa",
          "size": [
           50176,
           50176,
           50176,
           50176,
           50176,
           50176,
           50176,
           50176,
           50176,
           50176,
           50176,
           50176,
           50176,
           50176,
           50176,
           50176,
           50176,
           50176
          ],
          "sizemode": "area",
          "sizeref": 655.36,
          "symbol": "circle"
         },
         "mode": "markers",
         "name": "regnetx",
         "orientation": "v",
         "showlegend": true,
         "type": "scatter",
         "x": [
          0.00004169550605835703,
          0.00007347430603517949,
          0.00011933857786603528,
          0.0001352286987753689,
          0.0001352286987753689,
          0.00025957777079801996,
          0.00025957777079801996,
          0.00041162088070403636,
          0.00041162088070403636,
          0.0005174322939843322,
          0.0006449449217036865,
          0.0008367640660039495,
          0.0008367640660039495,
          0.0009955102487780112,
          0.0009955102487780112,
          0.0015615972016178147,
          0.003454947484798231,
          0.003454947484798231
         ],
         "xaxis": "x",
         "y": [
          68.76,
          72.432,
          73.884,
          77.288,
          75.062,
          79.452,
          76.924,
          80.926,
          78.166,
          78.494,
          79.06,
          82.576,
          79.858,
          81.56,
          79.216,
          79.608,
          82.824,
          80.262
         ],
         "yaxis": "y"
        },
        {
         "hovertemplate": "<b>OLS trendline</b><br>top1 = 5.80886 * log10(secs) + 97.6491<br>R<sup>2</sup>=0.742497<br><br>family=regnetx<br>secs=%{x}<br>top1=%{y} <b>(trend)</b><extra></extra>",
         "legendgroup": "regnetx",
         "marker": {
          "color": "#636efa",
          "symbol": "circle"
         },
         "mode": "lines",
         "name": "regnetx",
         "showlegend": false,
         "type": "scatter",
         "x": [
          0.00004169550605835703,
          0.00007347430603517949,
          0.00011933857786603528,
          0.0001352286987753689,
          0.0001352286987753689,
          0.00025957777079801996,
          0.00025957777079801996,
          0.00041162088070403636,
          0.00041162088070403636,
          0.0005174322939843322,
          0.0006449449217036865,
          0.0008367640660039495,
          0.0008367640660039495,
          0.0009955102487780112,
          0.0009955102487780112,
          0.0015615972016178147,
          0.003454947484798231,
          0.003454947484798231
         ],
         "xaxis": "x",
         "y": [
          72.20685890576388,
          73.63610693894294,
          74.85971624753734,
          75.17506766989868,
          75.17506766989868,
          76.82012868806744,
          76.82012868806744,
          77.98323601785766,
          77.98323601785766,
          78.56038182348946,
          79.11611015648333,
          79.77297826590689,
          79.77297826590689,
          80.21121438293558,
          80.21121438293558,
          81.3469816628373,
          83.35029710780631,
          83.35029710780631
         ],
         "yaxis": "y"
        },
        {
         "customdata": [
          [
           224
          ],
          [
           224
          ],
          [
           224
          ],
          [
           224
          ],
          [
           224
          ]
         ],
         "hovertemplate": "<b>%{hovertext}</b><br><br>family=levit<br>secs=%{x}<br>top1=%{y}<br>size=%{marker.size}<br>infer_img_size=%{customdata[0]}<extra></extra>",
         "hovertext": [
          "levit_128s",
          "levit_128",
          "levit_192",
          "levit_256",
          "levit_384"
         ],
         "legendgroup": "levit",
         "marker": {
          "color": "#EF553B",
          "size": [
           50176,
           50176,
           50176,
           50176,
           50176
          ],
          "sizemode": "area",
          "sizeref": 655.36,
          "symbol": "circle"
         },
         "mode": "markers",
         "name": "levit",
         "orientation": "v",
         "showlegend": true,
         "type": "scatter",
         "x": [
          0.000044100013538704156,
          0.00006519895134006664,
          0.00007394185508283706,
          0.00010143942544709426,
          0.00017005645874430312
         ],
         "xaxis": "x",
         "y": [
          76.522,
          78.486,
          79.85,
          81.506,
          82.598
         ],
         "yaxis": "y"
        },
        {
         "hovertemplate": "<b>OLS trendline</b><br>top1 = 10.6297 * log10(secs) + 123.237<br>R<sup>2</sup>=0.941259<br><br>family=levit<br>secs=%{x}<br>top1=%{y} <b>(trend)</b><extra></extra>",
         "legendgroup": "levit",
         "marker": {
          "color": "#EF553B",
          "symbol": "circle"
         },
         "mode": "lines",
         "name": "levit",
         "showlegend": false,
         "type": "scatter",
         "x": [
          0.000044100013538704156,
          0.00006519895134006664,
          0.00007394185508283706,
          0.00010143942544709426,
          0.00017005645874430312
         ],
         "xaxis": "x",
         "y": [
          76.93901490392253,
          78.7439577190298,
          79.32486786999588,
          80.78450016508378,
          83.16965934196737
         ],
         "yaxis": "y"
        },
        {
         "customdata": [
          [
           224
          ],
          [
           224
          ],
          [
           224
          ],
          [
           224
          ],
          [
           224
          ],
          [
           224
          ],
          [
           224
          ],
          [
           224
          ],
          [
           224
          ],
          [
           224
          ],
          [
           224
          ],
          [
           224
          ],
          [
           224
          ],
          [
           224
          ],
          [
           224
          ],
          [
           224
          ],
          [
           224
          ],
          [
           224
          ],
          [
           224
          ],
          [
           224
          ],
          [
           224
          ],
          [
           224
          ],
          [
           224
          ],
          [
           224
          ],
          [
           224
          ],
          [
           224
          ],
          [
           256
          ],
          [
           256
          ],
          [
           224
          ],
          [
           224
          ],
          [
           224
          ],
          [
           224
          ],
          [
           224
          ],
          [
           224
          ],
          [
           224
          ],
          [
           224
          ],
          [
           224
          ],
          [
           224
          ],
          [
           224
          ],
          [
           224
          ],
          [
           224
          ],
          [
           224
          ],
          [
           224
          ],
          [
           224
          ],
          [
           224
          ],
          [
           224
          ],
          [
           224
          ],
          [
           224
          ],
          [
           224
          ],
          [
           224
          ],
          [
           224
          ],
          [
           224
          ],
          [
           224
          ],
          [
           224
          ],
          [
           224
          ],
          [
           224
          ],
          [
           224
          ],
          [
           224
          ],
          [
           224
          ],
          [
           256
          ],
          [
           256
          ],
          [
           256
          ],
          [
           256
          ],
          [
           224
          ],
          [
           224
          ],
          [
           224
          ],
          [
           224
          ],
          [
           224
          ],
          [
           224
          ],
          [
           224
          ],
          [
           224
          ],
          [
           224
          ],
          [
           224
          ],
          [
           224
          ],
          [
           224
          ],
          [
           288
          ],
          [
           288
          ],
          [
           288
          ],
          [
           288
          ],
          [
           224
          ],
          [
           224
          ],
          [
           224
          ],
          [
           224
          ],
          [
           224
          ],
          [
           224
          ],
          [
           224
          ],
          [
           224
          ],
          [
           224
          ],
          [
           224
          ],
          [
           224
          ],
          [
           224
          ]
         ],
         "hovertemplate": "<b>%{hovertext}</b><br><br>family=resnet<br>secs=%{x}<br>top1=%{y}<br>size=%{marker.size}<br>infer_img_size=%{customdata[0]}<extra></extra>",
         "hovertext": [
          "resnet10t",
          "resnet10t",
          "resnet18",
          "resnet18",
          "resnet18",
          "resnet18",
          "resnet18",
          "resnet18",
          "resnet18",
          "resnet18",
          "resnet18",
          "resnet18",
          "resnet14t",
          "resnet14t",
          "resnet34",
          "resnet34",
          "resnet34",
          "resnet34",
          "resnet34",
          "resnet34",
          "resnet34",
          "resnet34",
          "resnet34",
          "resnet34",
          "resnet26",
          "resnet26",
          "resnet26t",
          "resnet26t",
          "resnet50",
          "resnet50",
          "resnet50",
          "resnet50",
          "resnet50",
          "resnet50",
          "resnet50",
          "resnet50",
          "resnet50",
          "resnet50",
          "resnet50",
          "resnet50",
          "resnet50",
          "resnet50",
          "resnet50",
          "resnet50",
          "resnet50",
          "resnet50",
          "resnet50",
          "resnet50",
          "resnet50",
          "resnet50",
          "resnet50",
          "resnet50",
          "resnet50",
          "resnet50",
          "resnet50",
          "resnet50",
          "resnet50",
          "resnet50",
          "resnet50",
          "resnet32ts",
          "resnet32ts",
          "resnet33ts",
          "resnet33ts",
          "resnet101",
          "resnet101",
          "resnet101",
          "resnet101",
          "resnet101",
          "resnet101",
          "resnet101",
          "resnet101",
          "resnet101",
          "resnet101",
          "resnet101",
          "resnet101",
          "resnet51q",
          "resnet51q",
          "resnet61q",
          "resnet61q",
          "resnet152",
          "resnet152",
          "resnet152",
          "resnet152",
          "resnet152",
          "resnet152",
          "resnet152",
          "resnet152",
          "resnet152",
          "resnet152",
          "resnet152",
          "resnet152"
         ],
         "legendgroup": "resnet",
         "marker": {
          "color": "#00cc96",
          "size": [
           50176,
           50176,
           50176,
           50176,
           50176,
           50176,
           50176,
           50176,
           50176,
           50176,
           50176,
           50176,
           50176,
           50176,
           50176,
           50176,
           50176,
           50176,
           50176,
           50176,
           50176,
           50176,
           50176,
           50176,
           50176,
           50176,
           65536,
           65536,
           50176,
           50176,
           50176,
           50176,
           50176,
           50176,
           50176,
           50176,
           50176,
           50176,
           50176,
           50176,
           50176,
           50176,
           50176,
           50176,
           50176,
           50176,
           50176,
           50176,
           50176,
           50176,
           50176,
           50176,
           50176,
           50176,
           50176,
           50176,
           50176,
           50176,
           50176,
           65536,
           65536,
           65536,
           65536,
           50176,
           50176,
           50176,
           50176,
           50176,
           50176,
           50176,
           50176,
           50176,
           50176,
           50176,
           50176,
           82944,
           82944,
           82944,
           82944,
           50176,
           50176,
           50176,
           50176,
           50176,
           50176,
           50176,
           50176,
           50176,
           50176,
           50176,
           50176
          ],
          "sizemode": "area",
          "sizeref": 655.36,
          "symbol": "circle"
         },
         "mode": "markers",
         "name": "resnet",
         "orientation": "v",
         "showlegend": true,
         "type": "scatter",
         "x": [
          0.00007086132650986,
          0.00007086132650986,
          0.00009022746343532044,
          0.00009022746343532044,
          0.00009022746343532044,
          0.00009022746343532044,
          0.00009022746343532044,
          0.00009022746343532044,
          0.00009022746343532044,
          0.00009022746343532044,
          0.00009022746343532044,
          0.00009022746343532044,
          0.00013459529885540158,
          0.00013459529885540158,
          0.00015393093426841246,
          0.00015393093426841246,
          0.00015393093426841246,
          0.00015393093426841246,
          0.00015393093426841246,
          0.00015393093426841246,
          0.00015393093426841246,
          0.00015393093426841246,
          0.00015393093426841246,
          0.00015393093426841246,
          0.00016962924136714383,
          0.00016962924136714383,
          0.00025384189711280227,
          0.00025384189711280227,
          0.00027258503290101345,
          0.00027258503290101345,
          0.00027258503290101345,
          0.00027258503290101345,
          0.00027258503290101345,
          0.00027258503290101345,
          0.00027258503290101345,
          0.00027258503290101345,
          0.00027258503290101345,
          0.00027258503290101345,
          0.00027258503290101345,
          0.00027258503290101345,
          0.00027258503290101345,
          0.00027258503290101345,
          0.00027258503290101345,
          0.00027258503290101345,
          0.00027258503290101345,
          0.00027258503290101345,
          0.00027258503290101345,
          0.00027258503290101345,
          0.00027258503290101345,
          0.00027258503290101345,
          0.00027258503290101345,
          0.00027258503290101345,
          0.00027258503290101345,
          0.00027258503290101345,
          0.00027258503290101345,
          0.00027258503290101345,
          0.00027258503290101345,
          0.00027258503290101345,
          0.00027258503290101345,
          0.0002863180076847753,
          0.0002863180076847753,
          0.0002889522015268234,
          0.0002889522015268234,
          0.0004428148856651965,
          0.0004428148856651965,
          0.0004428148856651965,
          0.0004428148856651965,
          0.0004428148856651965,
          0.0004428148856651965,
          0.0004428148856651965,
          0.0004428148856651965,
          0.0004428148856651965,
          0.0004428148856651965,
          0.0004428148856651965,
          0.0004428148856651965,
          0.0004915430026395859,
          0.0004915430026395859,
          0.0005429353255440212,
          0.0005429353255440212,
          0.000632503067639878,
          0.000632503067639878,
          0.000632503067639878,
          0.000632503067639878,
          0.000632503067639878,
          0.000632503067639878,
          0.000632503067639878,
          0.000632503067639878,
          0.000632503067639878,
          0.000632503067639878,
          0.000632503067639878,
          0.000632503067639878
         ],
         "xaxis": "x",
         "y": [
          68.346,
          66.724,
          73.288,
          73.164,
          72.636,
          72.362,
          71.488,
          70.844,
          70.634,
          69.752,
          68.246,
          65.664,
          72.242,
          71.318,
          77.938,
          77.148,
          76.508,
          76.414,
          75.516,
          75.162,
          74.574,
          73.298,
          72.982,
          70.572,
          76.378,
          75.292,
          78.33,
          77.884,
          81.24,
          81.146,
          81.012,
          80.928,
          80.856,
          80.844,
          80.78,
          80.706,
          80.652,
          80.47,
          80.382,
          79.974,
          79.904,
          79.868,
          79.86,
          79.828,
          79.766,
          79.652,
          79.564,
          79.432,
          79.38,
          79.26,
          79.252,
          79.032,
          79.004,
          78.814,
          78.432,
          78.052,
          77.58,
          76.156,
          75.994,
          79.388,
          79.054,
          79.708,
          79.216,
          82.802,
          82.322,
          82.224,
          81.95,
          81.906,
          81.494,
          81.344,
          79.906,
          79.82,
          79.306,
          77.928,
          77.404,
          82.356,
          81.778,
          82.524,
          81.966,
          83.494,
          82.818,
          82.744,
          82.62,
          82.294,
          81.998,
          81.764,
          80.548,
          80.212,
          79.712,
          78.896,
          78.33
         ],
         "yaxis": "y"
        },
        {
         "hovertemplate": "<b>OLS trendline</b><br>top1 = 13.4691 * log10(secs) + 126.269<br>R<sup>2</sup>=0.760839<br><br>family=resnet<br>secs=%{x}<br>top1=%{y} <b>(trend)</b><extra></extra>",
         "legendgroup": "resnet",
         "marker": {
          "color": "#00cc96",
          "symbol": "circle"
         },
         "mode": "lines",
         "name": "resnet",
         "showlegend": false,
         "type": "scatter",
         "x": [
          0.00007086132650986,
          0.00007086132650986,
          0.00009022746343532044,
          0.00009022746343532044,
          0.00009022746343532044,
          0.00009022746343532044,
          0.00009022746343532044,
          0.00009022746343532044,
          0.00009022746343532044,
          0.00009022746343532044,
          0.00009022746343532044,
          0.00009022746343532044,
          0.00013459529885540158,
          0.00013459529885540158,
          0.00015393093426841246,
          0.00015393093426841246,
          0.00015393093426841246,
          0.00015393093426841246,
          0.00015393093426841246,
          0.00015393093426841246,
          0.00015393093426841246,
          0.00015393093426841246,
          0.00015393093426841246,
          0.00015393093426841246,
          0.00016962924136714383,
          0.00016962924136714383,
          0.00025384189711280227,
          0.00025384189711280227,
          0.00027258503290101345,
          0.00027258503290101345,
          0.00027258503290101345,
          0.00027258503290101345,
          0.00027258503290101345,
          0.00027258503290101345,
          0.00027258503290101345,
          0.00027258503290101345,
          0.00027258503290101345,
          0.00027258503290101345,
          0.00027258503290101345,
          0.00027258503290101345,
          0.00027258503290101345,
          0.00027258503290101345,
          0.00027258503290101345,
          0.00027258503290101345,
          0.00027258503290101345,
          0.00027258503290101345,
          0.00027258503290101345,
          0.00027258503290101345,
          0.00027258503290101345,
          0.00027258503290101345,
          0.00027258503290101345,
          0.00027258503290101345,
          0.00027258503290101345,
          0.00027258503290101345,
          0.00027258503290101345,
          0.00027258503290101345,
          0.00027258503290101345,
          0.00027258503290101345,
          0.00027258503290101345,
          0.0002863180076847753,
          0.0002863180076847753,
          0.0002889522015268234,
          0.0002889522015268234,
          0.0004428148856651965,
          0.0004428148856651965,
          0.0004428148856651965,
          0.0004428148856651965,
          0.0004428148856651965,
          0.0004428148856651965,
          0.0004428148856651965,
          0.0004428148856651965,
          0.0004428148856651965,
          0.0004428148856651965,
          0.0004428148856651965,
          0.0004428148856651965,
          0.0004915430026395859,
          0.0004915430026395859,
          0.0005429353255440212,
          0.0005429353255440212,
          0.000632503067639878,
          0.000632503067639878,
          0.000632503067639878,
          0.000632503067639878,
          0.000632503067639878,
          0.000632503067639878,
          0.000632503067639878,
          0.000632503067639878,
          0.000632503067639878,
          0.000632503067639878,
          0.000632503067639878,
          0.000632503067639878
         ],
         "xaxis": "x",
         "y": [
          70.37747738006378,
          70.37747738006378,
          71.79078096828101,
          71.79078096828101,
          71.79078096828101,
          71.79078096828101,
          71.79078096828101,
          71.79078096828101,
          71.79078096828101,
          71.79078096828101,
          71.79078096828101,
          71.79078096828101,
          74.13024113078217,
          74.13024113078217,
          74.91543489783339,
          74.91543489783339,
          74.91543489783339,
          74.91543489783339,
          74.91543489783339,
          74.91543489783339,
          74.91543489783339,
          74.91543489783339,
          74.91543489783339,
          74.91543489783339,
          75.48349091236608,
          75.48349091236608,
          77.84142314107373,
          77.84142314107373,
          78.25813902774507,
          78.25813902774507,
          78.25813902774507,
          78.25813902774507,
          78.25813902774507,
          78.25813902774507,
          78.25813902774507,
          78.25813902774507,
          78.25813902774507,
          78.25813902774507,
          78.25813902774507,
          78.25813902774507,
          78.25813902774507,
          78.25813902774507,
          78.25813902774507,
          78.25813902774507,
          78.25813902774507,
          78.25813902774507,
          78.25813902774507,
          78.25813902774507,
          78.25813902774507,
          78.25813902774507,
          78.25813902774507,
          78.25813902774507,
          78.25813902774507,
          78.25813902774507,
          78.25813902774507,
          78.25813902774507,
          78.25813902774507,
          78.25813902774507,
          78.25813902774507,
          78.54565889754289,
          78.54565889754289,
          78.59923007223509,
          78.59923007223509,
          81.09634665677606,
          81.09634665677606,
          81.09634665677606,
          81.09634665677606,
          81.09634665677606,
          81.09634665677606,
          81.09634665677606,
          81.09634665677606,
          81.09634665677606,
          81.09634665677606,
          81.09634665677606,
          81.09634665677606,
          81.70702547044637,
          81.70702547044637,
          82.2887090561542,
          82.2887090561542,
          83.18190495634232,
          83.18190495634232,
          83.18190495634232,
          83.18190495634232,
          83.18190495634232,
          83.18190495634232,
          83.18190495634232,
          83.18190495634232,
          83.18190495634232,
          83.18190495634232,
          83.18190495634232,
          83.18190495634232
         ],
         "yaxis": "y"
        },
        {
         "customdata": [
          [
           224
          ],
          [
           224
          ],
          [
           224
          ],
          [
           224
          ],
          [
           224
          ],
          [
           224
          ],
          [
           224
          ],
          [
           224
          ],
          [
           224
          ],
          [
           224
          ],
          [
           224
          ],
          [
           224
          ],
          [
           224
          ],
          [
           224
          ],
          [
           224
          ],
          [
           224
          ],
          [
           224
          ],
          [
           320
          ],
          [
           320
          ],
          [
           320
          ],
          [
           320
          ],
          [
           320
          ],
          [
           320
          ],
          [
           320
          ],
          [
           320
          ]
         ],
         "hovertemplate": "<b>%{hovertext}</b><br><br>family=resnetd<br>secs=%{x}<br>top1=%{y}<br>size=%{marker.size}<br>infer_img_size=%{customdata[0]}<extra></extra>",
         "hovertext": [
          "resnet18d",
          "resnet18d",
          "resnet34d",
          "resnet34d",
          "resnet26d",
          "resnet26d",
          "resnet50d",
          "resnet50d",
          "resnet50d",
          "resnet50d",
          "resnet50d",
          "resnet50d",
          "resnet50d",
          "resnet50d",
          "resnet50d",
          "resnet50d",
          "resnet50d",
          "resnet101d",
          "resnet101d",
          "resnet101d",
          "resnet152d",
          "resnet152d",
          "resnet152d",
          "resnet200d",
          "resnet200d"
         ],
         "legendgroup": "resnetd",
         "marker": {
          "color": "#ab63fa",
          "size": [
           50176,
           50176,
           50176,
           50176,
           50176,
           50176,
           50176,
           50176,
           50176,
           50176,
           50176,
           50176,
           50176,
           50176,
           50176,
           50176,
           50176,
           102400,
           102400,
           102400,
           102400,
           102400,
           102400,
           102400,
           102400
          ],
          "sizemode": "area",
          "sizeref": 655.36,
          "symbol": "circle"
         },
         "mode": "markers",
         "name": "resnetd",
         "orientation": "v",
         "showlegend": true,
         "type": "scatter",
         "x": [
          0.00010712567877508214,
          0.00010712567877508214,
          0.00017047449871973654,
          0.00017047449871973654,
          0.0001957613747146778,
          0.0001957613747146778,
          0.0002983765332824104,
          0.0002983765332824104,
          0.0002983765332824104,
          0.0002983765332824104,
          0.0002983765332824104,
          0.0002983765332824104,
          0.0002983765332824104,
          0.0002983765332824104,
          0.0002983765332824104,
          0.0002983765332824104,
          0.0002983765332824104,
          0.0009616494210870484,
          0.0009616494210870484,
          0.0009616494210870484,
          0.0013470371916968627,
          0.0013470371916968627,
          0.0013470371916968627,
          0.0018343911655721466,
          0.0018343911655721466
         ],
         "xaxis": "x",
         "y": [
          73.794,
          72.268,
          78.44,
          77.104,
          77.424,
          76.698,
          81.83,
          81.444,
          81.35,
          81.168,
          80.956,
          80.73,
          80.548,
          80.268,
          79.08,
          78.742,
          77.222,
          83.018,
          82.252,
          80.466,
          83.684,
          83.156,
          80.476,
          83.976,
          83.24
         ],
         "yaxis": "y"
        },
        {
         "hovertemplate": "<b>OLS trendline</b><br>top1 = 6.34314 * log10(secs) + 101.491<br>R<sup>2</sup>=0.654556<br><br>family=resnetd<br>secs=%{x}<br>top1=%{y} <b>(trend)</b><extra></extra>",
         "legendgroup": "resnetd",
         "marker": {
          "color": "#ab63fa",
          "symbol": "circle"
         },
         "mode": "lines",
         "name": "resnetd",
         "showlegend": false,
         "type": "scatter",
         "x": [
          0.00010712567877508214,
          0.00010712567877508214,
          0.00017047449871973654,
          0.00017047449871973654,
          0.0001957613747146778,
          0.0001957613747146778,
          0.0002983765332824104,
          0.0002983765332824104,
          0.0002983765332824104,
          0.0002983765332824104,
          0.0002983765332824104,
          0.0002983765332824104,
          0.0002983765332824104,
          0.0002983765332824104,
          0.0002983765332824104,
          0.0002983765332824104,
          0.0002983765332824104,
          0.0009616494210870484,
          0.0009616494210870484,
          0.0009616494210870484,
          0.0013470371916968627,
          0.0013470371916968627,
          0.0013470371916968627,
          0.0018343911655721466,
          0.0018343911655721466
         ],
         "xaxis": "x",
         "y": [
          76.30808753812396,
          76.30808753812396,
          77.58791718086437,
          77.58791718086437,
          77.96893448505776,
          77.96893448505776,
          79.1299686093536,
          79.1299686093536,
          79.1299686093536,
          79.1299686093536,
          79.1299686093536,
          79.1299686093536,
          79.1299686093536,
          79.1299686093536,
          79.1299686093536,
          79.1299686093536,
          79.1299686093536,
          82.3538846713911,
          82.3538846713911,
          82.3538846713911,
          83.28228498960375,
          83.28228498960375,
          83.28228498960375,
          84.13297895301673,
          84.13297895301673
         ],
         "yaxis": "y"
        },
        {
         "customdata": [
          [
           288
          ],
          [
           288
          ],
          [
           288
          ],
          [
           288
          ],
          [
           288
          ],
          [
           288
          ],
          [
           288
          ],
          [
           288
          ],
          [
           288
          ],
          [
           288
          ],
          [
           288
          ],
          [
           288
          ],
          [
           288
          ],
          [
           288
          ],
          [
           288
          ],
          [
           288
          ],
          [
           288
          ],
          [
           288
          ],
          [
           288
          ],
          [
           288
          ],
          [
           288
          ],
          [
           288
          ],
          [
           288
          ],
          [
           288
          ],
          [
           288
          ],
          [
           288
          ],
          [
           288
          ],
          [
           288
          ],
          [
           288
          ],
          [
           288
          ],
          [
           288
          ],
          [
           288
          ],
          [
           288
          ],
          [
           288
          ],
          [
           288
          ],
          [
           288
          ],
          [
           288
          ],
          [
           288
          ],
          [
           288
          ],
          [
           288
          ],
          [
           288
          ],
          [
           288
          ],
          [
           288
          ],
          [
           288
          ],
          [
           288
          ],
          [
           288
          ],
          [
           288
          ],
          [
           288
          ],
          [
           288
          ],
          [
           288
          ],
          [
           288
          ],
          [
           288
          ],
          [
           288
          ],
          [
           224
          ]
         ],
         "hovertemplate": "<b>%{hovertext}</b><br><br>family=convnext<br>secs=%{x}<br>top1=%{y}<br>size=%{marker.size}<br>infer_img_size=%{customdata[0]}<extra></extra>",
         "hovertext": [
          "convnext_atto",
          "convnext_atto",
          "convnext_atto_ols",
          "convnext_atto_ols",
          "convnext_femto",
          "convnext_femto",
          "convnext_femto_ols",
          "convnext_femto_ols",
          "convnext_pico",
          "convnext_pico",
          "convnext_pico_ols",
          "convnext_pico_ols",
          "convnext_nano",
          "convnext_nano",
          "convnext_nano",
          "convnext_nano",
          "convnext_nano_ols",
          "convnext_nano_ols",
          "convnext_tiny_hnf",
          "convnext_tiny_hnf",
          "convnext_tiny",
          "convnext_tiny",
          "convnext_tiny",
          "convnext_tiny",
          "convnext_tiny",
          "convnext_tiny",
          "convnext_tiny",
          "convnext_tiny",
          "convnext_small",
          "convnext_small",
          "convnext_small",
          "convnext_small",
          "convnext_small",
          "convnext_small",
          "convnext_small",
          "convnext_small",
          "convnext_base",
          "convnext_base",
          "convnext_base",
          "convnext_base",
          "convnext_base",
          "convnext_base",
          "convnext_base",
          "convnext_base",
          "convnext_base",
          "convnext_large",
          "convnext_large",
          "convnext_large",
          "convnext_large",
          "convnext_large",
          "convnext_xlarge",
          "convnext_xlarge",
          "convnext_xlarge",
          "convnext_xxlarge"
         ],
         "legendgroup": "convnext",
         "marker": {
          "color": "#FFA15A",
          "size": [
           82944,
           82944,
           82944,
           82944,
           82944,
           82944,
           82944,
           82944,
           82944,
           82944,
           82944,
           82944,
           82944,
           82944,
           82944,
           82944,
           82944,
           82944,
           82944,
           82944,
           82944,
           82944,
           82944,
           82944,
           82944,
           82944,
           82944,
           82944,
           82944,
           82944,
           82944,
           82944,
           82944,
           82944,
           82944,
           82944,
           82944,
           82944,
           82944,
           82944,
           82944,
           82944,
           82944,
           82944,
           82944,
           82944,
           82944,
           82944,
           82944,
           82944,
           82944,
           82944,
           82944,
           50176
          ],
          "sizemode": "area",
          "sizeref": 655.36,
          "symbol": "circle"
         },
         "mode": "markers",
         "name": "convnext",
         "orientation": "v",
         "showlegend": true,
         "type": "scatter",
         "x": [
          0.00018313207118709872,
          0.00018313207118709872,
          0.00018907380306828968,
          0.00018907380306828968,
          0.00021056532578667207,
          0.00021056532578667207,
          0.00021652848540489744,
          0.00021652848540489744,
          0.0002668452751041364,
          0.0002668452751041364,
          0.0002738720579294177,
          0.0002738720579294177,
          0.0003828806407890404,
          0.0003828806407890404,
          0.0003828806407890404,
          0.0003828806407890404,
          0.0004106776180698152,
          0.0004106776180698152,
          0.0005966017563955708,
          0.0005966017563955708,
          0.0006089614770969588,
          0.0006089614770969588,
          0.0006089614770969588,
          0.0006089614770969588,
          0.0006089614770969588,
          0.0006089614770969588,
          0.0006089614770969588,
          0.0006089614770969588,
          0.0010118385105737126,
          0.0010118385105737126,
          0.0010118385105737126,
          0.0010118385105737126,
          0.0010118385105737126,
          0.0010118385105737126,
          0.0010118385105737126,
          0.0010118385105737126,
          0.0014553075064761185,
          0.0014553075064761185,
          0.0014553075064761185,
          0.0014553075064761185,
          0.0014553075064761185,
          0.0014553075064761185,
          0.0014553075064761185,
          0.0014553075064761185,
          0.0014553075064761185,
          0.002680821403678087,
          0.002680821403678087,
          0.002680821403678087,
          0.002680821403678087,
          0.002680821403678087,
          0.004121501875283353,
          0.004121501875283353,
          0.004121501875283353,
          0.005444250871080139
         ],
         "xaxis": "x",
         "y": [
          77.014,
          75.668,
          77.22,
          75.902,
          78.71,
          77.508,
          78.914,
          77.844,
          80.43,
          79.516,
          80.458,
          79.542,
          82.882,
          82.306,
          81.474,
          80.762,
          81.612,
          80.906,
          82.608,
          82.23,
          85.154,
          84.448,
          84.192,
          84.098,
          82.888,
          82.694,
          82.066,
          78.95,
          86.186,
          85.754,
          85.324,
          85.276,
          85.164,
          84.582,
          83.704,
          83.144,
          87.15,
          86.826,
          86.488,
          86.386,
          86.298,
          86.184,
          85.816,
          84.466,
          83.834,
          87.456,
          87.014,
          86.612,
          84.862,
          84.298,
          87.766,
          87.374,
          86.97,
          88.622
         ],
         "yaxis": "y"
        },
        {
         "hovertemplate": "<b>OLS trendline</b><br>top1 = 7.54531 * log10(secs) + 106.687<br>R<sup>2</sup>=0.822326<br><br>family=convnext<br>secs=%{x}<br>top1=%{y} <b>(trend)</b><extra></extra>",
         "legendgroup": "convnext",
         "marker": {
          "color": "#FFA15A",
          "symbol": "circle"
         },
         "mode": "lines",
         "name": "convnext",
         "showlegend": false,
         "type": "scatter",
         "x": [
          0.00018313207118709872,
          0.00018313207118709872,
          0.00018907380306828968,
          0.00018907380306828968,
          0.00021056532578667207,
          0.00021056532578667207,
          0.00021652848540489744,
          0.00021652848540489744,
          0.0002668452751041364,
          0.0002668452751041364,
          0.0002738720579294177,
          0.0002738720579294177,
          0.0003828806407890404,
          0.0003828806407890404,
          0.0003828806407890404,
          0.0003828806407890404,
          0.0004106776180698152,
          0.0004106776180698152,
          0.0005966017563955708,
          0.0005966017563955708,
          0.0006089614770969588,
          0.0006089614770969588,
          0.0006089614770969588,
          0.0006089614770969588,
          0.0006089614770969588,
          0.0006089614770969588,
          0.0006089614770969588,
          0.0006089614770969588,
          0.0010118385105737126,
          0.0010118385105737126,
          0.0010118385105737126,
          0.0010118385105737126,
          0.0010118385105737126,
          0.0010118385105737126,
          0.0010118385105737126,
          0.0010118385105737126,
          0.0014553075064761185,
          0.0014553075064761185,
          0.0014553075064761185,
          0.0014553075064761185,
          0.0014553075064761185,
          0.0014553075064761185,
          0.0014553075064761185,
          0.0014553075064761185,
          0.0014553075064761185,
          0.002680821403678087,
          0.002680821403678087,
          0.002680821403678087,
          0.002680821403678087,
          0.002680821403678087,
          0.004121501875283353,
          0.004121501875283353,
          0.004121501875283353,
          0.005444250871080139
         ],
         "xaxis": "x",
         "y": [
          78.48870977155914,
          78.48870977155914,
          78.59334018975458,
          78.59334018975458,
          78.94612478065976,
          78.94612478065976,
          79.03763563663374,
          79.03763563663374,
          79.72233061772938,
          79.72233061772938,
          79.80750361440627,
          79.80750361440627,
          80.90546415723023,
          80.90546415723023,
          80.90546415723023,
          80.90546415723023,
          81.13512540110784,
          81.13512540110784,
          82.35884969386896,
          82.35884969386896,
          82.42604286183169,
          82.42604286183169,
          82.42604286183169,
          82.42604286183169,
          82.42604286183169,
          82.42604286183169,
          82.42604286183169,
          82.42604286183169,
          84.08994447218558,
          84.08994447218558,
          84.08994447218558,
          84.08994447218558,
          84.08994447218558,
          84.08994447218558,
          84.08994447218558,
          84.08994447218558,
          85.28092267205828,
          85.28092267205828,
          85.28092267205828,
          85.28092267205828,
          85.28092267205828,
          85.28092267205828,
          85.28092267205828,
          85.28092267205828,
          85.28092267205828,
          87.28279163565958,
          87.28279163565958,
          87.28279163565958,
          87.28279163565958,
          87.28279163565958,
          88.69216162261138,
          88.69216162261138,
          88.69216162261138,
          89.60425819284279
         ],
         "yaxis": "y"
        },
        {
         "customdata": [
          [
           288
          ],
          [
           288
          ],
          [
           288
          ],
          [
           288
          ],
          [
           288
          ],
          [
           288
          ],
          [
           288
          ],
          [
           288
          ],
          [
           288
          ],
          [
           288
          ],
          [
           288
          ],
          [
           288
          ],
          [
           288
          ],
          [
           288
          ],
          [
           288
          ],
          [
           288
          ],
          [
           288
          ],
          [
           288
          ],
          [
           288
          ],
          [
           288
          ],
          [
           288
          ],
          [
           288
          ],
          [
           288
          ],
          [
           288
          ],
          [
           288
          ],
          [
           288
          ],
          [
           384
          ],
          [
           384
          ],
          [
           384
          ],
          [
           384
          ]
         ],
         "hovertemplate": "<b>%{hovertext}</b><br><br>family=convnextv2<br>secs=%{x}<br>top1=%{y}<br>size=%{marker.size}<br>infer_img_size=%{customdata[0]}<extra></extra>",
         "hovertext": [
          "convnextv2_atto",
          "convnextv2_atto",
          "convnextv2_femto",
          "convnextv2_femto",
          "convnextv2_pico",
          "convnextv2_pico",
          "convnextv2_nano",
          "convnextv2_nano",
          "convnextv2_nano",
          "convnextv2_nano",
          "convnextv2_nano",
          "convnextv2_tiny",
          "convnextv2_tiny",
          "convnextv2_tiny",
          "convnextv2_tiny",
          "convnextv2_tiny",
          "convnextv2_base",
          "convnextv2_base",
          "convnextv2_base",
          "convnextv2_base",
          "convnextv2_base",
          "convnextv2_large",
          "convnextv2_large",
          "convnextv2_large",
          "convnextv2_large",
          "convnextv2_large",
          "convnextv2_huge",
          "convnextv2_huge",
          "convnextv2_huge",
          "convnextv2_huge"
         ],
         "legendgroup": "convnextv2",
         "marker": {
          "color": "#19d3f3",
          "size": [
           82944,
           82944,
           82944,
           82944,
           82944,
           82944,
           82944,
           82944,
           82944,
           82944,
           82944,
           82944,
           82944,
           82944,
           82944,
           82944,
           82944,
           82944,
           82944,
           82944,
           82944,
           82944,
           82944,
           82944,
           82944,
           82944,
           147456,
           147456,
           147456,
           147456
          ],
          "sizemode": "area",
          "sizeref": 655.36,
          "symbol": "circle"
         },
         "mode": "markers",
         "name": "convnextv2",
         "orientation": "v",
         "showlegend": true,
         "type": "scatter",
         "x": [
          0.0003128196625927119,
          0.0003128196625927119,
          0.0003655090993490283,
          0.0003655090993490283,
          0.00047427080863172874,
          0.00047427080863172874,
          0.000666351260403409,
          0.000666351260403409,
          0.000666351260403409,
          0.000666351260403409,
          0.000666351260403409,
          0.0010743215659311145,
          0.0010743215659311145,
          0.0010743215659311145,
          0.0010743215659311145,
          0.0010743215659311145,
          0.002477762085284571,
          0.002477762085284571,
          0.002477762085284571,
          0.002477762085284571,
          0.002477762085284571,
          0.0041750167000668,
          0.0041750167000668,
          0.0041750167000668,
          0.0041750167000668,
          0.0041750167000668,
          0.01775883502042266,
          0.01775883502042266,
          0.01775883502042266,
          0.01775883502042266
         ],
         "xaxis": "x",
         "y": [
          77.79,
          76.646,
          79.332,
          78.484,
          81.056,
          80.304,
          83.362,
          82.666,
          82.496,
          82.038,
          81.856,
          85.106,
          84.422,
          83.904,
          83.476,
          82.948,
          87.638,
          86.998,
          86.752,
          85.49,
          84.888,
          88.178,
          87.494,
          87.264,
          86.126,
          85.762,
          88.86,
          88.662,
          86.618,
          86.26
         ],
         "yaxis": "y"
        },
        {
         "hovertemplate": "<b>OLS trendline</b><br>top1 = 5.30625 * log10(secs) + 98.8094<br>R<sup>2</sup>=0.760471<br><br>family=convnextv2<br>secs=%{x}<br>top1=%{y} <b>(trend)</b><extra></extra>",
         "legendgroup": "convnextv2",
         "marker": {
          "color": "#19d3f3",
          "symbol": "circle"
         },
         "mode": "lines",
         "name": "convnextv2",
         "showlegend": false,
         "type": "scatter",
         "x": [
          0.0003128196625927119,
          0.0003128196625927119,
          0.0003655090993490283,
          0.0003655090993490283,
          0.00047427080863172874,
          0.00047427080863172874,
          0.000666351260403409,
          0.000666351260403409,
          0.000666351260403409,
          0.000666351260403409,
          0.000666351260403409,
          0.0010743215659311145,
          0.0010743215659311145,
          0.0010743215659311145,
          0.0010743215659311145,
          0.0010743215659311145,
          0.002477762085284571,
          0.002477762085284571,
          0.002477762085284571,
          0.002477762085284571,
          0.002477762085284571,
          0.0041750167000668,
          0.0041750167000668,
          0.0041750167000668,
          0.0041750167000668,
          0.0041750167000668,
          0.01775883502042266,
          0.01775883502042266,
          0.01775883502042266,
          0.01775883502042266
         ],
         "xaxis": "x",
         "y": [
          80.21256579034528,
          80.21256579034528,
          80.57129043207556,
          80.57129043207556,
          81.17157715382653,
          81.17157715382653,
          81.95518759172515,
          81.95518759172515,
          81.95518759172515,
          81.95518759172515,
          81.95518759172515,
          83.05586908039209,
          83.05586908039209,
          83.05586908039209,
          83.05586908039209,
          83.05586908039209,
          84.98164215300362,
          84.98164215300362,
          84.98164215300362,
          84.98164215300362,
          84.98164215300362,
          86.18403145421716,
          86.18403145421716,
          86.18403145421716,
          86.18403145421716,
          86.18403145421716,
          89.52037046270361,
          89.52037046270361,
          89.52037046270361,
          89.52037046270361
         ],
         "yaxis": "y"
        },
        {
         "customdata": [
          [
           224
          ],
          [
           224
          ],
          [
           224
          ],
          [
           224
          ],
          [
           224
          ],
          [
           224
          ],
          [
           224
          ],
          [
           224
          ]
         ],
         "hovertemplate": "<b>%{hovertext}</b><br><br>family=vgg<br>secs=%{x}<br>top1=%{y}<br>size=%{marker.size}<br>infer_img_size=%{customdata[0]}<extra></extra>",
         "hovertext": [
          "vgg11",
          "vgg11_bn",
          "vgg13",
          "vgg13_bn",
          "vgg16",
          "vgg16_bn",
          "vgg19",
          "vgg19_bn"
         ],
         "legendgroup": "vgg",
         "marker": {
          "color": "#FF6692",
          "size": [
           50176,
           50176,
           50176,
           50176,
           50176,
           50176,
           50176,
           50176
          ],
          "sizemode": "area",
          "sizeref": 655.36,
          "symbol": "circle"
         },
         "mode": "markers",
         "name": "vgg",
         "orientation": "v",
         "showlegend": true,
         "type": "scatter",
         "x": [
          0.00033518017610366456,
          0.0003622689629688666,
          0.00046517902414744313,
          0.0005319941267848403,
          0.0005822619713061301,
          0.0006562282624388067,
          0.0007175093814351623,
          0.0008022334178352533
         ],
         "xaxis": "x",
         "y": [
          69.048,
          70.384,
          69.94,
          71.556,
          71.6,
          73.356,
          72.4,
          74.236
         ],
         "yaxis": "y"
        },
        {
         "hovertemplate": "<b>OLS trendline</b><br>top1 = 11.8929 * log10(secs) + 110.484<br>R<sup>2</sup>=0.858935<br><br>family=vgg<br>secs=%{x}<br>top1=%{y} <b>(trend)</b><extra></extra>",
         "legendgroup": "vgg",
         "marker": {
          "color": "#FF6692",
          "symbol": "circle"
         },
         "mode": "lines",
         "name": "vgg",
         "showlegend": false,
         "type": "scatter",
         "x": [
          0.00033518017610366456,
          0.0003622689629688666,
          0.00046517902414744313,
          0.0005319941267848403,
          0.0005822619713061301,
          0.0006562282624388067,
          0.0007175093814351623,
          0.0008022334178352533
         ],
         "xaxis": "x",
         "y": [
          69.15980201757398,
          69.56121914629556,
          70.85265211697136,
          71.54584744924628,
          72.01218511326948,
          72.62985832889997,
          73.09097579765964,
          73.66746003008295
         ],
         "yaxis": "y"
        },
        {
         "customdata": [
          [
           288
          ],
          [
           288
          ],
          [
           384
          ],
          [
           384
          ],
          [
           416
          ],
          [
           416
          ]
         ],
         "hovertemplate": "<b>%{hovertext}</b><br><br>family=efficientnetv2<br>secs=%{x}<br>top1=%{y}<br>size=%{marker.size}<br>infer_img_size=%{customdata[0]}<extra></extra>",
         "hovertext": [
          "efficientnetv2_rw_t",
          "efficientnetv2_rw_t",
          "efficientnetv2_rw_s",
          "efficientnetv2_rw_s",
          "efficientnetv2_rw_m",
          "efficientnetv2_rw_m"
         ],
         "legendgroup": "efficientnetv2",
         "marker": {
          "color": "#B6E880",
          "size": [
           82944,
           82944,
           147456,
           147456,
           173056,
           173056
          ],
          "sizemode": "area",
          "sizeref": 655.36,
          "symbol": "circle"
         },
         "mode": "markers",
         "name": "efficientnetv2",
         "orientation": "v",
         "showlegend": true,
         "type": "scatter",
         "x": [
          0.0003843950966561471,
          0.0003843950966561471,
          0.0008334236208922634,
          0.0008334236208922634,
          0.0018403666010269246,
          0.0018403666010269246
         ],
         "xaxis": "x",
         "y": [
          82.354,
          81.372,
          83.83,
          82.888,
          84.824,
          84.294
         ],
         "yaxis": "y"
        },
        {
         "hovertemplate": "<b>OLS trendline</b><br>top1 = 3.96209 * log10(secs) + 95.4496<br>R<sup>2</sup>=0.868238<br><br>family=efficientnetv2<br>secs=%{x}<br>top1=%{y} <b>(trend)</b><extra></extra>",
         "legendgroup": "efficientnetv2",
         "marker": {
          "color": "#B6E880",
          "symbol": "circle"
         },
         "mode": "lines",
         "name": "efficientnetv2",
         "showlegend": false,
         "type": "scatter",
         "x": [
          0.0003843950966561471,
          0.0003843950966561471,
          0.0008334236208922634,
          0.0008334236208922634,
          0.0018403666010269246,
          0.0018403666010269246
         ],
         "xaxis": "x",
         "y": [
          81.91822155553253,
          81.91822155553253,
          83.24983303364374,
          83.24983303364374,
          84.61294541082397,
          84.61294541082397
         ],
         "yaxis": "y"
        },
        {
         "customdata": [
          [
           224
          ],
          [
           224
          ],
          [
           384
          ],
          [
           384
          ],
          [
           512
          ]
         ],
         "hovertemplate": "<b>%{hovertext}</b><br><br>family=beit<br>secs=%{x}<br>top1=%{y}<br>size=%{marker.size}<br>infer_img_size=%{customdata[0]}<extra></extra>",
         "hovertext": [
          "beit_base_patch16_224",
          "beit_large_patch16_224",
          "beit_base_patch16_384",
          "beit_large_patch16_384",
          "beit_large_patch16_512"
         ],
         "legendgroup": "beit",
         "marker": {
          "color": "#FF97FF",
          "size": [
           50176,
           50176,
           147456,
           147456,
           262144
          ],
          "sizemode": "area",
          "sizeref": 655.36,
          "symbol": "circle"
         },
         "mode": "markers",
         "name": "beit",
         "orientation": "v",
         "showlegend": true,
         "type": "scatter",
         "x": [
          0.0008990703612464712,
          0.0027730020520215183,
          0.003827458185019329,
          0.011291779584462511,
          0.028304557033682426
         ],
         "xaxis": "x",
         "y": [
          85.244,
          87.488,
          86.816,
          88.382,
          88.578
         ],
         "yaxis": "y"
        },
        {
         "hovertemplate": "<b>OLS trendline</b><br>top1 = 2.17534 * log10(secs) + 92.3117<br>R<sup>2</sup>=0.859661<br><br>family=beit<br>secs=%{x}<br>top1=%{y} <b>(trend)</b><extra></extra>",
         "legendgroup": "beit",
         "marker": {
          "color": "#FF97FF",
          "symbol": "circle"
         },
         "mode": "lines",
         "name": "beit",
         "showlegend": false,
         "type": "scatter",
         "x": [
          0.0008990703612464712,
          0.0027730020520215183,
          0.003827458185019329,
          0.011291779584462511,
          0.028304557033682426
         ],
         "xaxis": "x",
         "y": [
          85.68518715980659,
          86.7492706367587,
          87.0537322989552,
          88.07582169769384,
          88.94398820678583
         ],
         "yaxis": "y"
        }
       ],
       "layout": {
        "height": 800,
        "legend": {
         "itemsizing": "constant",
         "title": {
          "text": "family"
         },
         "tracegroupgap": 0
        },
        "template": {
         "data": {
          "bar": [
           {
            "error_x": {
             "color": "#2a3f5f"
            },
            "error_y": {
             "color": "#2a3f5f"
            },
            "marker": {
             "line": {
              "color": "#E5ECF6",
              "width": 0.5
             },
             "pattern": {
              "fillmode": "overlay",
              "size": 10,
              "solidity": 0.2
             }
            },
            "type": "bar"
           }
          ],
          "barpolar": [
           {
            "marker": {
             "line": {
              "color": "#E5ECF6",
              "width": 0.5
             },
             "pattern": {
              "fillmode": "overlay",
              "size": 10,
              "solidity": 0.2
             }
            },
            "type": "barpolar"
           }
          ],
          "carpet": [
           {
            "aaxis": {
             "endlinecolor": "#2a3f5f",
             "gridcolor": "white",
             "linecolor": "white",
             "minorgridcolor": "white",
             "startlinecolor": "#2a3f5f"
            },
            "baxis": {
             "endlinecolor": "#2a3f5f",
             "gridcolor": "white",
             "linecolor": "white",
             "minorgridcolor": "white",
             "startlinecolor": "#2a3f5f"
            },
            "type": "carpet"
           }
          ],
          "choropleth": [
           {
            "colorbar": {
             "outlinewidth": 0,
             "ticks": ""
            },
            "type": "choropleth"
           }
          ],
          "contour": [
           {
            "colorbar": {
             "outlinewidth": 0,
             "ticks": ""
            },
            "colorscale": [
             [
              0,
              "#0d0887"
             ],
             [
              0.1111111111111111,
              "#46039f"
             ],
             [
              0.2222222222222222,
              "#7201a8"
             ],
             [
              0.3333333333333333,
              "#9c179e"
             ],
             [
              0.4444444444444444,
              "#bd3786"
             ],
             [
              0.5555555555555556,
              "#d8576b"
             ],
             [
              0.6666666666666666,
              "#ed7953"
             ],
             [
              0.7777777777777778,
              "#fb9f3a"
             ],
             [
              0.8888888888888888,
              "#fdca26"
             ],
             [
              1,
              "#f0f921"
             ]
            ],
            "type": "contour"
           }
          ],
          "contourcarpet": [
           {
            "colorbar": {
             "outlinewidth": 0,
             "ticks": ""
            },
            "type": "contourcarpet"
           }
          ],
          "heatmap": [
           {
            "colorbar": {
             "outlinewidth": 0,
             "ticks": ""
            },
            "colorscale": [
             [
              0,
              "#0d0887"
             ],
             [
              0.1111111111111111,
              "#46039f"
             ],
             [
              0.2222222222222222,
              "#7201a8"
             ],
             [
              0.3333333333333333,
              "#9c179e"
             ],
             [
              0.4444444444444444,
              "#bd3786"
             ],
             [
              0.5555555555555556,
              "#d8576b"
             ],
             [
              0.6666666666666666,
              "#ed7953"
             ],
             [
              0.7777777777777778,
              "#fb9f3a"
             ],
             [
              0.8888888888888888,
              "#fdca26"
             ],
             [
              1,
              "#f0f921"
             ]
            ],
            "type": "heatmap"
           }
          ],
          "heatmapgl": [
           {
            "colorbar": {
             "outlinewidth": 0,
             "ticks": ""
            },
            "colorscale": [
             [
              0,
              "#0d0887"
             ],
             [
              0.1111111111111111,
              "#46039f"
             ],
             [
              0.2222222222222222,
              "#7201a8"
             ],
             [
              0.3333333333333333,
              "#9c179e"
             ],
             [
              0.4444444444444444,
              "#bd3786"
             ],
             [
              0.5555555555555556,
              "#d8576b"
             ],
             [
              0.6666666666666666,
              "#ed7953"
             ],
             [
              0.7777777777777778,
              "#fb9f3a"
             ],
             [
              0.8888888888888888,
              "#fdca26"
             ],
             [
              1,
              "#f0f921"
             ]
            ],
            "type": "heatmapgl"
           }
          ],
          "histogram": [
           {
            "marker": {
             "pattern": {
              "fillmode": "overlay",
              "size": 10,
              "solidity": 0.2
             }
            },
            "type": "histogram"
           }
          ],
          "histogram2d": [
           {
            "colorbar": {
             "outlinewidth": 0,
             "ticks": ""
            },
            "colorscale": [
             [
              0,
              "#0d0887"
             ],
             [
              0.1111111111111111,
              "#46039f"
             ],
             [
              0.2222222222222222,
              "#7201a8"
             ],
             [
              0.3333333333333333,
              "#9c179e"
             ],
             [
              0.4444444444444444,
              "#bd3786"
             ],
             [
              0.5555555555555556,
              "#d8576b"
             ],
             [
              0.6666666666666666,
              "#ed7953"
             ],
             [
              0.7777777777777778,
              "#fb9f3a"
             ],
             [
              0.8888888888888888,
              "#fdca26"
             ],
             [
              1,
              "#f0f921"
             ]
            ],
            "type": "histogram2d"
           }
          ],
          "histogram2dcontour": [
           {
            "colorbar": {
             "outlinewidth": 0,
             "ticks": ""
            },
            "colorscale": [
             [
              0,
              "#0d0887"
             ],
             [
              0.1111111111111111,
              "#46039f"
             ],
             [
              0.2222222222222222,
              "#7201a8"
             ],
             [
              0.3333333333333333,
              "#9c179e"
             ],
             [
              0.4444444444444444,
              "#bd3786"
             ],
             [
              0.5555555555555556,
              "#d8576b"
             ],
             [
              0.6666666666666666,
              "#ed7953"
             ],
             [
              0.7777777777777778,
              "#fb9f3a"
             ],
             [
              0.8888888888888888,
              "#fdca26"
             ],
             [
              1,
              "#f0f921"
             ]
            ],
            "type": "histogram2dcontour"
           }
          ],
          "mesh3d": [
           {
            "colorbar": {
             "outlinewidth": 0,
             "ticks": ""
            },
            "type": "mesh3d"
           }
          ],
          "parcoords": [
           {
            "line": {
             "colorbar": {
              "outlinewidth": 0,
              "ticks": ""
             }
            },
            "type": "parcoords"
           }
          ],
          "pie": [
           {
            "automargin": true,
            "type": "pie"
           }
          ],
          "scatter": [
           {
            "fillpattern": {
             "fillmode": "overlay",
             "size": 10,
             "solidity": 0.2
            },
            "type": "scatter"
           }
          ],
          "scatter3d": [
           {
            "line": {
             "colorbar": {
              "outlinewidth": 0,
              "ticks": ""
             }
            },
            "marker": {
             "colorbar": {
              "outlinewidth": 0,
              "ticks": ""
             }
            },
            "type": "scatter3d"
           }
          ],
          "scattercarpet": [
           {
            "marker": {
             "colorbar": {
              "outlinewidth": 0,
              "ticks": ""
             }
            },
            "type": "scattercarpet"
           }
          ],
          "scattergeo": [
           {
            "marker": {
             "colorbar": {
              "outlinewidth": 0,
              "ticks": ""
             }
            },
            "type": "scattergeo"
           }
          ],
          "scattergl": [
           {
            "marker": {
             "colorbar": {
              "outlinewidth": 0,
              "ticks": ""
             }
            },
            "type": "scattergl"
           }
          ],
          "scattermapbox": [
           {
            "marker": {
             "colorbar": {
              "outlinewidth": 0,
              "ticks": ""
             }
            },
            "type": "scattermapbox"
           }
          ],
          "scatterpolar": [
           {
            "marker": {
             "colorbar": {
              "outlinewidth": 0,
              "ticks": ""
             }
            },
            "type": "scatterpolar"
           }
          ],
          "scatterpolargl": [
           {
            "marker": {
             "colorbar": {
              "outlinewidth": 0,
              "ticks": ""
             }
            },
            "type": "scatterpolargl"
           }
          ],
          "scatterternary": [
           {
            "marker": {
             "colorbar": {
              "outlinewidth": 0,
              "ticks": ""
             }
            },
            "type": "scatterternary"
           }
          ],
          "surface": [
           {
            "colorbar": {
             "outlinewidth": 0,
             "ticks": ""
            },
            "colorscale": [
             [
              0,
              "#0d0887"
             ],
             [
              0.1111111111111111,
              "#46039f"
             ],
             [
              0.2222222222222222,
              "#7201a8"
             ],
             [
              0.3333333333333333,
              "#9c179e"
             ],
             [
              0.4444444444444444,
              "#bd3786"
             ],
             [
              0.5555555555555556,
              "#d8576b"
             ],
             [
              0.6666666666666666,
              "#ed7953"
             ],
             [
              0.7777777777777778,
              "#fb9f3a"
             ],
             [
              0.8888888888888888,
              "#fdca26"
             ],
             [
              1,
              "#f0f921"
             ]
            ],
            "type": "surface"
           }
          ],
          "table": [
           {
            "cells": {
             "fill": {
              "color": "#EBF0F8"
             },
             "line": {
              "color": "white"
             }
            },
            "header": {
             "fill": {
              "color": "#C8D4E3"
             },
             "line": {
              "color": "white"
             }
            },
            "type": "table"
           }
          ]
         },
         "layout": {
          "annotationdefaults": {
           "arrowcolor": "#2a3f5f",
           "arrowhead": 0,
           "arrowwidth": 1
          },
          "autotypenumbers": "strict",
          "coloraxis": {
           "colorbar": {
            "outlinewidth": 0,
            "ticks": ""
           }
          },
          "colorscale": {
           "diverging": [
            [
             0,
             "#8e0152"
            ],
            [
             0.1,
             "#c51b7d"
            ],
            [
             0.2,
             "#de77ae"
            ],
            [
             0.3,
             "#f1b6da"
            ],
            [
             0.4,
             "#fde0ef"
            ],
            [
             0.5,
             "#f7f7f7"
            ],
            [
             0.6,
             "#e6f5d0"
            ],
            [
             0.7,
             "#b8e186"
            ],
            [
             0.8,
             "#7fbc41"
            ],
            [
             0.9,
             "#4d9221"
            ],
            [
             1,
             "#276419"
            ]
           ],
           "sequential": [
            [
             0,
             "#0d0887"
            ],
            [
             0.1111111111111111,
             "#46039f"
            ],
            [
             0.2222222222222222,
             "#7201a8"
            ],
            [
             0.3333333333333333,
             "#9c179e"
            ],
            [
             0.4444444444444444,
             "#bd3786"
            ],
            [
             0.5555555555555556,
             "#d8576b"
            ],
            [
             0.6666666666666666,
             "#ed7953"
            ],
            [
             0.7777777777777778,
             "#fb9f3a"
            ],
            [
             0.8888888888888888,
             "#fdca26"
            ],
            [
             1,
             "#f0f921"
            ]
           ],
           "sequentialminus": [
            [
             0,
             "#0d0887"
            ],
            [
             0.1111111111111111,
             "#46039f"
            ],
            [
             0.2222222222222222,
             "#7201a8"
            ],
            [
             0.3333333333333333,
             "#9c179e"
            ],
            [
             0.4444444444444444,
             "#bd3786"
            ],
            [
             0.5555555555555556,
             "#d8576b"
            ],
            [
             0.6666666666666666,
             "#ed7953"
            ],
            [
             0.7777777777777778,
             "#fb9f3a"
            ],
            [
             0.8888888888888888,
             "#fdca26"
            ],
            [
             1,
             "#f0f921"
            ]
           ]
          },
          "colorway": [
           "#636efa",
           "#EF553B",
           "#00cc96",
           "#ab63fa",
           "#FFA15A",
           "#19d3f3",
           "#FF6692",
           "#B6E880",
           "#FF97FF",
           "#FECB52"
          ],
          "font": {
           "color": "#2a3f5f"
          },
          "geo": {
           "bgcolor": "white",
           "lakecolor": "white",
           "landcolor": "#E5ECF6",
           "showlakes": true,
           "showland": true,
           "subunitcolor": "white"
          },
          "hoverlabel": {
           "align": "left"
          },
          "hovermode": "closest",
          "mapbox": {
           "style": "light"
          },
          "paper_bgcolor": "white",
          "plot_bgcolor": "#E5ECF6",
          "polar": {
           "angularaxis": {
            "gridcolor": "white",
            "linecolor": "white",
            "ticks": ""
           },
           "bgcolor": "#E5ECF6",
           "radialaxis": {
            "gridcolor": "white",
            "linecolor": "white",
            "ticks": ""
           }
          },
          "scene": {
           "xaxis": {
            "backgroundcolor": "#E5ECF6",
            "gridcolor": "white",
            "gridwidth": 2,
            "linecolor": "white",
            "showbackground": true,
            "ticks": "",
            "zerolinecolor": "white"
           },
           "yaxis": {
            "backgroundcolor": "#E5ECF6",
            "gridcolor": "white",
            "gridwidth": 2,
            "linecolor": "white",
            "showbackground": true,
            "ticks": "",
            "zerolinecolor": "white"
           },
           "zaxis": {
            "backgroundcolor": "#E5ECF6",
            "gridcolor": "white",
            "gridwidth": 2,
            "linecolor": "white",
            "showbackground": true,
            "ticks": "",
            "zerolinecolor": "white"
           }
          },
          "shapedefaults": {
           "line": {
            "color": "#2a3f5f"
           }
          },
          "ternary": {
           "aaxis": {
            "gridcolor": "white",
            "linecolor": "white",
            "ticks": ""
           },
           "baxis": {
            "gridcolor": "white",
            "linecolor": "white",
            "ticks": ""
           },
           "bgcolor": "#E5ECF6",
           "caxis": {
            "gridcolor": "white",
            "linecolor": "white",
            "ticks": ""
           }
          },
          "title": {
           "x": 0.05
          },
          "xaxis": {
           "automargin": true,
           "gridcolor": "white",
           "linecolor": "white",
           "ticks": "",
           "title": {
            "standoff": 15
           },
           "zerolinecolor": "white",
           "zerolinewidth": 2
          },
          "yaxis": {
           "automargin": true,
           "gridcolor": "white",
           "linecolor": "white",
           "ticks": "",
           "title": {
            "standoff": 15
           },
           "zerolinecolor": "white",
           "zerolinewidth": 2
          }
         }
        },
        "title": {
         "text": "Inference"
        },
        "width": 1000,
        "xaxis": {
         "anchor": "y",
         "domain": [
          0,
          1
         ],
         "title": {
          "text": "secs"
         },
         "type": "log"
        },
        "yaxis": {
         "anchor": "x",
         "domain": [
          0,
          1
         ],
         "title": {
          "text": "top1"
         }
        }
       }
      },
      "text/html": [
       "<div>                            <div id=\"481404d2-13f9-4d77-ad48-6f4be4971e68\" class=\"plotly-graph-div\" style=\"height:800px; width:1000px;\"></div>            <script type=\"text/javascript\">                require([\"plotly\"], function(Plotly) {                    window.PLOTLYENV=window.PLOTLYENV || {};                                    if (document.getElementById(\"481404d2-13f9-4d77-ad48-6f4be4971e68\")) {                    Plotly.newPlot(                        \"481404d2-13f9-4d77-ad48-6f4be4971e68\",                        [{\"customdata\":[[224],[224],[224],[224],[224],[224],[224],[224],[224],[224],[224],[224],[224],[224],[224],[224],[224],[224]],\"hovertemplate\":\"\\u003cb\\u003e%{hovertext}\\u003c\\u002fb\\u003e\\u003cbr\\u003e\\u003cbr\\u003efamily=regnetx\\u003cbr\\u003esecs=%{x}\\u003cbr\\u003etop1=%{y}\\u003cbr\\u003esize=%{marker.size}\\u003cbr\\u003einfer_img_size=%{customdata[0]}\\u003cextra\\u003e\\u003c\\u002fextra\\u003e\",\"hovertext\":[\"regnetx_002\",\"regnetx_004\",\"regnetx_006\",\"regnetx_008\",\"regnetx_008\",\"regnetx_016\",\"regnetx_016\",\"regnetx_032\",\"regnetx_032\",\"regnetx_040\",\"regnetx_064\",\"regnetx_160\",\"regnetx_160\",\"regnetx_080\",\"regnetx_080\",\"regnetx_120\",\"regnetx_320\",\"regnetx_320\"],\"legendgroup\":\"regnetx\",\"marker\":{\"color\":\"#636efa\",\"size\":[50176,50176,50176,50176,50176,50176,50176,50176,50176,50176,50176,50176,50176,50176,50176,50176,50176,50176],\"sizemode\":\"area\",\"sizeref\":655.36,\"symbol\":\"circle\"},\"mode\":\"markers\",\"name\":\"regnetx\",\"orientation\":\"v\",\"showlegend\":true,\"x\":[0.00004169550605835703,0.00007347430603517949,0.00011933857786603528,0.0001352286987753689,0.0001352286987753689,0.00025957777079801996,0.00025957777079801996,0.00041162088070403636,0.00041162088070403636,0.0005174322939843322,0.0006449449217036865,0.0008367640660039495,0.0008367640660039495,0.0009955102487780112,0.0009955102487780112,0.0015615972016178147,0.003454947484798231,0.003454947484798231],\"xaxis\":\"x\",\"y\":[68.76,72.432,73.884,77.288,75.062,79.452,76.924,80.926,78.166,78.494,79.06,82.576,79.858,81.56,79.216,79.608,82.824,80.262],\"yaxis\":\"y\",\"type\":\"scatter\"},{\"hovertemplate\":\"\\u003cb\\u003eOLS trendline\\u003c\\u002fb\\u003e\\u003cbr\\u003etop1 = 5.80886 * log10(secs) + 97.6491\\u003cbr\\u003eR\\u003csup\\u003e2\\u003c\\u002fsup\\u003e=0.742497\\u003cbr\\u003e\\u003cbr\\u003efamily=regnetx\\u003cbr\\u003esecs=%{x}\\u003cbr\\u003etop1=%{y} \\u003cb\\u003e(trend)\\u003c\\u002fb\\u003e\\u003cextra\\u003e\\u003c\\u002fextra\\u003e\",\"legendgroup\":\"regnetx\",\"marker\":{\"color\":\"#636efa\",\"symbol\":\"circle\"},\"mode\":\"lines\",\"name\":\"regnetx\",\"showlegend\":false,\"x\":[0.00004169550605835703,0.00007347430603517949,0.00011933857786603528,0.0001352286987753689,0.0001352286987753689,0.00025957777079801996,0.00025957777079801996,0.00041162088070403636,0.00041162088070403636,0.0005174322939843322,0.0006449449217036865,0.0008367640660039495,0.0008367640660039495,0.0009955102487780112,0.0009955102487780112,0.0015615972016178147,0.003454947484798231,0.003454947484798231],\"xaxis\":\"x\",\"y\":[72.20685890576388,73.63610693894294,74.85971624753734,75.17506766989868,75.17506766989868,76.82012868806744,76.82012868806744,77.98323601785766,77.98323601785766,78.56038182348946,79.11611015648333,79.77297826590689,79.77297826590689,80.21121438293558,80.21121438293558,81.3469816628373,83.35029710780631,83.35029710780631],\"yaxis\":\"y\",\"type\":\"scatter\"},{\"customdata\":[[224],[224],[224],[224],[224]],\"hovertemplate\":\"\\u003cb\\u003e%{hovertext}\\u003c\\u002fb\\u003e\\u003cbr\\u003e\\u003cbr\\u003efamily=levit\\u003cbr\\u003esecs=%{x}\\u003cbr\\u003etop1=%{y}\\u003cbr\\u003esize=%{marker.size}\\u003cbr\\u003einfer_img_size=%{customdata[0]}\\u003cextra\\u003e\\u003c\\u002fextra\\u003e\",\"hovertext\":[\"levit_128s\",\"levit_128\",\"levit_192\",\"levit_256\",\"levit_384\"],\"legendgroup\":\"levit\",\"marker\":{\"color\":\"#EF553B\",\"size\":[50176,50176,50176,50176,50176],\"sizemode\":\"area\",\"sizeref\":655.36,\"symbol\":\"circle\"},\"mode\":\"markers\",\"name\":\"levit\",\"orientation\":\"v\",\"showlegend\":true,\"x\":[0.000044100013538704156,0.00006519895134006664,0.00007394185508283706,0.00010143942544709426,0.00017005645874430312],\"xaxis\":\"x\",\"y\":[76.522,78.486,79.85,81.506,82.598],\"yaxis\":\"y\",\"type\":\"scatter\"},{\"hovertemplate\":\"\\u003cb\\u003eOLS trendline\\u003c\\u002fb\\u003e\\u003cbr\\u003etop1 = 10.6297 * log10(secs) + 123.237\\u003cbr\\u003eR\\u003csup\\u003e2\\u003c\\u002fsup\\u003e=0.941259\\u003cbr\\u003e\\u003cbr\\u003efamily=levit\\u003cbr\\u003esecs=%{x}\\u003cbr\\u003etop1=%{y} \\u003cb\\u003e(trend)\\u003c\\u002fb\\u003e\\u003cextra\\u003e\\u003c\\u002fextra\\u003e\",\"legendgroup\":\"levit\",\"marker\":{\"color\":\"#EF553B\",\"symbol\":\"circle\"},\"mode\":\"lines\",\"name\":\"levit\",\"showlegend\":false,\"x\":[0.000044100013538704156,0.00006519895134006664,0.00007394185508283706,0.00010143942544709426,0.00017005645874430312],\"xaxis\":\"x\",\"y\":[76.93901490392253,78.7439577190298,79.32486786999588,80.78450016508378,83.16965934196737],\"yaxis\":\"y\",\"type\":\"scatter\"},{\"customdata\":[[224],[224],[224],[224],[224],[224],[224],[224],[224],[224],[224],[224],[224],[224],[224],[224],[224],[224],[224],[224],[224],[224],[224],[224],[224],[224],[256],[256],[224],[224],[224],[224],[224],[224],[224],[224],[224],[224],[224],[224],[224],[224],[224],[224],[224],[224],[224],[224],[224],[224],[224],[224],[224],[224],[224],[224],[224],[224],[224],[256],[256],[256],[256],[224],[224],[224],[224],[224],[224],[224],[224],[224],[224],[224],[224],[288],[288],[288],[288],[224],[224],[224],[224],[224],[224],[224],[224],[224],[224],[224],[224]],\"hovertemplate\":\"\\u003cb\\u003e%{hovertext}\\u003c\\u002fb\\u003e\\u003cbr\\u003e\\u003cbr\\u003efamily=resnet\\u003cbr\\u003esecs=%{x}\\u003cbr\\u003etop1=%{y}\\u003cbr\\u003esize=%{marker.size}\\u003cbr\\u003einfer_img_size=%{customdata[0]}\\u003cextra\\u003e\\u003c\\u002fextra\\u003e\",\"hovertext\":[\"resnet10t\",\"resnet10t\",\"resnet18\",\"resnet18\",\"resnet18\",\"resnet18\",\"resnet18\",\"resnet18\",\"resnet18\",\"resnet18\",\"resnet18\",\"resnet18\",\"resnet14t\",\"resnet14t\",\"resnet34\",\"resnet34\",\"resnet34\",\"resnet34\",\"resnet34\",\"resnet34\",\"resnet34\",\"resnet34\",\"resnet34\",\"resnet34\",\"resnet26\",\"resnet26\",\"resnet26t\",\"resnet26t\",\"resnet50\",\"resnet50\",\"resnet50\",\"resnet50\",\"resnet50\",\"resnet50\",\"resnet50\",\"resnet50\",\"resnet50\",\"resnet50\",\"resnet50\",\"resnet50\",\"resnet50\",\"resnet50\",\"resnet50\",\"resnet50\",\"resnet50\",\"resnet50\",\"resnet50\",\"resnet50\",\"resnet50\",\"resnet50\",\"resnet50\",\"resnet50\",\"resnet50\",\"resnet50\",\"resnet50\",\"resnet50\",\"resnet50\",\"resnet50\",\"resnet50\",\"resnet32ts\",\"resnet32ts\",\"resnet33ts\",\"resnet33ts\",\"resnet101\",\"resnet101\",\"resnet101\",\"resnet101\",\"resnet101\",\"resnet101\",\"resnet101\",\"resnet101\",\"resnet101\",\"resnet101\",\"resnet101\",\"resnet101\",\"resnet51q\",\"resnet51q\",\"resnet61q\",\"resnet61q\",\"resnet152\",\"resnet152\",\"resnet152\",\"resnet152\",\"resnet152\",\"resnet152\",\"resnet152\",\"resnet152\",\"resnet152\",\"resnet152\",\"resnet152\",\"resnet152\"],\"legendgroup\":\"resnet\",\"marker\":{\"color\":\"#00cc96\",\"size\":[50176,50176,50176,50176,50176,50176,50176,50176,50176,50176,50176,50176,50176,50176,50176,50176,50176,50176,50176,50176,50176,50176,50176,50176,50176,50176,65536,65536,50176,50176,50176,50176,50176,50176,50176,50176,50176,50176,50176,50176,50176,50176,50176,50176,50176,50176,50176,50176,50176,50176,50176,50176,50176,50176,50176,50176,50176,50176,50176,65536,65536,65536,65536,50176,50176,50176,50176,50176,50176,50176,50176,50176,50176,50176,50176,82944,82944,82944,82944,50176,50176,50176,50176,50176,50176,50176,50176,50176,50176,50176,50176],\"sizemode\":\"area\",\"sizeref\":655.36,\"symbol\":\"circle\"},\"mode\":\"markers\",\"name\":\"resnet\",\"orientation\":\"v\",\"showlegend\":true,\"x\":[0.00007086132650986,0.00007086132650986,0.00009022746343532044,0.00009022746343532044,0.00009022746343532044,0.00009022746343532044,0.00009022746343532044,0.00009022746343532044,0.00009022746343532044,0.00009022746343532044,0.00009022746343532044,0.00009022746343532044,0.00013459529885540158,0.00013459529885540158,0.00015393093426841246,0.00015393093426841246,0.00015393093426841246,0.00015393093426841246,0.00015393093426841246,0.00015393093426841246,0.00015393093426841246,0.00015393093426841246,0.00015393093426841246,0.00015393093426841246,0.00016962924136714383,0.00016962924136714383,0.00025384189711280227,0.00025384189711280227,0.00027258503290101345,0.00027258503290101345,0.00027258503290101345,0.00027258503290101345,0.00027258503290101345,0.00027258503290101345,0.00027258503290101345,0.00027258503290101345,0.00027258503290101345,0.00027258503290101345,0.00027258503290101345,0.00027258503290101345,0.00027258503290101345,0.00027258503290101345,0.00027258503290101345,0.00027258503290101345,0.00027258503290101345,0.00027258503290101345,0.00027258503290101345,0.00027258503290101345,0.00027258503290101345,0.00027258503290101345,0.00027258503290101345,0.00027258503290101345,0.00027258503290101345,0.00027258503290101345,0.00027258503290101345,0.00027258503290101345,0.00027258503290101345,0.00027258503290101345,0.00027258503290101345,0.0002863180076847753,0.0002863180076847753,0.0002889522015268234,0.0002889522015268234,0.0004428148856651965,0.0004428148856651965,0.0004428148856651965,0.0004428148856651965,0.0004428148856651965,0.0004428148856651965,0.0004428148856651965,0.0004428148856651965,0.0004428148856651965,0.0004428148856651965,0.0004428148856651965,0.0004428148856651965,0.0004915430026395859,0.0004915430026395859,0.0005429353255440212,0.0005429353255440212,0.000632503067639878,0.000632503067639878,0.000632503067639878,0.000632503067639878,0.000632503067639878,0.000632503067639878,0.000632503067639878,0.000632503067639878,0.000632503067639878,0.000632503067639878,0.000632503067639878,0.000632503067639878],\"xaxis\":\"x\",\"y\":[68.346,66.724,73.288,73.164,72.636,72.362,71.488,70.844,70.634,69.752,68.246,65.664,72.242,71.318,77.938,77.148,76.508,76.414,75.516,75.162,74.574,73.298,72.982,70.572,76.378,75.292,78.33,77.884,81.24,81.146,81.012,80.928,80.856,80.844,80.78,80.706,80.652,80.47,80.382,79.974,79.904,79.868,79.86,79.828,79.766,79.652,79.564,79.432,79.38,79.26,79.252,79.032,79.004,78.814,78.432,78.052,77.58,76.156,75.994,79.388,79.054,79.708,79.216,82.802,82.322,82.224,81.95,81.906,81.494,81.344,79.906,79.82,79.306,77.928,77.404,82.356,81.778,82.524,81.966,83.494,82.818,82.744,82.62,82.294,81.998,81.764,80.548,80.212,79.712,78.896,78.33],\"yaxis\":\"y\",\"type\":\"scatter\"},{\"hovertemplate\":\"\\u003cb\\u003eOLS trendline\\u003c\\u002fb\\u003e\\u003cbr\\u003etop1 = 13.4691 * log10(secs) + 126.269\\u003cbr\\u003eR\\u003csup\\u003e2\\u003c\\u002fsup\\u003e=0.760839\\u003cbr\\u003e\\u003cbr\\u003efamily=resnet\\u003cbr\\u003esecs=%{x}\\u003cbr\\u003etop1=%{y} \\u003cb\\u003e(trend)\\u003c\\u002fb\\u003e\\u003cextra\\u003e\\u003c\\u002fextra\\u003e\",\"legendgroup\":\"resnet\",\"marker\":{\"color\":\"#00cc96\",\"symbol\":\"circle\"},\"mode\":\"lines\",\"name\":\"resnet\",\"showlegend\":false,\"x\":[0.00007086132650986,0.00007086132650986,0.00009022746343532044,0.00009022746343532044,0.00009022746343532044,0.00009022746343532044,0.00009022746343532044,0.00009022746343532044,0.00009022746343532044,0.00009022746343532044,0.00009022746343532044,0.00009022746343532044,0.00013459529885540158,0.00013459529885540158,0.00015393093426841246,0.00015393093426841246,0.00015393093426841246,0.00015393093426841246,0.00015393093426841246,0.00015393093426841246,0.00015393093426841246,0.00015393093426841246,0.00015393093426841246,0.00015393093426841246,0.00016962924136714383,0.00016962924136714383,0.00025384189711280227,0.00025384189711280227,0.00027258503290101345,0.00027258503290101345,0.00027258503290101345,0.00027258503290101345,0.00027258503290101345,0.00027258503290101345,0.00027258503290101345,0.00027258503290101345,0.00027258503290101345,0.00027258503290101345,0.00027258503290101345,0.00027258503290101345,0.00027258503290101345,0.00027258503290101345,0.00027258503290101345,0.00027258503290101345,0.00027258503290101345,0.00027258503290101345,0.00027258503290101345,0.00027258503290101345,0.00027258503290101345,0.00027258503290101345,0.00027258503290101345,0.00027258503290101345,0.00027258503290101345,0.00027258503290101345,0.00027258503290101345,0.00027258503290101345,0.00027258503290101345,0.00027258503290101345,0.00027258503290101345,0.0002863180076847753,0.0002863180076847753,0.0002889522015268234,0.0002889522015268234,0.0004428148856651965,0.0004428148856651965,0.0004428148856651965,0.0004428148856651965,0.0004428148856651965,0.0004428148856651965,0.0004428148856651965,0.0004428148856651965,0.0004428148856651965,0.0004428148856651965,0.0004428148856651965,0.0004428148856651965,0.0004915430026395859,0.0004915430026395859,0.0005429353255440212,0.0005429353255440212,0.000632503067639878,0.000632503067639878,0.000632503067639878,0.000632503067639878,0.000632503067639878,0.000632503067639878,0.000632503067639878,0.000632503067639878,0.000632503067639878,0.000632503067639878,0.000632503067639878,0.000632503067639878],\"xaxis\":\"x\",\"y\":[70.37747738006378,70.37747738006378,71.79078096828101,71.79078096828101,71.79078096828101,71.79078096828101,71.79078096828101,71.79078096828101,71.79078096828101,71.79078096828101,71.79078096828101,71.79078096828101,74.13024113078217,74.13024113078217,74.91543489783339,74.91543489783339,74.91543489783339,74.91543489783339,74.91543489783339,74.91543489783339,74.91543489783339,74.91543489783339,74.91543489783339,74.91543489783339,75.48349091236608,75.48349091236608,77.84142314107373,77.84142314107373,78.25813902774507,78.25813902774507,78.25813902774507,78.25813902774507,78.25813902774507,78.25813902774507,78.25813902774507,78.25813902774507,78.25813902774507,78.25813902774507,78.25813902774507,78.25813902774507,78.25813902774507,78.25813902774507,78.25813902774507,78.25813902774507,78.25813902774507,78.25813902774507,78.25813902774507,78.25813902774507,78.25813902774507,78.25813902774507,78.25813902774507,78.25813902774507,78.25813902774507,78.25813902774507,78.25813902774507,78.25813902774507,78.25813902774507,78.25813902774507,78.25813902774507,78.54565889754289,78.54565889754289,78.59923007223509,78.59923007223509,81.09634665677606,81.09634665677606,81.09634665677606,81.09634665677606,81.09634665677606,81.09634665677606,81.09634665677606,81.09634665677606,81.09634665677606,81.09634665677606,81.09634665677606,81.09634665677606,81.70702547044637,81.70702547044637,82.2887090561542,82.2887090561542,83.18190495634232,83.18190495634232,83.18190495634232,83.18190495634232,83.18190495634232,83.18190495634232,83.18190495634232,83.18190495634232,83.18190495634232,83.18190495634232,83.18190495634232,83.18190495634232],\"yaxis\":\"y\",\"type\":\"scatter\"},{\"customdata\":[[224],[224],[224],[224],[224],[224],[224],[224],[224],[224],[224],[224],[224],[224],[224],[224],[224],[320],[320],[320],[320],[320],[320],[320],[320]],\"hovertemplate\":\"\\u003cb\\u003e%{hovertext}\\u003c\\u002fb\\u003e\\u003cbr\\u003e\\u003cbr\\u003efamily=resnetd\\u003cbr\\u003esecs=%{x}\\u003cbr\\u003etop1=%{y}\\u003cbr\\u003esize=%{marker.size}\\u003cbr\\u003einfer_img_size=%{customdata[0]}\\u003cextra\\u003e\\u003c\\u002fextra\\u003e\",\"hovertext\":[\"resnet18d\",\"resnet18d\",\"resnet34d\",\"resnet34d\",\"resnet26d\",\"resnet26d\",\"resnet50d\",\"resnet50d\",\"resnet50d\",\"resnet50d\",\"resnet50d\",\"resnet50d\",\"resnet50d\",\"resnet50d\",\"resnet50d\",\"resnet50d\",\"resnet50d\",\"resnet101d\",\"resnet101d\",\"resnet101d\",\"resnet152d\",\"resnet152d\",\"resnet152d\",\"resnet200d\",\"resnet200d\"],\"legendgroup\":\"resnetd\",\"marker\":{\"color\":\"#ab63fa\",\"size\":[50176,50176,50176,50176,50176,50176,50176,50176,50176,50176,50176,50176,50176,50176,50176,50176,50176,102400,102400,102400,102400,102400,102400,102400,102400],\"sizemode\":\"area\",\"sizeref\":655.36,\"symbol\":\"circle\"},\"mode\":\"markers\",\"name\":\"resnetd\",\"orientation\":\"v\",\"showlegend\":true,\"x\":[0.00010712567877508214,0.00010712567877508214,0.00017047449871973654,0.00017047449871973654,0.0001957613747146778,0.0001957613747146778,0.0002983765332824104,0.0002983765332824104,0.0002983765332824104,0.0002983765332824104,0.0002983765332824104,0.0002983765332824104,0.0002983765332824104,0.0002983765332824104,0.0002983765332824104,0.0002983765332824104,0.0002983765332824104,0.0009616494210870484,0.0009616494210870484,0.0009616494210870484,0.0013470371916968627,0.0013470371916968627,0.0013470371916968627,0.0018343911655721466,0.0018343911655721466],\"xaxis\":\"x\",\"y\":[73.794,72.268,78.44,77.104,77.424,76.698,81.83,81.444,81.35,81.168,80.956,80.73,80.548,80.268,79.08,78.742,77.222,83.018,82.252,80.466,83.684,83.156,80.476,83.976,83.24],\"yaxis\":\"y\",\"type\":\"scatter\"},{\"hovertemplate\":\"\\u003cb\\u003eOLS trendline\\u003c\\u002fb\\u003e\\u003cbr\\u003etop1 = 6.34314 * log10(secs) + 101.491\\u003cbr\\u003eR\\u003csup\\u003e2\\u003c\\u002fsup\\u003e=0.654556\\u003cbr\\u003e\\u003cbr\\u003efamily=resnetd\\u003cbr\\u003esecs=%{x}\\u003cbr\\u003etop1=%{y} \\u003cb\\u003e(trend)\\u003c\\u002fb\\u003e\\u003cextra\\u003e\\u003c\\u002fextra\\u003e\",\"legendgroup\":\"resnetd\",\"marker\":{\"color\":\"#ab63fa\",\"symbol\":\"circle\"},\"mode\":\"lines\",\"name\":\"resnetd\",\"showlegend\":false,\"x\":[0.00010712567877508214,0.00010712567877508214,0.00017047449871973654,0.00017047449871973654,0.0001957613747146778,0.0001957613747146778,0.0002983765332824104,0.0002983765332824104,0.0002983765332824104,0.0002983765332824104,0.0002983765332824104,0.0002983765332824104,0.0002983765332824104,0.0002983765332824104,0.0002983765332824104,0.0002983765332824104,0.0002983765332824104,0.0009616494210870484,0.0009616494210870484,0.0009616494210870484,0.0013470371916968627,0.0013470371916968627,0.0013470371916968627,0.0018343911655721466,0.0018343911655721466],\"xaxis\":\"x\",\"y\":[76.30808753812396,76.30808753812396,77.58791718086437,77.58791718086437,77.96893448505776,77.96893448505776,79.1299686093536,79.1299686093536,79.1299686093536,79.1299686093536,79.1299686093536,79.1299686093536,79.1299686093536,79.1299686093536,79.1299686093536,79.1299686093536,79.1299686093536,82.3538846713911,82.3538846713911,82.3538846713911,83.28228498960375,83.28228498960375,83.28228498960375,84.13297895301673,84.13297895301673],\"yaxis\":\"y\",\"type\":\"scatter\"},{\"customdata\":[[288],[288],[288],[288],[288],[288],[288],[288],[288],[288],[288],[288],[288],[288],[288],[288],[288],[288],[288],[288],[288],[288],[288],[288],[288],[288],[288],[288],[288],[288],[288],[288],[288],[288],[288],[288],[288],[288],[288],[288],[288],[288],[288],[288],[288],[288],[288],[288],[288],[288],[288],[288],[288],[224]],\"hovertemplate\":\"\\u003cb\\u003e%{hovertext}\\u003c\\u002fb\\u003e\\u003cbr\\u003e\\u003cbr\\u003efamily=convnext\\u003cbr\\u003esecs=%{x}\\u003cbr\\u003etop1=%{y}\\u003cbr\\u003esize=%{marker.size}\\u003cbr\\u003einfer_img_size=%{customdata[0]}\\u003cextra\\u003e\\u003c\\u002fextra\\u003e\",\"hovertext\":[\"convnext_atto\",\"convnext_atto\",\"convnext_atto_ols\",\"convnext_atto_ols\",\"convnext_femto\",\"convnext_femto\",\"convnext_femto_ols\",\"convnext_femto_ols\",\"convnext_pico\",\"convnext_pico\",\"convnext_pico_ols\",\"convnext_pico_ols\",\"convnext_nano\",\"convnext_nano\",\"convnext_nano\",\"convnext_nano\",\"convnext_nano_ols\",\"convnext_nano_ols\",\"convnext_tiny_hnf\",\"convnext_tiny_hnf\",\"convnext_tiny\",\"convnext_tiny\",\"convnext_tiny\",\"convnext_tiny\",\"convnext_tiny\",\"convnext_tiny\",\"convnext_tiny\",\"convnext_tiny\",\"convnext_small\",\"convnext_small\",\"convnext_small\",\"convnext_small\",\"convnext_small\",\"convnext_small\",\"convnext_small\",\"convnext_small\",\"convnext_base\",\"convnext_base\",\"convnext_base\",\"convnext_base\",\"convnext_base\",\"convnext_base\",\"convnext_base\",\"convnext_base\",\"convnext_base\",\"convnext_large\",\"convnext_large\",\"convnext_large\",\"convnext_large\",\"convnext_large\",\"convnext_xlarge\",\"convnext_xlarge\",\"convnext_xlarge\",\"convnext_xxlarge\"],\"legendgroup\":\"convnext\",\"marker\":{\"color\":\"#FFA15A\",\"size\":[82944,82944,82944,82944,82944,82944,82944,82944,82944,82944,82944,82944,82944,82944,82944,82944,82944,82944,82944,82944,82944,82944,82944,82944,82944,82944,82944,82944,82944,82944,82944,82944,82944,82944,82944,82944,82944,82944,82944,82944,82944,82944,82944,82944,82944,82944,82944,82944,82944,82944,82944,82944,82944,50176],\"sizemode\":\"area\",\"sizeref\":655.36,\"symbol\":\"circle\"},\"mode\":\"markers\",\"name\":\"convnext\",\"orientation\":\"v\",\"showlegend\":true,\"x\":[0.00018313207118709872,0.00018313207118709872,0.00018907380306828968,0.00018907380306828968,0.00021056532578667207,0.00021056532578667207,0.00021652848540489744,0.00021652848540489744,0.0002668452751041364,0.0002668452751041364,0.0002738720579294177,0.0002738720579294177,0.0003828806407890404,0.0003828806407890404,0.0003828806407890404,0.0003828806407890404,0.0004106776180698152,0.0004106776180698152,0.0005966017563955708,0.0005966017563955708,0.0006089614770969588,0.0006089614770969588,0.0006089614770969588,0.0006089614770969588,0.0006089614770969588,0.0006089614770969588,0.0006089614770969588,0.0006089614770969588,0.0010118385105737126,0.0010118385105737126,0.0010118385105737126,0.0010118385105737126,0.0010118385105737126,0.0010118385105737126,0.0010118385105737126,0.0010118385105737126,0.0014553075064761185,0.0014553075064761185,0.0014553075064761185,0.0014553075064761185,0.0014553075064761185,0.0014553075064761185,0.0014553075064761185,0.0014553075064761185,0.0014553075064761185,0.002680821403678087,0.002680821403678087,0.002680821403678087,0.002680821403678087,0.002680821403678087,0.004121501875283353,0.004121501875283353,0.004121501875283353,0.005444250871080139],\"xaxis\":\"x\",\"y\":[77.014,75.668,77.22,75.902,78.71,77.508,78.914,77.844,80.43,79.516,80.458,79.542,82.882,82.306,81.474,80.762,81.612,80.906,82.608,82.23,85.154,84.448,84.192,84.098,82.888,82.694,82.066,78.95,86.186,85.754,85.324,85.276,85.164,84.582,83.704,83.144,87.15,86.826,86.488,86.386,86.298,86.184,85.816,84.466,83.834,87.456,87.014,86.612,84.862,84.298,87.766,87.374,86.97,88.622],\"yaxis\":\"y\",\"type\":\"scatter\"},{\"hovertemplate\":\"\\u003cb\\u003eOLS trendline\\u003c\\u002fb\\u003e\\u003cbr\\u003etop1 = 7.54531 * log10(secs) + 106.687\\u003cbr\\u003eR\\u003csup\\u003e2\\u003c\\u002fsup\\u003e=0.822326\\u003cbr\\u003e\\u003cbr\\u003efamily=convnext\\u003cbr\\u003esecs=%{x}\\u003cbr\\u003etop1=%{y} \\u003cb\\u003e(trend)\\u003c\\u002fb\\u003e\\u003cextra\\u003e\\u003c\\u002fextra\\u003e\",\"legendgroup\":\"convnext\",\"marker\":{\"color\":\"#FFA15A\",\"symbol\":\"circle\"},\"mode\":\"lines\",\"name\":\"convnext\",\"showlegend\":false,\"x\":[0.00018313207118709872,0.00018313207118709872,0.00018907380306828968,0.00018907380306828968,0.00021056532578667207,0.00021056532578667207,0.00021652848540489744,0.00021652848540489744,0.0002668452751041364,0.0002668452751041364,0.0002738720579294177,0.0002738720579294177,0.0003828806407890404,0.0003828806407890404,0.0003828806407890404,0.0003828806407890404,0.0004106776180698152,0.0004106776180698152,0.0005966017563955708,0.0005966017563955708,0.0006089614770969588,0.0006089614770969588,0.0006089614770969588,0.0006089614770969588,0.0006089614770969588,0.0006089614770969588,0.0006089614770969588,0.0006089614770969588,0.0010118385105737126,0.0010118385105737126,0.0010118385105737126,0.0010118385105737126,0.0010118385105737126,0.0010118385105737126,0.0010118385105737126,0.0010118385105737126,0.0014553075064761185,0.0014553075064761185,0.0014553075064761185,0.0014553075064761185,0.0014553075064761185,0.0014553075064761185,0.0014553075064761185,0.0014553075064761185,0.0014553075064761185,0.002680821403678087,0.002680821403678087,0.002680821403678087,0.002680821403678087,0.002680821403678087,0.004121501875283353,0.004121501875283353,0.004121501875283353,0.005444250871080139],\"xaxis\":\"x\",\"y\":[78.48870977155914,78.48870977155914,78.59334018975458,78.59334018975458,78.94612478065976,78.94612478065976,79.03763563663374,79.03763563663374,79.72233061772938,79.72233061772938,79.80750361440627,79.80750361440627,80.90546415723023,80.90546415723023,80.90546415723023,80.90546415723023,81.13512540110784,81.13512540110784,82.35884969386896,82.35884969386896,82.42604286183169,82.42604286183169,82.42604286183169,82.42604286183169,82.42604286183169,82.42604286183169,82.42604286183169,82.42604286183169,84.08994447218558,84.08994447218558,84.08994447218558,84.08994447218558,84.08994447218558,84.08994447218558,84.08994447218558,84.08994447218558,85.28092267205828,85.28092267205828,85.28092267205828,85.28092267205828,85.28092267205828,85.28092267205828,85.28092267205828,85.28092267205828,85.28092267205828,87.28279163565958,87.28279163565958,87.28279163565958,87.28279163565958,87.28279163565958,88.69216162261138,88.69216162261138,88.69216162261138,89.60425819284279],\"yaxis\":\"y\",\"type\":\"scatter\"},{\"customdata\":[[288],[288],[288],[288],[288],[288],[288],[288],[288],[288],[288],[288],[288],[288],[288],[288],[288],[288],[288],[288],[288],[288],[288],[288],[288],[288],[384],[384],[384],[384]],\"hovertemplate\":\"\\u003cb\\u003e%{hovertext}\\u003c\\u002fb\\u003e\\u003cbr\\u003e\\u003cbr\\u003efamily=convnextv2\\u003cbr\\u003esecs=%{x}\\u003cbr\\u003etop1=%{y}\\u003cbr\\u003esize=%{marker.size}\\u003cbr\\u003einfer_img_size=%{customdata[0]}\\u003cextra\\u003e\\u003c\\u002fextra\\u003e\",\"hovertext\":[\"convnextv2_atto\",\"convnextv2_atto\",\"convnextv2_femto\",\"convnextv2_femto\",\"convnextv2_pico\",\"convnextv2_pico\",\"convnextv2_nano\",\"convnextv2_nano\",\"convnextv2_nano\",\"convnextv2_nano\",\"convnextv2_nano\",\"convnextv2_tiny\",\"convnextv2_tiny\",\"convnextv2_tiny\",\"convnextv2_tiny\",\"convnextv2_tiny\",\"convnextv2_base\",\"convnextv2_base\",\"convnextv2_base\",\"convnextv2_base\",\"convnextv2_base\",\"convnextv2_large\",\"convnextv2_large\",\"convnextv2_large\",\"convnextv2_large\",\"convnextv2_large\",\"convnextv2_huge\",\"convnextv2_huge\",\"convnextv2_huge\",\"convnextv2_huge\"],\"legendgroup\":\"convnextv2\",\"marker\":{\"color\":\"#19d3f3\",\"size\":[82944,82944,82944,82944,82944,82944,82944,82944,82944,82944,82944,82944,82944,82944,82944,82944,82944,82944,82944,82944,82944,82944,82944,82944,82944,82944,147456,147456,147456,147456],\"sizemode\":\"area\",\"sizeref\":655.36,\"symbol\":\"circle\"},\"mode\":\"markers\",\"name\":\"convnextv2\",\"orientation\":\"v\",\"showlegend\":true,\"x\":[0.0003128196625927119,0.0003128196625927119,0.0003655090993490283,0.0003655090993490283,0.00047427080863172874,0.00047427080863172874,0.000666351260403409,0.000666351260403409,0.000666351260403409,0.000666351260403409,0.000666351260403409,0.0010743215659311145,0.0010743215659311145,0.0010743215659311145,0.0010743215659311145,0.0010743215659311145,0.002477762085284571,0.002477762085284571,0.002477762085284571,0.002477762085284571,0.002477762085284571,0.0041750167000668,0.0041750167000668,0.0041750167000668,0.0041750167000668,0.0041750167000668,0.01775883502042266,0.01775883502042266,0.01775883502042266,0.01775883502042266],\"xaxis\":\"x\",\"y\":[77.79,76.646,79.332,78.484,81.056,80.304,83.362,82.666,82.496,82.038,81.856,85.106,84.422,83.904,83.476,82.948,87.638,86.998,86.752,85.49,84.888,88.178,87.494,87.264,86.126,85.762,88.86,88.662,86.618,86.26],\"yaxis\":\"y\",\"type\":\"scatter\"},{\"hovertemplate\":\"\\u003cb\\u003eOLS trendline\\u003c\\u002fb\\u003e\\u003cbr\\u003etop1 = 5.30625 * log10(secs) + 98.8094\\u003cbr\\u003eR\\u003csup\\u003e2\\u003c\\u002fsup\\u003e=0.760471\\u003cbr\\u003e\\u003cbr\\u003efamily=convnextv2\\u003cbr\\u003esecs=%{x}\\u003cbr\\u003etop1=%{y} \\u003cb\\u003e(trend)\\u003c\\u002fb\\u003e\\u003cextra\\u003e\\u003c\\u002fextra\\u003e\",\"legendgroup\":\"convnextv2\",\"marker\":{\"color\":\"#19d3f3\",\"symbol\":\"circle\"},\"mode\":\"lines\",\"name\":\"convnextv2\",\"showlegend\":false,\"x\":[0.0003128196625927119,0.0003128196625927119,0.0003655090993490283,0.0003655090993490283,0.00047427080863172874,0.00047427080863172874,0.000666351260403409,0.000666351260403409,0.000666351260403409,0.000666351260403409,0.000666351260403409,0.0010743215659311145,0.0010743215659311145,0.0010743215659311145,0.0010743215659311145,0.0010743215659311145,0.002477762085284571,0.002477762085284571,0.002477762085284571,0.002477762085284571,0.002477762085284571,0.0041750167000668,0.0041750167000668,0.0041750167000668,0.0041750167000668,0.0041750167000668,0.01775883502042266,0.01775883502042266,0.01775883502042266,0.01775883502042266],\"xaxis\":\"x\",\"y\":[80.21256579034528,80.21256579034528,80.57129043207556,80.57129043207556,81.17157715382653,81.17157715382653,81.95518759172515,81.95518759172515,81.95518759172515,81.95518759172515,81.95518759172515,83.05586908039209,83.05586908039209,83.05586908039209,83.05586908039209,83.05586908039209,84.98164215300362,84.98164215300362,84.98164215300362,84.98164215300362,84.98164215300362,86.18403145421716,86.18403145421716,86.18403145421716,86.18403145421716,86.18403145421716,89.52037046270361,89.52037046270361,89.52037046270361,89.52037046270361],\"yaxis\":\"y\",\"type\":\"scatter\"},{\"customdata\":[[224],[224],[224],[224],[224],[224],[224],[224]],\"hovertemplate\":\"\\u003cb\\u003e%{hovertext}\\u003c\\u002fb\\u003e\\u003cbr\\u003e\\u003cbr\\u003efamily=vgg\\u003cbr\\u003esecs=%{x}\\u003cbr\\u003etop1=%{y}\\u003cbr\\u003esize=%{marker.size}\\u003cbr\\u003einfer_img_size=%{customdata[0]}\\u003cextra\\u003e\\u003c\\u002fextra\\u003e\",\"hovertext\":[\"vgg11\",\"vgg11_bn\",\"vgg13\",\"vgg13_bn\",\"vgg16\",\"vgg16_bn\",\"vgg19\",\"vgg19_bn\"],\"legendgroup\":\"vgg\",\"marker\":{\"color\":\"#FF6692\",\"size\":[50176,50176,50176,50176,50176,50176,50176,50176],\"sizemode\":\"area\",\"sizeref\":655.36,\"symbol\":\"circle\"},\"mode\":\"markers\",\"name\":\"vgg\",\"orientation\":\"v\",\"showlegend\":true,\"x\":[0.00033518017610366456,0.0003622689629688666,0.00046517902414744313,0.0005319941267848403,0.0005822619713061301,0.0006562282624388067,0.0007175093814351623,0.0008022334178352533],\"xaxis\":\"x\",\"y\":[69.048,70.384,69.94,71.556,71.6,73.356,72.4,74.236],\"yaxis\":\"y\",\"type\":\"scatter\"},{\"hovertemplate\":\"\\u003cb\\u003eOLS trendline\\u003c\\u002fb\\u003e\\u003cbr\\u003etop1 = 11.8929 * log10(secs) + 110.484\\u003cbr\\u003eR\\u003csup\\u003e2\\u003c\\u002fsup\\u003e=0.858935\\u003cbr\\u003e\\u003cbr\\u003efamily=vgg\\u003cbr\\u003esecs=%{x}\\u003cbr\\u003etop1=%{y} \\u003cb\\u003e(trend)\\u003c\\u002fb\\u003e\\u003cextra\\u003e\\u003c\\u002fextra\\u003e\",\"legendgroup\":\"vgg\",\"marker\":{\"color\":\"#FF6692\",\"symbol\":\"circle\"},\"mode\":\"lines\",\"name\":\"vgg\",\"showlegend\":false,\"x\":[0.00033518017610366456,0.0003622689629688666,0.00046517902414744313,0.0005319941267848403,0.0005822619713061301,0.0006562282624388067,0.0007175093814351623,0.0008022334178352533],\"xaxis\":\"x\",\"y\":[69.15980201757398,69.56121914629556,70.85265211697136,71.54584744924628,72.01218511326948,72.62985832889997,73.09097579765964,73.66746003008295],\"yaxis\":\"y\",\"type\":\"scatter\"},{\"customdata\":[[288],[288],[384],[384],[416],[416]],\"hovertemplate\":\"\\u003cb\\u003e%{hovertext}\\u003c\\u002fb\\u003e\\u003cbr\\u003e\\u003cbr\\u003efamily=efficientnetv2\\u003cbr\\u003esecs=%{x}\\u003cbr\\u003etop1=%{y}\\u003cbr\\u003esize=%{marker.size}\\u003cbr\\u003einfer_img_size=%{customdata[0]}\\u003cextra\\u003e\\u003c\\u002fextra\\u003e\",\"hovertext\":[\"efficientnetv2_rw_t\",\"efficientnetv2_rw_t\",\"efficientnetv2_rw_s\",\"efficientnetv2_rw_s\",\"efficientnetv2_rw_m\",\"efficientnetv2_rw_m\"],\"legendgroup\":\"efficientnetv2\",\"marker\":{\"color\":\"#B6E880\",\"size\":[82944,82944,147456,147456,173056,173056],\"sizemode\":\"area\",\"sizeref\":655.36,\"symbol\":\"circle\"},\"mode\":\"markers\",\"name\":\"efficientnetv2\",\"orientation\":\"v\",\"showlegend\":true,\"x\":[0.0003843950966561471,0.0003843950966561471,0.0008334236208922634,0.0008334236208922634,0.0018403666010269246,0.0018403666010269246],\"xaxis\":\"x\",\"y\":[82.354,81.372,83.83,82.888,84.824,84.294],\"yaxis\":\"y\",\"type\":\"scatter\"},{\"hovertemplate\":\"\\u003cb\\u003eOLS trendline\\u003c\\u002fb\\u003e\\u003cbr\\u003etop1 = 3.96209 * log10(secs) + 95.4496\\u003cbr\\u003eR\\u003csup\\u003e2\\u003c\\u002fsup\\u003e=0.868238\\u003cbr\\u003e\\u003cbr\\u003efamily=efficientnetv2\\u003cbr\\u003esecs=%{x}\\u003cbr\\u003etop1=%{y} \\u003cb\\u003e(trend)\\u003c\\u002fb\\u003e\\u003cextra\\u003e\\u003c\\u002fextra\\u003e\",\"legendgroup\":\"efficientnetv2\",\"marker\":{\"color\":\"#B6E880\",\"symbol\":\"circle\"},\"mode\":\"lines\",\"name\":\"efficientnetv2\",\"showlegend\":false,\"x\":[0.0003843950966561471,0.0003843950966561471,0.0008334236208922634,0.0008334236208922634,0.0018403666010269246,0.0018403666010269246],\"xaxis\":\"x\",\"y\":[81.91822155553253,81.91822155553253,83.24983303364374,83.24983303364374,84.61294541082397,84.61294541082397],\"yaxis\":\"y\",\"type\":\"scatter\"},{\"customdata\":[[224],[224],[384],[384],[512]],\"hovertemplate\":\"\\u003cb\\u003e%{hovertext}\\u003c\\u002fb\\u003e\\u003cbr\\u003e\\u003cbr\\u003efamily=beit\\u003cbr\\u003esecs=%{x}\\u003cbr\\u003etop1=%{y}\\u003cbr\\u003esize=%{marker.size}\\u003cbr\\u003einfer_img_size=%{customdata[0]}\\u003cextra\\u003e\\u003c\\u002fextra\\u003e\",\"hovertext\":[\"beit_base_patch16_224\",\"beit_large_patch16_224\",\"beit_base_patch16_384\",\"beit_large_patch16_384\",\"beit_large_patch16_512\"],\"legendgroup\":\"beit\",\"marker\":{\"color\":\"#FF97FF\",\"size\":[50176,50176,147456,147456,262144],\"sizemode\":\"area\",\"sizeref\":655.36,\"symbol\":\"circle\"},\"mode\":\"markers\",\"name\":\"beit\",\"orientation\":\"v\",\"showlegend\":true,\"x\":[0.0008990703612464712,0.0027730020520215183,0.003827458185019329,0.011291779584462511,0.028304557033682426],\"xaxis\":\"x\",\"y\":[85.244,87.488,86.816,88.382,88.578],\"yaxis\":\"y\",\"type\":\"scatter\"},{\"hovertemplate\":\"\\u003cb\\u003eOLS trendline\\u003c\\u002fb\\u003e\\u003cbr\\u003etop1 = 2.17534 * log10(secs) + 92.3117\\u003cbr\\u003eR\\u003csup\\u003e2\\u003c\\u002fsup\\u003e=0.859661\\u003cbr\\u003e\\u003cbr\\u003efamily=beit\\u003cbr\\u003esecs=%{x}\\u003cbr\\u003etop1=%{y} \\u003cb\\u003e(trend)\\u003c\\u002fb\\u003e\\u003cextra\\u003e\\u003c\\u002fextra\\u003e\",\"legendgroup\":\"beit\",\"marker\":{\"color\":\"#FF97FF\",\"symbol\":\"circle\"},\"mode\":\"lines\",\"name\":\"beit\",\"showlegend\":false,\"x\":[0.0008990703612464712,0.0027730020520215183,0.003827458185019329,0.011291779584462511,0.028304557033682426],\"xaxis\":\"x\",\"y\":[85.68518715980659,86.7492706367587,87.0537322989552,88.07582169769384,88.94398820678583],\"yaxis\":\"y\",\"type\":\"scatter\"}],                        {\"template\":{\"data\":{\"histogram2dcontour\":[{\"type\":\"histogram2dcontour\",\"colorbar\":{\"outlinewidth\":0,\"ticks\":\"\"},\"colorscale\":[[0.0,\"#0d0887\"],[0.1111111111111111,\"#46039f\"],[0.2222222222222222,\"#7201a8\"],[0.3333333333333333,\"#9c179e\"],[0.4444444444444444,\"#bd3786\"],[0.5555555555555556,\"#d8576b\"],[0.6666666666666666,\"#ed7953\"],[0.7777777777777778,\"#fb9f3a\"],[0.8888888888888888,\"#fdca26\"],[1.0,\"#f0f921\"]]}],\"choropleth\":[{\"type\":\"choropleth\",\"colorbar\":{\"outlinewidth\":0,\"ticks\":\"\"}}],\"histogram2d\":[{\"type\":\"histogram2d\",\"colorbar\":{\"outlinewidth\":0,\"ticks\":\"\"},\"colorscale\":[[0.0,\"#0d0887\"],[0.1111111111111111,\"#46039f\"],[0.2222222222222222,\"#7201a8\"],[0.3333333333333333,\"#9c179e\"],[0.4444444444444444,\"#bd3786\"],[0.5555555555555556,\"#d8576b\"],[0.6666666666666666,\"#ed7953\"],[0.7777777777777778,\"#fb9f3a\"],[0.8888888888888888,\"#fdca26\"],[1.0,\"#f0f921\"]]}],\"heatmap\":[{\"type\":\"heatmap\",\"colorbar\":{\"outlinewidth\":0,\"ticks\":\"\"},\"colorscale\":[[0.0,\"#0d0887\"],[0.1111111111111111,\"#46039f\"],[0.2222222222222222,\"#7201a8\"],[0.3333333333333333,\"#9c179e\"],[0.4444444444444444,\"#bd3786\"],[0.5555555555555556,\"#d8576b\"],[0.6666666666666666,\"#ed7953\"],[0.7777777777777778,\"#fb9f3a\"],[0.8888888888888888,\"#fdca26\"],[1.0,\"#f0f921\"]]}],\"heatmapgl\":[{\"type\":\"heatmapgl\",\"colorbar\":{\"outlinewidth\":0,\"ticks\":\"\"},\"colorscale\":[[0.0,\"#0d0887\"],[0.1111111111111111,\"#46039f\"],[0.2222222222222222,\"#7201a8\"],[0.3333333333333333,\"#9c179e\"],[0.4444444444444444,\"#bd3786\"],[0.5555555555555556,\"#d8576b\"],[0.6666666666666666,\"#ed7953\"],[0.7777777777777778,\"#fb9f3a\"],[0.8888888888888888,\"#fdca26\"],[1.0,\"#f0f921\"]]}],\"contourcarpet\":[{\"type\":\"contourcarpet\",\"colorbar\":{\"outlinewidth\":0,\"ticks\":\"\"}}],\"contour\":[{\"type\":\"contour\",\"colorbar\":{\"outlinewidth\":0,\"ticks\":\"\"},\"colorscale\":[[0.0,\"#0d0887\"],[0.1111111111111111,\"#46039f\"],[0.2222222222222222,\"#7201a8\"],[0.3333333333333333,\"#9c179e\"],[0.4444444444444444,\"#bd3786\"],[0.5555555555555556,\"#d8576b\"],[0.6666666666666666,\"#ed7953\"],[0.7777777777777778,\"#fb9f3a\"],[0.8888888888888888,\"#fdca26\"],[1.0,\"#f0f921\"]]}],\"surface\":[{\"type\":\"surface\",\"colorbar\":{\"outlinewidth\":0,\"ticks\":\"\"},\"colorscale\":[[0.0,\"#0d0887\"],[0.1111111111111111,\"#46039f\"],[0.2222222222222222,\"#7201a8\"],[0.3333333333333333,\"#9c179e\"],[0.4444444444444444,\"#bd3786\"],[0.5555555555555556,\"#d8576b\"],[0.6666666666666666,\"#ed7953\"],[0.7777777777777778,\"#fb9f3a\"],[0.8888888888888888,\"#fdca26\"],[1.0,\"#f0f921\"]]}],\"mesh3d\":[{\"type\":\"mesh3d\",\"colorbar\":{\"outlinewidth\":0,\"ticks\":\"\"}}],\"scatter\":[{\"fillpattern\":{\"fillmode\":\"overlay\",\"size\":10,\"solidity\":0.2},\"type\":\"scatter\"}],\"parcoords\":[{\"type\":\"parcoords\",\"line\":{\"colorbar\":{\"outlinewidth\":0,\"ticks\":\"\"}}}],\"scatterpolargl\":[{\"type\":\"scatterpolargl\",\"marker\":{\"colorbar\":{\"outlinewidth\":0,\"ticks\":\"\"}}}],\"bar\":[{\"error_x\":{\"color\":\"#2a3f5f\"},\"error_y\":{\"color\":\"#2a3f5f\"},\"marker\":{\"line\":{\"color\":\"#E5ECF6\",\"width\":0.5},\"pattern\":{\"fillmode\":\"overlay\",\"size\":10,\"solidity\":0.2}},\"type\":\"bar\"}],\"scattergeo\":[{\"type\":\"scattergeo\",\"marker\":{\"colorbar\":{\"outlinewidth\":0,\"ticks\":\"\"}}}],\"scatterpolar\":[{\"type\":\"scatterpolar\",\"marker\":{\"colorbar\":{\"outlinewidth\":0,\"ticks\":\"\"}}}],\"histogram\":[{\"marker\":{\"pattern\":{\"fillmode\":\"overlay\",\"size\":10,\"solidity\":0.2}},\"type\":\"histogram\"}],\"scattergl\":[{\"type\":\"scattergl\",\"marker\":{\"colorbar\":{\"outlinewidth\":0,\"ticks\":\"\"}}}],\"scatter3d\":[{\"type\":\"scatter3d\",\"line\":{\"colorbar\":{\"outlinewidth\":0,\"ticks\":\"\"}},\"marker\":{\"colorbar\":{\"outlinewidth\":0,\"ticks\":\"\"}}}],\"scattermapbox\":[{\"type\":\"scattermapbox\",\"marker\":{\"colorbar\":{\"outlinewidth\":0,\"ticks\":\"\"}}}],\"scatterternary\":[{\"type\":\"scatterternary\",\"marker\":{\"colorbar\":{\"outlinewidth\":0,\"ticks\":\"\"}}}],\"scattercarpet\":[{\"type\":\"scattercarpet\",\"marker\":{\"colorbar\":{\"outlinewidth\":0,\"ticks\":\"\"}}}],\"carpet\":[{\"aaxis\":{\"endlinecolor\":\"#2a3f5f\",\"gridcolor\":\"white\",\"linecolor\":\"white\",\"minorgridcolor\":\"white\",\"startlinecolor\":\"#2a3f5f\"},\"baxis\":{\"endlinecolor\":\"#2a3f5f\",\"gridcolor\":\"white\",\"linecolor\":\"white\",\"minorgridcolor\":\"white\",\"startlinecolor\":\"#2a3f5f\"},\"type\":\"carpet\"}],\"table\":[{\"cells\":{\"fill\":{\"color\":\"#EBF0F8\"},\"line\":{\"color\":\"white\"}},\"header\":{\"fill\":{\"color\":\"#C8D4E3\"},\"line\":{\"color\":\"white\"}},\"type\":\"table\"}],\"barpolar\":[{\"marker\":{\"line\":{\"color\":\"#E5ECF6\",\"width\":0.5},\"pattern\":{\"fillmode\":\"overlay\",\"size\":10,\"solidity\":0.2}},\"type\":\"barpolar\"}],\"pie\":[{\"automargin\":true,\"type\":\"pie\"}]},\"layout\":{\"autotypenumbers\":\"strict\",\"colorway\":[\"#636efa\",\"#EF553B\",\"#00cc96\",\"#ab63fa\",\"#FFA15A\",\"#19d3f3\",\"#FF6692\",\"#B6E880\",\"#FF97FF\",\"#FECB52\"],\"font\":{\"color\":\"#2a3f5f\"},\"hovermode\":\"closest\",\"hoverlabel\":{\"align\":\"left\"},\"paper_bgcolor\":\"white\",\"plot_bgcolor\":\"#E5ECF6\",\"polar\":{\"bgcolor\":\"#E5ECF6\",\"angularaxis\":{\"gridcolor\":\"white\",\"linecolor\":\"white\",\"ticks\":\"\"},\"radialaxis\":{\"gridcolor\":\"white\",\"linecolor\":\"white\",\"ticks\":\"\"}},\"ternary\":{\"bgcolor\":\"#E5ECF6\",\"aaxis\":{\"gridcolor\":\"white\",\"linecolor\":\"white\",\"ticks\":\"\"},\"baxis\":{\"gridcolor\":\"white\",\"linecolor\":\"white\",\"ticks\":\"\"},\"caxis\":{\"gridcolor\":\"white\",\"linecolor\":\"white\",\"ticks\":\"\"}},\"coloraxis\":{\"colorbar\":{\"outlinewidth\":0,\"ticks\":\"\"}},\"colorscale\":{\"sequential\":[[0.0,\"#0d0887\"],[0.1111111111111111,\"#46039f\"],[0.2222222222222222,\"#7201a8\"],[0.3333333333333333,\"#9c179e\"],[0.4444444444444444,\"#bd3786\"],[0.5555555555555556,\"#d8576b\"],[0.6666666666666666,\"#ed7953\"],[0.7777777777777778,\"#fb9f3a\"],[0.8888888888888888,\"#fdca26\"],[1.0,\"#f0f921\"]],\"sequentialminus\":[[0.0,\"#0d0887\"],[0.1111111111111111,\"#46039f\"],[0.2222222222222222,\"#7201a8\"],[0.3333333333333333,\"#9c179e\"],[0.4444444444444444,\"#bd3786\"],[0.5555555555555556,\"#d8576b\"],[0.6666666666666666,\"#ed7953\"],[0.7777777777777778,\"#fb9f3a\"],[0.8888888888888888,\"#fdca26\"],[1.0,\"#f0f921\"]],\"diverging\":[[0,\"#8e0152\"],[0.1,\"#c51b7d\"],[0.2,\"#de77ae\"],[0.3,\"#f1b6da\"],[0.4,\"#fde0ef\"],[0.5,\"#f7f7f7\"],[0.6,\"#e6f5d0\"],[0.7,\"#b8e186\"],[0.8,\"#7fbc41\"],[0.9,\"#4d9221\"],[1,\"#276419\"]]},\"xaxis\":{\"gridcolor\":\"white\",\"linecolor\":\"white\",\"ticks\":\"\",\"title\":{\"standoff\":15},\"zerolinecolor\":\"white\",\"automargin\":true,\"zerolinewidth\":2},\"yaxis\":{\"gridcolor\":\"white\",\"linecolor\":\"white\",\"ticks\":\"\",\"title\":{\"standoff\":15},\"zerolinecolor\":\"white\",\"automargin\":true,\"zerolinewidth\":2},\"scene\":{\"xaxis\":{\"backgroundcolor\":\"#E5ECF6\",\"gridcolor\":\"white\",\"linecolor\":\"white\",\"showbackground\":true,\"ticks\":\"\",\"zerolinecolor\":\"white\",\"gridwidth\":2},\"yaxis\":{\"backgroundcolor\":\"#E5ECF6\",\"gridcolor\":\"white\",\"linecolor\":\"white\",\"showbackground\":true,\"ticks\":\"\",\"zerolinecolor\":\"white\",\"gridwidth\":2},\"zaxis\":{\"backgroundcolor\":\"#E5ECF6\",\"gridcolor\":\"white\",\"linecolor\":\"white\",\"showbackground\":true,\"ticks\":\"\",\"zerolinecolor\":\"white\",\"gridwidth\":2}},\"shapedefaults\":{\"line\":{\"color\":\"#2a3f5f\"}},\"annotationdefaults\":{\"arrowcolor\":\"#2a3f5f\",\"arrowhead\":0,\"arrowwidth\":1},\"geo\":{\"bgcolor\":\"white\",\"landcolor\":\"#E5ECF6\",\"subunitcolor\":\"white\",\"showland\":true,\"showlakes\":true,\"lakecolor\":\"white\"},\"title\":{\"x\":0.05},\"mapbox\":{\"style\":\"light\"}}},\"xaxis\":{\"anchor\":\"y\",\"domain\":[0.0,1.0],\"title\":{\"text\":\"secs\"},\"type\":\"log\"},\"yaxis\":{\"anchor\":\"x\",\"domain\":[0.0,1.0],\"title\":{\"text\":\"top1\"}},\"legend\":{\"title\":{\"text\":\"family\"},\"tracegroupgap\":0,\"itemsizing\":\"constant\"},\"title\":{\"text\":\"Inference\"},\"height\":800,\"width\":1000},                        {\"responsive\": true}                    ).then(function(){\n",
       "                            \n",
       "var gd = document.getElementById('481404d2-13f9-4d77-ad48-6f4be4971e68');\n",
       "var x = new MutationObserver(function (mutations, observer) {{\n",
       "        var display = window.getComputedStyle(gd).display;\n",
       "        if (!display || display === 'none') {{\n",
       "            console.log([gd, 'removed!']);\n",
       "            Plotly.purge(gd);\n",
       "            observer.disconnect();\n",
       "        }}\n",
       "}});\n",
       "\n",
       "// Listen for the removal of the full notebook cells\n",
       "var notebookContainer = gd.closest('#notebook-container');\n",
       "if (notebookContainer) {{\n",
       "    x.observe(notebookContainer, {childList: true});\n",
       "}}\n",
       "\n",
       "// Listen for the clearing of the current output cell\n",
       "var outputEl = gd.closest('.output');\n",
       "if (outputEl) {{\n",
       "    x.observe(outputEl, {childList: true});\n",
       "}}\n",
       "\n",
       "                        })                };                });            </script>        </div>"
      ]
     },
     "metadata": {},
     "output_type": "display_data"
    }
   ],
   "source": [
    "show_subs(df, 'Inference', 'infer_img_size')"
   ]
  },
  {
   "cell_type": "markdown",
   "metadata": {},
   "source": [
    "From this, we can see that the *levit* family models are extremely fast for image recognition, and clearly the most accurate amongst the faster models. That's not surprising, since these models are a hybrid of the best ideas from CNNs and transformers, so get the benefit of each. In fact, we see a similar thing even in the middle category of speeds -- the best is the ConvNeXt, which is a pure CNN, but which takes advantage of ideas from the transformers literature.\n",
    "\n",
    "For the slowest models, *beit* is the most accurate -- although we need to be a bit careful of interpreting this, since it's trained on a larger dataset (ImageNet-21k, which is also used for *vit* models).\n",
    "\n",
    "I'll add one other plot here, which is of speed vs parameter count. Often, parameter count is used in papers as a proxy for speed. However, as we see, there is a wide variation in speeds at each level of parameter count, so it's really not a useful proxy.\n",
    "\n",
    "(Parameter count may be be useful for identifying how much memory a model needs, but even for that it's not always a great proxy.)"
   ]
  },
  {
   "cell_type": "code",
   "execution_count": 110,
   "metadata": {
    "execution": {
     "iopub.execute_input": "2022-05-21T22:28:50.298941Z",
     "iopub.status.busy": "2022-05-21T22:28:50.296775Z",
     "iopub.status.idle": "2022-05-21T22:28:50.400432Z",
     "shell.execute_reply": "2022-05-21T22:28:50.398417Z",
     "shell.execute_reply.started": "2022-05-21T22:28:50.298868Z"
    },
    "trusted": true
   },
   "outputs": [
    {
     "data": {
      "application/vnd.plotly.v1+json": {
       "config": {
        "plotlyServerURL": "https://plot.ly"
       },
       "data": [
        {
         "customdata": [
          [
           23983.4,
           "regnetx"
          ],
          [
           22675.73,
           "levit"
          ],
          [
           21709.37,
           "regnety"
          ],
          [
           15337.67,
           "levit"
          ],
          [
           14125.39,
           "vit"
          ],
          [
           14112.07,
           "resnet"
          ],
          [
           14112.07,
           "resnet"
          ],
          [
           13799.47,
           "vit"
          ],
          [
           13610.2,
           "regnetx"
          ],
          [
           13524.14,
           "levit"
          ],
          [
           11918.36,
           "regnety"
          ],
          [
           11918.36,
           "regnety"
          ],
          [
           11083.1,
           "resnet"
          ],
          [
           11083.1,
           "resnet"
          ],
          [
           11083.1,
           "resnet"
          ],
          [
           11083.1,
           "resnet"
          ],
          [
           11083.1,
           "resnet"
          ],
          [
           11083.1,
           "resnet"
          ],
          [
           11083.1,
           "resnet"
          ],
          [
           11083.1,
           "resnet"
          ],
          [
           11083.1,
           "resnet"
          ],
          [
           11083.1,
           "resnet"
          ],
          [
           9858.1,
           "levit"
          ],
          [
           9361.14,
           "efficientnet"
          ],
          [
           9334.83,
           "resnetd"
          ],
          [
           9334.83,
           "resnetd"
          ],
          [
           9097.63,
           "regnety"
          ],
          [
           8379.52,
           "regnetx"
          ],
          [
           7965.17,
           "efficientnet"
          ],
          [
           7965.17,
           "efficientnet"
          ],
          [
           7965.17,
           "efficientnet"
          ],
          [
           7429.68,
           "resnet"
          ],
          [
           7429.68,
           "resnet"
          ],
          [
           7424.93,
           "vit"
          ],
          [
           7394.88,
           "regnetx"
          ],
          [
           7394.88,
           "regnetx"
          ],
          [
           6938.46,
           "regnety"
          ],
          [
           6848.87,
           "mobilevitv2"
          ],
          [
           6642.37,
           "efficientnet"
          ],
          [
           6496.42,
           "resnet"
          ],
          [
           6496.42,
           "resnet"
          ],
          [
           6496.42,
           "resnet"
          ],
          [
           6496.42,
           "resnet"
          ],
          [
           6496.42,
           "resnet"
          ],
          [
           6496.42,
           "resnet"
          ],
          [
           6496.42,
           "resnet"
          ],
          [
           6496.42,
           "resnet"
          ],
          [
           6496.42,
           "resnet"
          ],
          [
           6496.42,
           "resnet"
          ],
          [
           6115.4,
           "efficientnet"
          ],
          [
           6115.12,
           "efficientnet"
          ],
          [
           5895.21,
           "resnet"
          ],
          [
           5895.21,
           "resnet"
          ],
          [
           5880.4,
           "levit"
          ],
          [
           5865.98,
           "resnetd"
          ],
          [
           5865.98,
           "resnetd"
          ],
          [
           5524.87,
           "mobilevit"
          ],
          [
           5460.54,
           "convnext"
          ],
          [
           5460.54,
           "convnext"
          ],
          [
           5288.94,
           "convnext"
          ],
          [
           5288.94,
           "convnext"
          ],
          [
           5280.68,
           "vit"
          ],
          [
           5280.68,
           "vit"
          ],
          [
           5280.68,
           "vit"
          ],
          [
           5280.52,
           "vit"
          ],
          [
           5280.52,
           "vit"
          ],
          [
           5280.52,
           "vit"
          ],
          [
           5252.66,
           "repvgg"
          ],
          [
           5108.26,
           "resnetd"
          ],
          [
           5108.26,
           "resnetd"
          ],
          [
           4749.12,
           "convnext"
          ],
          [
           4749.12,
           "convnext"
          ],
          [
           4618.33,
           "convnext"
          ],
          [
           4618.33,
           "convnext"
          ],
          [
           4566.14,
           "efficientformer"
          ],
          [
           4481.69,
           "crossvit"
          ],
          [
           4393.87,
           "mobilevitv2"
          ],
          [
           4239.44,
           "efficientnet"
          ],
          [
           4239.44,
           "efficientnet"
          ],
          [
           4239.44,
           "efficientnet"
          ],
          [
           4239.44,
           "efficientnet"
          ],
          [
           4239.1,
           "vit"
          ],
          [
           4212.37,
           "crossvit"
          ],
          [
           4095.03,
           "crossvit"
          ],
          [
           4030.92,
           "efficientnet"
          ],
          [
           3987.84,
           "repvgg"
          ],
          [
           3963.05,
           "vit"
          ],
          [
           3939.46,
           "resnet"
          ],
          [
           3939.46,
           "resnet"
          ],
          [
           3865.49,
           "resnetv2"
          ],
          [
           3865.49,
           "resnetv2"
          ],
          [
           3852.41,
           "regnetx"
          ],
          [
           3852.41,
           "regnetx"
          ],
          [
           3747.49,
           "convnext"
          ],
          [
           3747.49,
           "convnext"
          ],
          [
           3671.25,
           "efficientnet"
          ],
          [
           3668.58,
           "resnet"
          ],
          [
           3668.58,
           "resnet"
          ],
          [
           3668.58,
           "resnet"
          ],
          [
           3668.58,
           "resnet"
          ],
          [
           3668.58,
           "resnet"
          ],
          [
           3668.58,
           "resnet"
          ],
          [
           3668.58,
           "resnet"
          ],
          [
           3668.58,
           "resnet"
          ],
          [
           3668.58,
           "resnet"
          ],
          [
           3668.58,
           "resnet"
          ],
          [
           3668.58,
           "resnet"
          ],
          [
           3668.58,
           "resnet"
          ],
          [
           3668.58,
           "resnet"
          ],
          [
           3668.58,
           "resnet"
          ],
          [
           3668.58,
           "resnet"
          ],
          [
           3668.58,
           "resnet"
          ],
          [
           3668.58,
           "resnet"
          ],
          [
           3668.58,
           "resnet"
          ],
          [
           3668.58,
           "resnet"
          ],
          [
           3668.58,
           "resnet"
          ],
          [
           3668.58,
           "resnet"
          ],
          [
           3668.58,
           "resnet"
          ],
          [
           3668.58,
           "resnet"
          ],
          [
           3668.58,
           "resnet"
          ],
          [
           3668.58,
           "resnet"
          ],
          [
           3668.58,
           "resnet"
          ],
          [
           3668.58,
           "resnet"
          ],
          [
           3668.58,
           "resnet"
          ],
          [
           3668.58,
           "resnet"
          ],
          [
           3668.58,
           "resnet"
          ],
          [
           3668.58,
           "resnet"
          ],
          [
           3651.34,
           "convnext"
          ],
          [
           3651.34,
           "convnext"
          ],
          [
           3531.88,
           "regnety"
          ],
          [
           3531.88,
           "regnety"
          ],
          [
           3492.62,
           "resnet"
          ],
          [
           3492.62,
           "resnet"
          ],
          [
           3460.78,
           "resnet"
          ],
          [
           3460.78,
           "resnet"
          ],
          [
           3399.61,
           "convit"
          ],
          [
           3360.1,
           "efficientnet"
          ],
          [
           3351.47,
           "resnetd"
          ],
          [
           3351.47,
           "resnetd"
          ],
          [
           3351.47,
           "resnetd"
          ],
          [
           3351.47,
           "resnetd"
          ],
          [
           3351.47,
           "resnetd"
          ],
          [
           3351.47,
           "resnetd"
          ],
          [
           3351.47,
           "resnetd"
          ],
          [
           3351.47,
           "resnetd"
          ],
          [
           3351.47,
           "resnetd"
          ],
          [
           3351.47,
           "resnetd"
          ],
          [
           3351.47,
           "resnetd"
          ],
          [
           3324.63,
           "mobilevitv2"
          ],
          [
           3252.28,
           "mobilevit"
          ],
          [
           3223.9,
           "efficientnet"
          ],
          [
           3223.9,
           "efficientnet"
          ],
          [
           3218.38,
           "vit"
          ],
          [
           3218.38,
           "vit"
          ],
          [
           3196.73,
           "convnextv2"
          ],
          [
           3196.73,
           "convnextv2"
          ],
          [
           3061.92,
           "vit"
          ],
          [
           3026.45,
           "vit"
          ],
          [
           3008.26,
           "vit"
          ],
          [
           3000.96,
           "vit"
          ],
          [
           2993.03,
           "resnetaad"
          ],
          [
           2993.03,
           "resnetaad"
          ],
          [
           2983.47,
           "vgg"
          ],
          [
           2963.42,
           "resnetrs"
          ],
          [
           2963.42,
           "resnetrs"
          ],
          [
           2760.38,
           "vgg"
          ],
          [
           2735.91,
           "convnextv2"
          ],
          [
           2735.91,
           "convnextv2"
          ],
          [
           2735.78,
           "flexivit"
          ],
          [
           2735.78,
           "flexivit"
          ],
          [
           2735.78,
           "flexivit"
          ],
          [
           2685.97,
           "resnetblur"
          ],
          [
           2685.97,
           "resnetblur"
          ],
          [
           2626.71,
           "regnetz"
          ],
          [
           2626.71,
           "regnetz"
          ],
          [
           2611.78,
           "convnext"
          ],
          [
           2611.78,
           "convnext"
          ],
          [
           2611.78,
           "convnext"
          ],
          [
           2611.78,
           "convnext"
          ],
          [
           2601.49,
           "efficientnetv2"
          ],
          [
           2601.49,
           "efficientnetv2"
          ],
          [
           2586.09,
           "mobilevit"
          ],
          [
           2561.41,
           "gcvit"
          ],
          [
           2473.34,
           "repvgg"
          ],
          [
           2472.28,
           "mobilevitv2"
          ],
          [
           2435,
           "convnext"
          ],
          [
           2435,
           "convnext"
          ],
          [
           2429.42,
           "regnetx"
          ],
          [
           2429.42,
           "regnetx"
          ],
          [
           2330.6,
           "resnetv2"
          ],
          [
           2330.6,
           "resnetv2"
          ],
          [
           2258.28,
           "resnet"
          ],
          [
           2258.28,
           "resnet"
          ],
          [
           2258.28,
           "resnet"
          ],
          [
           2258.28,
           "resnet"
          ],
          [
           2258.28,
           "resnet"
          ],
          [
           2258.28,
           "resnet"
          ],
          [
           2258.28,
           "resnet"
          ],
          [
           2258.28,
           "resnet"
          ],
          [
           2258.28,
           "resnet"
          ],
          [
           2258.28,
           "resnet"
          ],
          [
           2258.28,
           "resnet"
          ],
          [
           2258.28,
           "resnet"
          ],
          [
           2149.71,
           "vgg"
          ],
          [
           2108.5,
           "convnextv2"
          ],
          [
           2108.5,
           "convnextv2"
          ],
          [
           2081.5,
           "crossvit"
          ],
          [
           2071.36,
           "mobilevitv2"
          ],
          [
           2071.36,
           "mobilevitv2"
          ],
          [
           2071.36,
           "mobilevitv2"
          ],
          [
           2044.85,
           "vit"
          ],
          [
           2041.79,
           "efficientformer"
          ],
          [
           2037.47,
           "vit"
          ],
          [
           2034.41,
           "resnet"
          ],
          [
           2034.41,
           "resnet"
          ],
          [
           2033.15,
           "vit"
          ],
          [
           2008.78,
           "maxvit"
          ],
          [
           2007.24,
           "vit"
          ],
          [
           1985.42,
           "repvgg"
          ],
          [
           1982.98,
           "resnetaad"
          ],
          [
           1982.98,
           "resnetaad"
          ],
          [
           1969.68,
           "gcvit"
          ],
          [
           1958.15,
           "resnetaa"
          ],
          [
           1958.15,
           "resnetaa"
          ],
          [
           1949.54,
           "efficientnet"
          ],
          [
           1949.54,
           "efficientnet"
          ],
          [
           1932.62,
           "regnetx"
          ],
          [
           1892.46,
           "crossvit"
          ],
          [
           1879.72,
           "vgg"
          ],
          [
           1850.69,
           "crossvit"
          ],
          [
           1841.84,
           "resnet"
          ],
          [
           1841.84,
           "resnet"
          ],
          [
           1717.44,
           "vgg"
          ],
          [
           1710.89,
           "regnetz"
          ],
          [
           1710.89,
           "regnetz"
          ],
          [
           1682.92,
           "regnetv"
          ],
          [
           1682.92,
           "regnetv"
          ],
          [
           1677.66,
           "mobilevitv2"
          ],
          [
           1677.66,
           "mobilevitv2"
          ],
          [
           1677.66,
           "mobilevitv2"
          ],
          [
           1677.03,
           "regnety"
          ],
          [
           1677.03,
           "regnety"
          ],
          [
           1677.03,
           "regnety"
          ],
          [
           1676.16,
           "convnext"
          ],
          [
           1676.16,
           "convnext"
          ],
          [
           1665.76,
           "vit"
          ],
          [
           1649.27,
           "vit"
          ],
          [
           1649.27,
           "vit"
          ],
          [
           1648.64,
           "vit"
          ],
          [
           1648.64,
           "vit"
          ],
          [
           1642.14,
           "convnext"
          ],
          [
           1642.14,
           "convnext"
          ],
          [
           1642.14,
           "convnext"
          ],
          [
           1642.14,
           "convnext"
          ],
          [
           1642.14,
           "convnext"
          ],
          [
           1642.14,
           "convnext"
          ],
          [
           1642.14,
           "convnext"
          ],
          [
           1642.14,
           "convnext"
          ],
          [
           1581.02,
           "resnet"
          ],
          [
           1581.02,
           "resnet"
          ],
          [
           1581.02,
           "resnet"
          ],
          [
           1581.02,
           "resnet"
          ],
          [
           1581.02,
           "resnet"
          ],
          [
           1581.02,
           "resnet"
          ],
          [
           1581.02,
           "resnet"
          ],
          [
           1581.02,
           "resnet"
          ],
          [
           1581.02,
           "resnet"
          ],
          [
           1581.02,
           "resnet"
          ],
          [
           1581.02,
           "resnet"
          ],
          [
           1581.02,
           "resnet"
          ],
          [
           1564.22,
           "vit"
          ],
          [
           1555.14,
           "efficientnet"
          ],
          [
           1551.85,
           "maxvit"
          ],
          [
           1550.52,
           "regnetx"
          ],
          [
           1549.97,
           "efficientnet"
          ],
          [
           1537.54,
           "mvitv2"
          ],
          [
           1523.86,
           "vgg"
          ],
          [
           1517.43,
           "maxvit"
          ],
          [
           1500.71,
           "convnextv2"
          ],
          [
           1500.71,
           "convnextv2"
          ],
          [
           1500.71,
           "convnextv2"
          ],
          [
           1500.71,
           "convnextv2"
          ],
          [
           1500.71,
           "convnextv2"
          ],
          [
           1467.85,
           "regnety"
          ],
          [
           1467.85,
           "regnety"
          ],
          [
           1467.85,
           "regnety"
          ],
          [
           1467.85,
           "regnety"
          ],
          [
           1457.54,
           "convit"
          ],
          [
           1456.02,
           "mobilevitv2"
          ],
          [
           1456.02,
           "mobilevitv2"
          ],
          [
           1456.02,
           "mobilevitv2"
          ],
          [
           1393.71,
           "vgg"
          ],
          [
           1350.45,
           "maxvit"
          ],
          [
           1348.85,
           "crossvit"
          ],
          [
           1347.73,
           "maxxvit"
          ],
          [
           1339.65,
           "gcvit"
          ],
          [
           1313.78,
           "crossvit"
          ],
          [
           1305.22,
           "repvgg"
          ],
          [
           1259.7,
           "maxxvitv2"
          ],
          [
           1246.52,
           "vgg"
          ],
          [
           1223.51,
           "regnetz"
          ],
          [
           1223.51,
           "regnetz"
          ],
          [
           1211.82,
           "vit"
          ],
          [
           1211.82,
           "vit"
          ],
          [
           1211.82,
           "vit"
          ],
          [
           1211.82,
           "vit"
          ],
          [
           1211.26,
           "vit"
          ],
          [
           1210.28,
           "vit"
          ],
          [
           1210.28,
           "vit"
          ],
          [
           1210.28,
           "vit"
          ],
          [
           1210.28,
           "vit"
          ],
          [
           1210.28,
           "vit"
          ],
          [
           1200.3,
           "maxvit"
          ],
          [
           1199.87,
           "efficientnetv2"
          ],
          [
           1199.87,
           "efficientnetv2"
          ],
          [
           1195.08,
           "regnetx"
          ],
          [
           1195.08,
           "regnetx"
          ],
          [
           1180.39,
           "vit"
          ],
          [
           1163.64,
           "regnetz"
          ],
          [
           1163.64,
           "regnetz"
          ],
          [
           1154.21,
           "vit"
          ],
          [
           1146.92,
           "mvitv2"
          ],
          [
           1141.31,
           "vit"
          ],
          [
           1134.67,
           "resnetrs"
          ],
          [
           1134.67,
           "resnetrs"
          ],
          [
           1128.94,
           "vit"
          ],
          [
           1112.26,
           "beit"
          ],
          [
           1108.55,
           "beitv2"
          ],
          [
           1108.55,
           "beitv2"
          ],
          [
           1039.88,
           "resnetd"
          ],
          [
           1039.88,
           "resnetd"
          ],
          [
           1039.88,
           "resnetd"
          ],
          [
           1037.21,
           "flexivit"
          ],
          [
           1037.21,
           "flexivit"
          ],
          [
           1037.21,
           "flexivit"
          ],
          [
           1030.67,
           "vit"
          ],
          [
           1029.25,
           "maxvit"
          ],
          [
           1014.08,
           "efficientnet"
          ],
          [
           1014.08,
           "efficientnet"
          ],
          [
           1004.51,
           "regnetx"
          ],
          [
           1004.51,
           "regnetx"
          ],
          [
           994.23,
           "repvgg"
          ],
          [
           988.97,
           "repvgg"
          ],
          [
           988.3,
           "convnext"
          ],
          [
           988.3,
           "convnext"
          ],
          [
           988.3,
           "convnext"
          ],
          [
           988.3,
           "convnext"
          ],
          [
           988.3,
           "convnext"
          ],
          [
           988.3,
           "convnext"
          ],
          [
           988.3,
           "convnext"
          ],
          [
           988.3,
           "convnext"
          ],
          [
           982.68,
           "vit"
          ],
          [
           975.77,
           "regnetz"
          ],
          [
           975.77,
           "regnetz"
          ],
          [
           962.55,
           "efficientformer"
          ],
          [
           930.82,
           "convnextv2"
          ],
          [
           930.82,
           "convnextv2"
          ],
          [
           930.82,
           "convnextv2"
          ],
          [
           930.82,
           "convnextv2"
          ],
          [
           930.82,
           "convnextv2"
          ],
          [
           854.82,
           "resnetv2d"
          ],
          [
           854.82,
           "resnetv2d"
          ],
          [
           839.43,
           "crossvit"
          ],
          [
           816.34,
           "maxvit"
          ],
          [
           815.24,
           "gcvit"
          ],
          [
           811.28,
           "regnety"
          ],
          [
           811.28,
           "regnety"
          ],
          [
           811.28,
           "regnety"
          ],
          [
           804.14,
           "mvitv2"
          ],
          [
           802.85,
           "repvgg"
          ],
          [
           777.04,
           "maxvit"
          ],
          [
           753.82,
           "vit"
          ],
          [
           753.82,
           "vit"
          ],
          [
           742.37,
           "resnetd"
          ],
          [
           742.37,
           "resnetd"
          ],
          [
           742.37,
           "resnetd"
          ],
          [
           731.09,
           "convit"
          ],
          [
           687.14,
           "convnext"
          ],
          [
           687.14,
           "convnext"
          ],
          [
           687.14,
           "convnext"
          ],
          [
           687.14,
           "convnext"
          ],
          [
           687.14,
           "convnext"
          ],
          [
           687.14,
           "convnext"
          ],
          [
           687.14,
           "convnext"
          ],
          [
           687.14,
           "convnext"
          ],
          [
           687.14,
           "convnext"
          ],
          [
           657.71,
           "regnety"
          ],
          [
           657.71,
           "regnety"
          ],
          [
           657.71,
           "regnety"
          ],
          [
           652.6,
           "regnetv"
          ],
          [
           652.6,
           "regnetv"
          ],
          [
           649.95,
           "resnetrs"
          ],
          [
           649.95,
           "resnetrs"
          ],
          [
           640.37,
           "regnetx"
          ],
          [
           639.43,
           "regnetz"
          ],
          [
           639.43,
           "regnetz"
          ],
          [
           625.75,
           "regnety"
          ],
          [
           625.75,
           "regnety"
          ],
          [
           625.75,
           "regnety"
          ],
          [
           605.31,
           "regnety"
          ],
          [
           605.31,
           "regnety"
          ],
          [
           605.31,
           "regnety"
          ],
          [
           605.31,
           "regnety"
          ],
          [
           605.31,
           "regnety"
          ],
          [
           602.42,
           "gcvit"
          ],
          [
           596.93,
           "regnetz"
          ],
          [
           596.93,
           "regnetz"
          ],
          [
           590.18,
           "maxxvit"
          ],
          [
           545.14,
           "resnetd"
          ],
          [
           545.14,
           "resnetd"
          ],
          [
           543.45,
           "vit"
          ],
          [
           543.37,
           "efficientnetv2"
          ],
          [
           543.37,
           "efficientnetv2"
          ],
          [
           539.24,
           "vit"
          ],
          [
           533.21,
           "efficientnet"
          ],
          [
           525.72,
           "maxxvitv2"
          ],
          [
           472.06,
           "maxvit"
          ],
          [
           471.68,
           "resnetrs"
          ],
          [
           471.68,
           "resnetrs"
          ],
          [
           430.05,
           "maxvit"
          ],
          [
           403.59,
           "convnextv2"
          ],
          [
           403.59,
           "convnextv2"
          ],
          [
           403.59,
           "convnextv2"
          ],
          [
           403.59,
           "convnextv2"
          ],
          [
           403.59,
           "convnextv2"
          ],
          [
           394.39,
           "regnetz"
          ],
          [
           394.39,
           "regnetz"
          ],
          [
           390.72,
           "crossvit"
          ],
          [
           390.66,
           "vit"
          ],
          [
           373.02,
           "convnext"
          ],
          [
           373.02,
           "convnext"
          ],
          [
           373.02,
           "convnext"
          ],
          [
           373.02,
           "convnext"
          ],
          [
           373.02,
           "convnext"
          ],
          [
           360.62,
           "beit"
          ],
          [
           360.58,
           "beitv2"
          ],
          [
           360.58,
           "beitv2"
          ],
          [
           353.5,
           "regnety"
          ],
          [
           353.5,
           "regnety"
          ],
          [
           353.5,
           "regnety"
          ],
          [
           353.5,
           "regnety"
          ],
          [
           353.5,
           "regnety"
          ],
          [
           353.5,
           "regnety"
          ],
          [
           353.5,
           "regnety"
          ],
          [
           353.5,
           "regnety"
          ],
          [
           353.5,
           "regnety"
          ],
          [
           353.5,
           "regnety"
          ],
          [
           344.01,
           "maxvit"
          ],
          [
           335.35,
           "flexivit"
          ],
          [
           335.35,
           "flexivit"
          ],
          [
           335.35,
           "flexivit"
          ],
          [
           329.8,
           "vit"
          ],
          [
           307.09,
           "vit"
          ],
          [
           307.09,
           "vit"
          ],
          [
           307.09,
           "vit"
          ],
          [
           306.29,
           "vit"
          ],
          [
           306.29,
           "vit"
          ],
          [
           306.29,
           "vit"
          ],
          [
           306.29,
           "vit"
          ],
          [
           301.43,
           "maxvit"
          ],
          [
           296.97,
           "resnetrs"
          ],
          [
           296.97,
           "resnetrs"
          ],
          [
           289.44,
           "regnetx"
          ],
          [
           289.44,
           "regnetx"
          ],
          [
           285.99,
           "vit"
          ],
          [
           285.99,
           "vit"
          ],
          [
           285.99,
           "vit"
          ],
          [
           285.99,
           "vit"
          ],
          [
           285.18,
           "crossvit"
          ],
          [
           261.27,
           "beit"
          ],
          [
           249.99,
           "mvitv2"
          ],
          [
           242.63,
           "convnext"
          ],
          [
           242.63,
           "convnext"
          ],
          [
           242.63,
           "convnext"
          ],
          [
           239.52,
           "convnextv2"
          ],
          [
           239.52,
           "convnextv2"
          ],
          [
           239.52,
           "convnextv2"
          ],
          [
           239.52,
           "convnextv2"
          ],
          [
           239.52,
           "convnextv2"
          ],
          [
           226.32,
           "vit"
          ],
          [
           224.01,
           "maxvit"
          ],
          [
           199.67,
           "vit"
          ],
          [
           199.67,
           "vit"
          ],
          [
           196.19,
           "resnetrs"
          ],
          [
           196.19,
           "resnetrs"
          ],
          [
           183.68,
           "convnext"
          ],
          [
           174.81,
           "regnety"
          ],
          [
           163.72,
           "maxvit"
          ],
          [
           154.17,
           "vit"
          ],
          [
           154.17,
           "vit"
          ],
          [
           153.9,
           "maxxvitv2"
          ],
          [
           142.37,
           "resnetrs"
          ],
          [
           142.37,
           "resnetrs"
          ],
          [
           131.6,
           "maxvit"
          ],
          [
           122.48,
           "maxvit"
          ],
          [
           122.48,
           "maxvit"
          ],
          [
           106.82,
           "maxvit"
          ],
          [
           102.52,
           "vit"
          ],
          [
           102.52,
           "vit"
          ],
          [
           102.52,
           "vit"
          ],
          [
           102.5,
           "vit"
          ],
          [
           88.56,
           "beit"
          ],
          [
           86.44,
           "maxvit"
          ],
          [
           86.44,
           "maxvit"
          ],
          [
           82.49,
           "regnety"
          ],
          [
           82.49,
           "regnety"
          ],
          [
           82.49,
           "regnety"
          ],
          [
           57.86,
           "maxvit"
          ],
          [
           57.86,
           "maxvit"
          ],
          [
           57.4,
           "vit"
          ],
          [
           56.31,
           "convnextv2"
          ],
          [
           56.31,
           "convnextv2"
          ],
          [
           56.31,
           "convnextv2"
          ],
          [
           56.31,
           "convnextv2"
          ],
          [
           50.76,
           "maxvit"
          ],
          [
           47.69,
           "regnety"
          ],
          [
           41.04,
           "maxvit"
          ],
          [
           41.04,
           "maxvit"
          ],
          [
           35.33,
           "beit"
          ],
          [
           24.38,
           "maxvit"
          ]
         ],
         "hovertemplate": "<b>%{hovertext}</b><br><br>param_count_x=%{x}<br>secs=%{y}<br>infer_samples_per_sec=%{customdata[0]}<br>family=%{customdata[1]}<br>infer_img_size=%{marker.color}<extra></extra>",
         "hovertext": [
          "regnetx_002",
          "levit_128s",
          "regnety_002",
          "levit_128",
          "vit_tiny_r_s16_p8_224",
          "resnet10t",
          "resnet10t",
          "vit_small_patch32_224",
          "regnetx_004",
          "levit_192",
          "regnety_004",
          "regnety_004",
          "resnet18",
          "resnet18",
          "resnet18",
          "resnet18",
          "resnet18",
          "resnet18",
          "resnet18",
          "resnet18",
          "resnet18",
          "resnet18",
          "levit_256",
          "efficientnet_lite0",
          "resnet18d",
          "resnet18d",
          "regnety_006",
          "regnetx_006",
          "efficientnet_b0",
          "efficientnet_b0",
          "efficientnet_b0",
          "resnet14t",
          "resnet14t",
          "vit_tiny_patch16_224",
          "regnetx_008",
          "regnetx_008",
          "regnety_008",
          "mobilevitv2_050",
          "efficientnet_b1_pruned",
          "resnet34",
          "resnet34",
          "resnet34",
          "resnet34",
          "resnet34",
          "resnet34",
          "resnet34",
          "resnet34",
          "resnet34",
          "resnet34",
          "efficientnet_es_pruned",
          "efficientnet_es",
          "resnet26",
          "resnet26",
          "levit_384",
          "resnet34d",
          "resnet34d",
          "mobilevit_xxs",
          "convnext_atto",
          "convnext_atto",
          "convnext_atto_ols",
          "convnext_atto_ols",
          "vit_base_patch32_clip_224",
          "vit_base_patch32_clip_224",
          "vit_base_patch32_clip_224",
          "vit_base_patch32_224",
          "vit_base_patch32_224",
          "vit_base_patch32_224",
          "repvgg_b0",
          "resnet26d",
          "resnet26d",
          "convnext_femto",
          "convnext_femto",
          "convnext_femto_ols",
          "convnext_femto_ols",
          "efficientformer_l1",
          "crossvit_tiny_240",
          "mobilevitv2_075",
          "efficientnet_b1",
          "efficientnet_b1",
          "efficientnet_b1",
          "efficientnet_b1",
          "vit_small_patch32_384",
          "crossvit_9_240",
          "crossvit_9_dagger_240",
          "efficientnet_b2_pruned",
          "repvgg_a2",
          "vit_tiny_r_s16_p8_384",
          "resnet26t",
          "resnet26t",
          "resnetv2_50",
          "resnetv2_50",
          "regnetx_016",
          "regnetx_016",
          "convnext_pico",
          "convnext_pico",
          "efficientnet_em",
          "resnet50",
          "resnet50",
          "resnet50",
          "resnet50",
          "resnet50",
          "resnet50",
          "resnet50",
          "resnet50",
          "resnet50",
          "resnet50",
          "resnet50",
          "resnet50",
          "resnet50",
          "resnet50",
          "resnet50",
          "resnet50",
          "resnet50",
          "resnet50",
          "resnet50",
          "resnet50",
          "resnet50",
          "resnet50",
          "resnet50",
          "resnet50",
          "resnet50",
          "resnet50",
          "resnet50",
          "resnet50",
          "resnet50",
          "resnet50",
          "resnet50",
          "convnext_pico_ols",
          "convnext_pico_ols",
          "regnety_016",
          "regnety_016",
          "resnet32ts",
          "resnet32ts",
          "resnet33ts",
          "resnet33ts",
          "convit_tiny",
          "efficientnet_b3_pruned",
          "resnet50d",
          "resnet50d",
          "resnet50d",
          "resnet50d",
          "resnet50d",
          "resnet50d",
          "resnet50d",
          "resnet50d",
          "resnet50d",
          "resnet50d",
          "resnet50d",
          "mobilevitv2_100",
          "mobilevit_xs",
          "efficientnet_b2",
          "efficientnet_b2",
          "vit_small_patch16_224",
          "vit_small_patch16_224",
          "convnextv2_atto",
          "convnextv2_atto",
          "vit_small_r26_s32_224",
          "vit_relpos_base_patch32_plus_rpn_256",
          "vit_relpos_small_patch16_224",
          "vit_srelpos_small_patch16_224",
          "resnetaa50d",
          "resnetaa50d",
          "vgg11",
          "resnetrs50",
          "resnetrs50",
          "vgg11_bn",
          "convnextv2_femto",
          "convnextv2_femto",
          "flexivit_small",
          "flexivit_small",
          "flexivit_small",
          "resnetblur50",
          "resnetblur50",
          "regnetz_b16",
          "regnetz_b16",
          "convnext_nano",
          "convnext_nano",
          "convnext_nano",
          "convnext_nano",
          "efficientnetv2_rw_t",
          "efficientnetv2_rw_t",
          "mobilevit_s",
          "gcvit_xxtiny",
          "repvgg_b1g4",
          "mobilevitv2_125",
          "convnext_nano_ols",
          "convnext_nano_ols",
          "regnetx_032",
          "regnetx_032",
          "resnetv2_101",
          "resnetv2_101",
          "resnet101",
          "resnet101",
          "resnet101",
          "resnet101",
          "resnet101",
          "resnet101",
          "resnet101",
          "resnet101",
          "resnet101",
          "resnet101",
          "resnet101",
          "resnet101",
          "vgg13",
          "convnextv2_pico",
          "convnextv2_pico",
          "crossvit_small_240",
          "mobilevitv2_150",
          "mobilevitv2_150",
          "mobilevitv2_150",
          "vit_relpos_medium_patch16_rpn_224",
          "efficientformer_l3",
          "vit_relpos_medium_patch16_224",
          "resnet51q",
          "resnet51q",
          "vit_srelpos_medium_patch16_224",
          "maxvit_rmlp_pico_rw_256",
          "vit_relpos_medium_patch16_cls_224",
          "repvgg_b1",
          "resnetaa101d",
          "resnetaa101d",
          "gcvit_xtiny",
          "resnetaa50",
          "resnetaa50",
          "efficientnet_b3",
          "efficientnet_b3",
          "regnetx_040",
          "crossvit_15_240",
          "vgg13_bn",
          "crossvit_15_dagger_240",
          "resnet61q",
          "resnet61q",
          "vgg16",
          "regnetz_c16",
          "regnetz_c16",
          "regnetv_040",
          "regnetv_040",
          "mobilevitv2_175",
          "mobilevitv2_175",
          "mobilevitv2_175",
          "regnety_040",
          "regnety_040",
          "regnety_040",
          "convnext_tiny_hnf",
          "convnext_tiny_hnf",
          "vit_tiny_patch16_384",
          "vit_base_patch32_384",
          "vit_base_patch32_384",
          "vit_base_patch32_clip_384",
          "vit_base_patch32_clip_384",
          "convnext_tiny",
          "convnext_tiny",
          "convnext_tiny",
          "convnext_tiny",
          "convnext_tiny",
          "convnext_tiny",
          "convnext_tiny",
          "convnext_tiny",
          "resnet152",
          "resnet152",
          "resnet152",
          "resnet152",
          "resnet152",
          "resnet152",
          "resnet152",
          "resnet152",
          "resnet152",
          "resnet152",
          "resnet152",
          "resnet152",
          "vit_medium_patch16_gap_256",
          "efficientnet_el_pruned",
          "maxvit_rmlp_nano_rw_256",
          "regnetx_064",
          "efficientnet_el",
          "mvitv2_tiny",
          "vgg16_bn",
          "maxvit_nano_rw_256",
          "convnextv2_nano",
          "convnextv2_nano",
          "convnextv2_nano",
          "convnextv2_nano",
          "convnextv2_nano",
          "regnety_032",
          "regnety_032",
          "regnety_032",
          "regnety_032",
          "convit_small",
          "mobilevitv2_200",
          "mobilevitv2_200",
          "mobilevitv2_200",
          "vgg19",
          "maxvit_tiny_rw_224",
          "crossvit_18_240",
          "maxxvit_rmlp_nano_rw_256",
          "gcvit_tiny",
          "crossvit_18_dagger_240",
          "repvgg_b2",
          "maxxvitv2_nano_rw_256",
          "vgg19_bn",
          "regnetz_d32",
          "regnetz_d32",
          "vit_base_patch16_clip_224",
          "vit_base_patch16_clip_224",
          "vit_base_patch16_clip_224",
          "vit_base_patch16_clip_224",
          "vit_base_patch16_224_miil",
          "vit_base_patch16_224",
          "vit_base_patch16_224",
          "vit_base_patch16_224",
          "vit_base_patch16_224",
          "vit_base_patch16_224",
          "maxvit_tiny_tf_224",
          "efficientnetv2_rw_s",
          "efficientnetv2_rw_s",
          "regnetx_160",
          "regnetx_160",
          "vit_base_patch16_rpn_224",
          "regnetz_d8",
          "regnetz_d8",
          "vit_base_patch32_clip_448",
          "mvitv2_small",
          "vit_relpos_base_patch16_224",
          "resnetrs101",
          "resnetrs101",
          "vit_relpos_base_patch16_clsgap_224",
          "beit_base_patch16_224",
          "beitv2_base_patch16_224",
          "beitv2_base_patch16_224",
          "resnet101d",
          "resnet101d",
          "resnet101d",
          "flexivit_base",
          "flexivit_base",
          "flexivit_base",
          "vit_large_r50_s32_224",
          "maxvit_rmlp_tiny_rw_256",
          "efficientnet_b4",
          "efficientnet_b4",
          "regnetx_080",
          "regnetx_080",
          "repvgg_b3",
          "repvgg_b2g4",
          "convnext_small",
          "convnext_small",
          "convnext_small",
          "convnext_small",
          "convnext_small",
          "convnext_small",
          "convnext_small",
          "convnext_small",
          "vit_small_r26_s32_384",
          "regnetz_040",
          "regnetz_040",
          "efficientformer_l7",
          "convnextv2_tiny",
          "convnextv2_tiny",
          "convnextv2_tiny",
          "convnextv2_tiny",
          "convnextv2_tiny",
          "resnetv2_50d_evos",
          "resnetv2_50d_evos",
          "crossvit_base_240",
          "maxvit_rmlp_small_rw_224",
          "gcvit_small",
          "regnety_080",
          "regnety_080",
          "regnety_080",
          "mvitv2_base",
          "repvgg_b3g4",
          "maxvit_small_tf_224",
          "vit_small_patch16_384",
          "vit_small_patch16_384",
          "resnet152d",
          "resnet152d",
          "resnet152d",
          "convit_base",
          "convnext_base",
          "convnext_base",
          "convnext_base",
          "convnext_base",
          "convnext_base",
          "convnext_base",
          "convnext_base",
          "convnext_base",
          "convnext_base",
          "regnety_064",
          "regnety_064",
          "regnety_064",
          "regnetv_064",
          "regnetv_064",
          "resnetrs152",
          "resnetrs152",
          "regnetx_120",
          "regnetz_e8",
          "regnetz_e8",
          "regnety_120",
          "regnety_120",
          "regnety_120",
          "regnety_320",
          "regnety_320",
          "regnety_320",
          "regnety_320",
          "regnety_320",
          "gcvit_base",
          "regnetz_c16_evos",
          "regnetz_c16_evos",
          "maxxvit_rmlp_small_rw_256",
          "resnet200d",
          "resnet200d",
          "vit_large_patch32_384",
          "efficientnetv2_rw_m",
          "efficientnetv2_rw_m",
          "vit_medium_patch16_gap_384",
          "efficientnet_b5",
          "maxxvitv2_rmlp_base_rw_224",
          "maxvit_rmlp_base_rw_224",
          "resnetrs200",
          "resnetrs200",
          "maxvit_base_tf_224",
          "convnextv2_base",
          "convnextv2_base",
          "convnextv2_base",
          "convnextv2_base",
          "convnextv2_base",
          "regnetz_d8_evos",
          "regnetz_d8_evos",
          "crossvit_15_dagger_408",
          "vit_large_patch16_224",
          "convnext_large",
          "convnext_large",
          "convnext_large",
          "convnext_large",
          "convnext_large",
          "beit_large_patch16_224",
          "beitv2_large_patch16_224",
          "beitv2_large_patch16_224",
          "regnety_160",
          "regnety_160",
          "regnety_160",
          "regnety_160",
          "regnety_160",
          "regnety_160",
          "regnety_160",
          "regnety_160",
          "regnety_160",
          "regnety_160",
          "maxvit_tiny_tf_384",
          "flexivit_large",
          "flexivit_large",
          "flexivit_large",
          "vit_large_r50_s32_384",
          "vit_base_patch16_384",
          "vit_base_patch16_384",
          "vit_base_patch16_384",
          "vit_base_patch16_clip_384",
          "vit_base_patch16_clip_384",
          "vit_base_patch16_clip_384",
          "vit_base_patch16_clip_384",
          "maxvit_large_tf_224",
          "resnetrs270",
          "resnetrs270",
          "regnetx_320",
          "regnetx_320",
          "vit_large_patch14_clip_224",
          "vit_large_patch14_clip_224",
          "vit_large_patch14_clip_224",
          "vit_large_patch14_clip_224",
          "crossvit_18_dagger_408",
          "beit_base_patch16_384",
          "mvitv2_large",
          "convnext_xlarge",
          "convnext_xlarge",
          "convnext_xlarge",
          "convnextv2_large",
          "convnextv2_large",
          "convnextv2_large",
          "convnextv2_large",
          "convnextv2_large",
          "vit_base_r50_s16_384",
          "maxvit_small_tf_384",
          "vit_base_patch8_224",
          "vit_base_patch8_224",
          "resnetrs350",
          "resnetrs350",
          "convnext_xxlarge",
          "regnety_640",
          "maxvit_tiny_tf_512",
          "vit_huge_patch14_clip_224",
          "vit_huge_patch14_clip_224",
          "maxxvitv2_rmlp_base_rw_384",
          "resnetrs420",
          "resnetrs420",
          "maxvit_rmlp_base_rw_384",
          "maxvit_base_tf_384",
          "maxvit_base_tf_384",
          "maxvit_small_tf_512",
          "vit_large_patch14_clip_336",
          "vit_large_patch14_clip_336",
          "vit_large_patch14_clip_336",
          "vit_large_patch16_384",
          "beit_large_patch16_384",
          "maxvit_large_tf_384",
          "maxvit_large_tf_384",
          "regnety_1280",
          "regnety_1280",
          "regnety_1280",
          "maxvit_base_tf_512",
          "maxvit_base_tf_512",
          "vit_huge_patch14_clip_336",
          "convnextv2_huge",
          "convnextv2_huge",
          "convnextv2_huge",
          "convnextv2_huge",
          "maxvit_xlarge_tf_384",
          "regnety_2560",
          "maxvit_large_tf_512",
          "maxvit_large_tf_512",
          "beit_large_patch16_512",
          "maxvit_xlarge_tf_512"
         ],
         "legendgroup": "",
         "marker": {
          "color": [
           224,
           224,
           224,
           224,
           224,
           224,
           224,
           224,
           224,
           224,
           224,
           224,
           224,
           224,
           224,
           224,
           224,
           224,
           224,
           224,
           224,
           224,
           224,
           224,
           224,
           224,
           224,
           224,
           224,
           224,
           224,
           224,
           224,
           224,
           224,
           224,
           224,
           256,
           240,
           224,
           224,
           224,
           224,
           224,
           224,
           224,
           224,
           224,
           224,
           224,
           224,
           224,
           224,
           224,
           224,
           224,
           256,
           288,
           288,
           288,
           288,
           224,
           224,
           224,
           224,
           224,
           224,
           224,
           224,
           224,
           288,
           288,
           288,
           288,
           224,
           240,
           256,
           256,
           256,
           256,
           256,
           384,
           240,
           240,
           260,
           224,
           384,
           256,
           256,
           224,
           224,
           224,
           224,
           288,
           288,
           240,
           224,
           224,
           224,
           224,
           224,
           224,
           224,
           224,
           224,
           224,
           224,
           224,
           224,
           224,
           224,
           224,
           224,
           224,
           224,
           224,
           224,
           224,
           224,
           224,
           224,
           224,
           224,
           224,
           224,
           224,
           224,
           288,
           288,
           224,
           224,
           256,
           256,
           256,
           256,
           224,
           300,
           224,
           224,
           224,
           224,
           224,
           224,
           224,
           224,
           224,
           224,
           224,
           256,
           256,
           288,
           288,
           224,
           224,
           288,
           288,
           224,
           256,
           224,
           224,
           224,
           224,
           224,
           224,
           224,
           224,
           288,
           288,
           240,
           240,
           240,
           224,
           224,
           288,
           288,
           288,
           288,
           288,
           288,
           288,
           288,
           256,
           224,
           224,
           256,
           288,
           288,
           224,
           224,
           224,
           224,
           224,
           224,
           224,
           224,
           224,
           224,
           224,
           224,
           224,
           224,
           224,
           224,
           224,
           288,
           288,
           240,
           256,
           256,
           256,
           224,
           224,
           224,
           288,
           288,
           224,
           256,
           224,
           224,
           224,
           224,
           224,
           288,
           288,
           320,
           320,
           224,
           240,
           224,
           240,
           288,
           288,
           224,
           320,
           320,
           288,
           288,
           256,
           256,
           256,
           288,
           288,
           288,
           288,
           288,
           384,
           384,
           384,
           384,
           384,
           288,
           288,
           288,
           288,
           288,
           288,
           288,
           288,
           224,
           224,
           224,
           224,
           224,
           224,
           224,
           224,
           224,
           224,
           224,
           224,
           256,
           300,
           256,
           224,
           300,
           224,
           224,
           256,
           288,
           288,
           288,
           288,
           288,
           288,
           288,
           288,
           288,
           224,
           256,
           256,
           256,
           224,
           224,
           240,
           256,
           224,
           240,
           224,
           256,
           224,
           320,
           320,
           224,
           224,
           224,
           224,
           224,
           224,
           224,
           224,
           224,
           224,
           224,
           384,
           384,
           224,
           224,
           224,
           320,
           320,
           448,
           224,
           224,
           288,
           288,
           224,
           224,
           224,
           224,
           320,
           320,
           320,
           240,
           240,
           240,
           224,
           256,
           384,
           384,
           224,
           224,
           224,
           224,
           288,
           288,
           288,
           288,
           288,
           288,
           288,
           288,
           384,
           320,
           320,
           224,
           288,
           288,
           288,
           288,
           288,
           288,
           288,
           240,
           224,
           224,
           288,
           288,
           288,
           224,
           224,
           224,
           384,
           384,
           320,
           320,
           320,
           224,
           288,
           288,
           288,
           288,
           288,
           288,
           288,
           288,
           288,
           288,
           288,
           288,
           288,
           288,
           320,
           320,
           224,
           320,
           320,
           224,
           224,
           224,
           224,
           224,
           224,
           224,
           224,
           224,
           320,
           320,
           256,
           320,
           320,
           384,
           416,
           416,
           384,
           448,
           224,
           224,
           320,
           320,
           224,
           288,
           288,
           288,
           288,
           288,
           320,
           320,
           408,
           224,
           288,
           288,
           288,
           288,
           288,
           224,
           224,
           224,
           288,
           288,
           288,
           288,
           288,
           288,
           288,
           288,
           288,
           288,
           384,
           240,
           240,
           240,
           384,
           384,
           384,
           384,
           384,
           384,
           384,
           384,
           224,
           352,
           352,
           224,
           224,
           224,
           224,
           224,
           224,
           408,
           384,
           224,
           288,
           288,
           288,
           288,
           288,
           288,
           288,
           288,
           384,
           384,
           224,
           224,
           384,
           384,
           224,
           224,
           512,
           224,
           224,
           384,
           416,
           416,
           384,
           384,
           384,
           512,
           336,
           336,
           336,
           384,
           384,
           384,
           384,
           224,
           224,
           224,
           512,
           512,
           336,
           384,
           384,
           384,
           384,
           384,
           224,
           512,
           512,
           512,
           512
          ],
          "coloraxis": "coloraxis",
          "symbol": "circle"
         },
         "mode": "markers",
         "name": "",
         "orientation": "v",
         "showlegend": false,
         "type": "scatter",
         "x": [
          2.68,
          7.78,
          3.16,
          9.21,
          6.34,
          5.44,
          5.44,
          22.88,
          5.16,
          10.95,
          4.34,
          4.34,
          11.69,
          11.69,
          11.69,
          11.69,
          11.69,
          11.69,
          11.69,
          11.69,
          11.69,
          11.69,
          18.89,
          4.65,
          11.71,
          11.71,
          6.06,
          6.2,
          5.29,
          5.29,
          5.29,
          10.08,
          10.08,
          5.72,
          7.26,
          7.26,
          6.26,
          1.37,
          6.33,
          21.8,
          21.8,
          21.8,
          21.8,
          21.8,
          21.8,
          21.8,
          21.8,
          21.8,
          21.8,
          5.44,
          5.44,
          16,
          16,
          39.13,
          21.82,
          21.82,
          1.27,
          3.7,
          3.7,
          3.7,
          3.7,
          88.22,
          88.22,
          88.22,
          88.22,
          88.22,
          88.22,
          15.82,
          16.01,
          16.01,
          5.22,
          5.22,
          5.23,
          5.23,
          12.29,
          7.01,
          2.87,
          7.79,
          7.79,
          7.79,
          7.79,
          22.92,
          8.55,
          8.78,
          8.31,
          28.21,
          6.36,
          16.01,
          16.01,
          25.55,
          25.55,
          9.19,
          9.19,
          9.05,
          9.05,
          6.9,
          25.56,
          25.56,
          25.56,
          25.56,
          25.56,
          25.56,
          25.56,
          25.56,
          25.56,
          25.56,
          25.56,
          25.56,
          25.56,
          25.56,
          25.56,
          25.56,
          25.56,
          25.56,
          25.56,
          25.56,
          25.56,
          25.56,
          25.56,
          25.56,
          25.56,
          25.56,
          25.56,
          25.56,
          25.56,
          25.56,
          25.56,
          9.06,
          9.06,
          11.2,
          11.2,
          17.96,
          17.96,
          19.68,
          19.68,
          5.71,
          9.86,
          25.58,
          25.58,
          25.58,
          25.58,
          25.58,
          25.58,
          25.58,
          25.58,
          25.58,
          25.58,
          25.58,
          4.9,
          2.32,
          9.11,
          9.11,
          22.05,
          22.05,
          3.71,
          3.71,
          36.43,
          119.42,
          21.98,
          21.97,
          25.58,
          25.58,
          132.86,
          35.69,
          35.69,
          132.87,
          5.23,
          5.23,
          22.06,
          22.06,
          22.06,
          25.56,
          25.56,
          9.72,
          9.72,
          15.59,
          15.59,
          15.59,
          15.59,
          13.65,
          13.65,
          5.58,
          12,
          39.97,
          7.48,
          15.65,
          15.65,
          15.3,
          15.3,
          44.54,
          44.54,
          44.55,
          44.55,
          44.55,
          44.55,
          44.55,
          44.55,
          44.55,
          44.55,
          44.55,
          44.55,
          44.55,
          44.55,
          133.05,
          9.07,
          9.07,
          26.86,
          10.59,
          10.59,
          10.59,
          38.73,
          31.41,
          38.75,
          35.7,
          35.7,
          38.74,
          7.52,
          38.76,
          57.42,
          44.57,
          44.57,
          19.98,
          25.56,
          25.56,
          12.23,
          12.23,
          22.12,
          27.53,
          133.05,
          28.21,
          36.85,
          36.85,
          138.36,
          13.46,
          13.46,
          20.64,
          20.64,
          14.25,
          14.25,
          14.25,
          20.65,
          20.65,
          20.65,
          28.59,
          28.59,
          5.79,
          88.3,
          88.3,
          88.3,
          88.3,
          28.59,
          28.59,
          28.59,
          28.59,
          28.59,
          28.59,
          28.59,
          28.59,
          60.19,
          60.19,
          60.19,
          60.19,
          60.19,
          60.19,
          60.19,
          60.19,
          60.19,
          60.19,
          60.19,
          60.19,
          38.86,
          10.59,
          15.5,
          26.21,
          10.59,
          24.17,
          138.37,
          15.45,
          15.62,
          15.62,
          15.62,
          15.62,
          15.62,
          19.44,
          19.44,
          19.44,
          19.44,
          27.78,
          18.45,
          18.45,
          18.45,
          143.67,
          29.06,
          43.27,
          16.78,
          28.22,
          44.27,
          89.02,
          23.7,
          143.68,
          27.58,
          27.58,
          86.57,
          86.57,
          86.57,
          86.57,
          94.4,
          86.57,
          86.57,
          86.57,
          86.57,
          86.57,
          30.92,
          23.94,
          23.94,
          54.28,
          54.28,
          86.54,
          23.37,
          23.37,
          88.34,
          34.87,
          86.43,
          63.62,
          63.62,
          86.43,
          86.53,
          86.53,
          86.53,
          44.57,
          44.57,
          44.57,
          86.59,
          86.59,
          86.59,
          328.99,
          29.15,
          19.34,
          19.34,
          39.57,
          39.57,
          123.09,
          61.76,
          50.22,
          50.22,
          50.22,
          50.22,
          50.22,
          50.22,
          50.22,
          50.22,
          36.47,
          27.12,
          27.12,
          82.23,
          28.64,
          28.64,
          28.64,
          28.64,
          28.64,
          25.59,
          25.59,
          105.03,
          64.9,
          51.09,
          39.18,
          39.18,
          39.18,
          51.47,
          83.83,
          68.93,
          22.2,
          22.2,
          60.21,
          60.21,
          60.21,
          86.54,
          88.59,
          88.59,
          88.59,
          88.59,
          88.59,
          88.59,
          88.59,
          88.59,
          88.59,
          30.58,
          30.58,
          30.58,
          30.58,
          30.58,
          86.62,
          86.62,
          46.11,
          57.7,
          57.7,
          51.82,
          51.82,
          51.82,
          145.05,
          145.05,
          145.05,
          145.05,
          145.05,
          90.32,
          13.49,
          13.49,
          66.01,
          64.69,
          64.69,
          306.63,
          53.24,
          53.24,
          39.03,
          30.39,
          116.09,
          116.14,
          93.21,
          93.21,
          119.47,
          88.72,
          88.72,
          88.72,
          88.72,
          88.72,
          23.46,
          23.46,
          28.5,
          304.33,
          197.77,
          197.77,
          197.77,
          197.77,
          197.77,
          304.43,
          304.43,
          304.43,
          83.59,
          83.59,
          83.59,
          83.59,
          83.59,
          83.59,
          83.59,
          83.59,
          83.59,
          83.59,
          30.98,
          304.36,
          304.36,
          304.36,
          329.09,
          86.86,
          86.86,
          86.86,
          86.86,
          86.86,
          86.86,
          86.86,
          211.79,
          129.86,
          129.86,
          107.81,
          107.81,
          304.2,
          304.2,
          304.2,
          304.2,
          44.61,
          86.74,
          217.99,
          350.2,
          350.2,
          350.2,
          197.96,
          197.96,
          197.96,
          197.96,
          197.96,
          98.95,
          69.02,
          86.58,
          86.58,
          163.96,
          163.96,
          846.47,
          281.38,
          31.05,
          632.05,
          632.05,
          116.09,
          191.89,
          191.89,
          116.14,
          119.65,
          119.65,
          69.13,
          304.53,
          304.53,
          304.53,
          304.72,
          305,
          212.03,
          212.03,
          644.81,
          644.81,
          644.81,
          119.88,
          119.88,
          632.46,
          660.29,
          660.29,
          660.29,
          660.29,
          475.32,
          826.14,
          212.33,
          212.33,
          305.67,
          475.77
         ],
         "xaxis": "x",
         "y": [
          0.00004169550605835703,
          0.000044100013538704156,
          0.00004606305940706709,
          0.00006519895134006664,
          0.00007079450549683939,
          0.00007086132650986,
          0.00007086132650986,
          0.00007246655125160604,
          0.00007347430603517949,
          0.00007394185508283706,
          0.00008390416131078437,
          0.00008390416131078437,
          0.00009022746343532044,
          0.00009022746343532044,
          0.00009022746343532044,
          0.00009022746343532044,
          0.00009022746343532044,
          0.00009022746343532044,
          0.00009022746343532044,
          0.00009022746343532044,
          0.00009022746343532044,
          0.00009022746343532044,
          0.00010143942544709426,
          0.00010682459614961426,
          0.00010712567877508214,
          0.00010712567877508214,
          0.00010991873707767849,
          0.00011933857786603528,
          0.00012554659850323344,
          0.00012554659850323344,
          0.00012554659850323344,
          0.00013459529885540158,
          0.00013459529885540158,
          0.00013468140440381257,
          0.0001352286987753689,
          0.0001352286987753689,
          0.00014412420047099788,
          0.0001460094876965105,
          0.00015054867464474276,
          0.00015393093426841246,
          0.00015393093426841246,
          0.00015393093426841246,
          0.00015393093426841246,
          0.00015393093426841246,
          0.00015393093426841246,
          0.00015393093426841246,
          0.00015393093426841246,
          0.00015393093426841246,
          0.00015393093426841246,
          0.00016352160120351898,
          0.00016352908855427203,
          0.00016962924136714383,
          0.00016962924136714383,
          0.00017005645874430312,
          0.00017047449871973654,
          0.00017047449871973654,
          0.00018099973393039112,
          0.00018313207118709872,
          0.00018313207118709872,
          0.00018907380306828968,
          0.00018907380306828968,
          0.0001893695508911731,
          0.0001893695508911731,
          0.0001893695508911731,
          0.0001893752887973154,
          0.0001893752887973154,
          0.0001893752887973154,
          0.00019037973141227492,
          0.0001957613747146778,
          0.0001957613747146778,
          0.00021056532578667207,
          0.00021056532578667207,
          0.00021652848540489744,
          0.00021652848540489744,
          0.00021900335951153488,
          0.00022313011386329711,
          0.00022758980124582657,
          0.00023588021059385203,
          0.00023588021059385203,
          0.00023588021059385203,
          0.00023588021059385203,
          0.000235899129532212,
          0.0002373960502045167,
          0.0002441984552005724,
          0.0002480823236382761,
          0.0002507623174450329,
          0.0002523309067511134,
          0.00025384189711280227,
          0.00025384189711280227,
          0.0002586994145632249,
          0.0002586994145632249,
          0.00025957777079801996,
          0.00025957777079801996,
          0.0002668452751041364,
          0.0002668452751041364,
          0.0002723867892407218,
          0.00027258503290101345,
          0.00027258503290101345,
          0.00027258503290101345,
          0.00027258503290101345,
          0.00027258503290101345,
          0.00027258503290101345,
          0.00027258503290101345,
          0.00027258503290101345,
          0.00027258503290101345,
          0.00027258503290101345,
          0.00027258503290101345,
          0.00027258503290101345,
          0.00027258503290101345,
          0.00027258503290101345,
          0.00027258503290101345,
          0.00027258503290101345,
          0.00027258503290101345,
          0.00027258503290101345,
          0.00027258503290101345,
          0.00027258503290101345,
          0.00027258503290101345,
          0.00027258503290101345,
          0.00027258503290101345,
          0.00027258503290101345,
          0.00027258503290101345,
          0.00027258503290101345,
          0.00027258503290101345,
          0.00027258503290101345,
          0.00027258503290101345,
          0.00027258503290101345,
          0.00027258503290101345,
          0.0002738720579294177,
          0.0002738720579294177,
          0.0002831353273610655,
          0.0002831353273610655,
          0.0002863180076847753,
          0.0002863180076847753,
          0.0002889522015268234,
          0.0002889522015268234,
          0.00029415138795332407,
          0.0002976101901729115,
          0.0002983765332824104,
          0.0002983765332824104,
          0.0002983765332824104,
          0.0002983765332824104,
          0.0002983765332824104,
          0.0002983765332824104,
          0.0002983765332824104,
          0.0002983765332824104,
          0.0002983765332824104,
          0.0002983765332824104,
          0.0002983765332824104,
          0.0003007853505502868,
          0.00030747660103066154,
          0.0003101833183411396,
          0.0003101833183411396,
          0.00031071532883003247,
          0.00031071532883003247,
          0.0003128196625927119,
          0.0003128196625927119,
          0.00032659246485865077,
          0.0003304201291942705,
          0.0003324180755652769,
          0.00033322670078908084,
          0.00033410958126046177,
          0.00033410958126046177,
          0.00033518017610366456,
          0.0003374479486539201,
          0.0003374479486539201,
          0.0003622689629688666,
          0.0003655090993490283,
          0.0003655090993490283,
          0.00036552646777153133,
          0.00036552646777153133,
          0.00036552646777153133,
          0.0003723049773452422,
          0.0003723049773452422,
          0.00038070437924247444,
          0.00038070437924247444,
          0.0003828806407890404,
          0.0003828806407890404,
          0.0003828806407890404,
          0.0003828806407890404,
          0.0003843950966561471,
          0.0003843950966561471,
          0.00038668414479001113,
          0.0003904099695089814,
          0.00040431157867499006,
          0.0004044849288915495,
          0.0004106776180698152,
          0.0004106776180698152,
          0.00041162088070403636,
          0.00041162088070403636,
          0.0004290740581824423,
          0.0004290740581824423,
          0.0004428148856651965,
          0.0004428148856651965,
          0.0004428148856651965,
          0.0004428148856651965,
          0.0004428148856651965,
          0.0004428148856651965,
          0.0004428148856651965,
          0.0004428148856651965,
          0.0004428148856651965,
          0.0004428148856651965,
          0.0004428148856651965,
          0.0004428148856651965,
          0.00046517902414744313,
          0.00047427080863172874,
          0.00047427080863172874,
          0.00048042277203939464,
          0.00048277460219372777,
          0.00048277460219372777,
          0.00048277460219372777,
          0.0004890334254346284,
          0.0004897663324827725,
          0.0004908047725856086,
          0.0004915430026395859,
          0.0004915430026395859,
          0.0004918476256055874,
          0.0004978145939326358,
          0.000498196528566589,
          0.0005036717671827623,
          0.0005042915208423685,
          0.0005042915208423685,
          0.0005076966816944885,
          0.000510686106784465,
          0.000510686106784465,
          0.0005129415144085271,
          0.0005129415144085271,
          0.0005174322939843322,
          0.000528412753770225,
          0.0005319941267848403,
          0.0005403390086940546,
          0.0005429353255440212,
          0.0005429353255440212,
          0.0005822619713061301,
          0.0005844911128126296,
          0.0005844911128126296,
          0.0005942053098186485,
          0.0005942053098186485,
          0.0005960683332737265,
          0.0005960683332737265,
          0.0005960683332737265,
          0.000596292254759903,
          0.000596292254759903,
          0.000596292254759903,
          0.0005966017563955708,
          0.0005966017563955708,
          0.0006003265776582461,
          0.0006063288606474379,
          0.0006063288606474379,
          0.0006065605590062111,
          0.0006065605590062111,
          0.0006089614770969588,
          0.0006089614770969588,
          0.0006089614770969588,
          0.0006089614770969588,
          0.0006089614770969588,
          0.0006089614770969588,
          0.0006089614770969588,
          0.0006089614770969588,
          0.000632503067639878,
          0.000632503067639878,
          0.000632503067639878,
          0.000632503067639878,
          0.000632503067639878,
          0.000632503067639878,
          0.000632503067639878,
          0.000632503067639878,
          0.000632503067639878,
          0.000632503067639878,
          0.000632503067639878,
          0.000632503067639878,
          0.0006392962626740484,
          0.0006430289234409764,
          0.0006443921770789703,
          0.0006449449217036865,
          0.0006451737775569849,
          0.0006503895833604329,
          0.0006562282624388067,
          0.0006590089822924286,
          0.000666351260403409,
          0.000666351260403409,
          0.000666351260403409,
          0.000666351260403409,
          0.000666351260403409,
          0.0006812685219879415,
          0.0006812685219879415,
          0.0006812685219879415,
          0.0006812685219879415,
          0.0006860875173237098,
          0.0006868037526957047,
          0.0006868037526957047,
          0.0006868037526957047,
          0.0007175093814351623,
          0.0007404939094375948,
          0.0007413722800904475,
          0.0007419883804619619,
          0.0007464636285596984,
          0.0007611624472895006,
          0.0007661543647814161,
          0.0007938398031277288,
          0.0008022334178352533,
          0.0008173206594143081,
          0.0008173206594143081,
          0.0008252050634582694,
          0.0008252050634582694,
          0.0008252050634582694,
          0.0008252050634582694,
          0.0008255865792645675,
          0.000826255081468751,
          0.000826255081468751,
          0.000826255081468751,
          0.000826255081468751,
          0.000826255081468751,
          0.0008331250520703158,
          0.0008334236208922634,
          0.0008334236208922634,
          0.0008367640660039495,
          0.0008367640660039495,
          0.0008471776277332067,
          0.0008593723144615172,
          0.0008593723144615172,
          0.0008663934639277081,
          0.0008719003940989781,
          0.0008761861369829407,
          0.0008813135096547894,
          0.0008813135096547894,
          0.0008857866671390862,
          0.0008990703612464712,
          0.0009020792927698345,
          0.0009020792927698345,
          0.0009616494210870484,
          0.0009616494210870484,
          0.0009616494210870484,
          0.0009641249120236017,
          0.0009641249120236017,
          0.0009641249120236017,
          0.0009702426576886879,
          0.0009715812484819043,
          0.0009861154938466392,
          0.0009861154938466392,
          0.0009955102487780112,
          0.0009955102487780112,
          0.001005803486114883,
          0.0010111530177861815,
          0.0010118385105737126,
          0.0010118385105737126,
          0.0010118385105737126,
          0.0010118385105737126,
          0.0010118385105737126,
          0.0010118385105737126,
          0.0010118385105737126,
          0.0010118385105737126,
          0.0010176252696706964,
          0.001024831671397973,
          0.001024831671397973,
          0.0010389070697626097,
          0.0010743215659311145,
          0.0010743215659311145,
          0.0010743215659311145,
          0.0010743215659311145,
          0.0010743215659311145,
          0.0011698369247326922,
          0.0011698369247326922,
          0.0011912845621433593,
          0.0012249797878335006,
          0.0012266326480545606,
          0.0012326200571935707,
          0.0012326200571935707,
          0.0012326200571935707,
          0.0012435645534359689,
          0.001245562682942019,
          0.001286935035519407,
          0.0013265766363322808,
          0.0013265766363322808,
          0.0013470371916968627,
          0.0013470371916968627,
          0.0013470371916968627,
          0.001367820651356194,
          0.0014553075064761185,
          0.0014553075064761185,
          0.0014553075064761185,
          0.0014553075064761185,
          0.0014553075064761185,
          0.0014553075064761185,
          0.0014553075064761185,
          0.0014553075064761185,
          0.0014553075064761185,
          0.001520426935883596,
          0.001520426935883596,
          0.001520426935883596,
          0.0015323322096230463,
          0.0015323322096230463,
          0.0015385798907608277,
          0.0015385798907608277,
          0.0015615972016178147,
          0.001563892842062462,
          0.001563892842062462,
          0.0015980823012385138,
          0.0015980823012385138,
          0.0015980823012385138,
          0.0016520460590441263,
          0.0016520460590441263,
          0.0016520460590441263,
          0.0016520460590441263,
          0.0016520460590441263,
          0.0016599714484910862,
          0.001675238302648552,
          0.001675238302648552,
          0.0016943983191568676,
          0.0018343911655721466,
          0.0018343911655721466,
          0.0018400956849756187,
          0.0018403666010269246,
          0.0018403666010269246,
          0.001854461835175432,
          0.001875433694041747,
          0.0019021532374648101,
          0.0021183747828665846,
          0.002120081411126187,
          0.002120081411126187,
          0.002325311010347634,
          0.002477762085284571,
          0.002477762085284571,
          0.002477762085284571,
          0.002477762085284571,
          0.002477762085284571,
          0.0025355612464819086,
          0.0025355612464819086,
          0.0025593775593775593,
          0.002559770644550248,
          0.002680821403678087,
          0.002680821403678087,
          0.002680821403678087,
          0.002680821403678087,
          0.002680821403678087,
          0.0027730020520215183,
          0.002773309667757502,
          0.002773309667757502,
          0.002828854314002829,
          0.002828854314002829,
          0.002828854314002829,
          0.002828854314002829,
          0.002828854314002829,
          0.002828854314002829,
          0.002828854314002829,
          0.002828854314002829,
          0.002828854314002829,
          0.002828854314002829,
          0.0029068922415046074,
          0.002981959147159684,
          0.002981959147159684,
          0.002981959147159684,
          0.0030321406913280777,
          0.0032563743527955977,
          0.0032563743527955977,
          0.0032563743527955977,
          0.0032648796891834534,
          0.0032648796891834534,
          0.0032648796891834534,
          0.0032648796891834534,
          0.0033175198221809376,
          0.0033673435027107112,
          0.0033673435027107112,
          0.003454947484798231,
          0.003454947484798231,
          0.0034966257561453197,
          0.0034966257561453197,
          0.0034966257561453197,
          0.0034966257561453197,
          0.00350655726208009,
          0.003827458185019329,
          0.004000160006400256,
          0.004121501875283353,
          0.004121501875283353,
          0.004121501875283353,
          0.0041750167000668,
          0.0041750167000668,
          0.0041750167000668,
          0.0041750167000668,
          0.0041750167000668,
          0.0044185224460940265,
          0.004464086424713183,
          0.005008263634997747,
          0.005008263634997747,
          0.005097099750242112,
          0.005097099750242112,
          0.005444250871080139,
          0.005720496539099593,
          0.0061079892499389206,
          0.006486346241162354,
          0.006486346241162354,
          0.00649772579597141,
          0.007023951675212474,
          0.007023951675212474,
          0.007598784194528876,
          0.008164598301763554,
          0.008164598301763554,
          0.009361542782250515,
          0.009754194303550527,
          0.009754194303550527,
          0.009754194303550527,
          0.00975609756097561,
          0.011291779584462511,
          0.01156871818602499,
          0.01156871818602499,
          0.012122681537156019,
          0.012122681537156019,
          0.012122681537156019,
          0.017283097131005877,
          0.017283097131005877,
          0.017421602787456445,
          0.01775883502042266,
          0.01775883502042266,
          0.01775883502042266,
          0.01775883502042266,
          0.019700551615445233,
          0.020968756552736424,
          0.02436647173489279,
          0.02436647173489279,
          0.028304557033682426,
          0.04101722723543889
         ],
         "yaxis": "y"
        }
       ],
       "layout": {
        "coloraxis": {
         "colorbar": {
          "title": {
           "text": "infer_img_size"
          }
         },
         "colorscale": [
          [
           0,
           "#0d0887"
          ],
          [
           0.1111111111111111,
           "#46039f"
          ],
          [
           0.2222222222222222,
           "#7201a8"
          ],
          [
           0.3333333333333333,
           "#9c179e"
          ],
          [
           0.4444444444444444,
           "#bd3786"
          ],
          [
           0.5555555555555556,
           "#d8576b"
          ],
          [
           0.6666666666666666,
           "#ed7953"
          ],
          [
           0.7777777777777778,
           "#fb9f3a"
          ],
          [
           0.8888888888888888,
           "#fdca26"
          ],
          [
           1,
           "#f0f921"
          ]
         ]
        },
        "height": 800,
        "legend": {
         "tracegroupgap": 0
        },
        "margin": {
         "t": 60
        },
        "template": {
         "data": {
          "bar": [
           {
            "error_x": {
             "color": "#2a3f5f"
            },
            "error_y": {
             "color": "#2a3f5f"
            },
            "marker": {
             "line": {
              "color": "#E5ECF6",
              "width": 0.5
             },
             "pattern": {
              "fillmode": "overlay",
              "size": 10,
              "solidity": 0.2
             }
            },
            "type": "bar"
           }
          ],
          "barpolar": [
           {
            "marker": {
             "line": {
              "color": "#E5ECF6",
              "width": 0.5
             },
             "pattern": {
              "fillmode": "overlay",
              "size": 10,
              "solidity": 0.2
             }
            },
            "type": "barpolar"
           }
          ],
          "carpet": [
           {
            "aaxis": {
             "endlinecolor": "#2a3f5f",
             "gridcolor": "white",
             "linecolor": "white",
             "minorgridcolor": "white",
             "startlinecolor": "#2a3f5f"
            },
            "baxis": {
             "endlinecolor": "#2a3f5f",
             "gridcolor": "white",
             "linecolor": "white",
             "minorgridcolor": "white",
             "startlinecolor": "#2a3f5f"
            },
            "type": "carpet"
           }
          ],
          "choropleth": [
           {
            "colorbar": {
             "outlinewidth": 0,
             "ticks": ""
            },
            "type": "choropleth"
           }
          ],
          "contour": [
           {
            "colorbar": {
             "outlinewidth": 0,
             "ticks": ""
            },
            "colorscale": [
             [
              0,
              "#0d0887"
             ],
             [
              0.1111111111111111,
              "#46039f"
             ],
             [
              0.2222222222222222,
              "#7201a8"
             ],
             [
              0.3333333333333333,
              "#9c179e"
             ],
             [
              0.4444444444444444,
              "#bd3786"
             ],
             [
              0.5555555555555556,
              "#d8576b"
             ],
             [
              0.6666666666666666,
              "#ed7953"
             ],
             [
              0.7777777777777778,
              "#fb9f3a"
             ],
             [
              0.8888888888888888,
              "#fdca26"
             ],
             [
              1,
              "#f0f921"
             ]
            ],
            "type": "contour"
           }
          ],
          "contourcarpet": [
           {
            "colorbar": {
             "outlinewidth": 0,
             "ticks": ""
            },
            "type": "contourcarpet"
           }
          ],
          "heatmap": [
           {
            "colorbar": {
             "outlinewidth": 0,
             "ticks": ""
            },
            "colorscale": [
             [
              0,
              "#0d0887"
             ],
             [
              0.1111111111111111,
              "#46039f"
             ],
             [
              0.2222222222222222,
              "#7201a8"
             ],
             [
              0.3333333333333333,
              "#9c179e"
             ],
             [
              0.4444444444444444,
              "#bd3786"
             ],
             [
              0.5555555555555556,
              "#d8576b"
             ],
             [
              0.6666666666666666,
              "#ed7953"
             ],
             [
              0.7777777777777778,
              "#fb9f3a"
             ],
             [
              0.8888888888888888,
              "#fdca26"
             ],
             [
              1,
              "#f0f921"
             ]
            ],
            "type": "heatmap"
           }
          ],
          "heatmapgl": [
           {
            "colorbar": {
             "outlinewidth": 0,
             "ticks": ""
            },
            "colorscale": [
             [
              0,
              "#0d0887"
             ],
             [
              0.1111111111111111,
              "#46039f"
             ],
             [
              0.2222222222222222,
              "#7201a8"
             ],
             [
              0.3333333333333333,
              "#9c179e"
             ],
             [
              0.4444444444444444,
              "#bd3786"
             ],
             [
              0.5555555555555556,
              "#d8576b"
             ],
             [
              0.6666666666666666,
              "#ed7953"
             ],
             [
              0.7777777777777778,
              "#fb9f3a"
             ],
             [
              0.8888888888888888,
              "#fdca26"
             ],
             [
              1,
              "#f0f921"
             ]
            ],
            "type": "heatmapgl"
           }
          ],
          "histogram": [
           {
            "marker": {
             "pattern": {
              "fillmode": "overlay",
              "size": 10,
              "solidity": 0.2
             }
            },
            "type": "histogram"
           }
          ],
          "histogram2d": [
           {
            "colorbar": {
             "outlinewidth": 0,
             "ticks": ""
            },
            "colorscale": [
             [
              0,
              "#0d0887"
             ],
             [
              0.1111111111111111,
              "#46039f"
             ],
             [
              0.2222222222222222,
              "#7201a8"
             ],
             [
              0.3333333333333333,
              "#9c179e"
             ],
             [
              0.4444444444444444,
              "#bd3786"
             ],
             [
              0.5555555555555556,
              "#d8576b"
             ],
             [
              0.6666666666666666,
              "#ed7953"
             ],
             [
              0.7777777777777778,
              "#fb9f3a"
             ],
             [
              0.8888888888888888,
              "#fdca26"
             ],
             [
              1,
              "#f0f921"
             ]
            ],
            "type": "histogram2d"
           }
          ],
          "histogram2dcontour": [
           {
            "colorbar": {
             "outlinewidth": 0,
             "ticks": ""
            },
            "colorscale": [
             [
              0,
              "#0d0887"
             ],
             [
              0.1111111111111111,
              "#46039f"
             ],
             [
              0.2222222222222222,
              "#7201a8"
             ],
             [
              0.3333333333333333,
              "#9c179e"
             ],
             [
              0.4444444444444444,
              "#bd3786"
             ],
             [
              0.5555555555555556,
              "#d8576b"
             ],
             [
              0.6666666666666666,
              "#ed7953"
             ],
             [
              0.7777777777777778,
              "#fb9f3a"
             ],
             [
              0.8888888888888888,
              "#fdca26"
             ],
             [
              1,
              "#f0f921"
             ]
            ],
            "type": "histogram2dcontour"
           }
          ],
          "mesh3d": [
           {
            "colorbar": {
             "outlinewidth": 0,
             "ticks": ""
            },
            "type": "mesh3d"
           }
          ],
          "parcoords": [
           {
            "line": {
             "colorbar": {
              "outlinewidth": 0,
              "ticks": ""
             }
            },
            "type": "parcoords"
           }
          ],
          "pie": [
           {
            "automargin": true,
            "type": "pie"
           }
          ],
          "scatter": [
           {
            "fillpattern": {
             "fillmode": "overlay",
             "size": 10,
             "solidity": 0.2
            },
            "type": "scatter"
           }
          ],
          "scatter3d": [
           {
            "line": {
             "colorbar": {
              "outlinewidth": 0,
              "ticks": ""
             }
            },
            "marker": {
             "colorbar": {
              "outlinewidth": 0,
              "ticks": ""
             }
            },
            "type": "scatter3d"
           }
          ],
          "scattercarpet": [
           {
            "marker": {
             "colorbar": {
              "outlinewidth": 0,
              "ticks": ""
             }
            },
            "type": "scattercarpet"
           }
          ],
          "scattergeo": [
           {
            "marker": {
             "colorbar": {
              "outlinewidth": 0,
              "ticks": ""
             }
            },
            "type": "scattergeo"
           }
          ],
          "scattergl": [
           {
            "marker": {
             "colorbar": {
              "outlinewidth": 0,
              "ticks": ""
             }
            },
            "type": "scattergl"
           }
          ],
          "scattermapbox": [
           {
            "marker": {
             "colorbar": {
              "outlinewidth": 0,
              "ticks": ""
             }
            },
            "type": "scattermapbox"
           }
          ],
          "scatterpolar": [
           {
            "marker": {
             "colorbar": {
              "outlinewidth": 0,
              "ticks": ""
             }
            },
            "type": "scatterpolar"
           }
          ],
          "scatterpolargl": [
           {
            "marker": {
             "colorbar": {
              "outlinewidth": 0,
              "ticks": ""
             }
            },
            "type": "scatterpolargl"
           }
          ],
          "scatterternary": [
           {
            "marker": {
             "colorbar": {
              "outlinewidth": 0,
              "ticks": ""
             }
            },
            "type": "scatterternary"
           }
          ],
          "surface": [
           {
            "colorbar": {
             "outlinewidth": 0,
             "ticks": ""
            },
            "colorscale": [
             [
              0,
              "#0d0887"
             ],
             [
              0.1111111111111111,
              "#46039f"
             ],
             [
              0.2222222222222222,
              "#7201a8"
             ],
             [
              0.3333333333333333,
              "#9c179e"
             ],
             [
              0.4444444444444444,
              "#bd3786"
             ],
             [
              0.5555555555555556,
              "#d8576b"
             ],
             [
              0.6666666666666666,
              "#ed7953"
             ],
             [
              0.7777777777777778,
              "#fb9f3a"
             ],
             [
              0.8888888888888888,
              "#fdca26"
             ],
             [
              1,
              "#f0f921"
             ]
            ],
            "type": "surface"
           }
          ],
          "table": [
           {
            "cells": {
             "fill": {
              "color": "#EBF0F8"
             },
             "line": {
              "color": "white"
             }
            },
            "header": {
             "fill": {
              "color": "#C8D4E3"
             },
             "line": {
              "color": "white"
             }
            },
            "type": "table"
           }
          ]
         },
         "layout": {
          "annotationdefaults": {
           "arrowcolor": "#2a3f5f",
           "arrowhead": 0,
           "arrowwidth": 1
          },
          "autotypenumbers": "strict",
          "coloraxis": {
           "colorbar": {
            "outlinewidth": 0,
            "ticks": ""
           }
          },
          "colorscale": {
           "diverging": [
            [
             0,
             "#8e0152"
            ],
            [
             0.1,
             "#c51b7d"
            ],
            [
             0.2,
             "#de77ae"
            ],
            [
             0.3,
             "#f1b6da"
            ],
            [
             0.4,
             "#fde0ef"
            ],
            [
             0.5,
             "#f7f7f7"
            ],
            [
             0.6,
             "#e6f5d0"
            ],
            [
             0.7,
             "#b8e186"
            ],
            [
             0.8,
             "#7fbc41"
            ],
            [
             0.9,
             "#4d9221"
            ],
            [
             1,
             "#276419"
            ]
           ],
           "sequential": [
            [
             0,
             "#0d0887"
            ],
            [
             0.1111111111111111,
             "#46039f"
            ],
            [
             0.2222222222222222,
             "#7201a8"
            ],
            [
             0.3333333333333333,
             "#9c179e"
            ],
            [
             0.4444444444444444,
             "#bd3786"
            ],
            [
             0.5555555555555556,
             "#d8576b"
            ],
            [
             0.6666666666666666,
             "#ed7953"
            ],
            [
             0.7777777777777778,
             "#fb9f3a"
            ],
            [
             0.8888888888888888,
             "#fdca26"
            ],
            [
             1,
             "#f0f921"
            ]
           ],
           "sequentialminus": [
            [
             0,
             "#0d0887"
            ],
            [
             0.1111111111111111,
             "#46039f"
            ],
            [
             0.2222222222222222,
             "#7201a8"
            ],
            [
             0.3333333333333333,
             "#9c179e"
            ],
            [
             0.4444444444444444,
             "#bd3786"
            ],
            [
             0.5555555555555556,
             "#d8576b"
            ],
            [
             0.6666666666666666,
             "#ed7953"
            ],
            [
             0.7777777777777778,
             "#fb9f3a"
            ],
            [
             0.8888888888888888,
             "#fdca26"
            ],
            [
             1,
             "#f0f921"
            ]
           ]
          },
          "colorway": [
           "#636efa",
           "#EF553B",
           "#00cc96",
           "#ab63fa",
           "#FFA15A",
           "#19d3f3",
           "#FF6692",
           "#B6E880",
           "#FF97FF",
           "#FECB52"
          ],
          "font": {
           "color": "#2a3f5f"
          },
          "geo": {
           "bgcolor": "white",
           "lakecolor": "white",
           "landcolor": "#E5ECF6",
           "showlakes": true,
           "showland": true,
           "subunitcolor": "white"
          },
          "hoverlabel": {
           "align": "left"
          },
          "hovermode": "closest",
          "mapbox": {
           "style": "light"
          },
          "paper_bgcolor": "white",
          "plot_bgcolor": "#E5ECF6",
          "polar": {
           "angularaxis": {
            "gridcolor": "white",
            "linecolor": "white",
            "ticks": ""
           },
           "bgcolor": "#E5ECF6",
           "radialaxis": {
            "gridcolor": "white",
            "linecolor": "white",
            "ticks": ""
           }
          },
          "scene": {
           "xaxis": {
            "backgroundcolor": "#E5ECF6",
            "gridcolor": "white",
            "gridwidth": 2,
            "linecolor": "white",
            "showbackground": true,
            "ticks": "",
            "zerolinecolor": "white"
           },
           "yaxis": {
            "backgroundcolor": "#E5ECF6",
            "gridcolor": "white",
            "gridwidth": 2,
            "linecolor": "white",
            "showbackground": true,
            "ticks": "",
            "zerolinecolor": "white"
           },
           "zaxis": {
            "backgroundcolor": "#E5ECF6",
            "gridcolor": "white",
            "gridwidth": 2,
            "linecolor": "white",
            "showbackground": true,
            "ticks": "",
            "zerolinecolor": "white"
           }
          },
          "shapedefaults": {
           "line": {
            "color": "#2a3f5f"
           }
          },
          "ternary": {
           "aaxis": {
            "gridcolor": "white",
            "linecolor": "white",
            "ticks": ""
           },
           "baxis": {
            "gridcolor": "white",
            "linecolor": "white",
            "ticks": ""
           },
           "bgcolor": "#E5ECF6",
           "caxis": {
            "gridcolor": "white",
            "linecolor": "white",
            "ticks": ""
           }
          },
          "title": {
           "x": 0.05
          },
          "xaxis": {
           "automargin": true,
           "gridcolor": "white",
           "linecolor": "white",
           "ticks": "",
           "title": {
            "standoff": 15
           },
           "zerolinecolor": "white",
           "zerolinewidth": 2
          },
          "yaxis": {
           "automargin": true,
           "gridcolor": "white",
           "linecolor": "white",
           "ticks": "",
           "title": {
            "standoff": 15
           },
           "zerolinecolor": "white",
           "zerolinewidth": 2
          }
         }
        },
        "width": 1000,
        "xaxis": {
         "anchor": "y",
         "domain": [
          0,
          1
         ],
         "title": {
          "text": "param_count_x"
         },
         "type": "log"
        },
        "yaxis": {
         "anchor": "x",
         "domain": [
          0,
          1
         ],
         "title": {
          "text": "secs"
         },
         "type": "log"
        }
       }
      },
      "text/html": [
       "<div>                            <div id=\"c6513939-4866-4c6b-89e7-c36b54db1a78\" class=\"plotly-graph-div\" style=\"height:800px; width:1000px;\"></div>            <script type=\"text/javascript\">                require([\"plotly\"], function(Plotly) {                    window.PLOTLYENV=window.PLOTLYENV || {};                                    if (document.getElementById(\"c6513939-4866-4c6b-89e7-c36b54db1a78\")) {                    Plotly.newPlot(                        \"c6513939-4866-4c6b-89e7-c36b54db1a78\",                        [{\"customdata\":[[23983.4,\"regnetx\"],[22675.73,\"levit\"],[21709.37,\"regnety\"],[15337.67,\"levit\"],[14125.39,\"vit\"],[14112.07,\"resnet\"],[14112.07,\"resnet\"],[13799.47,\"vit\"],[13610.2,\"regnetx\"],[13524.14,\"levit\"],[11918.36,\"regnety\"],[11918.36,\"regnety\"],[11083.1,\"resnet\"],[11083.1,\"resnet\"],[11083.1,\"resnet\"],[11083.1,\"resnet\"],[11083.1,\"resnet\"],[11083.1,\"resnet\"],[11083.1,\"resnet\"],[11083.1,\"resnet\"],[11083.1,\"resnet\"],[11083.1,\"resnet\"],[9858.1,\"levit\"],[9361.14,\"efficientnet\"],[9334.83,\"resnetd\"],[9334.83,\"resnetd\"],[9097.63,\"regnety\"],[8379.52,\"regnetx\"],[7965.17,\"efficientnet\"],[7965.17,\"efficientnet\"],[7965.17,\"efficientnet\"],[7429.68,\"resnet\"],[7429.68,\"resnet\"],[7424.93,\"vit\"],[7394.88,\"regnetx\"],[7394.88,\"regnetx\"],[6938.46,\"regnety\"],[6848.87,\"mobilevitv2\"],[6642.37,\"efficientnet\"],[6496.42,\"resnet\"],[6496.42,\"resnet\"],[6496.42,\"resnet\"],[6496.42,\"resnet\"],[6496.42,\"resnet\"],[6496.42,\"resnet\"],[6496.42,\"resnet\"],[6496.42,\"resnet\"],[6496.42,\"resnet\"],[6496.42,\"resnet\"],[6115.4,\"efficientnet\"],[6115.12,\"efficientnet\"],[5895.21,\"resnet\"],[5895.21,\"resnet\"],[5880.4,\"levit\"],[5865.98,\"resnetd\"],[5865.98,\"resnetd\"],[5524.87,\"mobilevit\"],[5460.54,\"convnext\"],[5460.54,\"convnext\"],[5288.94,\"convnext\"],[5288.94,\"convnext\"],[5280.68,\"vit\"],[5280.68,\"vit\"],[5280.68,\"vit\"],[5280.52,\"vit\"],[5280.52,\"vit\"],[5280.52,\"vit\"],[5252.66,\"repvgg\"],[5108.26,\"resnetd\"],[5108.26,\"resnetd\"],[4749.12,\"convnext\"],[4749.12,\"convnext\"],[4618.33,\"convnext\"],[4618.33,\"convnext\"],[4566.14,\"efficientformer\"],[4481.69,\"crossvit\"],[4393.87,\"mobilevitv2\"],[4239.44,\"efficientnet\"],[4239.44,\"efficientnet\"],[4239.44,\"efficientnet\"],[4239.44,\"efficientnet\"],[4239.1,\"vit\"],[4212.37,\"crossvit\"],[4095.03,\"crossvit\"],[4030.92,\"efficientnet\"],[3987.84,\"repvgg\"],[3963.05,\"vit\"],[3939.46,\"resnet\"],[3939.46,\"resnet\"],[3865.49,\"resnetv2\"],[3865.49,\"resnetv2\"],[3852.41,\"regnetx\"],[3852.41,\"regnetx\"],[3747.49,\"convnext\"],[3747.49,\"convnext\"],[3671.25,\"efficientnet\"],[3668.58,\"resnet\"],[3668.58,\"resnet\"],[3668.58,\"resnet\"],[3668.58,\"resnet\"],[3668.58,\"resnet\"],[3668.58,\"resnet\"],[3668.58,\"resnet\"],[3668.58,\"resnet\"],[3668.58,\"resnet\"],[3668.58,\"resnet\"],[3668.58,\"resnet\"],[3668.58,\"resnet\"],[3668.58,\"resnet\"],[3668.58,\"resnet\"],[3668.58,\"resnet\"],[3668.58,\"resnet\"],[3668.58,\"resnet\"],[3668.58,\"resnet\"],[3668.58,\"resnet\"],[3668.58,\"resnet\"],[3668.58,\"resnet\"],[3668.58,\"resnet\"],[3668.58,\"resnet\"],[3668.58,\"resnet\"],[3668.58,\"resnet\"],[3668.58,\"resnet\"],[3668.58,\"resnet\"],[3668.58,\"resnet\"],[3668.58,\"resnet\"],[3668.58,\"resnet\"],[3668.58,\"resnet\"],[3651.34,\"convnext\"],[3651.34,\"convnext\"],[3531.88,\"regnety\"],[3531.88,\"regnety\"],[3492.62,\"resnet\"],[3492.62,\"resnet\"],[3460.78,\"resnet\"],[3460.78,\"resnet\"],[3399.61,\"convit\"],[3360.1,\"efficientnet\"],[3351.47,\"resnetd\"],[3351.47,\"resnetd\"],[3351.47,\"resnetd\"],[3351.47,\"resnetd\"],[3351.47,\"resnetd\"],[3351.47,\"resnetd\"],[3351.47,\"resnetd\"],[3351.47,\"resnetd\"],[3351.47,\"resnetd\"],[3351.47,\"resnetd\"],[3351.47,\"resnetd\"],[3324.63,\"mobilevitv2\"],[3252.28,\"mobilevit\"],[3223.9,\"efficientnet\"],[3223.9,\"efficientnet\"],[3218.38,\"vit\"],[3218.38,\"vit\"],[3196.73,\"convnextv2\"],[3196.73,\"convnextv2\"],[3061.92,\"vit\"],[3026.45,\"vit\"],[3008.26,\"vit\"],[3000.96,\"vit\"],[2993.03,\"resnetaad\"],[2993.03,\"resnetaad\"],[2983.47,\"vgg\"],[2963.42,\"resnetrs\"],[2963.42,\"resnetrs\"],[2760.38,\"vgg\"],[2735.91,\"convnextv2\"],[2735.91,\"convnextv2\"],[2735.78,\"flexivit\"],[2735.78,\"flexivit\"],[2735.78,\"flexivit\"],[2685.97,\"resnetblur\"],[2685.97,\"resnetblur\"],[2626.71,\"regnetz\"],[2626.71,\"regnetz\"],[2611.78,\"convnext\"],[2611.78,\"convnext\"],[2611.78,\"convnext\"],[2611.78,\"convnext\"],[2601.49,\"efficientnetv2\"],[2601.49,\"efficientnetv2\"],[2586.09,\"mobilevit\"],[2561.41,\"gcvit\"],[2473.34,\"repvgg\"],[2472.28,\"mobilevitv2\"],[2435.0,\"convnext\"],[2435.0,\"convnext\"],[2429.42,\"regnetx\"],[2429.42,\"regnetx\"],[2330.6,\"resnetv2\"],[2330.6,\"resnetv2\"],[2258.28,\"resnet\"],[2258.28,\"resnet\"],[2258.28,\"resnet\"],[2258.28,\"resnet\"],[2258.28,\"resnet\"],[2258.28,\"resnet\"],[2258.28,\"resnet\"],[2258.28,\"resnet\"],[2258.28,\"resnet\"],[2258.28,\"resnet\"],[2258.28,\"resnet\"],[2258.28,\"resnet\"],[2149.71,\"vgg\"],[2108.5,\"convnextv2\"],[2108.5,\"convnextv2\"],[2081.5,\"crossvit\"],[2071.36,\"mobilevitv2\"],[2071.36,\"mobilevitv2\"],[2071.36,\"mobilevitv2\"],[2044.85,\"vit\"],[2041.79,\"efficientformer\"],[2037.47,\"vit\"],[2034.41,\"resnet\"],[2034.41,\"resnet\"],[2033.15,\"vit\"],[2008.78,\"maxvit\"],[2007.24,\"vit\"],[1985.42,\"repvgg\"],[1982.98,\"resnetaad\"],[1982.98,\"resnetaad\"],[1969.68,\"gcvit\"],[1958.15,\"resnetaa\"],[1958.15,\"resnetaa\"],[1949.54,\"efficientnet\"],[1949.54,\"efficientnet\"],[1932.62,\"regnetx\"],[1892.46,\"crossvit\"],[1879.72,\"vgg\"],[1850.69,\"crossvit\"],[1841.84,\"resnet\"],[1841.84,\"resnet\"],[1717.44,\"vgg\"],[1710.89,\"regnetz\"],[1710.89,\"regnetz\"],[1682.92,\"regnetv\"],[1682.92,\"regnetv\"],[1677.66,\"mobilevitv2\"],[1677.66,\"mobilevitv2\"],[1677.66,\"mobilevitv2\"],[1677.03,\"regnety\"],[1677.03,\"regnety\"],[1677.03,\"regnety\"],[1676.16,\"convnext\"],[1676.16,\"convnext\"],[1665.76,\"vit\"],[1649.27,\"vit\"],[1649.27,\"vit\"],[1648.64,\"vit\"],[1648.64,\"vit\"],[1642.14,\"convnext\"],[1642.14,\"convnext\"],[1642.14,\"convnext\"],[1642.14,\"convnext\"],[1642.14,\"convnext\"],[1642.14,\"convnext\"],[1642.14,\"convnext\"],[1642.14,\"convnext\"],[1581.02,\"resnet\"],[1581.02,\"resnet\"],[1581.02,\"resnet\"],[1581.02,\"resnet\"],[1581.02,\"resnet\"],[1581.02,\"resnet\"],[1581.02,\"resnet\"],[1581.02,\"resnet\"],[1581.02,\"resnet\"],[1581.02,\"resnet\"],[1581.02,\"resnet\"],[1581.02,\"resnet\"],[1564.22,\"vit\"],[1555.14,\"efficientnet\"],[1551.85,\"maxvit\"],[1550.52,\"regnetx\"],[1549.97,\"efficientnet\"],[1537.54,\"mvitv2\"],[1523.86,\"vgg\"],[1517.43,\"maxvit\"],[1500.71,\"convnextv2\"],[1500.71,\"convnextv2\"],[1500.71,\"convnextv2\"],[1500.71,\"convnextv2\"],[1500.71,\"convnextv2\"],[1467.85,\"regnety\"],[1467.85,\"regnety\"],[1467.85,\"regnety\"],[1467.85,\"regnety\"],[1457.54,\"convit\"],[1456.02,\"mobilevitv2\"],[1456.02,\"mobilevitv2\"],[1456.02,\"mobilevitv2\"],[1393.71,\"vgg\"],[1350.45,\"maxvit\"],[1348.85,\"crossvit\"],[1347.73,\"maxxvit\"],[1339.65,\"gcvit\"],[1313.78,\"crossvit\"],[1305.22,\"repvgg\"],[1259.7,\"maxxvitv2\"],[1246.52,\"vgg\"],[1223.51,\"regnetz\"],[1223.51,\"regnetz\"],[1211.82,\"vit\"],[1211.82,\"vit\"],[1211.82,\"vit\"],[1211.82,\"vit\"],[1211.26,\"vit\"],[1210.28,\"vit\"],[1210.28,\"vit\"],[1210.28,\"vit\"],[1210.28,\"vit\"],[1210.28,\"vit\"],[1200.3,\"maxvit\"],[1199.87,\"efficientnetv2\"],[1199.87,\"efficientnetv2\"],[1195.08,\"regnetx\"],[1195.08,\"regnetx\"],[1180.39,\"vit\"],[1163.64,\"regnetz\"],[1163.64,\"regnetz\"],[1154.21,\"vit\"],[1146.92,\"mvitv2\"],[1141.31,\"vit\"],[1134.67,\"resnetrs\"],[1134.67,\"resnetrs\"],[1128.94,\"vit\"],[1112.26,\"beit\"],[1108.55,\"beitv2\"],[1108.55,\"beitv2\"],[1039.88,\"resnetd\"],[1039.88,\"resnetd\"],[1039.88,\"resnetd\"],[1037.21,\"flexivit\"],[1037.21,\"flexivit\"],[1037.21,\"flexivit\"],[1030.67,\"vit\"],[1029.25,\"maxvit\"],[1014.08,\"efficientnet\"],[1014.08,\"efficientnet\"],[1004.51,\"regnetx\"],[1004.51,\"regnetx\"],[994.23,\"repvgg\"],[988.97,\"repvgg\"],[988.3,\"convnext\"],[988.3,\"convnext\"],[988.3,\"convnext\"],[988.3,\"convnext\"],[988.3,\"convnext\"],[988.3,\"convnext\"],[988.3,\"convnext\"],[988.3,\"convnext\"],[982.68,\"vit\"],[975.77,\"regnetz\"],[975.77,\"regnetz\"],[962.55,\"efficientformer\"],[930.82,\"convnextv2\"],[930.82,\"convnextv2\"],[930.82,\"convnextv2\"],[930.82,\"convnextv2\"],[930.82,\"convnextv2\"],[854.82,\"resnetv2d\"],[854.82,\"resnetv2d\"],[839.43,\"crossvit\"],[816.34,\"maxvit\"],[815.24,\"gcvit\"],[811.28,\"regnety\"],[811.28,\"regnety\"],[811.28,\"regnety\"],[804.14,\"mvitv2\"],[802.85,\"repvgg\"],[777.04,\"maxvit\"],[753.82,\"vit\"],[753.82,\"vit\"],[742.37,\"resnetd\"],[742.37,\"resnetd\"],[742.37,\"resnetd\"],[731.09,\"convit\"],[687.14,\"convnext\"],[687.14,\"convnext\"],[687.14,\"convnext\"],[687.14,\"convnext\"],[687.14,\"convnext\"],[687.14,\"convnext\"],[687.14,\"convnext\"],[687.14,\"convnext\"],[687.14,\"convnext\"],[657.71,\"regnety\"],[657.71,\"regnety\"],[657.71,\"regnety\"],[652.6,\"regnetv\"],[652.6,\"regnetv\"],[649.95,\"resnetrs\"],[649.95,\"resnetrs\"],[640.37,\"regnetx\"],[639.43,\"regnetz\"],[639.43,\"regnetz\"],[625.75,\"regnety\"],[625.75,\"regnety\"],[625.75,\"regnety\"],[605.31,\"regnety\"],[605.31,\"regnety\"],[605.31,\"regnety\"],[605.31,\"regnety\"],[605.31,\"regnety\"],[602.42,\"gcvit\"],[596.93,\"regnetz\"],[596.93,\"regnetz\"],[590.18,\"maxxvit\"],[545.14,\"resnetd\"],[545.14,\"resnetd\"],[543.45,\"vit\"],[543.37,\"efficientnetv2\"],[543.37,\"efficientnetv2\"],[539.24,\"vit\"],[533.21,\"efficientnet\"],[525.72,\"maxxvitv2\"],[472.06,\"maxvit\"],[471.68,\"resnetrs\"],[471.68,\"resnetrs\"],[430.05,\"maxvit\"],[403.59,\"convnextv2\"],[403.59,\"convnextv2\"],[403.59,\"convnextv2\"],[403.59,\"convnextv2\"],[403.59,\"convnextv2\"],[394.39,\"regnetz\"],[394.39,\"regnetz\"],[390.72,\"crossvit\"],[390.66,\"vit\"],[373.02,\"convnext\"],[373.02,\"convnext\"],[373.02,\"convnext\"],[373.02,\"convnext\"],[373.02,\"convnext\"],[360.62,\"beit\"],[360.58,\"beitv2\"],[360.58,\"beitv2\"],[353.5,\"regnety\"],[353.5,\"regnety\"],[353.5,\"regnety\"],[353.5,\"regnety\"],[353.5,\"regnety\"],[353.5,\"regnety\"],[353.5,\"regnety\"],[353.5,\"regnety\"],[353.5,\"regnety\"],[353.5,\"regnety\"],[344.01,\"maxvit\"],[335.35,\"flexivit\"],[335.35,\"flexivit\"],[335.35,\"flexivit\"],[329.8,\"vit\"],[307.09,\"vit\"],[307.09,\"vit\"],[307.09,\"vit\"],[306.29,\"vit\"],[306.29,\"vit\"],[306.29,\"vit\"],[306.29,\"vit\"],[301.43,\"maxvit\"],[296.97,\"resnetrs\"],[296.97,\"resnetrs\"],[289.44,\"regnetx\"],[289.44,\"regnetx\"],[285.99,\"vit\"],[285.99,\"vit\"],[285.99,\"vit\"],[285.99,\"vit\"],[285.18,\"crossvit\"],[261.27,\"beit\"],[249.99,\"mvitv2\"],[242.63,\"convnext\"],[242.63,\"convnext\"],[242.63,\"convnext\"],[239.52,\"convnextv2\"],[239.52,\"convnextv2\"],[239.52,\"convnextv2\"],[239.52,\"convnextv2\"],[239.52,\"convnextv2\"],[226.32,\"vit\"],[224.01,\"maxvit\"],[199.67,\"vit\"],[199.67,\"vit\"],[196.19,\"resnetrs\"],[196.19,\"resnetrs\"],[183.68,\"convnext\"],[174.81,\"regnety\"],[163.72,\"maxvit\"],[154.17,\"vit\"],[154.17,\"vit\"],[153.9,\"maxxvitv2\"],[142.37,\"resnetrs\"],[142.37,\"resnetrs\"],[131.6,\"maxvit\"],[122.48,\"maxvit\"],[122.48,\"maxvit\"],[106.82,\"maxvit\"],[102.52,\"vit\"],[102.52,\"vit\"],[102.52,\"vit\"],[102.5,\"vit\"],[88.56,\"beit\"],[86.44,\"maxvit\"],[86.44,\"maxvit\"],[82.49,\"regnety\"],[82.49,\"regnety\"],[82.49,\"regnety\"],[57.86,\"maxvit\"],[57.86,\"maxvit\"],[57.4,\"vit\"],[56.31,\"convnextv2\"],[56.31,\"convnextv2\"],[56.31,\"convnextv2\"],[56.31,\"convnextv2\"],[50.76,\"maxvit\"],[47.69,\"regnety\"],[41.04,\"maxvit\"],[41.04,\"maxvit\"],[35.33,\"beit\"],[24.38,\"maxvit\"]],\"hovertemplate\":\"\\u003cb\\u003e%{hovertext}\\u003c\\u002fb\\u003e\\u003cbr\\u003e\\u003cbr\\u003eparam_count_x=%{x}\\u003cbr\\u003esecs=%{y}\\u003cbr\\u003einfer_samples_per_sec=%{customdata[0]}\\u003cbr\\u003efamily=%{customdata[1]}\\u003cbr\\u003einfer_img_size=%{marker.color}\\u003cextra\\u003e\\u003c\\u002fextra\\u003e\",\"hovertext\":[\"regnetx_002\",\"levit_128s\",\"regnety_002\",\"levit_128\",\"vit_tiny_r_s16_p8_224\",\"resnet10t\",\"resnet10t\",\"vit_small_patch32_224\",\"regnetx_004\",\"levit_192\",\"regnety_004\",\"regnety_004\",\"resnet18\",\"resnet18\",\"resnet18\",\"resnet18\",\"resnet18\",\"resnet18\",\"resnet18\",\"resnet18\",\"resnet18\",\"resnet18\",\"levit_256\",\"efficientnet_lite0\",\"resnet18d\",\"resnet18d\",\"regnety_006\",\"regnetx_006\",\"efficientnet_b0\",\"efficientnet_b0\",\"efficientnet_b0\",\"resnet14t\",\"resnet14t\",\"vit_tiny_patch16_224\",\"regnetx_008\",\"regnetx_008\",\"regnety_008\",\"mobilevitv2_050\",\"efficientnet_b1_pruned\",\"resnet34\",\"resnet34\",\"resnet34\",\"resnet34\",\"resnet34\",\"resnet34\",\"resnet34\",\"resnet34\",\"resnet34\",\"resnet34\",\"efficientnet_es_pruned\",\"efficientnet_es\",\"resnet26\",\"resnet26\",\"levit_384\",\"resnet34d\",\"resnet34d\",\"mobilevit_xxs\",\"convnext_atto\",\"convnext_atto\",\"convnext_atto_ols\",\"convnext_atto_ols\",\"vit_base_patch32_clip_224\",\"vit_base_patch32_clip_224\",\"vit_base_patch32_clip_224\",\"vit_base_patch32_224\",\"vit_base_patch32_224\",\"vit_base_patch32_224\",\"repvgg_b0\",\"resnet26d\",\"resnet26d\",\"convnext_femto\",\"convnext_femto\",\"convnext_femto_ols\",\"convnext_femto_ols\",\"efficientformer_l1\",\"crossvit_tiny_240\",\"mobilevitv2_075\",\"efficientnet_b1\",\"efficientnet_b1\",\"efficientnet_b1\",\"efficientnet_b1\",\"vit_small_patch32_384\",\"crossvit_9_240\",\"crossvit_9_dagger_240\",\"efficientnet_b2_pruned\",\"repvgg_a2\",\"vit_tiny_r_s16_p8_384\",\"resnet26t\",\"resnet26t\",\"resnetv2_50\",\"resnetv2_50\",\"regnetx_016\",\"regnetx_016\",\"convnext_pico\",\"convnext_pico\",\"efficientnet_em\",\"resnet50\",\"resnet50\",\"resnet50\",\"resnet50\",\"resnet50\",\"resnet50\",\"resnet50\",\"resnet50\",\"resnet50\",\"resnet50\",\"resnet50\",\"resnet50\",\"resnet50\",\"resnet50\",\"resnet50\",\"resnet50\",\"resnet50\",\"resnet50\",\"resnet50\",\"resnet50\",\"resnet50\",\"resnet50\",\"resnet50\",\"resnet50\",\"resnet50\",\"resnet50\",\"resnet50\",\"resnet50\",\"resnet50\",\"resnet50\",\"resnet50\",\"convnext_pico_ols\",\"convnext_pico_ols\",\"regnety_016\",\"regnety_016\",\"resnet32ts\",\"resnet32ts\",\"resnet33ts\",\"resnet33ts\",\"convit_tiny\",\"efficientnet_b3_pruned\",\"resnet50d\",\"resnet50d\",\"resnet50d\",\"resnet50d\",\"resnet50d\",\"resnet50d\",\"resnet50d\",\"resnet50d\",\"resnet50d\",\"resnet50d\",\"resnet50d\",\"mobilevitv2_100\",\"mobilevit_xs\",\"efficientnet_b2\",\"efficientnet_b2\",\"vit_small_patch16_224\",\"vit_small_patch16_224\",\"convnextv2_atto\",\"convnextv2_atto\",\"vit_small_r26_s32_224\",\"vit_relpos_base_patch32_plus_rpn_256\",\"vit_relpos_small_patch16_224\",\"vit_srelpos_small_patch16_224\",\"resnetaa50d\",\"resnetaa50d\",\"vgg11\",\"resnetrs50\",\"resnetrs50\",\"vgg11_bn\",\"convnextv2_femto\",\"convnextv2_femto\",\"flexivit_small\",\"flexivit_small\",\"flexivit_small\",\"resnetblur50\",\"resnetblur50\",\"regnetz_b16\",\"regnetz_b16\",\"convnext_nano\",\"convnext_nano\",\"convnext_nano\",\"convnext_nano\",\"efficientnetv2_rw_t\",\"efficientnetv2_rw_t\",\"mobilevit_s\",\"gcvit_xxtiny\",\"repvgg_b1g4\",\"mobilevitv2_125\",\"convnext_nano_ols\",\"convnext_nano_ols\",\"regnetx_032\",\"regnetx_032\",\"resnetv2_101\",\"resnetv2_101\",\"resnet101\",\"resnet101\",\"resnet101\",\"resnet101\",\"resnet101\",\"resnet101\",\"resnet101\",\"resnet101\",\"resnet101\",\"resnet101\",\"resnet101\",\"resnet101\",\"vgg13\",\"convnextv2_pico\",\"convnextv2_pico\",\"crossvit_small_240\",\"mobilevitv2_150\",\"mobilevitv2_150\",\"mobilevitv2_150\",\"vit_relpos_medium_patch16_rpn_224\",\"efficientformer_l3\",\"vit_relpos_medium_patch16_224\",\"resnet51q\",\"resnet51q\",\"vit_srelpos_medium_patch16_224\",\"maxvit_rmlp_pico_rw_256\",\"vit_relpos_medium_patch16_cls_224\",\"repvgg_b1\",\"resnetaa101d\",\"resnetaa101d\",\"gcvit_xtiny\",\"resnetaa50\",\"resnetaa50\",\"efficientnet_b3\",\"efficientnet_b3\",\"regnetx_040\",\"crossvit_15_240\",\"vgg13_bn\",\"crossvit_15_dagger_240\",\"resnet61q\",\"resnet61q\",\"vgg16\",\"regnetz_c16\",\"regnetz_c16\",\"regnetv_040\",\"regnetv_040\",\"mobilevitv2_175\",\"mobilevitv2_175\",\"mobilevitv2_175\",\"regnety_040\",\"regnety_040\",\"regnety_040\",\"convnext_tiny_hnf\",\"convnext_tiny_hnf\",\"vit_tiny_patch16_384\",\"vit_base_patch32_384\",\"vit_base_patch32_384\",\"vit_base_patch32_clip_384\",\"vit_base_patch32_clip_384\",\"convnext_tiny\",\"convnext_tiny\",\"convnext_tiny\",\"convnext_tiny\",\"convnext_tiny\",\"convnext_tiny\",\"convnext_tiny\",\"convnext_tiny\",\"resnet152\",\"resnet152\",\"resnet152\",\"resnet152\",\"resnet152\",\"resnet152\",\"resnet152\",\"resnet152\",\"resnet152\",\"resnet152\",\"resnet152\",\"resnet152\",\"vit_medium_patch16_gap_256\",\"efficientnet_el_pruned\",\"maxvit_rmlp_nano_rw_256\",\"regnetx_064\",\"efficientnet_el\",\"mvitv2_tiny\",\"vgg16_bn\",\"maxvit_nano_rw_256\",\"convnextv2_nano\",\"convnextv2_nano\",\"convnextv2_nano\",\"convnextv2_nano\",\"convnextv2_nano\",\"regnety_032\",\"regnety_032\",\"regnety_032\",\"regnety_032\",\"convit_small\",\"mobilevitv2_200\",\"mobilevitv2_200\",\"mobilevitv2_200\",\"vgg19\",\"maxvit_tiny_rw_224\",\"crossvit_18_240\",\"maxxvit_rmlp_nano_rw_256\",\"gcvit_tiny\",\"crossvit_18_dagger_240\",\"repvgg_b2\",\"maxxvitv2_nano_rw_256\",\"vgg19_bn\",\"regnetz_d32\",\"regnetz_d32\",\"vit_base_patch16_clip_224\",\"vit_base_patch16_clip_224\",\"vit_base_patch16_clip_224\",\"vit_base_patch16_clip_224\",\"vit_base_patch16_224_miil\",\"vit_base_patch16_224\",\"vit_base_patch16_224\",\"vit_base_patch16_224\",\"vit_base_patch16_224\",\"vit_base_patch16_224\",\"maxvit_tiny_tf_224\",\"efficientnetv2_rw_s\",\"efficientnetv2_rw_s\",\"regnetx_160\",\"regnetx_160\",\"vit_base_patch16_rpn_224\",\"regnetz_d8\",\"regnetz_d8\",\"vit_base_patch32_clip_448\",\"mvitv2_small\",\"vit_relpos_base_patch16_224\",\"resnetrs101\",\"resnetrs101\",\"vit_relpos_base_patch16_clsgap_224\",\"beit_base_patch16_224\",\"beitv2_base_patch16_224\",\"beitv2_base_patch16_224\",\"resnet101d\",\"resnet101d\",\"resnet101d\",\"flexivit_base\",\"flexivit_base\",\"flexivit_base\",\"vit_large_r50_s32_224\",\"maxvit_rmlp_tiny_rw_256\",\"efficientnet_b4\",\"efficientnet_b4\",\"regnetx_080\",\"regnetx_080\",\"repvgg_b3\",\"repvgg_b2g4\",\"convnext_small\",\"convnext_small\",\"convnext_small\",\"convnext_small\",\"convnext_small\",\"convnext_small\",\"convnext_small\",\"convnext_small\",\"vit_small_r26_s32_384\",\"regnetz_040\",\"regnetz_040\",\"efficientformer_l7\",\"convnextv2_tiny\",\"convnextv2_tiny\",\"convnextv2_tiny\",\"convnextv2_tiny\",\"convnextv2_tiny\",\"resnetv2_50d_evos\",\"resnetv2_50d_evos\",\"crossvit_base_240\",\"maxvit_rmlp_small_rw_224\",\"gcvit_small\",\"regnety_080\",\"regnety_080\",\"regnety_080\",\"mvitv2_base\",\"repvgg_b3g4\",\"maxvit_small_tf_224\",\"vit_small_patch16_384\",\"vit_small_patch16_384\",\"resnet152d\",\"resnet152d\",\"resnet152d\",\"convit_base\",\"convnext_base\",\"convnext_base\",\"convnext_base\",\"convnext_base\",\"convnext_base\",\"convnext_base\",\"convnext_base\",\"convnext_base\",\"convnext_base\",\"regnety_064\",\"regnety_064\",\"regnety_064\",\"regnetv_064\",\"regnetv_064\",\"resnetrs152\",\"resnetrs152\",\"regnetx_120\",\"regnetz_e8\",\"regnetz_e8\",\"regnety_120\",\"regnety_120\",\"regnety_120\",\"regnety_320\",\"regnety_320\",\"regnety_320\",\"regnety_320\",\"regnety_320\",\"gcvit_base\",\"regnetz_c16_evos\",\"regnetz_c16_evos\",\"maxxvit_rmlp_small_rw_256\",\"resnet200d\",\"resnet200d\",\"vit_large_patch32_384\",\"efficientnetv2_rw_m\",\"efficientnetv2_rw_m\",\"vit_medium_patch16_gap_384\",\"efficientnet_b5\",\"maxxvitv2_rmlp_base_rw_224\",\"maxvit_rmlp_base_rw_224\",\"resnetrs200\",\"resnetrs200\",\"maxvit_base_tf_224\",\"convnextv2_base\",\"convnextv2_base\",\"convnextv2_base\",\"convnextv2_base\",\"convnextv2_base\",\"regnetz_d8_evos\",\"regnetz_d8_evos\",\"crossvit_15_dagger_408\",\"vit_large_patch16_224\",\"convnext_large\",\"convnext_large\",\"convnext_large\",\"convnext_large\",\"convnext_large\",\"beit_large_patch16_224\",\"beitv2_large_patch16_224\",\"beitv2_large_patch16_224\",\"regnety_160\",\"regnety_160\",\"regnety_160\",\"regnety_160\",\"regnety_160\",\"regnety_160\",\"regnety_160\",\"regnety_160\",\"regnety_160\",\"regnety_160\",\"maxvit_tiny_tf_384\",\"flexivit_large\",\"flexivit_large\",\"flexivit_large\",\"vit_large_r50_s32_384\",\"vit_base_patch16_384\",\"vit_base_patch16_384\",\"vit_base_patch16_384\",\"vit_base_patch16_clip_384\",\"vit_base_patch16_clip_384\",\"vit_base_patch16_clip_384\",\"vit_base_patch16_clip_384\",\"maxvit_large_tf_224\",\"resnetrs270\",\"resnetrs270\",\"regnetx_320\",\"regnetx_320\",\"vit_large_patch14_clip_224\",\"vit_large_patch14_clip_224\",\"vit_large_patch14_clip_224\",\"vit_large_patch14_clip_224\",\"crossvit_18_dagger_408\",\"beit_base_patch16_384\",\"mvitv2_large\",\"convnext_xlarge\",\"convnext_xlarge\",\"convnext_xlarge\",\"convnextv2_large\",\"convnextv2_large\",\"convnextv2_large\",\"convnextv2_large\",\"convnextv2_large\",\"vit_base_r50_s16_384\",\"maxvit_small_tf_384\",\"vit_base_patch8_224\",\"vit_base_patch8_224\",\"resnetrs350\",\"resnetrs350\",\"convnext_xxlarge\",\"regnety_640\",\"maxvit_tiny_tf_512\",\"vit_huge_patch14_clip_224\",\"vit_huge_patch14_clip_224\",\"maxxvitv2_rmlp_base_rw_384\",\"resnetrs420\",\"resnetrs420\",\"maxvit_rmlp_base_rw_384\",\"maxvit_base_tf_384\",\"maxvit_base_tf_384\",\"maxvit_small_tf_512\",\"vit_large_patch14_clip_336\",\"vit_large_patch14_clip_336\",\"vit_large_patch14_clip_336\",\"vit_large_patch16_384\",\"beit_large_patch16_384\",\"maxvit_large_tf_384\",\"maxvit_large_tf_384\",\"regnety_1280\",\"regnety_1280\",\"regnety_1280\",\"maxvit_base_tf_512\",\"maxvit_base_tf_512\",\"vit_huge_patch14_clip_336\",\"convnextv2_huge\",\"convnextv2_huge\",\"convnextv2_huge\",\"convnextv2_huge\",\"maxvit_xlarge_tf_384\",\"regnety_2560\",\"maxvit_large_tf_512\",\"maxvit_large_tf_512\",\"beit_large_patch16_512\",\"maxvit_xlarge_tf_512\"],\"legendgroup\":\"\",\"marker\":{\"color\":[224,224,224,224,224,224,224,224,224,224,224,224,224,224,224,224,224,224,224,224,224,224,224,224,224,224,224,224,224,224,224,224,224,224,224,224,224,256,240,224,224,224,224,224,224,224,224,224,224,224,224,224,224,224,224,224,256,288,288,288,288,224,224,224,224,224,224,224,224,224,288,288,288,288,224,240,256,256,256,256,256,384,240,240,260,224,384,256,256,224,224,224,224,288,288,240,224,224,224,224,224,224,224,224,224,224,224,224,224,224,224,224,224,224,224,224,224,224,224,224,224,224,224,224,224,224,224,288,288,224,224,256,256,256,256,224,300,224,224,224,224,224,224,224,224,224,224,224,256,256,288,288,224,224,288,288,224,256,224,224,224,224,224,224,224,224,288,288,240,240,240,224,224,288,288,288,288,288,288,288,288,256,224,224,256,288,288,224,224,224,224,224,224,224,224,224,224,224,224,224,224,224,224,224,288,288,240,256,256,256,224,224,224,288,288,224,256,224,224,224,224,224,288,288,320,320,224,240,224,240,288,288,224,320,320,288,288,256,256,256,288,288,288,288,288,384,384,384,384,384,288,288,288,288,288,288,288,288,224,224,224,224,224,224,224,224,224,224,224,224,256,300,256,224,300,224,224,256,288,288,288,288,288,288,288,288,288,224,256,256,256,224,224,240,256,224,240,224,256,224,320,320,224,224,224,224,224,224,224,224,224,224,224,384,384,224,224,224,320,320,448,224,224,288,288,224,224,224,224,320,320,320,240,240,240,224,256,384,384,224,224,224,224,288,288,288,288,288,288,288,288,384,320,320,224,288,288,288,288,288,288,288,240,224,224,288,288,288,224,224,224,384,384,320,320,320,224,288,288,288,288,288,288,288,288,288,288,288,288,288,288,320,320,224,320,320,224,224,224,224,224,224,224,224,224,320,320,256,320,320,384,416,416,384,448,224,224,320,320,224,288,288,288,288,288,320,320,408,224,288,288,288,288,288,224,224,224,288,288,288,288,288,288,288,288,288,288,384,240,240,240,384,384,384,384,384,384,384,384,224,352,352,224,224,224,224,224,224,408,384,224,288,288,288,288,288,288,288,288,384,384,224,224,384,384,224,224,512,224,224,384,416,416,384,384,384,512,336,336,336,384,384,384,384,224,224,224,512,512,336,384,384,384,384,384,224,512,512,512,512],\"coloraxis\":\"coloraxis\",\"symbol\":\"circle\"},\"mode\":\"markers\",\"name\":\"\",\"orientation\":\"v\",\"showlegend\":false,\"x\":[2.68,7.78,3.16,9.21,6.34,5.44,5.44,22.88,5.16,10.95,4.34,4.34,11.69,11.69,11.69,11.69,11.69,11.69,11.69,11.69,11.69,11.69,18.89,4.65,11.71,11.71,6.06,6.2,5.29,5.29,5.29,10.08,10.08,5.72,7.26,7.26,6.26,1.37,6.33,21.8,21.8,21.8,21.8,21.8,21.8,21.8,21.8,21.8,21.8,5.44,5.44,16.0,16.0,39.13,21.82,21.82,1.27,3.7,3.7,3.7,3.7,88.22,88.22,88.22,88.22,88.22,88.22,15.82,16.01,16.01,5.22,5.22,5.23,5.23,12.29,7.01,2.87,7.79,7.79,7.79,7.79,22.92,8.55,8.78,8.31,28.21,6.36,16.01,16.01,25.55,25.55,9.19,9.19,9.05,9.05,6.9,25.56,25.56,25.56,25.56,25.56,25.56,25.56,25.56,25.56,25.56,25.56,25.56,25.56,25.56,25.56,25.56,25.56,25.56,25.56,25.56,25.56,25.56,25.56,25.56,25.56,25.56,25.56,25.56,25.56,25.56,25.56,9.06,9.06,11.2,11.2,17.96,17.96,19.68,19.68,5.71,9.86,25.58,25.58,25.58,25.58,25.58,25.58,25.58,25.58,25.58,25.58,25.58,4.9,2.32,9.11,9.11,22.05,22.05,3.71,3.71,36.43,119.42,21.98,21.97,25.58,25.58,132.86,35.69,35.69,132.87,5.23,5.23,22.06,22.06,22.06,25.56,25.56,9.72,9.72,15.59,15.59,15.59,15.59,13.65,13.65,5.58,12.0,39.97,7.48,15.65,15.65,15.3,15.3,44.54,44.54,44.55,44.55,44.55,44.55,44.55,44.55,44.55,44.55,44.55,44.55,44.55,44.55,133.05,9.07,9.07,26.86,10.59,10.59,10.59,38.73,31.41,38.75,35.7,35.7,38.74,7.52,38.76,57.42,44.57,44.57,19.98,25.56,25.56,12.23,12.23,22.12,27.53,133.05,28.21,36.85,36.85,138.36,13.46,13.46,20.64,20.64,14.25,14.25,14.25,20.65,20.65,20.65,28.59,28.59,5.79,88.3,88.3,88.3,88.3,28.59,28.59,28.59,28.59,28.59,28.59,28.59,28.59,60.19,60.19,60.19,60.19,60.19,60.19,60.19,60.19,60.19,60.19,60.19,60.19,38.86,10.59,15.5,26.21,10.59,24.17,138.37,15.45,15.62,15.62,15.62,15.62,15.62,19.44,19.44,19.44,19.44,27.78,18.45,18.45,18.45,143.67,29.06,43.27,16.78,28.22,44.27,89.02,23.7,143.68,27.58,27.58,86.57,86.57,86.57,86.57,94.4,86.57,86.57,86.57,86.57,86.57,30.92,23.94,23.94,54.28,54.28,86.54,23.37,23.37,88.34,34.87,86.43,63.62,63.62,86.43,86.53,86.53,86.53,44.57,44.57,44.57,86.59,86.59,86.59,328.99,29.15,19.34,19.34,39.57,39.57,123.09,61.76,50.22,50.22,50.22,50.22,50.22,50.22,50.22,50.22,36.47,27.12,27.12,82.23,28.64,28.64,28.64,28.64,28.64,25.59,25.59,105.03,64.9,51.09,39.18,39.18,39.18,51.47,83.83,68.93,22.2,22.2,60.21,60.21,60.21,86.54,88.59,88.59,88.59,88.59,88.59,88.59,88.59,88.59,88.59,30.58,30.58,30.58,30.58,30.58,86.62,86.62,46.11,57.7,57.7,51.82,51.82,51.82,145.05,145.05,145.05,145.05,145.05,90.32,13.49,13.49,66.01,64.69,64.69,306.63,53.24,53.24,39.03,30.39,116.09,116.14,93.21,93.21,119.47,88.72,88.72,88.72,88.72,88.72,23.46,23.46,28.5,304.33,197.77,197.77,197.77,197.77,197.77,304.43,304.43,304.43,83.59,83.59,83.59,83.59,83.59,83.59,83.59,83.59,83.59,83.59,30.98,304.36,304.36,304.36,329.09,86.86,86.86,86.86,86.86,86.86,86.86,86.86,211.79,129.86,129.86,107.81,107.81,304.2,304.2,304.2,304.2,44.61,86.74,217.99,350.2,350.2,350.2,197.96,197.96,197.96,197.96,197.96,98.95,69.02,86.58,86.58,163.96,163.96,846.47,281.38,31.05,632.05,632.05,116.09,191.89,191.89,116.14,119.65,119.65,69.13,304.53,304.53,304.53,304.72,305.0,212.03,212.03,644.81,644.81,644.81,119.88,119.88,632.46,660.29,660.29,660.29,660.29,475.32,826.14,212.33,212.33,305.67,475.77],\"xaxis\":\"x\",\"y\":[0.00004169550605835703,0.000044100013538704156,0.00004606305940706709,0.00006519895134006664,0.00007079450549683939,0.00007086132650986,0.00007086132650986,0.00007246655125160604,0.00007347430603517949,0.00007394185508283706,0.00008390416131078437,0.00008390416131078437,0.00009022746343532044,0.00009022746343532044,0.00009022746343532044,0.00009022746343532044,0.00009022746343532044,0.00009022746343532044,0.00009022746343532044,0.00009022746343532044,0.00009022746343532044,0.00009022746343532044,0.00010143942544709426,0.00010682459614961426,0.00010712567877508214,0.00010712567877508214,0.00010991873707767849,0.00011933857786603528,0.00012554659850323344,0.00012554659850323344,0.00012554659850323344,0.00013459529885540158,0.00013459529885540158,0.00013468140440381257,0.0001352286987753689,0.0001352286987753689,0.00014412420047099788,0.0001460094876965105,0.00015054867464474276,0.00015393093426841246,0.00015393093426841246,0.00015393093426841246,0.00015393093426841246,0.00015393093426841246,0.00015393093426841246,0.00015393093426841246,0.00015393093426841246,0.00015393093426841246,0.00015393093426841246,0.00016352160120351898,0.00016352908855427203,0.00016962924136714383,0.00016962924136714383,0.00017005645874430312,0.00017047449871973654,0.00017047449871973654,0.00018099973393039112,0.00018313207118709872,0.00018313207118709872,0.00018907380306828968,0.00018907380306828968,0.0001893695508911731,0.0001893695508911731,0.0001893695508911731,0.0001893752887973154,0.0001893752887973154,0.0001893752887973154,0.00019037973141227492,0.0001957613747146778,0.0001957613747146778,0.00021056532578667207,0.00021056532578667207,0.00021652848540489744,0.00021652848540489744,0.00021900335951153488,0.00022313011386329711,0.00022758980124582657,0.00023588021059385203,0.00023588021059385203,0.00023588021059385203,0.00023588021059385203,0.000235899129532212,0.0002373960502045167,0.0002441984552005724,0.0002480823236382761,0.0002507623174450329,0.0002523309067511134,0.00025384189711280227,0.00025384189711280227,0.0002586994145632249,0.0002586994145632249,0.00025957777079801996,0.00025957777079801996,0.0002668452751041364,0.0002668452751041364,0.0002723867892407218,0.00027258503290101345,0.00027258503290101345,0.00027258503290101345,0.00027258503290101345,0.00027258503290101345,0.00027258503290101345,0.00027258503290101345,0.00027258503290101345,0.00027258503290101345,0.00027258503290101345,0.00027258503290101345,0.00027258503290101345,0.00027258503290101345,0.00027258503290101345,0.00027258503290101345,0.00027258503290101345,0.00027258503290101345,0.00027258503290101345,0.00027258503290101345,0.00027258503290101345,0.00027258503290101345,0.00027258503290101345,0.00027258503290101345,0.00027258503290101345,0.00027258503290101345,0.00027258503290101345,0.00027258503290101345,0.00027258503290101345,0.00027258503290101345,0.00027258503290101345,0.00027258503290101345,0.0002738720579294177,0.0002738720579294177,0.0002831353273610655,0.0002831353273610655,0.0002863180076847753,0.0002863180076847753,0.0002889522015268234,0.0002889522015268234,0.00029415138795332407,0.0002976101901729115,0.0002983765332824104,0.0002983765332824104,0.0002983765332824104,0.0002983765332824104,0.0002983765332824104,0.0002983765332824104,0.0002983765332824104,0.0002983765332824104,0.0002983765332824104,0.0002983765332824104,0.0002983765332824104,0.0003007853505502868,0.00030747660103066154,0.0003101833183411396,0.0003101833183411396,0.00031071532883003247,0.00031071532883003247,0.0003128196625927119,0.0003128196625927119,0.00032659246485865077,0.0003304201291942705,0.0003324180755652769,0.00033322670078908084,0.00033410958126046177,0.00033410958126046177,0.00033518017610366456,0.0003374479486539201,0.0003374479486539201,0.0003622689629688666,0.0003655090993490283,0.0003655090993490283,0.00036552646777153133,0.00036552646777153133,0.00036552646777153133,0.0003723049773452422,0.0003723049773452422,0.00038070437924247444,0.00038070437924247444,0.0003828806407890404,0.0003828806407890404,0.0003828806407890404,0.0003828806407890404,0.0003843950966561471,0.0003843950966561471,0.00038668414479001113,0.0003904099695089814,0.00040431157867499006,0.0004044849288915495,0.0004106776180698152,0.0004106776180698152,0.00041162088070403636,0.00041162088070403636,0.0004290740581824423,0.0004290740581824423,0.0004428148856651965,0.0004428148856651965,0.0004428148856651965,0.0004428148856651965,0.0004428148856651965,0.0004428148856651965,0.0004428148856651965,0.0004428148856651965,0.0004428148856651965,0.0004428148856651965,0.0004428148856651965,0.0004428148856651965,0.00046517902414744313,0.00047427080863172874,0.00047427080863172874,0.00048042277203939464,0.00048277460219372777,0.00048277460219372777,0.00048277460219372777,0.0004890334254346284,0.0004897663324827725,0.0004908047725856086,0.0004915430026395859,0.0004915430026395859,0.0004918476256055874,0.0004978145939326358,0.000498196528566589,0.0005036717671827623,0.0005042915208423685,0.0005042915208423685,0.0005076966816944885,0.000510686106784465,0.000510686106784465,0.0005129415144085271,0.0005129415144085271,0.0005174322939843322,0.000528412753770225,0.0005319941267848403,0.0005403390086940546,0.0005429353255440212,0.0005429353255440212,0.0005822619713061301,0.0005844911128126296,0.0005844911128126296,0.0005942053098186485,0.0005942053098186485,0.0005960683332737265,0.0005960683332737265,0.0005960683332737265,0.000596292254759903,0.000596292254759903,0.000596292254759903,0.0005966017563955708,0.0005966017563955708,0.0006003265776582461,0.0006063288606474379,0.0006063288606474379,0.0006065605590062111,0.0006065605590062111,0.0006089614770969588,0.0006089614770969588,0.0006089614770969588,0.0006089614770969588,0.0006089614770969588,0.0006089614770969588,0.0006089614770969588,0.0006089614770969588,0.000632503067639878,0.000632503067639878,0.000632503067639878,0.000632503067639878,0.000632503067639878,0.000632503067639878,0.000632503067639878,0.000632503067639878,0.000632503067639878,0.000632503067639878,0.000632503067639878,0.000632503067639878,0.0006392962626740484,0.0006430289234409764,0.0006443921770789703,0.0006449449217036865,0.0006451737775569849,0.0006503895833604329,0.0006562282624388067,0.0006590089822924286,0.000666351260403409,0.000666351260403409,0.000666351260403409,0.000666351260403409,0.000666351260403409,0.0006812685219879415,0.0006812685219879415,0.0006812685219879415,0.0006812685219879415,0.0006860875173237098,0.0006868037526957047,0.0006868037526957047,0.0006868037526957047,0.0007175093814351623,0.0007404939094375948,0.0007413722800904475,0.0007419883804619619,0.0007464636285596984,0.0007611624472895006,0.0007661543647814161,0.0007938398031277288,0.0008022334178352533,0.0008173206594143081,0.0008173206594143081,0.0008252050634582694,0.0008252050634582694,0.0008252050634582694,0.0008252050634582694,0.0008255865792645675,0.000826255081468751,0.000826255081468751,0.000826255081468751,0.000826255081468751,0.000826255081468751,0.0008331250520703158,0.0008334236208922634,0.0008334236208922634,0.0008367640660039495,0.0008367640660039495,0.0008471776277332067,0.0008593723144615172,0.0008593723144615172,0.0008663934639277081,0.0008719003940989781,0.0008761861369829407,0.0008813135096547894,0.0008813135096547894,0.0008857866671390862,0.0008990703612464712,0.0009020792927698345,0.0009020792927698345,0.0009616494210870484,0.0009616494210870484,0.0009616494210870484,0.0009641249120236017,0.0009641249120236017,0.0009641249120236017,0.0009702426576886879,0.0009715812484819043,0.0009861154938466392,0.0009861154938466392,0.0009955102487780112,0.0009955102487780112,0.001005803486114883,0.0010111530177861815,0.0010118385105737126,0.0010118385105737126,0.0010118385105737126,0.0010118385105737126,0.0010118385105737126,0.0010118385105737126,0.0010118385105737126,0.0010118385105737126,0.0010176252696706964,0.001024831671397973,0.001024831671397973,0.0010389070697626097,0.0010743215659311145,0.0010743215659311145,0.0010743215659311145,0.0010743215659311145,0.0010743215659311145,0.0011698369247326922,0.0011698369247326922,0.0011912845621433593,0.0012249797878335006,0.0012266326480545606,0.0012326200571935707,0.0012326200571935707,0.0012326200571935707,0.0012435645534359689,0.001245562682942019,0.001286935035519407,0.0013265766363322808,0.0013265766363322808,0.0013470371916968627,0.0013470371916968627,0.0013470371916968627,0.001367820651356194,0.0014553075064761185,0.0014553075064761185,0.0014553075064761185,0.0014553075064761185,0.0014553075064761185,0.0014553075064761185,0.0014553075064761185,0.0014553075064761185,0.0014553075064761185,0.001520426935883596,0.001520426935883596,0.001520426935883596,0.0015323322096230463,0.0015323322096230463,0.0015385798907608277,0.0015385798907608277,0.0015615972016178147,0.001563892842062462,0.001563892842062462,0.0015980823012385138,0.0015980823012385138,0.0015980823012385138,0.0016520460590441263,0.0016520460590441263,0.0016520460590441263,0.0016520460590441263,0.0016520460590441263,0.0016599714484910862,0.001675238302648552,0.001675238302648552,0.0016943983191568676,0.0018343911655721466,0.0018343911655721466,0.0018400956849756187,0.0018403666010269246,0.0018403666010269246,0.001854461835175432,0.001875433694041747,0.0019021532374648101,0.0021183747828665846,0.002120081411126187,0.002120081411126187,0.002325311010347634,0.002477762085284571,0.002477762085284571,0.002477762085284571,0.002477762085284571,0.002477762085284571,0.0025355612464819086,0.0025355612464819086,0.0025593775593775593,0.002559770644550248,0.002680821403678087,0.002680821403678087,0.002680821403678087,0.002680821403678087,0.002680821403678087,0.0027730020520215183,0.002773309667757502,0.002773309667757502,0.002828854314002829,0.002828854314002829,0.002828854314002829,0.002828854314002829,0.002828854314002829,0.002828854314002829,0.002828854314002829,0.002828854314002829,0.002828854314002829,0.002828854314002829,0.0029068922415046074,0.002981959147159684,0.002981959147159684,0.002981959147159684,0.0030321406913280777,0.0032563743527955977,0.0032563743527955977,0.0032563743527955977,0.0032648796891834534,0.0032648796891834534,0.0032648796891834534,0.0032648796891834534,0.0033175198221809376,0.0033673435027107112,0.0033673435027107112,0.003454947484798231,0.003454947484798231,0.0034966257561453197,0.0034966257561453197,0.0034966257561453197,0.0034966257561453197,0.00350655726208009,0.003827458185019329,0.004000160006400256,0.004121501875283353,0.004121501875283353,0.004121501875283353,0.0041750167000668,0.0041750167000668,0.0041750167000668,0.0041750167000668,0.0041750167000668,0.0044185224460940265,0.004464086424713183,0.005008263634997747,0.005008263634997747,0.005097099750242112,0.005097099750242112,0.005444250871080139,0.005720496539099593,0.0061079892499389206,0.006486346241162354,0.006486346241162354,0.00649772579597141,0.007023951675212474,0.007023951675212474,0.007598784194528876,0.008164598301763554,0.008164598301763554,0.009361542782250515,0.009754194303550527,0.009754194303550527,0.009754194303550527,0.00975609756097561,0.011291779584462511,0.01156871818602499,0.01156871818602499,0.012122681537156019,0.012122681537156019,0.012122681537156019,0.017283097131005877,0.017283097131005877,0.017421602787456445,0.01775883502042266,0.01775883502042266,0.01775883502042266,0.01775883502042266,0.019700551615445233,0.020968756552736424,0.02436647173489279,0.02436647173489279,0.028304557033682426,0.04101722723543889],\"yaxis\":\"y\",\"type\":\"scatter\"}],                        {\"template\":{\"data\":{\"histogram2dcontour\":[{\"type\":\"histogram2dcontour\",\"colorbar\":{\"outlinewidth\":0,\"ticks\":\"\"},\"colorscale\":[[0.0,\"#0d0887\"],[0.1111111111111111,\"#46039f\"],[0.2222222222222222,\"#7201a8\"],[0.3333333333333333,\"#9c179e\"],[0.4444444444444444,\"#bd3786\"],[0.5555555555555556,\"#d8576b\"],[0.6666666666666666,\"#ed7953\"],[0.7777777777777778,\"#fb9f3a\"],[0.8888888888888888,\"#fdca26\"],[1.0,\"#f0f921\"]]}],\"choropleth\":[{\"type\":\"choropleth\",\"colorbar\":{\"outlinewidth\":0,\"ticks\":\"\"}}],\"histogram2d\":[{\"type\":\"histogram2d\",\"colorbar\":{\"outlinewidth\":0,\"ticks\":\"\"},\"colorscale\":[[0.0,\"#0d0887\"],[0.1111111111111111,\"#46039f\"],[0.2222222222222222,\"#7201a8\"],[0.3333333333333333,\"#9c179e\"],[0.4444444444444444,\"#bd3786\"],[0.5555555555555556,\"#d8576b\"],[0.6666666666666666,\"#ed7953\"],[0.7777777777777778,\"#fb9f3a\"],[0.8888888888888888,\"#fdca26\"],[1.0,\"#f0f921\"]]}],\"heatmap\":[{\"type\":\"heatmap\",\"colorbar\":{\"outlinewidth\":0,\"ticks\":\"\"},\"colorscale\":[[0.0,\"#0d0887\"],[0.1111111111111111,\"#46039f\"],[0.2222222222222222,\"#7201a8\"],[0.3333333333333333,\"#9c179e\"],[0.4444444444444444,\"#bd3786\"],[0.5555555555555556,\"#d8576b\"],[0.6666666666666666,\"#ed7953\"],[0.7777777777777778,\"#fb9f3a\"],[0.8888888888888888,\"#fdca26\"],[1.0,\"#f0f921\"]]}],\"heatmapgl\":[{\"type\":\"heatmapgl\",\"colorbar\":{\"outlinewidth\":0,\"ticks\":\"\"},\"colorscale\":[[0.0,\"#0d0887\"],[0.1111111111111111,\"#46039f\"],[0.2222222222222222,\"#7201a8\"],[0.3333333333333333,\"#9c179e\"],[0.4444444444444444,\"#bd3786\"],[0.5555555555555556,\"#d8576b\"],[0.6666666666666666,\"#ed7953\"],[0.7777777777777778,\"#fb9f3a\"],[0.8888888888888888,\"#fdca26\"],[1.0,\"#f0f921\"]]}],\"contourcarpet\":[{\"type\":\"contourcarpet\",\"colorbar\":{\"outlinewidth\":0,\"ticks\":\"\"}}],\"contour\":[{\"type\":\"contour\",\"colorbar\":{\"outlinewidth\":0,\"ticks\":\"\"},\"colorscale\":[[0.0,\"#0d0887\"],[0.1111111111111111,\"#46039f\"],[0.2222222222222222,\"#7201a8\"],[0.3333333333333333,\"#9c179e\"],[0.4444444444444444,\"#bd3786\"],[0.5555555555555556,\"#d8576b\"],[0.6666666666666666,\"#ed7953\"],[0.7777777777777778,\"#fb9f3a\"],[0.8888888888888888,\"#fdca26\"],[1.0,\"#f0f921\"]]}],\"surface\":[{\"type\":\"surface\",\"colorbar\":{\"outlinewidth\":0,\"ticks\":\"\"},\"colorscale\":[[0.0,\"#0d0887\"],[0.1111111111111111,\"#46039f\"],[0.2222222222222222,\"#7201a8\"],[0.3333333333333333,\"#9c179e\"],[0.4444444444444444,\"#bd3786\"],[0.5555555555555556,\"#d8576b\"],[0.6666666666666666,\"#ed7953\"],[0.7777777777777778,\"#fb9f3a\"],[0.8888888888888888,\"#fdca26\"],[1.0,\"#f0f921\"]]}],\"mesh3d\":[{\"type\":\"mesh3d\",\"colorbar\":{\"outlinewidth\":0,\"ticks\":\"\"}}],\"scatter\":[{\"fillpattern\":{\"fillmode\":\"overlay\",\"size\":10,\"solidity\":0.2},\"type\":\"scatter\"}],\"parcoords\":[{\"type\":\"parcoords\",\"line\":{\"colorbar\":{\"outlinewidth\":0,\"ticks\":\"\"}}}],\"scatterpolargl\":[{\"type\":\"scatterpolargl\",\"marker\":{\"colorbar\":{\"outlinewidth\":0,\"ticks\":\"\"}}}],\"bar\":[{\"error_x\":{\"color\":\"#2a3f5f\"},\"error_y\":{\"color\":\"#2a3f5f\"},\"marker\":{\"line\":{\"color\":\"#E5ECF6\",\"width\":0.5},\"pattern\":{\"fillmode\":\"overlay\",\"size\":10,\"solidity\":0.2}},\"type\":\"bar\"}],\"scattergeo\":[{\"type\":\"scattergeo\",\"marker\":{\"colorbar\":{\"outlinewidth\":0,\"ticks\":\"\"}}}],\"scatterpolar\":[{\"type\":\"scatterpolar\",\"marker\":{\"colorbar\":{\"outlinewidth\":0,\"ticks\":\"\"}}}],\"histogram\":[{\"marker\":{\"pattern\":{\"fillmode\":\"overlay\",\"size\":10,\"solidity\":0.2}},\"type\":\"histogram\"}],\"scattergl\":[{\"type\":\"scattergl\",\"marker\":{\"colorbar\":{\"outlinewidth\":0,\"ticks\":\"\"}}}],\"scatter3d\":[{\"type\":\"scatter3d\",\"line\":{\"colorbar\":{\"outlinewidth\":0,\"ticks\":\"\"}},\"marker\":{\"colorbar\":{\"outlinewidth\":0,\"ticks\":\"\"}}}],\"scattermapbox\":[{\"type\":\"scattermapbox\",\"marker\":{\"colorbar\":{\"outlinewidth\":0,\"ticks\":\"\"}}}],\"scatterternary\":[{\"type\":\"scatterternary\",\"marker\":{\"colorbar\":{\"outlinewidth\":0,\"ticks\":\"\"}}}],\"scattercarpet\":[{\"type\":\"scattercarpet\",\"marker\":{\"colorbar\":{\"outlinewidth\":0,\"ticks\":\"\"}}}],\"carpet\":[{\"aaxis\":{\"endlinecolor\":\"#2a3f5f\",\"gridcolor\":\"white\",\"linecolor\":\"white\",\"minorgridcolor\":\"white\",\"startlinecolor\":\"#2a3f5f\"},\"baxis\":{\"endlinecolor\":\"#2a3f5f\",\"gridcolor\":\"white\",\"linecolor\":\"white\",\"minorgridcolor\":\"white\",\"startlinecolor\":\"#2a3f5f\"},\"type\":\"carpet\"}],\"table\":[{\"cells\":{\"fill\":{\"color\":\"#EBF0F8\"},\"line\":{\"color\":\"white\"}},\"header\":{\"fill\":{\"color\":\"#C8D4E3\"},\"line\":{\"color\":\"white\"}},\"type\":\"table\"}],\"barpolar\":[{\"marker\":{\"line\":{\"color\":\"#E5ECF6\",\"width\":0.5},\"pattern\":{\"fillmode\":\"overlay\",\"size\":10,\"solidity\":0.2}},\"type\":\"barpolar\"}],\"pie\":[{\"automargin\":true,\"type\":\"pie\"}]},\"layout\":{\"autotypenumbers\":\"strict\",\"colorway\":[\"#636efa\",\"#EF553B\",\"#00cc96\",\"#ab63fa\",\"#FFA15A\",\"#19d3f3\",\"#FF6692\",\"#B6E880\",\"#FF97FF\",\"#FECB52\"],\"font\":{\"color\":\"#2a3f5f\"},\"hovermode\":\"closest\",\"hoverlabel\":{\"align\":\"left\"},\"paper_bgcolor\":\"white\",\"plot_bgcolor\":\"#E5ECF6\",\"polar\":{\"bgcolor\":\"#E5ECF6\",\"angularaxis\":{\"gridcolor\":\"white\",\"linecolor\":\"white\",\"ticks\":\"\"},\"radialaxis\":{\"gridcolor\":\"white\",\"linecolor\":\"white\",\"ticks\":\"\"}},\"ternary\":{\"bgcolor\":\"#E5ECF6\",\"aaxis\":{\"gridcolor\":\"white\",\"linecolor\":\"white\",\"ticks\":\"\"},\"baxis\":{\"gridcolor\":\"white\",\"linecolor\":\"white\",\"ticks\":\"\"},\"caxis\":{\"gridcolor\":\"white\",\"linecolor\":\"white\",\"ticks\":\"\"}},\"coloraxis\":{\"colorbar\":{\"outlinewidth\":0,\"ticks\":\"\"}},\"colorscale\":{\"sequential\":[[0.0,\"#0d0887\"],[0.1111111111111111,\"#46039f\"],[0.2222222222222222,\"#7201a8\"],[0.3333333333333333,\"#9c179e\"],[0.4444444444444444,\"#bd3786\"],[0.5555555555555556,\"#d8576b\"],[0.6666666666666666,\"#ed7953\"],[0.7777777777777778,\"#fb9f3a\"],[0.8888888888888888,\"#fdca26\"],[1.0,\"#f0f921\"]],\"sequentialminus\":[[0.0,\"#0d0887\"],[0.1111111111111111,\"#46039f\"],[0.2222222222222222,\"#7201a8\"],[0.3333333333333333,\"#9c179e\"],[0.4444444444444444,\"#bd3786\"],[0.5555555555555556,\"#d8576b\"],[0.6666666666666666,\"#ed7953\"],[0.7777777777777778,\"#fb9f3a\"],[0.8888888888888888,\"#fdca26\"],[1.0,\"#f0f921\"]],\"diverging\":[[0,\"#8e0152\"],[0.1,\"#c51b7d\"],[0.2,\"#de77ae\"],[0.3,\"#f1b6da\"],[0.4,\"#fde0ef\"],[0.5,\"#f7f7f7\"],[0.6,\"#e6f5d0\"],[0.7,\"#b8e186\"],[0.8,\"#7fbc41\"],[0.9,\"#4d9221\"],[1,\"#276419\"]]},\"xaxis\":{\"gridcolor\":\"white\",\"linecolor\":\"white\",\"ticks\":\"\",\"title\":{\"standoff\":15},\"zerolinecolor\":\"white\",\"automargin\":true,\"zerolinewidth\":2},\"yaxis\":{\"gridcolor\":\"white\",\"linecolor\":\"white\",\"ticks\":\"\",\"title\":{\"standoff\":15},\"zerolinecolor\":\"white\",\"automargin\":true,\"zerolinewidth\":2},\"scene\":{\"xaxis\":{\"backgroundcolor\":\"#E5ECF6\",\"gridcolor\":\"white\",\"linecolor\":\"white\",\"showbackground\":true,\"ticks\":\"\",\"zerolinecolor\":\"white\",\"gridwidth\":2},\"yaxis\":{\"backgroundcolor\":\"#E5ECF6\",\"gridcolor\":\"white\",\"linecolor\":\"white\",\"showbackground\":true,\"ticks\":\"\",\"zerolinecolor\":\"white\",\"gridwidth\":2},\"zaxis\":{\"backgroundcolor\":\"#E5ECF6\",\"gridcolor\":\"white\",\"linecolor\":\"white\",\"showbackground\":true,\"ticks\":\"\",\"zerolinecolor\":\"white\",\"gridwidth\":2}},\"shapedefaults\":{\"line\":{\"color\":\"#2a3f5f\"}},\"annotationdefaults\":{\"arrowcolor\":\"#2a3f5f\",\"arrowhead\":0,\"arrowwidth\":1},\"geo\":{\"bgcolor\":\"white\",\"landcolor\":\"#E5ECF6\",\"subunitcolor\":\"white\",\"showland\":true,\"showlakes\":true,\"lakecolor\":\"white\"},\"title\":{\"x\":0.05},\"mapbox\":{\"style\":\"light\"}}},\"xaxis\":{\"anchor\":\"y\",\"domain\":[0.0,1.0],\"title\":{\"text\":\"param_count_x\"},\"type\":\"log\"},\"yaxis\":{\"anchor\":\"x\",\"domain\":[0.0,1.0],\"title\":{\"text\":\"secs\"},\"type\":\"log\"},\"coloraxis\":{\"colorbar\":{\"title\":{\"text\":\"infer_img_size\"}},\"colorscale\":[[0.0,\"#0d0887\"],[0.1111111111111111,\"#46039f\"],[0.2222222222222222,\"#7201a8\"],[0.3333333333333333,\"#9c179e\"],[0.4444444444444444,\"#bd3786\"],[0.5555555555555556,\"#d8576b\"],[0.6666666666666666,\"#ed7953\"],[0.7777777777777778,\"#fb9f3a\"],[0.8888888888888888,\"#fdca26\"],[1.0,\"#f0f921\"]]},\"legend\":{\"tracegroupgap\":0},\"margin\":{\"t\":60},\"height\":800,\"width\":1000},                        {\"responsive\": true}                    ).then(function(){\n",
       "                            \n",
       "var gd = document.getElementById('c6513939-4866-4c6b-89e7-c36b54db1a78');\n",
       "var x = new MutationObserver(function (mutations, observer) {{\n",
       "        var display = window.getComputedStyle(gd).display;\n",
       "        if (!display || display === 'none') {{\n",
       "            console.log([gd, 'removed!']);\n",
       "            Plotly.purge(gd);\n",
       "            observer.disconnect();\n",
       "        }}\n",
       "}});\n",
       "\n",
       "// Listen for the removal of the full notebook cells\n",
       "var notebookContainer = gd.closest('#notebook-container');\n",
       "if (notebookContainer) {{\n",
       "    x.observe(notebookContainer, {childList: true});\n",
       "}}\n",
       "\n",
       "// Listen for the clearing of the current output cell\n",
       "var outputEl = gd.closest('.output');\n",
       "if (outputEl) {{\n",
       "    x.observe(outputEl, {childList: true});\n",
       "}}\n",
       "\n",
       "                        })                };                });            </script>        </div>"
      ]
     },
     "metadata": {},
     "output_type": "display_data"
    }
   ],
   "source": [
    "px.scatter(df, width=w, height=h,\n",
    "    x='param_count_x',  y='secs', log_x=True, log_y=True, color='infer_img_size',\n",
    "    hover_name='model', hover_data=['infer_samples_per_sec', 'family']\n",
    ")"
   ]
  },
  {
   "cell_type": "markdown",
   "metadata": {},
   "source": [
    "## Training results"
   ]
  },
  {
   "cell_type": "markdown",
   "metadata": {},
   "source": [
    "We'll now replicate the above analysis for training performance. First we grab the data:"
   ]
  },
  {
   "cell_type": "code",
   "execution_count": 111,
   "metadata": {
    "execution": {
     "iopub.execute_input": "2022-05-21T22:28:52.607289Z",
     "iopub.status.busy": "2022-05-21T22:28:52.606993Z",
     "iopub.status.idle": "2022-05-21T22:28:52.63373Z",
     "shell.execute_reply": "2022-05-21T22:28:52.632402Z",
     "shell.execute_reply.started": "2022-05-21T22:28:52.607259Z"
    },
    "trusted": true
   },
   "outputs": [],
   "source": [
    "tdf = get_data('train', 'train_samples_per_sec','pt112-cu113')"
   ]
  },
  {
   "cell_type": "markdown",
   "metadata": {},
   "source": [
    "Now we can repeat the same *family* plot we did above:"
   ]
  },
  {
   "cell_type": "code",
   "execution_count": 112,
   "metadata": {
    "execution": {
     "iopub.execute_input": "2022-05-21T22:28:53.585093Z",
     "iopub.status.busy": "2022-05-21T22:28:53.584779Z",
     "iopub.status.idle": "2022-05-21T22:28:53.839268Z",
     "shell.execute_reply": "2022-05-21T22:28:53.838135Z",
     "shell.execute_reply.started": "2022-05-21T22:28:53.585056Z"
    },
    "trusted": true
   },
   "outputs": [
    {
     "data": {
      "application/vnd.plotly.v1+json": {
       "config": {
        "plotlyServerURL": "https://plot.ly"
       },
       "data": [
        {
         "customdata": [
          [
           224
          ],
          [
           224
          ],
          [
           224
          ],
          [
           224
          ],
          [
           224
          ]
         ],
         "hovertemplate": "<b>%{hovertext}</b><br><br>family=levit<br>secs=%{x}<br>top1=%{y}<br>size=%{marker.size}<br>train_img_size=%{customdata[0]}<extra></extra>",
         "hovertext": [
          "levit_128s",
          "levit_128",
          "levit_192",
          "levit_256",
          "levit_384"
         ],
         "legendgroup": "levit",
         "marker": {
          "color": "#636efa",
          "size": [
           50176,
           50176,
           50176,
           50176,
           50176
          ],
          "sizemode": "area",
          "sizeref": 655.36,
          "symbol": "circle"
         },
         "mode": "markers",
         "name": "levit",
         "orientation": "v",
         "showlegend": true,
         "type": "scatter",
         "x": [
          0.00015292484049939136,
          0.00021938099458567706,
          0.0002682914396250359,
          0.00033824578968553293,
          0.000555247084952804
         ],
         "xaxis": "x",
         "y": [
          76.522,
          78.486,
          79.85,
          81.506,
          82.598
         ],
         "yaxis": "y"
        },
        {
         "customdata": [
          [
           176
          ],
          [
           176
          ],
          [
           224
          ],
          [
           224
          ],
          [
           224
          ],
          [
           224
          ],
          [
           224
          ],
          [
           224
          ],
          [
           224
          ],
          [
           224
          ],
          [
           224
          ],
          [
           224
          ],
          [
           176
          ],
          [
           176
          ],
          [
           224
          ],
          [
           224
          ],
          [
           224
          ],
          [
           224
          ],
          [
           224
          ],
          [
           224
          ],
          [
           224
          ],
          [
           224
          ],
          [
           224
          ],
          [
           224
          ],
          [
           224
          ],
          [
           224
          ],
          [
           256
          ],
          [
           256
          ],
          [
           224
          ],
          [
           224
          ],
          [
           224
          ],
          [
           224
          ],
          [
           224
          ],
          [
           224
          ],
          [
           224
          ],
          [
           224
          ],
          [
           224
          ],
          [
           224
          ],
          [
           224
          ],
          [
           224
          ],
          [
           224
          ],
          [
           224
          ],
          [
           224
          ],
          [
           224
          ],
          [
           224
          ],
          [
           224
          ],
          [
           224
          ],
          [
           224
          ],
          [
           224
          ],
          [
           224
          ],
          [
           224
          ],
          [
           224
          ],
          [
           224
          ],
          [
           224
          ],
          [
           224
          ],
          [
           224
          ],
          [
           224
          ],
          [
           224
          ],
          [
           224
          ],
          [
           256
          ],
          [
           256
          ],
          [
           256
          ],
          [
           256
          ],
          [
           224
          ],
          [
           224
          ],
          [
           224
          ],
          [
           224
          ],
          [
           224
          ],
          [
           224
          ],
          [
           224
          ],
          [
           224
          ],
          [
           224
          ],
          [
           224
          ],
          [
           224
          ],
          [
           224
          ],
          [
           224
          ],
          [
           224
          ],
          [
           224
          ],
          [
           224
          ],
          [
           224
          ],
          [
           224
          ],
          [
           224
          ],
          [
           224
          ],
          [
           224
          ],
          [
           224
          ],
          [
           224
          ],
          [
           224
          ],
          [
           256
          ],
          [
           256
          ],
          [
           256
          ],
          [
           256
          ]
         ],
         "hovertemplate": "<b>%{hovertext}</b><br><br>family=resnet<br>secs=%{x}<br>top1=%{y}<br>size=%{marker.size}<br>train_img_size=%{customdata[0]}<extra></extra>",
         "hovertext": [
          "resnet10t",
          "resnet10t",
          "resnet18",
          "resnet18",
          "resnet18",
          "resnet18",
          "resnet18",
          "resnet18",
          "resnet18",
          "resnet18",
          "resnet18",
          "resnet18",
          "resnet14t",
          "resnet14t",
          "resnet34",
          "resnet34",
          "resnet34",
          "resnet34",
          "resnet34",
          "resnet34",
          "resnet34",
          "resnet34",
          "resnet34",
          "resnet34",
          "resnet26",
          "resnet26",
          "resnet26t",
          "resnet26t",
          "resnet50",
          "resnet50",
          "resnet50",
          "resnet50",
          "resnet50",
          "resnet50",
          "resnet50",
          "resnet50",
          "resnet50",
          "resnet50",
          "resnet50",
          "resnet50",
          "resnet50",
          "resnet50",
          "resnet50",
          "resnet50",
          "resnet50",
          "resnet50",
          "resnet50",
          "resnet50",
          "resnet50",
          "resnet50",
          "resnet50",
          "resnet50",
          "resnet50",
          "resnet50",
          "resnet50",
          "resnet50",
          "resnet50",
          "resnet50",
          "resnet50",
          "resnet32ts",
          "resnet32ts",
          "resnet33ts",
          "resnet33ts",
          "resnet101",
          "resnet101",
          "resnet101",
          "resnet101",
          "resnet101",
          "resnet101",
          "resnet101",
          "resnet101",
          "resnet101",
          "resnet101",
          "resnet101",
          "resnet101",
          "resnet152",
          "resnet152",
          "resnet152",
          "resnet152",
          "resnet152",
          "resnet152",
          "resnet152",
          "resnet152",
          "resnet152",
          "resnet152",
          "resnet152",
          "resnet152",
          "resnet51q",
          "resnet51q",
          "resnet61q",
          "resnet61q"
         ],
         "legendgroup": "resnet",
         "marker": {
          "color": "#EF553B",
          "size": [
           30976,
           30976,
           50176,
           50176,
           50176,
           50176,
           50176,
           50176,
           50176,
           50176,
           50176,
           50176,
           30976,
           30976,
           50176,
           50176,
           50176,
           50176,
           50176,
           50176,
           50176,
           50176,
           50176,
           50176,
           50176,
           50176,
           65536,
           65536,
           50176,
           50176,
           50176,
           50176,
           50176,
           50176,
           50176,
           50176,
           50176,
           50176,
           50176,
           50176,
           50176,
           50176,
           50176,
           50176,
           50176,
           50176,
           50176,
           50176,
           50176,
           50176,
           50176,
           50176,
           50176,
           50176,
           50176,
           50176,
           50176,
           50176,
           50176,
           65536,
           65536,
           65536,
           65536,
           50176,
           50176,
           50176,
           50176,
           50176,
           50176,
           50176,
           50176,
           50176,
           50176,
           50176,
           50176,
           50176,
           50176,
           50176,
           50176,
           50176,
           50176,
           50176,
           50176,
           50176,
           50176,
           50176,
           50176,
           65536,
           65536,
           65536,
           65536
          ],
          "sizemode": "area",
          "sizeref": 655.36,
          "symbol": "circle"
         },
         "mode": "markers",
         "name": "resnet",
         "orientation": "v",
         "showlegend": true,
         "type": "scatter",
         "x": [
          0.00015826215492915395,
          0.00015826215492915395,
          0.00028720941587348996,
          0.00028720941587348996,
          0.00028720941587348996,
          0.00028720941587348996,
          0.00028720941587348996,
          0.00028720941587348996,
          0.00028720941587348996,
          0.00028720941587348996,
          0.00028720941587348996,
          0.00028720941587348996,
          0.00028798774324164766,
          0.00028798774324164766,
          0.0004910361353492003,
          0.0004910361353492003,
          0.0004910361353492003,
          0.0004910361353492003,
          0.0004910361353492003,
          0.0004910361353492003,
          0.0004910361353492003,
          0.0004910361353492003,
          0.0004910361353492003,
          0.0004910361353492003,
          0.0005096839959225281,
          0.0005096839959225281,
          0.0008081853007257504,
          0.0008081853007257504,
          0.0008210113217461269,
          0.0008210113217461269,
          0.0008210113217461269,
          0.0008210113217461269,
          0.0008210113217461269,
          0.0008210113217461269,
          0.0008210113217461269,
          0.0008210113217461269,
          0.0008210113217461269,
          0.0008210113217461269,
          0.0008210113217461269,
          0.0008210113217461269,
          0.0008210113217461269,
          0.0008210113217461269,
          0.0008210113217461269,
          0.0008210113217461269,
          0.0008210113217461269,
          0.0008210113217461269,
          0.0008210113217461269,
          0.0008210113217461269,
          0.0008210113217461269,
          0.0008210113217461269,
          0.0008210113217461269,
          0.0008210113217461269,
          0.0008210113217461269,
          0.0008210113217461269,
          0.0008210113217461269,
          0.0008210113217461269,
          0.0008210113217461269,
          0.0008210113217461269,
          0.0008210113217461269,
          0.0009294889669659622,
          0.0009294889669659622,
          0.0009421873822265774,
          0.0009421873822265774,
          0.0013370950273435933,
          0.0013370950273435933,
          0.0013370950273435933,
          0.0013370950273435933,
          0.0013370950273435933,
          0.0013370950273435933,
          0.0013370950273435933,
          0.0013370950273435933,
          0.0013370950273435933,
          0.0013370950273435933,
          0.0013370950273435933,
          0.0013370950273435933,
          0.001994256541161455,
          0.001994256541161455,
          0.001994256541161455,
          0.001994256541161455,
          0.001994256541161455,
          0.001994256541161455,
          0.001994256541161455,
          0.001994256541161455,
          0.001994256541161455,
          0.001994256541161455,
          0.001994256541161455,
          0.001994256541161455,
          0.0021560552812574115,
          0.0021560552812574115,
          0.0023044129508007836,
          0.0023044129508007836
         ],
         "xaxis": "x",
         "y": [
          68.346,
          66.724,
          73.288,
          73.164,
          72.636,
          72.362,
          71.488,
          70.844,
          70.634,
          69.752,
          68.246,
          65.664,
          72.242,
          71.318,
          77.938,
          77.148,
          76.508,
          76.414,
          75.516,
          75.162,
          74.574,
          73.298,
          72.982,
          70.572,
          76.378,
          75.292,
          78.33,
          77.884,
          81.24,
          81.146,
          81.012,
          80.928,
          80.856,
          80.844,
          80.78,
          80.706,
          80.652,
          80.47,
          80.382,
          79.974,
          79.904,
          79.868,
          79.86,
          79.828,
          79.766,
          79.652,
          79.564,
          79.432,
          79.38,
          79.26,
          79.252,
          79.032,
          79.004,
          78.814,
          78.432,
          78.052,
          77.58,
          76.156,
          75.994,
          79.388,
          79.054,
          79.708,
          79.216,
          82.802,
          82.322,
          82.224,
          81.95,
          81.906,
          81.494,
          81.344,
          79.906,
          79.82,
          79.306,
          77.928,
          77.404,
          83.494,
          82.818,
          82.744,
          82.62,
          82.294,
          81.998,
          81.764,
          80.548,
          80.212,
          79.712,
          78.896,
          78.33,
          82.356,
          81.778,
          82.524,
          81.966
         ],
         "yaxis": "y"
        },
        {
         "customdata": [
          [
           224
          ],
          [
           224
          ],
          [
           224
          ],
          [
           224
          ],
          [
           224
          ],
          [
           224
          ],
          [
           384
          ],
          [
           384
          ],
          [
           224
          ],
          [
           224
          ],
          [
           256
          ],
          [
           224
          ],
          [
           224
          ],
          [
           224
          ],
          [
           224
          ],
          [
           224
          ],
          [
           224
          ],
          [
           224
          ],
          [
           384
          ],
          [
           384
          ],
          [
           384
          ],
          [
           224
          ],
          [
           224
          ],
          [
           224
          ],
          [
           224
          ],
          [
           224
          ],
          [
           224
          ],
          [
           224
          ],
          [
           224
          ],
          [
           224
          ],
          [
           384
          ],
          [
           384
          ],
          [
           224
          ],
          [
           384
          ],
          [
           384
          ],
          [
           224
          ],
          [
           384
          ],
          [
           384
          ],
          [
           384
          ],
          [
           384
          ],
          [
           224
          ],
          [
           224
          ],
          [
           384
          ],
          [
           384
          ]
         ],
         "hovertemplate": "<b>%{hovertext}</b><br><br>family=vit<br>secs=%{x}<br>top1=%{y}<br>size=%{marker.size}<br>train_img_size=%{customdata[0]}<extra></extra>",
         "hovertext": [
          "vit_small_patch32_224",
          "vit_tiny_r_s16_p8_224",
          "vit_tiny_patch16_224",
          "vit_base_patch32_224",
          "vit_base_patch32_224",
          "vit_base_patch32_224",
          "vit_small_patch32_384",
          "vit_tiny_r_s16_p8_384",
          "vit_small_patch16_224",
          "vit_small_patch16_224",
          "vit_relpos_base_patch32_plus_rpn_256",
          "vit_srelpos_small_patch16_224",
          "vit_relpos_small_patch16_224",
          "vit_small_r26_s32_224",
          "vit_relpos_medium_patch16_rpn_224",
          "vit_relpos_medium_patch16_cls_224",
          "vit_srelpos_medium_patch16_224",
          "vit_relpos_medium_patch16_224",
          "vit_base_patch32_384",
          "vit_base_patch32_384",
          "vit_tiny_patch16_384",
          "vit_base_patch16_224_miil",
          "vit_base_patch16_224",
          "vit_base_patch16_224",
          "vit_base_patch16_224",
          "vit_base_patch16_224",
          "vit_base_patch16_224",
          "vit_base_patch16_rpn_224",
          "vit_relpos_base_patch16_clsgap_224",
          "vit_relpos_base_patch16_224",
          "vit_small_patch16_384",
          "vit_small_patch16_384",
          "vit_large_r50_s32_224",
          "vit_small_r26_s32_384",
          "vit_large_patch32_384",
          "vit_large_patch16_224",
          "vit_base_patch16_384",
          "vit_base_patch16_384",
          "vit_base_patch16_384",
          "vit_large_r50_s32_384",
          "vit_base_patch8_224",
          "vit_base_patch8_224",
          "vit_base_r50_s16_384",
          "vit_large_patch16_384"
         ],
         "legendgroup": "vit",
         "marker": {
          "color": "#00cc96",
          "size": [
           50176,
           50176,
           50176,
           50176,
           50176,
           50176,
           147456,
           147456,
           50176,
           50176,
           65536,
           50176,
           50176,
           50176,
           50176,
           50176,
           50176,
           50176,
           147456,
           147456,
           147456,
           50176,
           50176,
           50176,
           50176,
           50176,
           50176,
           50176,
           50176,
           50176,
           147456,
           147456,
           50176,
           147456,
           147456,
           50176,
           147456,
           147456,
           147456,
           147456,
           50176,
           50176,
           147456,
           147456
          ],
          "sizemode": "area",
          "sizeref": 655.36,
          "symbol": "circle"
         },
         "mode": "markers",
         "name": "vit",
         "orientation": "v",
         "showlegend": true,
         "type": "scatter",
         "x": [
          0.0002249334197077665,
          0.00024843300879701287,
          0.00043486580041399224,
          0.0005852642175310043,
          0.0005852642175310043,
          0.0005852642175310043,
          0.0006868650790925138,
          0.0007433231002519866,
          0.0009452510586811857,
          0.0009452510586811857,
          0.0009786076370539997,
          0.001031800078416806,
          0.0010361298477925254,
          0.001362583458236817,
          0.0014553286859837293,
          0.0015110990223189326,
          0.0015154270473419409,
          0.0015219541891789059,
          0.0018403666010269246,
          0.0018403666010269246,
          0.001956985459598035,
          0.0025134469411350726,
          0.0025445940100257,
          0.0025445940100257,
          0.0025445940100257,
          0.0025445940100257,
          0.0025445940100257,
          0.0025554533374220587,
          0.0026971625849606215,
          0.0027105412950966306,
          0.004183050280264369,
          0.004183050280264369,
          0.0042324459305032374,
          0.004421843908910016,
          0.0059865900383141765,
          0.008532423208191127,
          0.010298661174047374,
          0.010298661174047374,
          0.010298661174047374,
          0.012929919834497025,
          0.015760441292356184,
          0.015760441292356184,
          0.0163907556138338,
          0.03431708991077557
         ],
         "xaxis": "x",
         "y": [
          75.996,
          71.82,
          75.452,
          80.736,
          74.906,
          73.706,
          80.482,
          75.962,
          81.414,
          78.842,
          79.496,
          81.108,
          81.476,
          81.844,
          82.308,
          82.572,
          82.25,
          82.466,
          83.352,
          78.754,
          78.446,
          84.272,
          85.11,
          84.532,
          81.786,
          80.242,
          79.142,
          82.216,
          82.762,
          82.476,
          83.804,
          81.134,
          84.432,
          84.074,
          81.506,
          85.85,
          86.006,
          84.208,
          81.096,
          86.184,
          86.228,
          85.836,
          84.994,
          87.094
         ],
         "yaxis": "y"
        },
        {
         "customdata": [
          [
           224
          ],
          [
           224
          ],
          [
           224
          ],
          [
           224
          ],
          [
           224
          ],
          [
           224
          ],
          [
           224
          ],
          [
           224
          ],
          [
           224
          ],
          [
           224
          ],
          [
           224
          ],
          [
           224
          ],
          [
           224
          ],
          [
           224
          ],
          [
           224
          ],
          [
           224
          ],
          [
           224
          ],
          [
           224
          ]
         ],
         "hovertemplate": "<b>%{hovertext}</b><br><br>family=regnetx<br>secs=%{x}<br>top1=%{y}<br>size=%{marker.size}<br>train_img_size=%{customdata[0]}<extra></extra>",
         "hovertext": [
          "regnetx_002",
          "regnetx_004",
          "regnetx_006",
          "regnetx_008",
          "regnetx_008",
          "regnetx_016",
          "regnetx_016",
          "regnetx_040",
          "regnetx_032",
          "regnetx_032",
          "regnetx_080",
          "regnetx_080",
          "regnetx_064",
          "regnetx_160",
          "regnetx_160",
          "regnetx_120",
          "regnetx_320",
          "regnetx_320"
         ],
         "legendgroup": "regnetx",
         "marker": {
          "color": "#ab63fa",
          "size": [
           50176,
           50176,
           50176,
           50176,
           50176,
           50176,
           50176,
           50176,
           50176,
           50176,
           50176,
           50176,
           50176,
           50176,
           50176,
           50176,
           50176,
           50176
          ],
          "sizemode": "area",
          "sizeref": 655.36,
          "symbol": "circle"
         },
         "mode": "markers",
         "name": "regnetx",
         "orientation": "v",
         "showlegend": true,
         "type": "scatter",
         "x": [
          0.00024360298559819148,
          0.0005616052925682772,
          0.000777339013090389,
          0.0009664356885371063,
          0.0009664356885371063,
          0.001464707864016522,
          0.001464707864016522,
          0.0022606533288120267,
          0.0032375032375032376,
          0.0032375032375032376,
          0.005512375282509233,
          0.005512375282509233,
          0.007702973347712218,
          0.00929368029739777,
          0.00929368029739777,
          0.010634903754121025,
          0.020807324178110695,
          0.020807324178110695
         ],
         "xaxis": "x",
         "y": [
          68.76,
          72.432,
          73.884,
          77.288,
          75.062,
          79.452,
          76.924,
          78.494,
          80.926,
          78.166,
          81.56,
          79.216,
          79.06,
          82.576,
          79.858,
          79.608,
          82.824,
          80.262
         ],
         "yaxis": "y"
        },
        {
         "customdata": [
          [
           224
          ],
          [
           224
          ],
          [
           224
          ],
          [
           224
          ],
          [
           224
          ],
          [
           224
          ],
          [
           224
          ],
          [
           224
          ],
          [
           224
          ],
          [
           224
          ],
          [
           224
          ],
          [
           224
          ],
          [
           224
          ],
          [
           224
          ],
          [
           224
          ],
          [
           224
          ],
          [
           224
          ],
          [
           224
          ],
          [
           224
          ],
          [
           224
          ],
          [
           224
          ],
          [
           224
          ],
          [
           224
          ],
          [
           224
          ],
          [
           224
          ],
          [
           224
          ],
          [
           224
          ],
          [
           224
          ],
          [
           224
          ],
          [
           224
          ],
          [
           224
          ],
          [
           224
          ],
          [
           224
          ],
          [
           224
          ],
          [
           224
          ],
          [
           224
          ],
          [
           224
          ],
          [
           224
          ]
         ],
         "hovertemplate": "<b>%{hovertext}</b><br><br>family=regnety<br>secs=%{x}<br>top1=%{y}<br>size=%{marker.size}<br>train_img_size=%{customdata[0]}<extra></extra>",
         "hovertext": [
          "regnety_002",
          "regnety_004",
          "regnety_004",
          "regnety_006",
          "regnety_008",
          "regnety_016",
          "regnety_016",
          "regnety_032",
          "regnety_032",
          "regnety_032",
          "regnety_032",
          "regnety_040",
          "regnety_040",
          "regnety_040",
          "regnety_064",
          "regnety_064",
          "regnety_064",
          "regnety_080",
          "regnety_080",
          "regnety_080",
          "regnety_120",
          "regnety_120",
          "regnety_120",
          "regnety_160",
          "regnety_160",
          "regnety_160",
          "regnety_160",
          "regnety_160",
          "regnety_160",
          "regnety_160",
          "regnety_160",
          "regnety_160",
          "regnety_160",
          "regnety_320",
          "regnety_320",
          "regnety_320",
          "regnety_320",
          "regnety_320"
         ],
         "legendgroup": "regnety",
         "marker": {
          "color": "#FFA15A",
          "size": [
           50176,
           50176,
           50176,
           50176,
           50176,
           50176,
           50176,
           50176,
           50176,
           50176,
           50176,
           50176,
           50176,
           50176,
           50176,
           50176,
           50176,
           50176,
           50176,
           50176,
           50176,
           50176,
           50176,
           50176,
           50176,
           50176,
           50176,
           50176,
           50176,
           50176,
           50176,
           50176,
           50176,
           50176,
           50176,
           50176,
           50176,
           50176
          ],
          "sizemode": "area",
          "sizeref": 655.36,
          "symbol": "circle"
         },
         "mode": "markers",
         "name": "regnety",
         "orientation": "v",
         "showlegend": true,
         "type": "scatter",
         "x": [
          0.0002647036245867315,
          0.0004794415464866523,
          0.0004794415464866523,
          0.0007345217895888881,
          0.0010067451927917046,
          0.0015382958758287568,
          0.0015382958758287568,
          0.002012679883264567,
          0.002012679883264567,
          0.002012679883264567,
          0.002012679883264567,
          0.005259282633848743,
          0.005259282633848743,
          0.005259282633848743,
          0.008372404554588079,
          0.008372404554588079,
          0.008372404554588079,
          0.00848320325755005,
          0.00848320325755005,
          0.00848320325755005,
          0.01086130118388183,
          0.01086130118388183,
          0.01086130118388183,
          0.01201345506967804,
          0.01201345506967804,
          0.01201345506967804,
          0.01201345506967804,
          0.01201345506967804,
          0.01201345506967804,
          0.01201345506967804,
          0.01201345506967804,
          0.01201345506967804,
          0.01201345506967804,
          0.015076134479119555,
          0.015076134479119555,
          0.015076134479119555,
          0.015076134479119555,
          0.015076134479119555
         ],
         "xaxis": "x",
         "y": [
          70.294,
          75.588,
          74.006,
          75.262,
          76.334,
          80.696,
          77.908,
          82.724,
          81.942,
          81.798,
          78.896,
          83.058,
          82.316,
          79.236,
          83.712,
          83.006,
          79.728,
          83.94,
          83.162,
          79.882,
          85.442,
          84.986,
          80.382,
          86.032,
          86.018,
          86.01,
          85.602,
          85.594,
          83.808,
          83.7,
          82.994,
          82.646,
          80.284,
          86.86,
          84.632,
          83.326,
          83.174,
          80.796
         ],
         "yaxis": "y"
        },
        {
         "customdata": [
          [
           224
          ],
          [
           224
          ],
          [
           224
          ],
          [
           224
          ],
          [
           224
          ],
          [
           224
          ],
          [
           224
          ],
          [
           224
          ],
          [
           224
          ],
          [
           224
          ],
          [
           224
          ],
          [
           224
          ],
          [
           224
          ],
          [
           224
          ],
          [
           224
          ],
          [
           224
          ],
          [
           224
          ],
          [
           256
          ],
          [
           256
          ],
          [
           256
          ],
          [
           256
          ],
          [
           256
          ],
          [
           256
          ],
          [
           256
          ],
          [
           256
          ]
         ],
         "hovertemplate": "<b>%{hovertext}</b><br><br>family=resnetd<br>secs=%{x}<br>top1=%{y}<br>size=%{marker.size}<br>train_img_size=%{customdata[0]}<extra></extra>",
         "hovertext": [
          "resnet18d",
          "resnet18d",
          "resnet34d",
          "resnet34d",
          "resnet26d",
          "resnet26d",
          "resnet50d",
          "resnet50d",
          "resnet50d",
          "resnet50d",
          "resnet50d",
          "resnet50d",
          "resnet50d",
          "resnet50d",
          "resnet50d",
          "resnet50d",
          "resnet50d",
          "resnet101d",
          "resnet101d",
          "resnet101d",
          "resnet152d",
          "resnet152d",
          "resnet152d",
          "resnet200d",
          "resnet200d"
         ],
         "legendgroup": "resnetd",
         "marker": {
          "color": "#19d3f3",
          "size": [
           50176,
           50176,
           50176,
           50176,
           50176,
           50176,
           50176,
           50176,
           50176,
           50176,
           50176,
           50176,
           50176,
           50176,
           50176,
           50176,
           50176,
           65536,
           65536,
           65536,
           65536,
           65536,
           65536,
           65536,
           65536
          ],
          "sizemode": "area",
          "sizeref": 655.36,
          "symbol": "circle"
         },
         "mode": "markers",
         "name": "resnetd",
         "orientation": "v",
         "showlegend": true,
         "type": "scatter",
         "x": [
          0.0003477897958473898,
          0.0003477897958473898,
          0.0005515233073749696,
          0.0005515233073749696,
          0.00061602528167756,
          0.00061602528167756,
          0.0009276437847866419,
          0.0009276437847866419,
          0.0009276437847866419,
          0.0009276437847866419,
          0.0009276437847866419,
          0.0009276437847866419,
          0.0009276437847866419,
          0.0009276437847866419,
          0.0009276437847866419,
          0.0009276437847866419,
          0.0009276437847866419,
          0.001908943399828195,
          0.001908943399828195,
          0.001908943399828195,
          0.002796889858477373,
          0.002796889858477373,
          0.002796889858477373,
          0.003743916136278547,
          0.003743916136278547
         ],
         "xaxis": "x",
         "y": [
          73.794,
          72.268,
          78.44,
          77.104,
          77.424,
          76.698,
          81.83,
          81.444,
          81.35,
          81.168,
          80.956,
          80.73,
          80.548,
          80.268,
          79.08,
          78.742,
          77.222,
          83.018,
          82.252,
          80.466,
          83.684,
          83.156,
          80.476,
          83.976,
          83.24
         ],
         "yaxis": "y"
        },
        {
         "customdata": [
          [
           224
          ],
          [
           224
          ],
          [
           224
          ],
          [
           224
          ],
          [
           224
          ],
          [
           224
          ],
          [
           240
          ],
          [
           224
          ],
          [
           224
          ],
          [
           224
          ],
          [
           224
          ],
          [
           240
          ],
          [
           256
          ],
          [
           256
          ],
          [
           260
          ],
          [
           300
          ],
          [
           288
          ],
          [
           288
          ],
          [
           300
          ],
          [
           300
          ],
          [
           320
          ],
          [
           320
          ],
          [
           456
          ]
         ],
         "hovertemplate": "<b>%{hovertext}</b><br><br>family=efficientnet<br>secs=%{x}<br>top1=%{y}<br>size=%{marker.size}<br>train_img_size=%{customdata[0]}<extra></extra>",
         "hovertext": [
          "efficientnet_lite0",
          "efficientnet_b0",
          "efficientnet_b0",
          "efficientnet_b0",
          "efficientnet_es_pruned",
          "efficientnet_es",
          "efficientnet_b1_pruned",
          "efficientnet_b1",
          "efficientnet_b1",
          "efficientnet_b1",
          "efficientnet_b1",
          "efficientnet_em",
          "efficientnet_b2",
          "efficientnet_b2",
          "efficientnet_b2_pruned",
          "efficientnet_b3_pruned",
          "efficientnet_b3",
          "efficientnet_b3",
          "efficientnet_el_pruned",
          "efficientnet_el",
          "efficientnet_b4",
          "efficientnet_b4",
          "efficientnet_b5"
         ],
         "legendgroup": "efficientnet",
         "marker": {
          "color": "#FF6692",
          "size": [
           50176,
           50176,
           50176,
           50176,
           50176,
           50176,
           57600,
           50176,
           50176,
           50176,
           50176,
           57600,
           65536,
           65536,
           67600,
           90000,
           82944,
           82944,
           90000,
           90000,
           102400,
           102400,
           207936
          ],
          "sizemode": "area",
          "sizeref": 655.36,
          "symbol": "circle"
         },
         "mode": "markers",
         "name": "efficientnet",
         "orientation": "v",
         "showlegend": true,
         "type": "scatter",
         "x": [
          0.00048093570851448573,
          0.0005708674902381659,
          0.0005708674902381659,
          0.0005708674902381659,
          0.0005926558092122419,
          0.0005930811157041949,
          0.0006911709818774969,
          0.000754233133461553,
          0.000754233133461553,
          0.000754233133461553,
          0.000754233133461553,
          0.0009928613270584496,
          0.0010217844443536192,
          0.0010217844443536192,
          0.0011442956860052637,
          0.001384600473533362,
          0.001747701772169597,
          0.001747701772169597,
          0.00216459586995108,
          0.00216464272571812,
          0.002816980760021409,
          0.002816980760021409,
          0.008800492827598346
         ],
         "xaxis": "x",
         "y": [
          75.49,
          79.37,
          78.572,
          77.696,
          75,
          78.092,
          78.252,
          81.434,
          80.404,
          78.798,
          77.594,
          79.264,
          80.61,
          79.34,
          79.908,
          80.872,
          82.298,
          81.474,
          80.294,
          81.306,
          83.474,
          82.654,
          85.892
         ],
         "yaxis": "y"
        },
        {
         "customdata": [
          [
           256
          ],
          [
           256
          ],
          [
           256
          ],
          [
           256
          ],
          [
           256
          ],
          [
           256
          ],
          [
           256
          ],
          [
           256
          ],
          [
           256
          ],
          [
           256
          ],
          [
           256
          ],
          [
           256
          ],
          [
           256
          ]
         ],
         "hovertemplate": "<b>%{hovertext}</b><br><br>family=mobilevitv2<br>secs=%{x}<br>top1=%{y}<br>size=%{marker.size}<br>train_img_size=%{customdata[0]}<extra></extra>",
         "hovertext": [
          "mobilevitv2_050",
          "mobilevitv2_075",
          "mobilevitv2_100",
          "mobilevitv2_125",
          "mobilevitv2_150",
          "mobilevitv2_150",
          "mobilevitv2_150",
          "mobilevitv2_175",
          "mobilevitv2_175",
          "mobilevitv2_175",
          "mobilevitv2_200",
          "mobilevitv2_200",
          "mobilevitv2_200"
         ],
         "legendgroup": "mobilevitv2",
         "marker": {
          "color": "#B6E880",
          "size": [
           65536,
           65536,
           65536,
           65536,
           65536,
           65536,
           65536,
           65536,
           65536,
           65536,
           65536,
           65536,
           65536
          ],
          "sizemode": "area",
          "sizeref": 655.36,
          "symbol": "circle"
         },
         "mode": "markers",
         "name": "mobilevitv2",
         "orientation": "v",
         "showlegend": true,
         "type": "scatter",
         "x": [
          0.0005479842399732584,
          0.0008515784005654481,
          0.001101989090308006,
          0.0016115775732864902,
          0.0018748359518542127,
          0.0018748359518542127,
          0.0018748359518542127,
          0.002299484915378955,
          0.002299484915378955,
          0.002299484915378955,
          0.0024645110410094636,
          0.0024645110410094636,
          0.0024645110410094636
         ],
         "xaxis": "x",
         "y": [
          70.158,
          75.604,
          78.092,
          79.678,
          82.606,
          81.47,
          80.404,
          82.928,
          81.944,
          80.874,
          83.41,
          82.322,
          81.148
         ],
         "yaxis": "y"
        },
        {
         "customdata": [
          [
           160
          ],
          [
           160
          ],
          [
           192
          ],
          [
           192
          ],
          [
           256
          ],
          [
           256
          ],
          [
           256
          ],
          [
           256
          ],
          [
           256
          ],
          [
           256
          ],
          [
           288
          ],
          [
           288
          ],
          [
           320
          ],
          [
           320
          ]
         ],
         "hovertemplate": "<b>%{hovertext}</b><br><br>family=resnetrs<br>secs=%{x}<br>top1=%{y}<br>size=%{marker.size}<br>train_img_size=%{customdata[0]}<extra></extra>",
         "hovertext": [
          "resnetrs50",
          "resnetrs50",
          "resnetrs101",
          "resnetrs101",
          "resnetrs152",
          "resnetrs152",
          "resnetrs200",
          "resnetrs200",
          "resnetrs270",
          "resnetrs270",
          "resnetrs350",
          "resnetrs350",
          "resnetrs420",
          "resnetrs420"
         ],
         "legendgroup": "resnetrs",
         "marker": {
          "color": "#FF97FF",
          "size": [
           25600,
           25600,
           36864,
           36864,
           65536,
           65536,
           65536,
           65536,
           65536,
           65536,
           82944,
           82944,
           102400,
           102400
          ],
          "sizemode": "area",
          "sizeref": 655.36,
          "symbol": "circle"
         },
         "mode": "markers",
         "name": "resnetrs",
         "orientation": "v",
         "showlegend": true,
         "type": "scatter",
         "x": [
          0.0005929615464437131,
          0.0005929615464437131,
          0.0013998348194913,
          0.0013998348194913,
          0.0035428328491461775,
          0.0035428328491461775,
          0.004954419342053111,
          0.004954419342053111,
          0.006937699458859443,
          0.006937699458859443,
          0.01188495364868077,
          0.01188495364868077,
          0.017702248185519562,
          0.017702248185519562
         ],
         "xaxis": "x",
         "y": [
          79.916,
          77.85,
          82.294,
          80.71,
          83.71,
          82.886,
          84.446,
          83.886,
          84.44,
          83.594,
          84.722,
          84.308,
          85.014,
          84.25
         ],
         "yaxis": "y"
        },
        {
         "customdata": [
          [
           256
          ],
          [
           256
          ],
          [
           256
          ]
         ],
         "hovertemplate": "<b>%{hovertext}</b><br><br>family=mobilevit<br>secs=%{x}<br>top1=%{y}<br>size=%{marker.size}<br>train_img_size=%{customdata[0]}<extra></extra>",
         "hovertext": [
          "mobilevit_xxs",
          "mobilevit_xs",
          "mobilevit_s"
         ],
         "legendgroup": "mobilevit",
         "marker": {
          "color": "#FECB52",
          "size": [
           65536,
           65536,
           65536
          ],
          "sizemode": "area",
          "sizeref": 655.36,
          "symbol": "circle"
         },
         "mode": "markers",
         "name": "mobilevit",
         "orientation": "v",
         "showlegend": true,
         "type": "scatter",
         "x": [
          0.0006239042681290983,
          0.001081665765278529,
          0.001364256480218281
         ],
         "xaxis": "x",
         "y": [
          68.928,
          74.632,
          78.302
         ],
         "yaxis": "y"
        },
        {
         "customdata": [
          [
           224
          ],
          [
           224
          ],
          [
           224
          ],
          [
           224
          ],
          [
           224
          ],
          [
           224
          ],
          [
           224
          ],
          [
           224
          ]
         ],
         "hovertemplate": "<b>%{hovertext}</b><br><br>family=repvgg<br>secs=%{x}<br>top1=%{y}<br>size=%{marker.size}<br>train_img_size=%{customdata[0]}<extra></extra>",
         "hovertext": [
          "repvgg_b0",
          "repvgg_a2",
          "repvgg_b1",
          "repvgg_b2",
          "repvgg_b3",
          "repvgg_b1g4",
          "repvgg_b2g4",
          "repvgg_b3g4"
         ],
         "legendgroup": "repvgg",
         "marker": {
          "color": "#636efa",
          "size": [
           50176,
           50176,
           50176,
           50176,
           50176,
           50176,
           50176,
           50176
          ],
          "sizemode": "area",
          "sizeref": 655.36,
          "symbol": "circle"
         },
         "mode": "markers",
         "name": "repvgg",
         "orientation": "v",
         "showlegend": true,
         "type": "scatter",
         "x": [
          0.0006501654671113799,
          0.0008231333393696446,
          0.001603720631865929,
          0.0028405056099985795,
          0.003158859020121932,
          0.005966943135031923,
          0.007478312892611427,
          0.009193711501333088
         ],
         "xaxis": "x",
         "y": [
          75.162,
          76.492,
          78.372,
          78.794,
          80.518,
          77.602,
          79.396,
          80.248
         ],
         "yaxis": "y"
        },
        {
         "customdata": [
          [
           240
          ],
          [
           240
          ],
          [
           240
          ],
          [
           240
          ],
          [
           240
          ],
          [
           240
          ],
          [
           240
          ],
          [
           240
          ],
          [
           240
          ],
          [
           408
          ],
          [
           408
          ]
         ],
         "hovertemplate": "<b>%{hovertext}</b><br><br>family=crossvit<br>secs=%{x}<br>top1=%{y}<br>size=%{marker.size}<br>train_img_size=%{customdata[0]}<extra></extra>",
         "hovertext": [
          "crossvit_tiny_240",
          "crossvit_9_240",
          "crossvit_9_dagger_240",
          "crossvit_small_240",
          "crossvit_15_240",
          "crossvit_15_dagger_240",
          "crossvit_18_240",
          "crossvit_18_dagger_240",
          "crossvit_base_240",
          "crossvit_15_dagger_408",
          "crossvit_18_dagger_408"
         ],
         "legendgroup": "crossvit",
         "marker": {
          "color": "#EF553B",
          "size": [
           57600,
           57600,
           57600,
           57600,
           57600,
           57600,
           57600,
           57600,
           57600,
           166464,
           166464
          ],
          "sizemode": "area",
          "sizeref": 655.36,
          "symbol": "circle"
         },
         "mode": "markers",
         "name": "crossvit",
         "orientation": "v",
         "showlegend": true,
         "type": "scatter",
         "x": [
          0.0007418342593897672,
          0.0007944515503722006,
          0.0008207619954365632,
          0.0015654351909830935,
          0.0017227715949419424,
          0.001777809383277925,
          0.0024716990459241685,
          0.0025232772324695315,
          0.003927729772191673,
          0.008484642796538266,
          0.0112145340361108
         ],
         "xaxis": "x",
         "y": [
          73.33,
          73.976,
          76.986,
          81.04,
          81.518,
          82.306,
          82.386,
          82.504,
          82.228,
          83.84,
          84.202
         ],
         "yaxis": "y"
        },
        {
         "customdata": [
          [
           224
          ],
          [
           224
          ],
          [
           224
          ],
          [
           224
          ]
         ],
         "hovertemplate": "<b>%{hovertext}</b><br><br>family=resnetv2<br>secs=%{x}<br>top1=%{y}<br>size=%{marker.size}<br>train_img_size=%{customdata[0]}<extra></extra>",
         "hovertext": [
          "resnetv2_50",
          "resnetv2_50",
          "resnetv2_101",
          "resnetv2_101"
         ],
         "legendgroup": "resnetv2",
         "marker": {
          "color": "#00cc96",
          "size": [
           50176,
           50176,
           50176,
           50176
          ],
          "sizemode": "area",
          "sizeref": 655.36,
          "symbol": "circle"
         },
         "mode": "markers",
         "name": "resnetv2",
         "orientation": "v",
         "showlegend": true,
         "type": "scatter",
         "x": [
          0.0007760299857986513,
          0.0007760299857986513,
          0.0012945821736034693,
          0.0012945821736034693
         ],
         "xaxis": "x",
         "y": [
          81.408,
          80.406,
          83.002,
          82.042
         ],
         "yaxis": "y"
        },
        {
         "customdata": [
          [
           224
          ],
          [
           224
          ],
          [
           224
          ],
          [
           224
          ],
          [
           224
          ],
          [
           224
          ],
          [
           224
          ],
          [
           224
          ],
          [
           224
          ],
          [
           224
          ],
          [
           224
          ],
          [
           224
          ],
          [
           224
          ],
          [
           224
          ],
          [
           224
          ],
          [
           224
          ],
          [
           224
          ],
          [
           224
          ],
          [
           224
          ],
          [
           224
          ],
          [
           224
          ],
          [
           224
          ],
          [
           224
          ],
          [
           224
          ],
          [
           224
          ],
          [
           224
          ],
          [
           224
          ],
          [
           224
          ],
          [
           224
          ],
          [
           224
          ],
          [
           224
          ],
          [
           224
          ],
          [
           224
          ],
          [
           224
          ],
          [
           224
          ],
          [
           224
          ],
          [
           224
          ],
          [
           224
          ]
         ],
         "hovertemplate": "<b>%{hovertext}</b><br><br>family=convnext<br>secs=%{x}<br>top1=%{y}<br>size=%{marker.size}<br>train_img_size=%{customdata[0]}<extra></extra>",
         "hovertext": [
          "convnext_nano_ols",
          "convnext_nano_ols",
          "convnext_nano",
          "convnext_nano",
          "convnext_nano",
          "convnext_nano",
          "convnext_tiny_hnf",
          "convnext_tiny_hnf",
          "convnext_tiny",
          "convnext_tiny",
          "convnext_tiny",
          "convnext_tiny",
          "convnext_tiny",
          "convnext_tiny",
          "convnext_tiny",
          "convnext_tiny",
          "convnext_small",
          "convnext_small",
          "convnext_small",
          "convnext_small",
          "convnext_small",
          "convnext_small",
          "convnext_small",
          "convnext_small",
          "convnext_base",
          "convnext_base",
          "convnext_base",
          "convnext_base",
          "convnext_base",
          "convnext_base",
          "convnext_base",
          "convnext_base",
          "convnext_base",
          "convnext_large",
          "convnext_large",
          "convnext_large",
          "convnext_large",
          "convnext_large"
         ],
         "legendgroup": "convnext",
         "marker": {
          "color": "#ab63fa",
          "size": [
           50176,
           50176,
           50176,
           50176,
           50176,
           50176,
           50176,
           50176,
           50176,
           50176,
           50176,
           50176,
           50176,
           50176,
           50176,
           50176,
           50176,
           50176,
           50176,
           50176,
           50176,
           50176,
           50176,
           50176,
           50176,
           50176,
           50176,
           50176,
           50176,
           50176,
           50176,
           50176,
           50176,
           50176,
           50176,
           50176,
           50176,
           50176
          ],
          "sizemode": "area",
          "sizeref": 655.36,
          "symbol": "circle"
         },
         "mode": "markers",
         "name": "convnext",
         "orientation": "v",
         "showlegend": true,
         "type": "scatter",
         "x": [
          0.0007985115744252714,
          0.0007985115744252714,
          0.0008000704061957452,
          0.0008000704061957452,
          0.0008000704061957452,
          0.0008000704061957452,
          0.0012203158177336293,
          0.0012203158177336293,
          0.0012206435232654655,
          0.0012206435232654655,
          0.0012206435232654655,
          0.0012206435232654655,
          0.0012206435232654655,
          0.0012206435232654655,
          0.0012206435232654655,
          0.0012206435232654655,
          0.0020527558246946527,
          0.0020527558246946527,
          0.0020527558246946527,
          0.0020527558246946527,
          0.0020527558246946527,
          0.0020527558246946527,
          0.0020527558246946527,
          0.0020527558246946527,
          0.002952639659855911,
          0.002952639659855911,
          0.002952639659855911,
          0.002952639659855911,
          0.002952639659855911,
          0.002952639659855911,
          0.002952639659855911,
          0.002952639659855911,
          0.002952639659855911,
          0.005321130208056191,
          0.005321130208056191,
          0.005321130208056191,
          0.005321130208056191,
          0.005321130208056191
         ],
         "xaxis": "x",
         "y": [
          81.612,
          80.906,
          82.882,
          82.306,
          81.474,
          80.762,
          82.608,
          82.23,
          85.154,
          84.448,
          84.192,
          84.098,
          82.888,
          82.694,
          82.066,
          78.95,
          86.186,
          85.754,
          85.324,
          85.276,
          85.164,
          84.582,
          83.704,
          83.144,
          87.15,
          86.826,
          86.488,
          86.386,
          86.298,
          86.184,
          85.816,
          84.466,
          83.834,
          87.456,
          87.014,
          86.612,
          84.862,
          84.298
         ],
         "yaxis": "y"
        },
        {
         "customdata": [
          [
           224
          ],
          [
           224
          ],
          [
           224
          ]
         ],
         "hovertemplate": "<b>%{hovertext}</b><br><br>family=convit<br>secs=%{x}<br>top1=%{y}<br>size=%{marker.size}<br>train_img_size=%{customdata[0]}<extra></extra>",
         "hovertext": [
          "convit_tiny",
          "convit_small",
          "convit_base"
         ],
         "legendgroup": "convit",
         "marker": {
          "color": "#FFA15A",
          "size": [
           50176,
           50176,
           50176
          ],
          "sizemode": "area",
          "sizeref": 655.36,
          "symbol": "circle"
         },
         "mode": "markers",
         "name": "convit",
         "orientation": "v",
         "showlegend": true,
         "type": "scatter",
         "x": [
          0.0008936710218234463,
          0.002199155524278677,
          0.004327880204275945
         ],
         "xaxis": "x",
         "y": [
          73.126,
          81.414,
          82.294
         ],
         "yaxis": "y"
        },
        {
         "customdata": [
          [
           224
          ],
          [
           224
          ],
          [
           288
          ],
          [
           288
          ],
          [
           320
          ],
          [
           320
          ]
         ],
         "hovertemplate": "<b>%{hovertext}</b><br><br>family=efficientnetv2<br>secs=%{x}<br>top1=%{y}<br>size=%{marker.size}<br>train_img_size=%{customdata[0]}<extra></extra>",
         "hovertext": [
          "efficientnetv2_rw_t",
          "efficientnetv2_rw_t",
          "efficientnetv2_rw_s",
          "efficientnetv2_rw_s",
          "efficientnetv2_rw_m",
          "efficientnetv2_rw_m"
         ],
         "legendgroup": "efficientnetv2",
         "marker": {
          "color": "#19d3f3",
          "size": [
           50176,
           50176,
           82944,
           82944,
           102400,
           102400
          ],
          "sizemode": "area",
          "sizeref": 655.36,
          "symbol": "circle"
         },
         "mode": "markers",
         "name": "efficientnetv2",
         "orientation": "v",
         "showlegend": true,
         "type": "scatter",
         "x": [
          0.0009100340352729192,
          0.0009100340352729192,
          0.0019202335003936479,
          0.0019202335003936479,
          0.0044551367726989215,
          0.0044551367726989215
         ],
         "xaxis": "x",
         "y": [
          82.354,
          81.372,
          83.83,
          82.888,
          84.824,
          84.294
         ],
         "yaxis": "y"
        },
        {
         "customdata": [
          [
           224
          ],
          [
           224
          ]
         ],
         "hovertemplate": "<b>%{hovertext}</b><br><br>family=resnetaa<br>secs=%{x}<br>top1=%{y}<br>size=%{marker.size}<br>train_img_size=%{customdata[0]}<extra></extra>",
         "hovertext": [
          "resnetaa50",
          "resnetaa50"
         ],
         "legendgroup": "resnetaa",
         "marker": {
          "color": "#FF6692",
          "size": [
           50176,
           50176
          ],
          "sizemode": "area",
          "sizeref": 655.36,
          "symbol": "circle"
         },
         "mode": "markers",
         "name": "resnetaa",
         "orientation": "v",
         "showlegend": true,
         "type": "scatter",
         "x": [
          0.0009454208540931996,
          0.0009454208540931996
         ],
         "xaxis": "x",
         "y": [
          81.604,
          80.614
         ],
         "yaxis": "y"
        },
        {
         "customdata": [
          [
           224
          ],
          [
           224
          ],
          [
           224
          ],
          [
           224
          ],
          [
           224
          ],
          [
           224
          ],
          [
           224
          ],
          [
           224
          ]
         ],
         "hovertemplate": "<b>%{hovertext}</b><br><br>family=vgg<br>secs=%{x}<br>top1=%{y}<br>size=%{marker.size}<br>train_img_size=%{customdata[0]}<extra></extra>",
         "hovertext": [
          "vgg11",
          "vgg11_bn",
          "vgg13",
          "vgg13_bn",
          "vgg16",
          "vgg16_bn",
          "vgg19",
          "vgg19_bn"
         ],
         "legendgroup": "vgg",
         "marker": {
          "color": "#B6E880",
          "size": [
           50176,
           50176,
           50176,
           50176,
           50176,
           50176,
           50176,
           50176
          ],
          "sizemode": "area",
          "sizeref": 655.36,
          "symbol": "circle"
         },
         "mode": "markers",
         "name": "vgg",
         "orientation": "v",
         "showlegend": true,
         "type": "scatter",
         "x": [
          0.0010481850675555277,
          0.0012008550087662414,
          0.00147612369916599,
          0.0017437703803163198,
          0.00183130058967879,
          0.00212630236019562,
          0.0021864136257297153,
          0.002509410288582183
         ],
         "xaxis": "x",
         "y": [
          69.048,
          70.384,
          69.94,
          71.556,
          71.6,
          73.356,
          72.4,
          74.236
         ],
         "yaxis": "y"
        },
        {
         "customdata": [
          [
           224
          ],
          [
           224
          ],
          [
           224
          ],
          [
           224
          ]
         ],
         "hovertemplate": "<b>%{hovertext}</b><br><br>family=resnetaad<br>secs=%{x}<br>top1=%{y}<br>size=%{marker.size}<br>train_img_size=%{customdata[0]}<extra></extra>",
         "hovertext": [
          "resnetaa50d",
          "resnetaa50d",
          "resnetaa101d",
          "resnetaa101d"
         ],
         "legendgroup": "resnetaad",
         "marker": {
          "color": "#FF97FF",
          "size": [
           50176,
           50176,
           50176,
           50176
          ],
          "sizemode": "area",
          "sizeref": 655.36,
          "symbol": "circle"
         },
         "mode": "markers",
         "name": "resnetaad",
         "orientation": "v",
         "showlegend": true,
         "type": "scatter",
         "x": [
          0.0010517569600016828,
          0.0010517569600016828,
          0.0015751504268657656,
          0.0015751504268657656
         ],
         "xaxis": "x",
         "y": [
          82.644,
          81.782,
          84.102,
          83.544
         ],
         "yaxis": "y"
        },
        {
         "customdata": [
          [
           224
          ],
          [
           224
          ]
         ],
         "hovertemplate": "<b>%{hovertext}</b><br><br>family=resnetblur<br>secs=%{x}<br>top1=%{y}<br>size=%{marker.size}<br>train_img_size=%{customdata[0]}<extra></extra>",
         "hovertext": [
          "resnetblur50",
          "resnetblur50"
         ],
         "legendgroup": "resnetblur",
         "marker": {
          "color": "#FECB52",
          "size": [
           50176,
           50176
          ],
          "sizemode": "area",
          "sizeref": 655.36,
          "symbol": "circle"
         },
         "mode": "markers",
         "name": "resnetblur",
         "orientation": "v",
         "showlegend": true,
         "type": "scatter",
         "x": [
          0.0010965994451206807,
          0.0010965994451206807
         ],
         "xaxis": "x",
         "y": [
          80.248,
          79.306
         ],
         "yaxis": "y"
        },
        {
         "customdata": [
          [
           224
          ],
          [
           224
          ],
          [
           256
          ],
          [
           256
          ],
          [
           256
          ],
          [
           256
          ],
          [
           256
          ],
          [
           256
          ],
          [
           256
          ],
          [
           256
          ],
          [
           256
          ],
          [
           256
          ],
          [
           256
          ],
          [
           256
          ],
          [
           256
          ],
          [
           256
          ]
         ],
         "hovertemplate": "<b>%{hovertext}</b><br><br>family=regnetz<br>secs=%{x}<br>top1=%{y}<br>size=%{marker.size}<br>train_img_size=%{customdata[0]}<extra></extra>",
         "hovertext": [
          "regnetz_b16",
          "regnetz_b16",
          "regnetz_d8",
          "regnetz_d8",
          "regnetz_c16",
          "regnetz_c16",
          "regnetz_d32",
          "regnetz_d32",
          "regnetz_040",
          "regnetz_040",
          "regnetz_e8",
          "regnetz_e8",
          "regnetz_c16_evos",
          "regnetz_c16_evos",
          "regnetz_d8_evos",
          "regnetz_d8_evos"
         ],
         "legendgroup": "regnetz",
         "marker": {
          "color": "#636efa",
          "size": [
           50176,
           50176,
           65536,
           65536,
           65536,
           65536,
           65536,
           65536,
           65536,
           65536,
           65536,
           65536,
           65536,
           65536,
           65536,
           65536
          ],
          "sizemode": "area",
          "sizeref": 655.36,
          "symbol": "circle"
         },
         "mode": "markers",
         "name": "regnetz",
         "orientation": "v",
         "showlegend": true,
         "type": "scatter",
         "x": [
          0.0011600255205614523,
          0.0011600255205614523,
          0.0019928258270227183,
          0.0019928258270227183,
          0.0021017675865402804,
          0.0021017675865402804,
          0.0021193175797393237,
          0.0021193175797393237,
          0.0021194972552510544,
          0.0021194972552510544,
          0.0038984834899224202,
          0.0038984834899224202,
          0.005157563566970964,
          0.005157563566970964,
          0.0064387354323610846,
          0.0064387354323610846
         ],
         "xaxis": "x",
         "y": [
          80.738,
          79.874,
          84.042,
          83.548,
          82.66,
          82.16,
          84.028,
          83.428,
          84.256,
          83.66,
          85.04,
          84.418,
          82.644,
          81.942,
          84.152,
          83.394
         ],
         "yaxis": "y"
        },
        {
         "customdata": [
          [
           224
          ],
          [
           224
          ]
         ],
         "hovertemplate": "<b>%{hovertext}</b><br><br>family=resnetv2d<br>secs=%{x}<br>top1=%{y}<br>size=%{marker.size}<br>train_img_size=%{customdata[0]}<extra></extra>",
         "hovertext": [
          "resnetv2_50d_evos",
          "resnetv2_50d_evos"
         ],
         "legendgroup": "resnetv2d",
         "marker": {
          "color": "#EF553B",
          "size": [
           50176,
           50176
          ],
          "sizemode": "area",
          "sizeref": 655.36,
          "symbol": "circle"
         },
         "mode": "markers",
         "name": "resnetv2d",
         "orientation": "v",
         "showlegend": true,
         "type": "scatter",
         "x": [
          0.002671867902850883,
          0.002671867902850883
         ],
         "xaxis": "x",
         "y": [
          82,
          80.828
         ],
         "yaxis": "y"
        },
        {
         "customdata": [
          [
           224
          ],
          [
           224
          ],
          [
           384
          ],
          [
           384
          ],
          [
           512
          ]
         ],
         "hovertemplate": "<b>%{hovertext}</b><br><br>family=beit<br>secs=%{x}<br>top1=%{y}<br>size=%{marker.size}<br>train_img_size=%{customdata[0]}<extra></extra>",
         "hovertext": [
          "beit_base_patch16_224",
          "beit_large_patch16_224",
          "beit_base_patch16_384",
          "beit_large_patch16_384",
          "beit_large_patch16_512"
         ],
         "legendgroup": "beit",
         "marker": {
          "color": "#00cc96",
          "size": [
           50176,
           50176,
           147456,
           147456,
           262144
          ],
          "sizemode": "area",
          "sizeref": 655.36,
          "symbol": "circle"
         },
         "mode": "markers",
         "name": "beit",
         "orientation": "v",
         "showlegend": true,
         "type": "scatter",
         "x": [
          0.0027873010563871006,
          0.0091726288754357,
          0.011923214498628829,
          0.039525691699604744,
          0.10615711252653928
         ],
         "xaxis": "x",
         "y": [
          85.244,
          87.488,
          86.816,
          88.382,
          88.578
         ],
         "yaxis": "y"
        },
        {
         "customdata": [
          [
           224
          ],
          [
           224
          ],
          [
           224
          ],
          [
           224
          ]
         ],
         "hovertemplate": "<b>%{hovertext}</b><br><br>family=regnetv<br>secs=%{x}<br>top1=%{y}<br>size=%{marker.size}<br>train_img_size=%{customdata[0]}<extra></extra>",
         "hovertext": [
          "regnetv_040",
          "regnetv_040",
          "regnetv_064",
          "regnetv_064"
         ],
         "legendgroup": "regnetv",
         "marker": {
          "color": "#ab63fa",
          "size": [
           50176,
           50176,
           50176,
           50176
          ],
          "sizemode": "area",
          "sizeref": 655.36,
          "symbol": "circle"
         },
         "mode": "markers",
         "name": "regnetv",
         "orientation": "v",
         "showlegend": true,
         "type": "scatter",
         "x": [
          0.005310956503266238,
          0.005310956503266238,
          0.00854481756814492,
          0.00854481756814492
         ],
         "xaxis": "x",
         "y": [
          83.2,
          82.448,
          83.748,
          83.118
         ],
         "yaxis": "y"
        }
       ],
       "layout": {
        "height": 800,
        "legend": {
         "itemsizing": "constant",
         "title": {
          "text": "family"
         },
         "tracegroupgap": 0
        },
        "template": {
         "data": {
          "bar": [
           {
            "error_x": {
             "color": "#2a3f5f"
            },
            "error_y": {
             "color": "#2a3f5f"
            },
            "marker": {
             "line": {
              "color": "#E5ECF6",
              "width": 0.5
             },
             "pattern": {
              "fillmode": "overlay",
              "size": 10,
              "solidity": 0.2
             }
            },
            "type": "bar"
           }
          ],
          "barpolar": [
           {
            "marker": {
             "line": {
              "color": "#E5ECF6",
              "width": 0.5
             },
             "pattern": {
              "fillmode": "overlay",
              "size": 10,
              "solidity": 0.2
             }
            },
            "type": "barpolar"
           }
          ],
          "carpet": [
           {
            "aaxis": {
             "endlinecolor": "#2a3f5f",
             "gridcolor": "white",
             "linecolor": "white",
             "minorgridcolor": "white",
             "startlinecolor": "#2a3f5f"
            },
            "baxis": {
             "endlinecolor": "#2a3f5f",
             "gridcolor": "white",
             "linecolor": "white",
             "minorgridcolor": "white",
             "startlinecolor": "#2a3f5f"
            },
            "type": "carpet"
           }
          ],
          "choropleth": [
           {
            "colorbar": {
             "outlinewidth": 0,
             "ticks": ""
            },
            "type": "choropleth"
           }
          ],
          "contour": [
           {
            "colorbar": {
             "outlinewidth": 0,
             "ticks": ""
            },
            "colorscale": [
             [
              0,
              "#0d0887"
             ],
             [
              0.1111111111111111,
              "#46039f"
             ],
             [
              0.2222222222222222,
              "#7201a8"
             ],
             [
              0.3333333333333333,
              "#9c179e"
             ],
             [
              0.4444444444444444,
              "#bd3786"
             ],
             [
              0.5555555555555556,
              "#d8576b"
             ],
             [
              0.6666666666666666,
              "#ed7953"
             ],
             [
              0.7777777777777778,
              "#fb9f3a"
             ],
             [
              0.8888888888888888,
              "#fdca26"
             ],
             [
              1,
              "#f0f921"
             ]
            ],
            "type": "contour"
           }
          ],
          "contourcarpet": [
           {
            "colorbar": {
             "outlinewidth": 0,
             "ticks": ""
            },
            "type": "contourcarpet"
           }
          ],
          "heatmap": [
           {
            "colorbar": {
             "outlinewidth": 0,
             "ticks": ""
            },
            "colorscale": [
             [
              0,
              "#0d0887"
             ],
             [
              0.1111111111111111,
              "#46039f"
             ],
             [
              0.2222222222222222,
              "#7201a8"
             ],
             [
              0.3333333333333333,
              "#9c179e"
             ],
             [
              0.4444444444444444,
              "#bd3786"
             ],
             [
              0.5555555555555556,
              "#d8576b"
             ],
             [
              0.6666666666666666,
              "#ed7953"
             ],
             [
              0.7777777777777778,
              "#fb9f3a"
             ],
             [
              0.8888888888888888,
              "#fdca26"
             ],
             [
              1,
              "#f0f921"
             ]
            ],
            "type": "heatmap"
           }
          ],
          "heatmapgl": [
           {
            "colorbar": {
             "outlinewidth": 0,
             "ticks": ""
            },
            "colorscale": [
             [
              0,
              "#0d0887"
             ],
             [
              0.1111111111111111,
              "#46039f"
             ],
             [
              0.2222222222222222,
              "#7201a8"
             ],
             [
              0.3333333333333333,
              "#9c179e"
             ],
             [
              0.4444444444444444,
              "#bd3786"
             ],
             [
              0.5555555555555556,
              "#d8576b"
             ],
             [
              0.6666666666666666,
              "#ed7953"
             ],
             [
              0.7777777777777778,
              "#fb9f3a"
             ],
             [
              0.8888888888888888,
              "#fdca26"
             ],
             [
              1,
              "#f0f921"
             ]
            ],
            "type": "heatmapgl"
           }
          ],
          "histogram": [
           {
            "marker": {
             "pattern": {
              "fillmode": "overlay",
              "size": 10,
              "solidity": 0.2
             }
            },
            "type": "histogram"
           }
          ],
          "histogram2d": [
           {
            "colorbar": {
             "outlinewidth": 0,
             "ticks": ""
            },
            "colorscale": [
             [
              0,
              "#0d0887"
             ],
             [
              0.1111111111111111,
              "#46039f"
             ],
             [
              0.2222222222222222,
              "#7201a8"
             ],
             [
              0.3333333333333333,
              "#9c179e"
             ],
             [
              0.4444444444444444,
              "#bd3786"
             ],
             [
              0.5555555555555556,
              "#d8576b"
             ],
             [
              0.6666666666666666,
              "#ed7953"
             ],
             [
              0.7777777777777778,
              "#fb9f3a"
             ],
             [
              0.8888888888888888,
              "#fdca26"
             ],
             [
              1,
              "#f0f921"
             ]
            ],
            "type": "histogram2d"
           }
          ],
          "histogram2dcontour": [
           {
            "colorbar": {
             "outlinewidth": 0,
             "ticks": ""
            },
            "colorscale": [
             [
              0,
              "#0d0887"
             ],
             [
              0.1111111111111111,
              "#46039f"
             ],
             [
              0.2222222222222222,
              "#7201a8"
             ],
             [
              0.3333333333333333,
              "#9c179e"
             ],
             [
              0.4444444444444444,
              "#bd3786"
             ],
             [
              0.5555555555555556,
              "#d8576b"
             ],
             [
              0.6666666666666666,
              "#ed7953"
             ],
             [
              0.7777777777777778,
              "#fb9f3a"
             ],
             [
              0.8888888888888888,
              "#fdca26"
             ],
             [
              1,
              "#f0f921"
             ]
            ],
            "type": "histogram2dcontour"
           }
          ],
          "mesh3d": [
           {
            "colorbar": {
             "outlinewidth": 0,
             "ticks": ""
            },
            "type": "mesh3d"
           }
          ],
          "parcoords": [
           {
            "line": {
             "colorbar": {
              "outlinewidth": 0,
              "ticks": ""
             }
            },
            "type": "parcoords"
           }
          ],
          "pie": [
           {
            "automargin": true,
            "type": "pie"
           }
          ],
          "scatter": [
           {
            "fillpattern": {
             "fillmode": "overlay",
             "size": 10,
             "solidity": 0.2
            },
            "type": "scatter"
           }
          ],
          "scatter3d": [
           {
            "line": {
             "colorbar": {
              "outlinewidth": 0,
              "ticks": ""
             }
            },
            "marker": {
             "colorbar": {
              "outlinewidth": 0,
              "ticks": ""
             }
            },
            "type": "scatter3d"
           }
          ],
          "scattercarpet": [
           {
            "marker": {
             "colorbar": {
              "outlinewidth": 0,
              "ticks": ""
             }
            },
            "type": "scattercarpet"
           }
          ],
          "scattergeo": [
           {
            "marker": {
             "colorbar": {
              "outlinewidth": 0,
              "ticks": ""
             }
            },
            "type": "scattergeo"
           }
          ],
          "scattergl": [
           {
            "marker": {
             "colorbar": {
              "outlinewidth": 0,
              "ticks": ""
             }
            },
            "type": "scattergl"
           }
          ],
          "scattermapbox": [
           {
            "marker": {
             "colorbar": {
              "outlinewidth": 0,
              "ticks": ""
             }
            },
            "type": "scattermapbox"
           }
          ],
          "scatterpolar": [
           {
            "marker": {
             "colorbar": {
              "outlinewidth": 0,
              "ticks": ""
             }
            },
            "type": "scatterpolar"
           }
          ],
          "scatterpolargl": [
           {
            "marker": {
             "colorbar": {
              "outlinewidth": 0,
              "ticks": ""
             }
            },
            "type": "scatterpolargl"
           }
          ],
          "scatterternary": [
           {
            "marker": {
             "colorbar": {
              "outlinewidth": 0,
              "ticks": ""
             }
            },
            "type": "scatterternary"
           }
          ],
          "surface": [
           {
            "colorbar": {
             "outlinewidth": 0,
             "ticks": ""
            },
            "colorscale": [
             [
              0,
              "#0d0887"
             ],
             [
              0.1111111111111111,
              "#46039f"
             ],
             [
              0.2222222222222222,
              "#7201a8"
             ],
             [
              0.3333333333333333,
              "#9c179e"
             ],
             [
              0.4444444444444444,
              "#bd3786"
             ],
             [
              0.5555555555555556,
              "#d8576b"
             ],
             [
              0.6666666666666666,
              "#ed7953"
             ],
             [
              0.7777777777777778,
              "#fb9f3a"
             ],
             [
              0.8888888888888888,
              "#fdca26"
             ],
             [
              1,
              "#f0f921"
             ]
            ],
            "type": "surface"
           }
          ],
          "table": [
           {
            "cells": {
             "fill": {
              "color": "#EBF0F8"
             },
             "line": {
              "color": "white"
             }
            },
            "header": {
             "fill": {
              "color": "#C8D4E3"
             },
             "line": {
              "color": "white"
             }
            },
            "type": "table"
           }
          ]
         },
         "layout": {
          "annotationdefaults": {
           "arrowcolor": "#2a3f5f",
           "arrowhead": 0,
           "arrowwidth": 1
          },
          "autotypenumbers": "strict",
          "coloraxis": {
           "colorbar": {
            "outlinewidth": 0,
            "ticks": ""
           }
          },
          "colorscale": {
           "diverging": [
            [
             0,
             "#8e0152"
            ],
            [
             0.1,
             "#c51b7d"
            ],
            [
             0.2,
             "#de77ae"
            ],
            [
             0.3,
             "#f1b6da"
            ],
            [
             0.4,
             "#fde0ef"
            ],
            [
             0.5,
             "#f7f7f7"
            ],
            [
             0.6,
             "#e6f5d0"
            ],
            [
             0.7,
             "#b8e186"
            ],
            [
             0.8,
             "#7fbc41"
            ],
            [
             0.9,
             "#4d9221"
            ],
            [
             1,
             "#276419"
            ]
           ],
           "sequential": [
            [
             0,
             "#0d0887"
            ],
            [
             0.1111111111111111,
             "#46039f"
            ],
            [
             0.2222222222222222,
             "#7201a8"
            ],
            [
             0.3333333333333333,
             "#9c179e"
            ],
            [
             0.4444444444444444,
             "#bd3786"
            ],
            [
             0.5555555555555556,
             "#d8576b"
            ],
            [
             0.6666666666666666,
             "#ed7953"
            ],
            [
             0.7777777777777778,
             "#fb9f3a"
            ],
            [
             0.8888888888888888,
             "#fdca26"
            ],
            [
             1,
             "#f0f921"
            ]
           ],
           "sequentialminus": [
            [
             0,
             "#0d0887"
            ],
            [
             0.1111111111111111,
             "#46039f"
            ],
            [
             0.2222222222222222,
             "#7201a8"
            ],
            [
             0.3333333333333333,
             "#9c179e"
            ],
            [
             0.4444444444444444,
             "#bd3786"
            ],
            [
             0.5555555555555556,
             "#d8576b"
            ],
            [
             0.6666666666666666,
             "#ed7953"
            ],
            [
             0.7777777777777778,
             "#fb9f3a"
            ],
            [
             0.8888888888888888,
             "#fdca26"
            ],
            [
             1,
             "#f0f921"
            ]
           ]
          },
          "colorway": [
           "#636efa",
           "#EF553B",
           "#00cc96",
           "#ab63fa",
           "#FFA15A",
           "#19d3f3",
           "#FF6692",
           "#B6E880",
           "#FF97FF",
           "#FECB52"
          ],
          "font": {
           "color": "#2a3f5f"
          },
          "geo": {
           "bgcolor": "white",
           "lakecolor": "white",
           "landcolor": "#E5ECF6",
           "showlakes": true,
           "showland": true,
           "subunitcolor": "white"
          },
          "hoverlabel": {
           "align": "left"
          },
          "hovermode": "closest",
          "mapbox": {
           "style": "light"
          },
          "paper_bgcolor": "white",
          "plot_bgcolor": "#E5ECF6",
          "polar": {
           "angularaxis": {
            "gridcolor": "white",
            "linecolor": "white",
            "ticks": ""
           },
           "bgcolor": "#E5ECF6",
           "radialaxis": {
            "gridcolor": "white",
            "linecolor": "white",
            "ticks": ""
           }
          },
          "scene": {
           "xaxis": {
            "backgroundcolor": "#E5ECF6",
            "gridcolor": "white",
            "gridwidth": 2,
            "linecolor": "white",
            "showbackground": true,
            "ticks": "",
            "zerolinecolor": "white"
           },
           "yaxis": {
            "backgroundcolor": "#E5ECF6",
            "gridcolor": "white",
            "gridwidth": 2,
            "linecolor": "white",
            "showbackground": true,
            "ticks": "",
            "zerolinecolor": "white"
           },
           "zaxis": {
            "backgroundcolor": "#E5ECF6",
            "gridcolor": "white",
            "gridwidth": 2,
            "linecolor": "white",
            "showbackground": true,
            "ticks": "",
            "zerolinecolor": "white"
           }
          },
          "shapedefaults": {
           "line": {
            "color": "#2a3f5f"
           }
          },
          "ternary": {
           "aaxis": {
            "gridcolor": "white",
            "linecolor": "white",
            "ticks": ""
           },
           "baxis": {
            "gridcolor": "white",
            "linecolor": "white",
            "ticks": ""
           },
           "bgcolor": "#E5ECF6",
           "caxis": {
            "gridcolor": "white",
            "linecolor": "white",
            "ticks": ""
           }
          },
          "title": {
           "x": 0.05
          },
          "xaxis": {
           "automargin": true,
           "gridcolor": "white",
           "linecolor": "white",
           "ticks": "",
           "title": {
            "standoff": 15
           },
           "zerolinecolor": "white",
           "zerolinewidth": 2
          },
          "yaxis": {
           "automargin": true,
           "gridcolor": "white",
           "linecolor": "white",
           "ticks": "",
           "title": {
            "standoff": 15
           },
           "zerolinecolor": "white",
           "zerolinewidth": 2
          }
         }
        },
        "title": {
         "text": "Training"
        },
        "width": 1000,
        "xaxis": {
         "anchor": "y",
         "domain": [
          0,
          1
         ],
         "title": {
          "text": "secs"
         },
         "type": "log"
        },
        "yaxis": {
         "anchor": "x",
         "domain": [
          0,
          1
         ],
         "title": {
          "text": "top1"
         }
        }
       }
      },
      "text/html": [
       "<div>                            <div id=\"369338db-6f78-4262-afbc-97d112b3858a\" class=\"plotly-graph-div\" style=\"height:800px; width:1000px;\"></div>            <script type=\"text/javascript\">                require([\"plotly\"], function(Plotly) {                    window.PLOTLYENV=window.PLOTLYENV || {};                                    if (document.getElementById(\"369338db-6f78-4262-afbc-97d112b3858a\")) {                    Plotly.newPlot(                        \"369338db-6f78-4262-afbc-97d112b3858a\",                        [{\"customdata\":[[224],[224],[224],[224],[224]],\"hovertemplate\":\"\\u003cb\\u003e%{hovertext}\\u003c\\u002fb\\u003e\\u003cbr\\u003e\\u003cbr\\u003efamily=levit\\u003cbr\\u003esecs=%{x}\\u003cbr\\u003etop1=%{y}\\u003cbr\\u003esize=%{marker.size}\\u003cbr\\u003etrain_img_size=%{customdata[0]}\\u003cextra\\u003e\\u003c\\u002fextra\\u003e\",\"hovertext\":[\"levit_128s\",\"levit_128\",\"levit_192\",\"levit_256\",\"levit_384\"],\"legendgroup\":\"levit\",\"marker\":{\"color\":\"#636efa\",\"size\":[50176,50176,50176,50176,50176],\"sizemode\":\"area\",\"sizeref\":655.36,\"symbol\":\"circle\"},\"mode\":\"markers\",\"name\":\"levit\",\"orientation\":\"v\",\"showlegend\":true,\"x\":[0.00015292484049939136,0.00021938099458567706,0.0002682914396250359,0.00033824578968553293,0.000555247084952804],\"xaxis\":\"x\",\"y\":[76.522,78.486,79.85,81.506,82.598],\"yaxis\":\"y\",\"type\":\"scatter\"},{\"customdata\":[[176],[176],[224],[224],[224],[224],[224],[224],[224],[224],[224],[224],[176],[176],[224],[224],[224],[224],[224],[224],[224],[224],[224],[224],[224],[224],[256],[256],[224],[224],[224],[224],[224],[224],[224],[224],[224],[224],[224],[224],[224],[224],[224],[224],[224],[224],[224],[224],[224],[224],[224],[224],[224],[224],[224],[224],[224],[224],[224],[256],[256],[256],[256],[224],[224],[224],[224],[224],[224],[224],[224],[224],[224],[224],[224],[224],[224],[224],[224],[224],[224],[224],[224],[224],[224],[224],[224],[256],[256],[256],[256]],\"hovertemplate\":\"\\u003cb\\u003e%{hovertext}\\u003c\\u002fb\\u003e\\u003cbr\\u003e\\u003cbr\\u003efamily=resnet\\u003cbr\\u003esecs=%{x}\\u003cbr\\u003etop1=%{y}\\u003cbr\\u003esize=%{marker.size}\\u003cbr\\u003etrain_img_size=%{customdata[0]}\\u003cextra\\u003e\\u003c\\u002fextra\\u003e\",\"hovertext\":[\"resnet10t\",\"resnet10t\",\"resnet18\",\"resnet18\",\"resnet18\",\"resnet18\",\"resnet18\",\"resnet18\",\"resnet18\",\"resnet18\",\"resnet18\",\"resnet18\",\"resnet14t\",\"resnet14t\",\"resnet34\",\"resnet34\",\"resnet34\",\"resnet34\",\"resnet34\",\"resnet34\",\"resnet34\",\"resnet34\",\"resnet34\",\"resnet34\",\"resnet26\",\"resnet26\",\"resnet26t\",\"resnet26t\",\"resnet50\",\"resnet50\",\"resnet50\",\"resnet50\",\"resnet50\",\"resnet50\",\"resnet50\",\"resnet50\",\"resnet50\",\"resnet50\",\"resnet50\",\"resnet50\",\"resnet50\",\"resnet50\",\"resnet50\",\"resnet50\",\"resnet50\",\"resnet50\",\"resnet50\",\"resnet50\",\"resnet50\",\"resnet50\",\"resnet50\",\"resnet50\",\"resnet50\",\"resnet50\",\"resnet50\",\"resnet50\",\"resnet50\",\"resnet50\",\"resnet50\",\"resnet32ts\",\"resnet32ts\",\"resnet33ts\",\"resnet33ts\",\"resnet101\",\"resnet101\",\"resnet101\",\"resnet101\",\"resnet101\",\"resnet101\",\"resnet101\",\"resnet101\",\"resnet101\",\"resnet101\",\"resnet101\",\"resnet101\",\"resnet152\",\"resnet152\",\"resnet152\",\"resnet152\",\"resnet152\",\"resnet152\",\"resnet152\",\"resnet152\",\"resnet152\",\"resnet152\",\"resnet152\",\"resnet152\",\"resnet51q\",\"resnet51q\",\"resnet61q\",\"resnet61q\"],\"legendgroup\":\"resnet\",\"marker\":{\"color\":\"#EF553B\",\"size\":[30976,30976,50176,50176,50176,50176,50176,50176,50176,50176,50176,50176,30976,30976,50176,50176,50176,50176,50176,50176,50176,50176,50176,50176,50176,50176,65536,65536,50176,50176,50176,50176,50176,50176,50176,50176,50176,50176,50176,50176,50176,50176,50176,50176,50176,50176,50176,50176,50176,50176,50176,50176,50176,50176,50176,50176,50176,50176,50176,65536,65536,65536,65536,50176,50176,50176,50176,50176,50176,50176,50176,50176,50176,50176,50176,50176,50176,50176,50176,50176,50176,50176,50176,50176,50176,50176,50176,65536,65536,65536,65536],\"sizemode\":\"area\",\"sizeref\":655.36,\"symbol\":\"circle\"},\"mode\":\"markers\",\"name\":\"resnet\",\"orientation\":\"v\",\"showlegend\":true,\"x\":[0.00015826215492915395,0.00015826215492915395,0.00028720941587348996,0.00028720941587348996,0.00028720941587348996,0.00028720941587348996,0.00028720941587348996,0.00028720941587348996,0.00028720941587348996,0.00028720941587348996,0.00028720941587348996,0.00028720941587348996,0.00028798774324164766,0.00028798774324164766,0.0004910361353492003,0.0004910361353492003,0.0004910361353492003,0.0004910361353492003,0.0004910361353492003,0.0004910361353492003,0.0004910361353492003,0.0004910361353492003,0.0004910361353492003,0.0004910361353492003,0.0005096839959225281,0.0005096839959225281,0.0008081853007257504,0.0008081853007257504,0.0008210113217461269,0.0008210113217461269,0.0008210113217461269,0.0008210113217461269,0.0008210113217461269,0.0008210113217461269,0.0008210113217461269,0.0008210113217461269,0.0008210113217461269,0.0008210113217461269,0.0008210113217461269,0.0008210113217461269,0.0008210113217461269,0.0008210113217461269,0.0008210113217461269,0.0008210113217461269,0.0008210113217461269,0.0008210113217461269,0.0008210113217461269,0.0008210113217461269,0.0008210113217461269,0.0008210113217461269,0.0008210113217461269,0.0008210113217461269,0.0008210113217461269,0.0008210113217461269,0.0008210113217461269,0.0008210113217461269,0.0008210113217461269,0.0008210113217461269,0.0008210113217461269,0.0009294889669659622,0.0009294889669659622,0.0009421873822265774,0.0009421873822265774,0.0013370950273435933,0.0013370950273435933,0.0013370950273435933,0.0013370950273435933,0.0013370950273435933,0.0013370950273435933,0.0013370950273435933,0.0013370950273435933,0.0013370950273435933,0.0013370950273435933,0.0013370950273435933,0.0013370950273435933,0.001994256541161455,0.001994256541161455,0.001994256541161455,0.001994256541161455,0.001994256541161455,0.001994256541161455,0.001994256541161455,0.001994256541161455,0.001994256541161455,0.001994256541161455,0.001994256541161455,0.001994256541161455,0.0021560552812574115,0.0021560552812574115,0.0023044129508007836,0.0023044129508007836],\"xaxis\":\"x\",\"y\":[68.346,66.724,73.288,73.164,72.636,72.362,71.488,70.844,70.634,69.752,68.246,65.664,72.242,71.318,77.938,77.148,76.508,76.414,75.516,75.162,74.574,73.298,72.982,70.572,76.378,75.292,78.33,77.884,81.24,81.146,81.012,80.928,80.856,80.844,80.78,80.706,80.652,80.47,80.382,79.974,79.904,79.868,79.86,79.828,79.766,79.652,79.564,79.432,79.38,79.26,79.252,79.032,79.004,78.814,78.432,78.052,77.58,76.156,75.994,79.388,79.054,79.708,79.216,82.802,82.322,82.224,81.95,81.906,81.494,81.344,79.906,79.82,79.306,77.928,77.404,83.494,82.818,82.744,82.62,82.294,81.998,81.764,80.548,80.212,79.712,78.896,78.33,82.356,81.778,82.524,81.966],\"yaxis\":\"y\",\"type\":\"scatter\"},{\"customdata\":[[224],[224],[224],[224],[224],[224],[384],[384],[224],[224],[256],[224],[224],[224],[224],[224],[224],[224],[384],[384],[384],[224],[224],[224],[224],[224],[224],[224],[224],[224],[384],[384],[224],[384],[384],[224],[384],[384],[384],[384],[224],[224],[384],[384]],\"hovertemplate\":\"\\u003cb\\u003e%{hovertext}\\u003c\\u002fb\\u003e\\u003cbr\\u003e\\u003cbr\\u003efamily=vit\\u003cbr\\u003esecs=%{x}\\u003cbr\\u003etop1=%{y}\\u003cbr\\u003esize=%{marker.size}\\u003cbr\\u003etrain_img_size=%{customdata[0]}\\u003cextra\\u003e\\u003c\\u002fextra\\u003e\",\"hovertext\":[\"vit_small_patch32_224\",\"vit_tiny_r_s16_p8_224\",\"vit_tiny_patch16_224\",\"vit_base_patch32_224\",\"vit_base_patch32_224\",\"vit_base_patch32_224\",\"vit_small_patch32_384\",\"vit_tiny_r_s16_p8_384\",\"vit_small_patch16_224\",\"vit_small_patch16_224\",\"vit_relpos_base_patch32_plus_rpn_256\",\"vit_srelpos_small_patch16_224\",\"vit_relpos_small_patch16_224\",\"vit_small_r26_s32_224\",\"vit_relpos_medium_patch16_rpn_224\",\"vit_relpos_medium_patch16_cls_224\",\"vit_srelpos_medium_patch16_224\",\"vit_relpos_medium_patch16_224\",\"vit_base_patch32_384\",\"vit_base_patch32_384\",\"vit_tiny_patch16_384\",\"vit_base_patch16_224_miil\",\"vit_base_patch16_224\",\"vit_base_patch16_224\",\"vit_base_patch16_224\",\"vit_base_patch16_224\",\"vit_base_patch16_224\",\"vit_base_patch16_rpn_224\",\"vit_relpos_base_patch16_clsgap_224\",\"vit_relpos_base_patch16_224\",\"vit_small_patch16_384\",\"vit_small_patch16_384\",\"vit_large_r50_s32_224\",\"vit_small_r26_s32_384\",\"vit_large_patch32_384\",\"vit_large_patch16_224\",\"vit_base_patch16_384\",\"vit_base_patch16_384\",\"vit_base_patch16_384\",\"vit_large_r50_s32_384\",\"vit_base_patch8_224\",\"vit_base_patch8_224\",\"vit_base_r50_s16_384\",\"vit_large_patch16_384\"],\"legendgroup\":\"vit\",\"marker\":{\"color\":\"#00cc96\",\"size\":[50176,50176,50176,50176,50176,50176,147456,147456,50176,50176,65536,50176,50176,50176,50176,50176,50176,50176,147456,147456,147456,50176,50176,50176,50176,50176,50176,50176,50176,50176,147456,147456,50176,147456,147456,50176,147456,147456,147456,147456,50176,50176,147456,147456],\"sizemode\":\"area\",\"sizeref\":655.36,\"symbol\":\"circle\"},\"mode\":\"markers\",\"name\":\"vit\",\"orientation\":\"v\",\"showlegend\":true,\"x\":[0.0002249334197077665,0.00024843300879701287,0.00043486580041399224,0.0005852642175310043,0.0005852642175310043,0.0005852642175310043,0.0006868650790925138,0.0007433231002519866,0.0009452510586811857,0.0009452510586811857,0.0009786076370539997,0.001031800078416806,0.0010361298477925254,0.001362583458236817,0.0014553286859837293,0.0015110990223189326,0.0015154270473419409,0.0015219541891789059,0.0018403666010269246,0.0018403666010269246,0.001956985459598035,0.0025134469411350726,0.0025445940100257,0.0025445940100257,0.0025445940100257,0.0025445940100257,0.0025445940100257,0.0025554533374220587,0.0026971625849606215,0.0027105412950966306,0.004183050280264369,0.004183050280264369,0.0042324459305032374,0.004421843908910016,0.0059865900383141765,0.008532423208191127,0.010298661174047374,0.010298661174047374,0.010298661174047374,0.012929919834497025,0.015760441292356184,0.015760441292356184,0.0163907556138338,0.03431708991077557],\"xaxis\":\"x\",\"y\":[75.996,71.82,75.452,80.736,74.906,73.706,80.482,75.962,81.414,78.842,79.496,81.108,81.476,81.844,82.308,82.572,82.25,82.466,83.352,78.754,78.446,84.272,85.11,84.532,81.786,80.242,79.142,82.216,82.762,82.476,83.804,81.134,84.432,84.074,81.506,85.85,86.006,84.208,81.096,86.184,86.228,85.836,84.994,87.094],\"yaxis\":\"y\",\"type\":\"scatter\"},{\"customdata\":[[224],[224],[224],[224],[224],[224],[224],[224],[224],[224],[224],[224],[224],[224],[224],[224],[224],[224]],\"hovertemplate\":\"\\u003cb\\u003e%{hovertext}\\u003c\\u002fb\\u003e\\u003cbr\\u003e\\u003cbr\\u003efamily=regnetx\\u003cbr\\u003esecs=%{x}\\u003cbr\\u003etop1=%{y}\\u003cbr\\u003esize=%{marker.size}\\u003cbr\\u003etrain_img_size=%{customdata[0]}\\u003cextra\\u003e\\u003c\\u002fextra\\u003e\",\"hovertext\":[\"regnetx_002\",\"regnetx_004\",\"regnetx_006\",\"regnetx_008\",\"regnetx_008\",\"regnetx_016\",\"regnetx_016\",\"regnetx_040\",\"regnetx_032\",\"regnetx_032\",\"regnetx_080\",\"regnetx_080\",\"regnetx_064\",\"regnetx_160\",\"regnetx_160\",\"regnetx_120\",\"regnetx_320\",\"regnetx_320\"],\"legendgroup\":\"regnetx\",\"marker\":{\"color\":\"#ab63fa\",\"size\":[50176,50176,50176,50176,50176,50176,50176,50176,50176,50176,50176,50176,50176,50176,50176,50176,50176,50176],\"sizemode\":\"area\",\"sizeref\":655.36,\"symbol\":\"circle\"},\"mode\":\"markers\",\"name\":\"regnetx\",\"orientation\":\"v\",\"showlegend\":true,\"x\":[0.00024360298559819148,0.0005616052925682772,0.000777339013090389,0.0009664356885371063,0.0009664356885371063,0.001464707864016522,0.001464707864016522,0.0022606533288120267,0.0032375032375032376,0.0032375032375032376,0.005512375282509233,0.005512375282509233,0.007702973347712218,0.00929368029739777,0.00929368029739777,0.010634903754121025,0.020807324178110695,0.020807324178110695],\"xaxis\":\"x\",\"y\":[68.76,72.432,73.884,77.288,75.062,79.452,76.924,78.494,80.926,78.166,81.56,79.216,79.06,82.576,79.858,79.608,82.824,80.262],\"yaxis\":\"y\",\"type\":\"scatter\"},{\"customdata\":[[224],[224],[224],[224],[224],[224],[224],[224],[224],[224],[224],[224],[224],[224],[224],[224],[224],[224],[224],[224],[224],[224],[224],[224],[224],[224],[224],[224],[224],[224],[224],[224],[224],[224],[224],[224],[224],[224]],\"hovertemplate\":\"\\u003cb\\u003e%{hovertext}\\u003c\\u002fb\\u003e\\u003cbr\\u003e\\u003cbr\\u003efamily=regnety\\u003cbr\\u003esecs=%{x}\\u003cbr\\u003etop1=%{y}\\u003cbr\\u003esize=%{marker.size}\\u003cbr\\u003etrain_img_size=%{customdata[0]}\\u003cextra\\u003e\\u003c\\u002fextra\\u003e\",\"hovertext\":[\"regnety_002\",\"regnety_004\",\"regnety_004\",\"regnety_006\",\"regnety_008\",\"regnety_016\",\"regnety_016\",\"regnety_032\",\"regnety_032\",\"regnety_032\",\"regnety_032\",\"regnety_040\",\"regnety_040\",\"regnety_040\",\"regnety_064\",\"regnety_064\",\"regnety_064\",\"regnety_080\",\"regnety_080\",\"regnety_080\",\"regnety_120\",\"regnety_120\",\"regnety_120\",\"regnety_160\",\"regnety_160\",\"regnety_160\",\"regnety_160\",\"regnety_160\",\"regnety_160\",\"regnety_160\",\"regnety_160\",\"regnety_160\",\"regnety_160\",\"regnety_320\",\"regnety_320\",\"regnety_320\",\"regnety_320\",\"regnety_320\"],\"legendgroup\":\"regnety\",\"marker\":{\"color\":\"#FFA15A\",\"size\":[50176,50176,50176,50176,50176,50176,50176,50176,50176,50176,50176,50176,50176,50176,50176,50176,50176,50176,50176,50176,50176,50176,50176,50176,50176,50176,50176,50176,50176,50176,50176,50176,50176,50176,50176,50176,50176,50176],\"sizemode\":\"area\",\"sizeref\":655.36,\"symbol\":\"circle\"},\"mode\":\"markers\",\"name\":\"regnety\",\"orientation\":\"v\",\"showlegend\":true,\"x\":[0.0002647036245867315,0.0004794415464866523,0.0004794415464866523,0.0007345217895888881,0.0010067451927917046,0.0015382958758287568,0.0015382958758287568,0.002012679883264567,0.002012679883264567,0.002012679883264567,0.002012679883264567,0.005259282633848743,0.005259282633848743,0.005259282633848743,0.008372404554588079,0.008372404554588079,0.008372404554588079,0.00848320325755005,0.00848320325755005,0.00848320325755005,0.01086130118388183,0.01086130118388183,0.01086130118388183,0.01201345506967804,0.01201345506967804,0.01201345506967804,0.01201345506967804,0.01201345506967804,0.01201345506967804,0.01201345506967804,0.01201345506967804,0.01201345506967804,0.01201345506967804,0.015076134479119555,0.015076134479119555,0.015076134479119555,0.015076134479119555,0.015076134479119555],\"xaxis\":\"x\",\"y\":[70.294,75.588,74.006,75.262,76.334,80.696,77.908,82.724,81.942,81.798,78.896,83.058,82.316,79.236,83.712,83.006,79.728,83.94,83.162,79.882,85.442,84.986,80.382,86.032,86.018,86.01,85.602,85.594,83.808,83.7,82.994,82.646,80.284,86.86,84.632,83.326,83.174,80.796],\"yaxis\":\"y\",\"type\":\"scatter\"},{\"customdata\":[[224],[224],[224],[224],[224],[224],[224],[224],[224],[224],[224],[224],[224],[224],[224],[224],[224],[256],[256],[256],[256],[256],[256],[256],[256]],\"hovertemplate\":\"\\u003cb\\u003e%{hovertext}\\u003c\\u002fb\\u003e\\u003cbr\\u003e\\u003cbr\\u003efamily=resnetd\\u003cbr\\u003esecs=%{x}\\u003cbr\\u003etop1=%{y}\\u003cbr\\u003esize=%{marker.size}\\u003cbr\\u003etrain_img_size=%{customdata[0]}\\u003cextra\\u003e\\u003c\\u002fextra\\u003e\",\"hovertext\":[\"resnet18d\",\"resnet18d\",\"resnet34d\",\"resnet34d\",\"resnet26d\",\"resnet26d\",\"resnet50d\",\"resnet50d\",\"resnet50d\",\"resnet50d\",\"resnet50d\",\"resnet50d\",\"resnet50d\",\"resnet50d\",\"resnet50d\",\"resnet50d\",\"resnet50d\",\"resnet101d\",\"resnet101d\",\"resnet101d\",\"resnet152d\",\"resnet152d\",\"resnet152d\",\"resnet200d\",\"resnet200d\"],\"legendgroup\":\"resnetd\",\"marker\":{\"color\":\"#19d3f3\",\"size\":[50176,50176,50176,50176,50176,50176,50176,50176,50176,50176,50176,50176,50176,50176,50176,50176,50176,65536,65536,65536,65536,65536,65536,65536,65536],\"sizemode\":\"area\",\"sizeref\":655.36,\"symbol\":\"circle\"},\"mode\":\"markers\",\"name\":\"resnetd\",\"orientation\":\"v\",\"showlegend\":true,\"x\":[0.0003477897958473898,0.0003477897958473898,0.0005515233073749696,0.0005515233073749696,0.00061602528167756,0.00061602528167756,0.0009276437847866419,0.0009276437847866419,0.0009276437847866419,0.0009276437847866419,0.0009276437847866419,0.0009276437847866419,0.0009276437847866419,0.0009276437847866419,0.0009276437847866419,0.0009276437847866419,0.0009276437847866419,0.001908943399828195,0.001908943399828195,0.001908943399828195,0.002796889858477373,0.002796889858477373,0.002796889858477373,0.003743916136278547,0.003743916136278547],\"xaxis\":\"x\",\"y\":[73.794,72.268,78.44,77.104,77.424,76.698,81.83,81.444,81.35,81.168,80.956,80.73,80.548,80.268,79.08,78.742,77.222,83.018,82.252,80.466,83.684,83.156,80.476,83.976,83.24],\"yaxis\":\"y\",\"type\":\"scatter\"},{\"customdata\":[[224],[224],[224],[224],[224],[224],[240],[224],[224],[224],[224],[240],[256],[256],[260],[300],[288],[288],[300],[300],[320],[320],[456]],\"hovertemplate\":\"\\u003cb\\u003e%{hovertext}\\u003c\\u002fb\\u003e\\u003cbr\\u003e\\u003cbr\\u003efamily=efficientnet\\u003cbr\\u003esecs=%{x}\\u003cbr\\u003etop1=%{y}\\u003cbr\\u003esize=%{marker.size}\\u003cbr\\u003etrain_img_size=%{customdata[0]}\\u003cextra\\u003e\\u003c\\u002fextra\\u003e\",\"hovertext\":[\"efficientnet_lite0\",\"efficientnet_b0\",\"efficientnet_b0\",\"efficientnet_b0\",\"efficientnet_es_pruned\",\"efficientnet_es\",\"efficientnet_b1_pruned\",\"efficientnet_b1\",\"efficientnet_b1\",\"efficientnet_b1\",\"efficientnet_b1\",\"efficientnet_em\",\"efficientnet_b2\",\"efficientnet_b2\",\"efficientnet_b2_pruned\",\"efficientnet_b3_pruned\",\"efficientnet_b3\",\"efficientnet_b3\",\"efficientnet_el_pruned\",\"efficientnet_el\",\"efficientnet_b4\",\"efficientnet_b4\",\"efficientnet_b5\"],\"legendgroup\":\"efficientnet\",\"marker\":{\"color\":\"#FF6692\",\"size\":[50176,50176,50176,50176,50176,50176,57600,50176,50176,50176,50176,57600,65536,65536,67600,90000,82944,82944,90000,90000,102400,102400,207936],\"sizemode\":\"area\",\"sizeref\":655.36,\"symbol\":\"circle\"},\"mode\":\"markers\",\"name\":\"efficientnet\",\"orientation\":\"v\",\"showlegend\":true,\"x\":[0.00048093570851448573,0.0005708674902381659,0.0005708674902381659,0.0005708674902381659,0.0005926558092122419,0.0005930811157041949,0.0006911709818774969,0.000754233133461553,0.000754233133461553,0.000754233133461553,0.000754233133461553,0.0009928613270584496,0.0010217844443536192,0.0010217844443536192,0.0011442956860052637,0.001384600473533362,0.001747701772169597,0.001747701772169597,0.00216459586995108,0.00216464272571812,0.002816980760021409,0.002816980760021409,0.008800492827598346],\"xaxis\":\"x\",\"y\":[75.49,79.37,78.572,77.696,75.0,78.092,78.252,81.434,80.404,78.798,77.594,79.264,80.61,79.34,79.908,80.872,82.298,81.474,80.294,81.306,83.474,82.654,85.892],\"yaxis\":\"y\",\"type\":\"scatter\"},{\"customdata\":[[256],[256],[256],[256],[256],[256],[256],[256],[256],[256],[256],[256],[256]],\"hovertemplate\":\"\\u003cb\\u003e%{hovertext}\\u003c\\u002fb\\u003e\\u003cbr\\u003e\\u003cbr\\u003efamily=mobilevitv2\\u003cbr\\u003esecs=%{x}\\u003cbr\\u003etop1=%{y}\\u003cbr\\u003esize=%{marker.size}\\u003cbr\\u003etrain_img_size=%{customdata[0]}\\u003cextra\\u003e\\u003c\\u002fextra\\u003e\",\"hovertext\":[\"mobilevitv2_050\",\"mobilevitv2_075\",\"mobilevitv2_100\",\"mobilevitv2_125\",\"mobilevitv2_150\",\"mobilevitv2_150\",\"mobilevitv2_150\",\"mobilevitv2_175\",\"mobilevitv2_175\",\"mobilevitv2_175\",\"mobilevitv2_200\",\"mobilevitv2_200\",\"mobilevitv2_200\"],\"legendgroup\":\"mobilevitv2\",\"marker\":{\"color\":\"#B6E880\",\"size\":[65536,65536,65536,65536,65536,65536,65536,65536,65536,65536,65536,65536,65536],\"sizemode\":\"area\",\"sizeref\":655.36,\"symbol\":\"circle\"},\"mode\":\"markers\",\"name\":\"mobilevitv2\",\"orientation\":\"v\",\"showlegend\":true,\"x\":[0.0005479842399732584,0.0008515784005654481,0.001101989090308006,0.0016115775732864902,0.0018748359518542127,0.0018748359518542127,0.0018748359518542127,0.002299484915378955,0.002299484915378955,0.002299484915378955,0.0024645110410094636,0.0024645110410094636,0.0024645110410094636],\"xaxis\":\"x\",\"y\":[70.158,75.604,78.092,79.678,82.606,81.47,80.404,82.928,81.944,80.874,83.41,82.322,81.148],\"yaxis\":\"y\",\"type\":\"scatter\"},{\"customdata\":[[160],[160],[192],[192],[256],[256],[256],[256],[256],[256],[288],[288],[320],[320]],\"hovertemplate\":\"\\u003cb\\u003e%{hovertext}\\u003c\\u002fb\\u003e\\u003cbr\\u003e\\u003cbr\\u003efamily=resnetrs\\u003cbr\\u003esecs=%{x}\\u003cbr\\u003etop1=%{y}\\u003cbr\\u003esize=%{marker.size}\\u003cbr\\u003etrain_img_size=%{customdata[0]}\\u003cextra\\u003e\\u003c\\u002fextra\\u003e\",\"hovertext\":[\"resnetrs50\",\"resnetrs50\",\"resnetrs101\",\"resnetrs101\",\"resnetrs152\",\"resnetrs152\",\"resnetrs200\",\"resnetrs200\",\"resnetrs270\",\"resnetrs270\",\"resnetrs350\",\"resnetrs350\",\"resnetrs420\",\"resnetrs420\"],\"legendgroup\":\"resnetrs\",\"marker\":{\"color\":\"#FF97FF\",\"size\":[25600,25600,36864,36864,65536,65536,65536,65536,65536,65536,82944,82944,102400,102400],\"sizemode\":\"area\",\"sizeref\":655.36,\"symbol\":\"circle\"},\"mode\":\"markers\",\"name\":\"resnetrs\",\"orientation\":\"v\",\"showlegend\":true,\"x\":[0.0005929615464437131,0.0005929615464437131,0.0013998348194913,0.0013998348194913,0.0035428328491461775,0.0035428328491461775,0.004954419342053111,0.004954419342053111,0.006937699458859443,0.006937699458859443,0.01188495364868077,0.01188495364868077,0.017702248185519562,0.017702248185519562],\"xaxis\":\"x\",\"y\":[79.916,77.85,82.294,80.71,83.71,82.886,84.446,83.886,84.44,83.594,84.722,84.308,85.014,84.25],\"yaxis\":\"y\",\"type\":\"scatter\"},{\"customdata\":[[256],[256],[256]],\"hovertemplate\":\"\\u003cb\\u003e%{hovertext}\\u003c\\u002fb\\u003e\\u003cbr\\u003e\\u003cbr\\u003efamily=mobilevit\\u003cbr\\u003esecs=%{x}\\u003cbr\\u003etop1=%{y}\\u003cbr\\u003esize=%{marker.size}\\u003cbr\\u003etrain_img_size=%{customdata[0]}\\u003cextra\\u003e\\u003c\\u002fextra\\u003e\",\"hovertext\":[\"mobilevit_xxs\",\"mobilevit_xs\",\"mobilevit_s\"],\"legendgroup\":\"mobilevit\",\"marker\":{\"color\":\"#FECB52\",\"size\":[65536,65536,65536],\"sizemode\":\"area\",\"sizeref\":655.36,\"symbol\":\"circle\"},\"mode\":\"markers\",\"name\":\"mobilevit\",\"orientation\":\"v\",\"showlegend\":true,\"x\":[0.0006239042681290983,0.001081665765278529,0.001364256480218281],\"xaxis\":\"x\",\"y\":[68.928,74.632,78.302],\"yaxis\":\"y\",\"type\":\"scatter\"},{\"customdata\":[[224],[224],[224],[224],[224],[224],[224],[224]],\"hovertemplate\":\"\\u003cb\\u003e%{hovertext}\\u003c\\u002fb\\u003e\\u003cbr\\u003e\\u003cbr\\u003efamily=repvgg\\u003cbr\\u003esecs=%{x}\\u003cbr\\u003etop1=%{y}\\u003cbr\\u003esize=%{marker.size}\\u003cbr\\u003etrain_img_size=%{customdata[0]}\\u003cextra\\u003e\\u003c\\u002fextra\\u003e\",\"hovertext\":[\"repvgg_b0\",\"repvgg_a2\",\"repvgg_b1\",\"repvgg_b2\",\"repvgg_b3\",\"repvgg_b1g4\",\"repvgg_b2g4\",\"repvgg_b3g4\"],\"legendgroup\":\"repvgg\",\"marker\":{\"color\":\"#636efa\",\"size\":[50176,50176,50176,50176,50176,50176,50176,50176],\"sizemode\":\"area\",\"sizeref\":655.36,\"symbol\":\"circle\"},\"mode\":\"markers\",\"name\":\"repvgg\",\"orientation\":\"v\",\"showlegend\":true,\"x\":[0.0006501654671113799,0.0008231333393696446,0.001603720631865929,0.0028405056099985795,0.003158859020121932,0.005966943135031923,0.007478312892611427,0.009193711501333088],\"xaxis\":\"x\",\"y\":[75.162,76.492,78.372,78.794,80.518,77.602,79.396,80.248],\"yaxis\":\"y\",\"type\":\"scatter\"},{\"customdata\":[[240],[240],[240],[240],[240],[240],[240],[240],[240],[408],[408]],\"hovertemplate\":\"\\u003cb\\u003e%{hovertext}\\u003c\\u002fb\\u003e\\u003cbr\\u003e\\u003cbr\\u003efamily=crossvit\\u003cbr\\u003esecs=%{x}\\u003cbr\\u003etop1=%{y}\\u003cbr\\u003esize=%{marker.size}\\u003cbr\\u003etrain_img_size=%{customdata[0]}\\u003cextra\\u003e\\u003c\\u002fextra\\u003e\",\"hovertext\":[\"crossvit_tiny_240\",\"crossvit_9_240\",\"crossvit_9_dagger_240\",\"crossvit_small_240\",\"crossvit_15_240\",\"crossvit_15_dagger_240\",\"crossvit_18_240\",\"crossvit_18_dagger_240\",\"crossvit_base_240\",\"crossvit_15_dagger_408\",\"crossvit_18_dagger_408\"],\"legendgroup\":\"crossvit\",\"marker\":{\"color\":\"#EF553B\",\"size\":[57600,57600,57600,57600,57600,57600,57600,57600,57600,166464,166464],\"sizemode\":\"area\",\"sizeref\":655.36,\"symbol\":\"circle\"},\"mode\":\"markers\",\"name\":\"crossvit\",\"orientation\":\"v\",\"showlegend\":true,\"x\":[0.0007418342593897672,0.0007944515503722006,0.0008207619954365632,0.0015654351909830935,0.0017227715949419424,0.001777809383277925,0.0024716990459241685,0.0025232772324695315,0.003927729772191673,0.008484642796538266,0.0112145340361108],\"xaxis\":\"x\",\"y\":[73.33,73.976,76.986,81.04,81.518,82.306,82.386,82.504,82.228,83.84,84.202],\"yaxis\":\"y\",\"type\":\"scatter\"},{\"customdata\":[[224],[224],[224],[224]],\"hovertemplate\":\"\\u003cb\\u003e%{hovertext}\\u003c\\u002fb\\u003e\\u003cbr\\u003e\\u003cbr\\u003efamily=resnetv2\\u003cbr\\u003esecs=%{x}\\u003cbr\\u003etop1=%{y}\\u003cbr\\u003esize=%{marker.size}\\u003cbr\\u003etrain_img_size=%{customdata[0]}\\u003cextra\\u003e\\u003c\\u002fextra\\u003e\",\"hovertext\":[\"resnetv2_50\",\"resnetv2_50\",\"resnetv2_101\",\"resnetv2_101\"],\"legendgroup\":\"resnetv2\",\"marker\":{\"color\":\"#00cc96\",\"size\":[50176,50176,50176,50176],\"sizemode\":\"area\",\"sizeref\":655.36,\"symbol\":\"circle\"},\"mode\":\"markers\",\"name\":\"resnetv2\",\"orientation\":\"v\",\"showlegend\":true,\"x\":[0.0007760299857986513,0.0007760299857986513,0.0012945821736034693,0.0012945821736034693],\"xaxis\":\"x\",\"y\":[81.408,80.406,83.002,82.042],\"yaxis\":\"y\",\"type\":\"scatter\"},{\"customdata\":[[224],[224],[224],[224],[224],[224],[224],[224],[224],[224],[224],[224],[224],[224],[224],[224],[224],[224],[224],[224],[224],[224],[224],[224],[224],[224],[224],[224],[224],[224],[224],[224],[224],[224],[224],[224],[224],[224]],\"hovertemplate\":\"\\u003cb\\u003e%{hovertext}\\u003c\\u002fb\\u003e\\u003cbr\\u003e\\u003cbr\\u003efamily=convnext\\u003cbr\\u003esecs=%{x}\\u003cbr\\u003etop1=%{y}\\u003cbr\\u003esize=%{marker.size}\\u003cbr\\u003etrain_img_size=%{customdata[0]}\\u003cextra\\u003e\\u003c\\u002fextra\\u003e\",\"hovertext\":[\"convnext_nano_ols\",\"convnext_nano_ols\",\"convnext_nano\",\"convnext_nano\",\"convnext_nano\",\"convnext_nano\",\"convnext_tiny_hnf\",\"convnext_tiny_hnf\",\"convnext_tiny\",\"convnext_tiny\",\"convnext_tiny\",\"convnext_tiny\",\"convnext_tiny\",\"convnext_tiny\",\"convnext_tiny\",\"convnext_tiny\",\"convnext_small\",\"convnext_small\",\"convnext_small\",\"convnext_small\",\"convnext_small\",\"convnext_small\",\"convnext_small\",\"convnext_small\",\"convnext_base\",\"convnext_base\",\"convnext_base\",\"convnext_base\",\"convnext_base\",\"convnext_base\",\"convnext_base\",\"convnext_base\",\"convnext_base\",\"convnext_large\",\"convnext_large\",\"convnext_large\",\"convnext_large\",\"convnext_large\"],\"legendgroup\":\"convnext\",\"marker\":{\"color\":\"#ab63fa\",\"size\":[50176,50176,50176,50176,50176,50176,50176,50176,50176,50176,50176,50176,50176,50176,50176,50176,50176,50176,50176,50176,50176,50176,50176,50176,50176,50176,50176,50176,50176,50176,50176,50176,50176,50176,50176,50176,50176,50176],\"sizemode\":\"area\",\"sizeref\":655.36,\"symbol\":\"circle\"},\"mode\":\"markers\",\"name\":\"convnext\",\"orientation\":\"v\",\"showlegend\":true,\"x\":[0.0007985115744252714,0.0007985115744252714,0.0008000704061957452,0.0008000704061957452,0.0008000704061957452,0.0008000704061957452,0.0012203158177336293,0.0012203158177336293,0.0012206435232654655,0.0012206435232654655,0.0012206435232654655,0.0012206435232654655,0.0012206435232654655,0.0012206435232654655,0.0012206435232654655,0.0012206435232654655,0.0020527558246946527,0.0020527558246946527,0.0020527558246946527,0.0020527558246946527,0.0020527558246946527,0.0020527558246946527,0.0020527558246946527,0.0020527558246946527,0.002952639659855911,0.002952639659855911,0.002952639659855911,0.002952639659855911,0.002952639659855911,0.002952639659855911,0.002952639659855911,0.002952639659855911,0.002952639659855911,0.005321130208056191,0.005321130208056191,0.005321130208056191,0.005321130208056191,0.005321130208056191],\"xaxis\":\"x\",\"y\":[81.612,80.906,82.882,82.306,81.474,80.762,82.608,82.23,85.154,84.448,84.192,84.098,82.888,82.694,82.066,78.95,86.186,85.754,85.324,85.276,85.164,84.582,83.704,83.144,87.15,86.826,86.488,86.386,86.298,86.184,85.816,84.466,83.834,87.456,87.014,86.612,84.862,84.298],\"yaxis\":\"y\",\"type\":\"scatter\"},{\"customdata\":[[224],[224],[224]],\"hovertemplate\":\"\\u003cb\\u003e%{hovertext}\\u003c\\u002fb\\u003e\\u003cbr\\u003e\\u003cbr\\u003efamily=convit\\u003cbr\\u003esecs=%{x}\\u003cbr\\u003etop1=%{y}\\u003cbr\\u003esize=%{marker.size}\\u003cbr\\u003etrain_img_size=%{customdata[0]}\\u003cextra\\u003e\\u003c\\u002fextra\\u003e\",\"hovertext\":[\"convit_tiny\",\"convit_small\",\"convit_base\"],\"legendgroup\":\"convit\",\"marker\":{\"color\":\"#FFA15A\",\"size\":[50176,50176,50176],\"sizemode\":\"area\",\"sizeref\":655.36,\"symbol\":\"circle\"},\"mode\":\"markers\",\"name\":\"convit\",\"orientation\":\"v\",\"showlegend\":true,\"x\":[0.0008936710218234463,0.002199155524278677,0.004327880204275945],\"xaxis\":\"x\",\"y\":[73.126,81.414,82.294],\"yaxis\":\"y\",\"type\":\"scatter\"},{\"customdata\":[[224],[224],[288],[288],[320],[320]],\"hovertemplate\":\"\\u003cb\\u003e%{hovertext}\\u003c\\u002fb\\u003e\\u003cbr\\u003e\\u003cbr\\u003efamily=efficientnetv2\\u003cbr\\u003esecs=%{x}\\u003cbr\\u003etop1=%{y}\\u003cbr\\u003esize=%{marker.size}\\u003cbr\\u003etrain_img_size=%{customdata[0]}\\u003cextra\\u003e\\u003c\\u002fextra\\u003e\",\"hovertext\":[\"efficientnetv2_rw_t\",\"efficientnetv2_rw_t\",\"efficientnetv2_rw_s\",\"efficientnetv2_rw_s\",\"efficientnetv2_rw_m\",\"efficientnetv2_rw_m\"],\"legendgroup\":\"efficientnetv2\",\"marker\":{\"color\":\"#19d3f3\",\"size\":[50176,50176,82944,82944,102400,102400],\"sizemode\":\"area\",\"sizeref\":655.36,\"symbol\":\"circle\"},\"mode\":\"markers\",\"name\":\"efficientnetv2\",\"orientation\":\"v\",\"showlegend\":true,\"x\":[0.0009100340352729192,0.0009100340352729192,0.0019202335003936479,0.0019202335003936479,0.0044551367726989215,0.0044551367726989215],\"xaxis\":\"x\",\"y\":[82.354,81.372,83.83,82.888,84.824,84.294],\"yaxis\":\"y\",\"type\":\"scatter\"},{\"customdata\":[[224],[224]],\"hovertemplate\":\"\\u003cb\\u003e%{hovertext}\\u003c\\u002fb\\u003e\\u003cbr\\u003e\\u003cbr\\u003efamily=resnetaa\\u003cbr\\u003esecs=%{x}\\u003cbr\\u003etop1=%{y}\\u003cbr\\u003esize=%{marker.size}\\u003cbr\\u003etrain_img_size=%{customdata[0]}\\u003cextra\\u003e\\u003c\\u002fextra\\u003e\",\"hovertext\":[\"resnetaa50\",\"resnetaa50\"],\"legendgroup\":\"resnetaa\",\"marker\":{\"color\":\"#FF6692\",\"size\":[50176,50176],\"sizemode\":\"area\",\"sizeref\":655.36,\"symbol\":\"circle\"},\"mode\":\"markers\",\"name\":\"resnetaa\",\"orientation\":\"v\",\"showlegend\":true,\"x\":[0.0009454208540931996,0.0009454208540931996],\"xaxis\":\"x\",\"y\":[81.604,80.614],\"yaxis\":\"y\",\"type\":\"scatter\"},{\"customdata\":[[224],[224],[224],[224],[224],[224],[224],[224]],\"hovertemplate\":\"\\u003cb\\u003e%{hovertext}\\u003c\\u002fb\\u003e\\u003cbr\\u003e\\u003cbr\\u003efamily=vgg\\u003cbr\\u003esecs=%{x}\\u003cbr\\u003etop1=%{y}\\u003cbr\\u003esize=%{marker.size}\\u003cbr\\u003etrain_img_size=%{customdata[0]}\\u003cextra\\u003e\\u003c\\u002fextra\\u003e\",\"hovertext\":[\"vgg11\",\"vgg11_bn\",\"vgg13\",\"vgg13_bn\",\"vgg16\",\"vgg16_bn\",\"vgg19\",\"vgg19_bn\"],\"legendgroup\":\"vgg\",\"marker\":{\"color\":\"#B6E880\",\"size\":[50176,50176,50176,50176,50176,50176,50176,50176],\"sizemode\":\"area\",\"sizeref\":655.36,\"symbol\":\"circle\"},\"mode\":\"markers\",\"name\":\"vgg\",\"orientation\":\"v\",\"showlegend\":true,\"x\":[0.0010481850675555277,0.0012008550087662414,0.00147612369916599,0.0017437703803163198,0.00183130058967879,0.00212630236019562,0.0021864136257297153,0.002509410288582183],\"xaxis\":\"x\",\"y\":[69.048,70.384,69.94,71.556,71.6,73.356,72.4,74.236],\"yaxis\":\"y\",\"type\":\"scatter\"},{\"customdata\":[[224],[224],[224],[224]],\"hovertemplate\":\"\\u003cb\\u003e%{hovertext}\\u003c\\u002fb\\u003e\\u003cbr\\u003e\\u003cbr\\u003efamily=resnetaad\\u003cbr\\u003esecs=%{x}\\u003cbr\\u003etop1=%{y}\\u003cbr\\u003esize=%{marker.size}\\u003cbr\\u003etrain_img_size=%{customdata[0]}\\u003cextra\\u003e\\u003c\\u002fextra\\u003e\",\"hovertext\":[\"resnetaa50d\",\"resnetaa50d\",\"resnetaa101d\",\"resnetaa101d\"],\"legendgroup\":\"resnetaad\",\"marker\":{\"color\":\"#FF97FF\",\"size\":[50176,50176,50176,50176],\"sizemode\":\"area\",\"sizeref\":655.36,\"symbol\":\"circle\"},\"mode\":\"markers\",\"name\":\"resnetaad\",\"orientation\":\"v\",\"showlegend\":true,\"x\":[0.0010517569600016828,0.0010517569600016828,0.0015751504268657656,0.0015751504268657656],\"xaxis\":\"x\",\"y\":[82.644,81.782,84.102,83.544],\"yaxis\":\"y\",\"type\":\"scatter\"},{\"customdata\":[[224],[224]],\"hovertemplate\":\"\\u003cb\\u003e%{hovertext}\\u003c\\u002fb\\u003e\\u003cbr\\u003e\\u003cbr\\u003efamily=resnetblur\\u003cbr\\u003esecs=%{x}\\u003cbr\\u003etop1=%{y}\\u003cbr\\u003esize=%{marker.size}\\u003cbr\\u003etrain_img_size=%{customdata[0]}\\u003cextra\\u003e\\u003c\\u002fextra\\u003e\",\"hovertext\":[\"resnetblur50\",\"resnetblur50\"],\"legendgroup\":\"resnetblur\",\"marker\":{\"color\":\"#FECB52\",\"size\":[50176,50176],\"sizemode\":\"area\",\"sizeref\":655.36,\"symbol\":\"circle\"},\"mode\":\"markers\",\"name\":\"resnetblur\",\"orientation\":\"v\",\"showlegend\":true,\"x\":[0.0010965994451206807,0.0010965994451206807],\"xaxis\":\"x\",\"y\":[80.248,79.306],\"yaxis\":\"y\",\"type\":\"scatter\"},{\"customdata\":[[224],[224],[256],[256],[256],[256],[256],[256],[256],[256],[256],[256],[256],[256],[256],[256]],\"hovertemplate\":\"\\u003cb\\u003e%{hovertext}\\u003c\\u002fb\\u003e\\u003cbr\\u003e\\u003cbr\\u003efamily=regnetz\\u003cbr\\u003esecs=%{x}\\u003cbr\\u003etop1=%{y}\\u003cbr\\u003esize=%{marker.size}\\u003cbr\\u003etrain_img_size=%{customdata[0]}\\u003cextra\\u003e\\u003c\\u002fextra\\u003e\",\"hovertext\":[\"regnetz_b16\",\"regnetz_b16\",\"regnetz_d8\",\"regnetz_d8\",\"regnetz_c16\",\"regnetz_c16\",\"regnetz_d32\",\"regnetz_d32\",\"regnetz_040\",\"regnetz_040\",\"regnetz_e8\",\"regnetz_e8\",\"regnetz_c16_evos\",\"regnetz_c16_evos\",\"regnetz_d8_evos\",\"regnetz_d8_evos\"],\"legendgroup\":\"regnetz\",\"marker\":{\"color\":\"#636efa\",\"size\":[50176,50176,65536,65536,65536,65536,65536,65536,65536,65536,65536,65536,65536,65536,65536,65536],\"sizemode\":\"area\",\"sizeref\":655.36,\"symbol\":\"circle\"},\"mode\":\"markers\",\"name\":\"regnetz\",\"orientation\":\"v\",\"showlegend\":true,\"x\":[0.0011600255205614523,0.0011600255205614523,0.0019928258270227183,0.0019928258270227183,0.0021017675865402804,0.0021017675865402804,0.0021193175797393237,0.0021193175797393237,0.0021194972552510544,0.0021194972552510544,0.0038984834899224202,0.0038984834899224202,0.005157563566970964,0.005157563566970964,0.0064387354323610846,0.0064387354323610846],\"xaxis\":\"x\",\"y\":[80.738,79.874,84.042,83.548,82.66,82.16,84.028,83.428,84.256,83.66,85.04,84.418,82.644,81.942,84.152,83.394],\"yaxis\":\"y\",\"type\":\"scatter\"},{\"customdata\":[[224],[224]],\"hovertemplate\":\"\\u003cb\\u003e%{hovertext}\\u003c\\u002fb\\u003e\\u003cbr\\u003e\\u003cbr\\u003efamily=resnetv2d\\u003cbr\\u003esecs=%{x}\\u003cbr\\u003etop1=%{y}\\u003cbr\\u003esize=%{marker.size}\\u003cbr\\u003etrain_img_size=%{customdata[0]}\\u003cextra\\u003e\\u003c\\u002fextra\\u003e\",\"hovertext\":[\"resnetv2_50d_evos\",\"resnetv2_50d_evos\"],\"legendgroup\":\"resnetv2d\",\"marker\":{\"color\":\"#EF553B\",\"size\":[50176,50176],\"sizemode\":\"area\",\"sizeref\":655.36,\"symbol\":\"circle\"},\"mode\":\"markers\",\"name\":\"resnetv2d\",\"orientation\":\"v\",\"showlegend\":true,\"x\":[0.002671867902850883,0.002671867902850883],\"xaxis\":\"x\",\"y\":[82.0,80.828],\"yaxis\":\"y\",\"type\":\"scatter\"},{\"customdata\":[[224],[224],[384],[384],[512]],\"hovertemplate\":\"\\u003cb\\u003e%{hovertext}\\u003c\\u002fb\\u003e\\u003cbr\\u003e\\u003cbr\\u003efamily=beit\\u003cbr\\u003esecs=%{x}\\u003cbr\\u003etop1=%{y}\\u003cbr\\u003esize=%{marker.size}\\u003cbr\\u003etrain_img_size=%{customdata[0]}\\u003cextra\\u003e\\u003c\\u002fextra\\u003e\",\"hovertext\":[\"beit_base_patch16_224\",\"beit_large_patch16_224\",\"beit_base_patch16_384\",\"beit_large_patch16_384\",\"beit_large_patch16_512\"],\"legendgroup\":\"beit\",\"marker\":{\"color\":\"#00cc96\",\"size\":[50176,50176,147456,147456,262144],\"sizemode\":\"area\",\"sizeref\":655.36,\"symbol\":\"circle\"},\"mode\":\"markers\",\"name\":\"beit\",\"orientation\":\"v\",\"showlegend\":true,\"x\":[0.0027873010563871006,0.0091726288754357,0.011923214498628829,0.039525691699604744,0.10615711252653928],\"xaxis\":\"x\",\"y\":[85.244,87.488,86.816,88.382,88.578],\"yaxis\":\"y\",\"type\":\"scatter\"},{\"customdata\":[[224],[224],[224],[224]],\"hovertemplate\":\"\\u003cb\\u003e%{hovertext}\\u003c\\u002fb\\u003e\\u003cbr\\u003e\\u003cbr\\u003efamily=regnetv\\u003cbr\\u003esecs=%{x}\\u003cbr\\u003etop1=%{y}\\u003cbr\\u003esize=%{marker.size}\\u003cbr\\u003etrain_img_size=%{customdata[0]}\\u003cextra\\u003e\\u003c\\u002fextra\\u003e\",\"hovertext\":[\"regnetv_040\",\"regnetv_040\",\"regnetv_064\",\"regnetv_064\"],\"legendgroup\":\"regnetv\",\"marker\":{\"color\":\"#ab63fa\",\"size\":[50176,50176,50176,50176],\"sizemode\":\"area\",\"sizeref\":655.36,\"symbol\":\"circle\"},\"mode\":\"markers\",\"name\":\"regnetv\",\"orientation\":\"v\",\"showlegend\":true,\"x\":[0.005310956503266238,0.005310956503266238,0.00854481756814492,0.00854481756814492],\"xaxis\":\"x\",\"y\":[83.2,82.448,83.748,83.118],\"yaxis\":\"y\",\"type\":\"scatter\"}],                        {\"template\":{\"data\":{\"histogram2dcontour\":[{\"type\":\"histogram2dcontour\",\"colorbar\":{\"outlinewidth\":0,\"ticks\":\"\"},\"colorscale\":[[0.0,\"#0d0887\"],[0.1111111111111111,\"#46039f\"],[0.2222222222222222,\"#7201a8\"],[0.3333333333333333,\"#9c179e\"],[0.4444444444444444,\"#bd3786\"],[0.5555555555555556,\"#d8576b\"],[0.6666666666666666,\"#ed7953\"],[0.7777777777777778,\"#fb9f3a\"],[0.8888888888888888,\"#fdca26\"],[1.0,\"#f0f921\"]]}],\"choropleth\":[{\"type\":\"choropleth\",\"colorbar\":{\"outlinewidth\":0,\"ticks\":\"\"}}],\"histogram2d\":[{\"type\":\"histogram2d\",\"colorbar\":{\"outlinewidth\":0,\"ticks\":\"\"},\"colorscale\":[[0.0,\"#0d0887\"],[0.1111111111111111,\"#46039f\"],[0.2222222222222222,\"#7201a8\"],[0.3333333333333333,\"#9c179e\"],[0.4444444444444444,\"#bd3786\"],[0.5555555555555556,\"#d8576b\"],[0.6666666666666666,\"#ed7953\"],[0.7777777777777778,\"#fb9f3a\"],[0.8888888888888888,\"#fdca26\"],[1.0,\"#f0f921\"]]}],\"heatmap\":[{\"type\":\"heatmap\",\"colorbar\":{\"outlinewidth\":0,\"ticks\":\"\"},\"colorscale\":[[0.0,\"#0d0887\"],[0.1111111111111111,\"#46039f\"],[0.2222222222222222,\"#7201a8\"],[0.3333333333333333,\"#9c179e\"],[0.4444444444444444,\"#bd3786\"],[0.5555555555555556,\"#d8576b\"],[0.6666666666666666,\"#ed7953\"],[0.7777777777777778,\"#fb9f3a\"],[0.8888888888888888,\"#fdca26\"],[1.0,\"#f0f921\"]]}],\"heatmapgl\":[{\"type\":\"heatmapgl\",\"colorbar\":{\"outlinewidth\":0,\"ticks\":\"\"},\"colorscale\":[[0.0,\"#0d0887\"],[0.1111111111111111,\"#46039f\"],[0.2222222222222222,\"#7201a8\"],[0.3333333333333333,\"#9c179e\"],[0.4444444444444444,\"#bd3786\"],[0.5555555555555556,\"#d8576b\"],[0.6666666666666666,\"#ed7953\"],[0.7777777777777778,\"#fb9f3a\"],[0.8888888888888888,\"#fdca26\"],[1.0,\"#f0f921\"]]}],\"contourcarpet\":[{\"type\":\"contourcarpet\",\"colorbar\":{\"outlinewidth\":0,\"ticks\":\"\"}}],\"contour\":[{\"type\":\"contour\",\"colorbar\":{\"outlinewidth\":0,\"ticks\":\"\"},\"colorscale\":[[0.0,\"#0d0887\"],[0.1111111111111111,\"#46039f\"],[0.2222222222222222,\"#7201a8\"],[0.3333333333333333,\"#9c179e\"],[0.4444444444444444,\"#bd3786\"],[0.5555555555555556,\"#d8576b\"],[0.6666666666666666,\"#ed7953\"],[0.7777777777777778,\"#fb9f3a\"],[0.8888888888888888,\"#fdca26\"],[1.0,\"#f0f921\"]]}],\"surface\":[{\"type\":\"surface\",\"colorbar\":{\"outlinewidth\":0,\"ticks\":\"\"},\"colorscale\":[[0.0,\"#0d0887\"],[0.1111111111111111,\"#46039f\"],[0.2222222222222222,\"#7201a8\"],[0.3333333333333333,\"#9c179e\"],[0.4444444444444444,\"#bd3786\"],[0.5555555555555556,\"#d8576b\"],[0.6666666666666666,\"#ed7953\"],[0.7777777777777778,\"#fb9f3a\"],[0.8888888888888888,\"#fdca26\"],[1.0,\"#f0f921\"]]}],\"mesh3d\":[{\"type\":\"mesh3d\",\"colorbar\":{\"outlinewidth\":0,\"ticks\":\"\"}}],\"scatter\":[{\"fillpattern\":{\"fillmode\":\"overlay\",\"size\":10,\"solidity\":0.2},\"type\":\"scatter\"}],\"parcoords\":[{\"type\":\"parcoords\",\"line\":{\"colorbar\":{\"outlinewidth\":0,\"ticks\":\"\"}}}],\"scatterpolargl\":[{\"type\":\"scatterpolargl\",\"marker\":{\"colorbar\":{\"outlinewidth\":0,\"ticks\":\"\"}}}],\"bar\":[{\"error_x\":{\"color\":\"#2a3f5f\"},\"error_y\":{\"color\":\"#2a3f5f\"},\"marker\":{\"line\":{\"color\":\"#E5ECF6\",\"width\":0.5},\"pattern\":{\"fillmode\":\"overlay\",\"size\":10,\"solidity\":0.2}},\"type\":\"bar\"}],\"scattergeo\":[{\"type\":\"scattergeo\",\"marker\":{\"colorbar\":{\"outlinewidth\":0,\"ticks\":\"\"}}}],\"scatterpolar\":[{\"type\":\"scatterpolar\",\"marker\":{\"colorbar\":{\"outlinewidth\":0,\"ticks\":\"\"}}}],\"histogram\":[{\"marker\":{\"pattern\":{\"fillmode\":\"overlay\",\"size\":10,\"solidity\":0.2}},\"type\":\"histogram\"}],\"scattergl\":[{\"type\":\"scattergl\",\"marker\":{\"colorbar\":{\"outlinewidth\":0,\"ticks\":\"\"}}}],\"scatter3d\":[{\"type\":\"scatter3d\",\"line\":{\"colorbar\":{\"outlinewidth\":0,\"ticks\":\"\"}},\"marker\":{\"colorbar\":{\"outlinewidth\":0,\"ticks\":\"\"}}}],\"scattermapbox\":[{\"type\":\"scattermapbox\",\"marker\":{\"colorbar\":{\"outlinewidth\":0,\"ticks\":\"\"}}}],\"scatterternary\":[{\"type\":\"scatterternary\",\"marker\":{\"colorbar\":{\"outlinewidth\":0,\"ticks\":\"\"}}}],\"scattercarpet\":[{\"type\":\"scattercarpet\",\"marker\":{\"colorbar\":{\"outlinewidth\":0,\"ticks\":\"\"}}}],\"carpet\":[{\"aaxis\":{\"endlinecolor\":\"#2a3f5f\",\"gridcolor\":\"white\",\"linecolor\":\"white\",\"minorgridcolor\":\"white\",\"startlinecolor\":\"#2a3f5f\"},\"baxis\":{\"endlinecolor\":\"#2a3f5f\",\"gridcolor\":\"white\",\"linecolor\":\"white\",\"minorgridcolor\":\"white\",\"startlinecolor\":\"#2a3f5f\"},\"type\":\"carpet\"}],\"table\":[{\"cells\":{\"fill\":{\"color\":\"#EBF0F8\"},\"line\":{\"color\":\"white\"}},\"header\":{\"fill\":{\"color\":\"#C8D4E3\"},\"line\":{\"color\":\"white\"}},\"type\":\"table\"}],\"barpolar\":[{\"marker\":{\"line\":{\"color\":\"#E5ECF6\",\"width\":0.5},\"pattern\":{\"fillmode\":\"overlay\",\"size\":10,\"solidity\":0.2}},\"type\":\"barpolar\"}],\"pie\":[{\"automargin\":true,\"type\":\"pie\"}]},\"layout\":{\"autotypenumbers\":\"strict\",\"colorway\":[\"#636efa\",\"#EF553B\",\"#00cc96\",\"#ab63fa\",\"#FFA15A\",\"#19d3f3\",\"#FF6692\",\"#B6E880\",\"#FF97FF\",\"#FECB52\"],\"font\":{\"color\":\"#2a3f5f\"},\"hovermode\":\"closest\",\"hoverlabel\":{\"align\":\"left\"},\"paper_bgcolor\":\"white\",\"plot_bgcolor\":\"#E5ECF6\",\"polar\":{\"bgcolor\":\"#E5ECF6\",\"angularaxis\":{\"gridcolor\":\"white\",\"linecolor\":\"white\",\"ticks\":\"\"},\"radialaxis\":{\"gridcolor\":\"white\",\"linecolor\":\"white\",\"ticks\":\"\"}},\"ternary\":{\"bgcolor\":\"#E5ECF6\",\"aaxis\":{\"gridcolor\":\"white\",\"linecolor\":\"white\",\"ticks\":\"\"},\"baxis\":{\"gridcolor\":\"white\",\"linecolor\":\"white\",\"ticks\":\"\"},\"caxis\":{\"gridcolor\":\"white\",\"linecolor\":\"white\",\"ticks\":\"\"}},\"coloraxis\":{\"colorbar\":{\"outlinewidth\":0,\"ticks\":\"\"}},\"colorscale\":{\"sequential\":[[0.0,\"#0d0887\"],[0.1111111111111111,\"#46039f\"],[0.2222222222222222,\"#7201a8\"],[0.3333333333333333,\"#9c179e\"],[0.4444444444444444,\"#bd3786\"],[0.5555555555555556,\"#d8576b\"],[0.6666666666666666,\"#ed7953\"],[0.7777777777777778,\"#fb9f3a\"],[0.8888888888888888,\"#fdca26\"],[1.0,\"#f0f921\"]],\"sequentialminus\":[[0.0,\"#0d0887\"],[0.1111111111111111,\"#46039f\"],[0.2222222222222222,\"#7201a8\"],[0.3333333333333333,\"#9c179e\"],[0.4444444444444444,\"#bd3786\"],[0.5555555555555556,\"#d8576b\"],[0.6666666666666666,\"#ed7953\"],[0.7777777777777778,\"#fb9f3a\"],[0.8888888888888888,\"#fdca26\"],[1.0,\"#f0f921\"]],\"diverging\":[[0,\"#8e0152\"],[0.1,\"#c51b7d\"],[0.2,\"#de77ae\"],[0.3,\"#f1b6da\"],[0.4,\"#fde0ef\"],[0.5,\"#f7f7f7\"],[0.6,\"#e6f5d0\"],[0.7,\"#b8e186\"],[0.8,\"#7fbc41\"],[0.9,\"#4d9221\"],[1,\"#276419\"]]},\"xaxis\":{\"gridcolor\":\"white\",\"linecolor\":\"white\",\"ticks\":\"\",\"title\":{\"standoff\":15},\"zerolinecolor\":\"white\",\"automargin\":true,\"zerolinewidth\":2},\"yaxis\":{\"gridcolor\":\"white\",\"linecolor\":\"white\",\"ticks\":\"\",\"title\":{\"standoff\":15},\"zerolinecolor\":\"white\",\"automargin\":true,\"zerolinewidth\":2},\"scene\":{\"xaxis\":{\"backgroundcolor\":\"#E5ECF6\",\"gridcolor\":\"white\",\"linecolor\":\"white\",\"showbackground\":true,\"ticks\":\"\",\"zerolinecolor\":\"white\",\"gridwidth\":2},\"yaxis\":{\"backgroundcolor\":\"#E5ECF6\",\"gridcolor\":\"white\",\"linecolor\":\"white\",\"showbackground\":true,\"ticks\":\"\",\"zerolinecolor\":\"white\",\"gridwidth\":2},\"zaxis\":{\"backgroundcolor\":\"#E5ECF6\",\"gridcolor\":\"white\",\"linecolor\":\"white\",\"showbackground\":true,\"ticks\":\"\",\"zerolinecolor\":\"white\",\"gridwidth\":2}},\"shapedefaults\":{\"line\":{\"color\":\"#2a3f5f\"}},\"annotationdefaults\":{\"arrowcolor\":\"#2a3f5f\",\"arrowhead\":0,\"arrowwidth\":1},\"geo\":{\"bgcolor\":\"white\",\"landcolor\":\"#E5ECF6\",\"subunitcolor\":\"white\",\"showland\":true,\"showlakes\":true,\"lakecolor\":\"white\"},\"title\":{\"x\":0.05},\"mapbox\":{\"style\":\"light\"}}},\"xaxis\":{\"anchor\":\"y\",\"domain\":[0.0,1.0],\"title\":{\"text\":\"secs\"},\"type\":\"log\"},\"yaxis\":{\"anchor\":\"x\",\"domain\":[0.0,1.0],\"title\":{\"text\":\"top1\"}},\"legend\":{\"title\":{\"text\":\"family\"},\"tracegroupgap\":0,\"itemsizing\":\"constant\"},\"title\":{\"text\":\"Training\"},\"height\":800,\"width\":1000},                        {\"responsive\": true}                    ).then(function(){\n",
       "                            \n",
       "var gd = document.getElementById('369338db-6f78-4262-afbc-97d112b3858a');\n",
       "var x = new MutationObserver(function (mutations, observer) {{\n",
       "        var display = window.getComputedStyle(gd).display;\n",
       "        if (!display || display === 'none') {{\n",
       "            console.log([gd, 'removed!']);\n",
       "            Plotly.purge(gd);\n",
       "            observer.disconnect();\n",
       "        }}\n",
       "}});\n",
       "\n",
       "// Listen for the removal of the full notebook cells\n",
       "var notebookContainer = gd.closest('#notebook-container');\n",
       "if (notebookContainer) {{\n",
       "    x.observe(notebookContainer, {childList: true});\n",
       "}}\n",
       "\n",
       "// Listen for the clearing of the current output cell\n",
       "var outputEl = gd.closest('.output');\n",
       "if (outputEl) {{\n",
       "    x.observe(outputEl, {childList: true});\n",
       "}}\n",
       "\n",
       "                        })                };                });            </script>        </div>"
      ]
     },
     "metadata": {},
     "output_type": "display_data"
    }
   ],
   "source": [
    "show_all(tdf, 'Training', 'train_img_size')"
   ]
  },
  {
   "cell_type": "markdown",
   "metadata": {},
   "source": [
    "...and we'll also look at our chosen subset of models:"
   ]
  },
  {
   "cell_type": "code",
   "execution_count": 113,
   "metadata": {
    "execution": {
     "iopub.execute_input": "2022-05-21T22:28:54.284502Z",
     "iopub.status.busy": "2022-05-21T22:28:54.284202Z",
     "iopub.status.idle": "2022-05-21T22:28:54.486759Z",
     "shell.execute_reply": "2022-05-21T22:28:54.485781Z",
     "shell.execute_reply.started": "2022-05-21T22:28:54.284471Z"
    },
    "trusted": true
   },
   "outputs": [
    {
     "data": {
      "application/vnd.plotly.v1+json": {
       "config": {
        "plotlyServerURL": "https://plot.ly"
       },
       "data": [
        {
         "customdata": [
          [
           224
          ],
          [
           224
          ],
          [
           224
          ],
          [
           224
          ],
          [
           224
          ]
         ],
         "hovertemplate": "<b>%{hovertext}</b><br><br>family=levit<br>secs=%{x}<br>top1=%{y}<br>size=%{marker.size}<br>train_img_size=%{customdata[0]}<extra></extra>",
         "hovertext": [
          "levit_128s",
          "levit_128",
          "levit_192",
          "levit_256",
          "levit_384"
         ],
         "legendgroup": "levit",
         "marker": {
          "color": "#636efa",
          "size": [
           50176,
           50176,
           50176,
           50176,
           50176
          ],
          "sizemode": "area",
          "sizeref": 655.36,
          "symbol": "circle"
         },
         "mode": "markers",
         "name": "levit",
         "orientation": "v",
         "showlegend": true,
         "type": "scatter",
         "x": [
          0.00015292484049939136,
          0.00021938099458567706,
          0.0002682914396250359,
          0.00033824578968553293,
          0.000555247084952804
         ],
         "xaxis": "x",
         "y": [
          76.522,
          78.486,
          79.85,
          81.506,
          82.598
         ],
         "yaxis": "y"
        },
        {
         "hovertemplate": "<b>OLS trendline</b><br>top1 = 11.2194 * log10(secs) + 119.671<br>R<sup>2</sup>=0.952739<br><br>family=levit<br>secs=%{x}<br>top1=%{y} <b>(trend)</b><extra></extra>",
         "legendgroup": "levit",
         "marker": {
          "color": "#636efa",
          "symbol": "circle"
         },
         "mode": "lines",
         "name": "levit",
         "showlegend": false,
         "type": "scatter",
         "x": [
          0.00015292484049939136,
          0.00021938099458567706,
          0.0002682914396250359,
          0.00033824578968553293,
          0.000555247084952804
         ],
         "xaxis": "x",
         "y": [
          76.86276459120563,
          78.62107855364697,
          79.60174110445337,
          80.73069898643305,
          83.14571676426131
         ],
         "yaxis": "y"
        },
        {
         "customdata": [
          [
           176
          ],
          [
           176
          ],
          [
           224
          ],
          [
           224
          ],
          [
           224
          ],
          [
           224
          ],
          [
           224
          ],
          [
           224
          ],
          [
           224
          ],
          [
           224
          ],
          [
           224
          ],
          [
           224
          ],
          [
           176
          ],
          [
           176
          ],
          [
           224
          ],
          [
           224
          ],
          [
           224
          ],
          [
           224
          ],
          [
           224
          ],
          [
           224
          ],
          [
           224
          ],
          [
           224
          ],
          [
           224
          ],
          [
           224
          ],
          [
           224
          ],
          [
           224
          ],
          [
           256
          ],
          [
           256
          ],
          [
           224
          ],
          [
           224
          ],
          [
           224
          ],
          [
           224
          ],
          [
           224
          ],
          [
           224
          ],
          [
           224
          ],
          [
           224
          ],
          [
           224
          ],
          [
           224
          ],
          [
           224
          ],
          [
           224
          ],
          [
           224
          ],
          [
           224
          ],
          [
           224
          ],
          [
           224
          ],
          [
           224
          ],
          [
           224
          ],
          [
           224
          ],
          [
           224
          ],
          [
           224
          ],
          [
           224
          ],
          [
           224
          ],
          [
           224
          ],
          [
           224
          ],
          [
           224
          ],
          [
           224
          ],
          [
           224
          ],
          [
           224
          ],
          [
           224
          ],
          [
           224
          ],
          [
           256
          ],
          [
           256
          ],
          [
           256
          ],
          [
           256
          ],
          [
           224
          ],
          [
           224
          ],
          [
           224
          ],
          [
           224
          ],
          [
           224
          ],
          [
           224
          ],
          [
           224
          ],
          [
           224
          ],
          [
           224
          ],
          [
           224
          ],
          [
           224
          ],
          [
           224
          ],
          [
           224
          ],
          [
           224
          ],
          [
           224
          ],
          [
           224
          ],
          [
           224
          ],
          [
           224
          ],
          [
           224
          ],
          [
           224
          ],
          [
           224
          ],
          [
           224
          ],
          [
           224
          ],
          [
           224
          ],
          [
           256
          ],
          [
           256
          ],
          [
           256
          ],
          [
           256
          ]
         ],
         "hovertemplate": "<b>%{hovertext}</b><br><br>family=resnet<br>secs=%{x}<br>top1=%{y}<br>size=%{marker.size}<br>train_img_size=%{customdata[0]}<extra></extra>",
         "hovertext": [
          "resnet10t",
          "resnet10t",
          "resnet18",
          "resnet18",
          "resnet18",
          "resnet18",
          "resnet18",
          "resnet18",
          "resnet18",
          "resnet18",
          "resnet18",
          "resnet18",
          "resnet14t",
          "resnet14t",
          "resnet34",
          "resnet34",
          "resnet34",
          "resnet34",
          "resnet34",
          "resnet34",
          "resnet34",
          "resnet34",
          "resnet34",
          "resnet34",
          "resnet26",
          "resnet26",
          "resnet26t",
          "resnet26t",
          "resnet50",
          "resnet50",
          "resnet50",
          "resnet50",
          "resnet50",
          "resnet50",
          "resnet50",
          "resnet50",
          "resnet50",
          "resnet50",
          "resnet50",
          "resnet50",
          "resnet50",
          "resnet50",
          "resnet50",
          "resnet50",
          "resnet50",
          "resnet50",
          "resnet50",
          "resnet50",
          "resnet50",
          "resnet50",
          "resnet50",
          "resnet50",
          "resnet50",
          "resnet50",
          "resnet50",
          "resnet50",
          "resnet50",
          "resnet50",
          "resnet50",
          "resnet32ts",
          "resnet32ts",
          "resnet33ts",
          "resnet33ts",
          "resnet101",
          "resnet101",
          "resnet101",
          "resnet101",
          "resnet101",
          "resnet101",
          "resnet101",
          "resnet101",
          "resnet101",
          "resnet101",
          "resnet101",
          "resnet101",
          "resnet152",
          "resnet152",
          "resnet152",
          "resnet152",
          "resnet152",
          "resnet152",
          "resnet152",
          "resnet152",
          "resnet152",
          "resnet152",
          "resnet152",
          "resnet152",
          "resnet51q",
          "resnet51q",
          "resnet61q",
          "resnet61q"
         ],
         "legendgroup": "resnet",
         "marker": {
          "color": "#EF553B",
          "size": [
           30976,
           30976,
           50176,
           50176,
           50176,
           50176,
           50176,
           50176,
           50176,
           50176,
           50176,
           50176,
           30976,
           30976,
           50176,
           50176,
           50176,
           50176,
           50176,
           50176,
           50176,
           50176,
           50176,
           50176,
           50176,
           50176,
           65536,
           65536,
           50176,
           50176,
           50176,
           50176,
           50176,
           50176,
           50176,
           50176,
           50176,
           50176,
           50176,
           50176,
           50176,
           50176,
           50176,
           50176,
           50176,
           50176,
           50176,
           50176,
           50176,
           50176,
           50176,
           50176,
           50176,
           50176,
           50176,
           50176,
           50176,
           50176,
           50176,
           65536,
           65536,
           65536,
           65536,
           50176,
           50176,
           50176,
           50176,
           50176,
           50176,
           50176,
           50176,
           50176,
           50176,
           50176,
           50176,
           50176,
           50176,
           50176,
           50176,
           50176,
           50176,
           50176,
           50176,
           50176,
           50176,
           50176,
           50176,
           65536,
           65536,
           65536,
           65536
          ],
          "sizemode": "area",
          "sizeref": 655.36,
          "symbol": "circle"
         },
         "mode": "markers",
         "name": "resnet",
         "orientation": "v",
         "showlegend": true,
         "type": "scatter",
         "x": [
          0.00015826215492915395,
          0.00015826215492915395,
          0.00028720941587348996,
          0.00028720941587348996,
          0.00028720941587348996,
          0.00028720941587348996,
          0.00028720941587348996,
          0.00028720941587348996,
          0.00028720941587348996,
          0.00028720941587348996,
          0.00028720941587348996,
          0.00028720941587348996,
          0.00028798774324164766,
          0.00028798774324164766,
          0.0004910361353492003,
          0.0004910361353492003,
          0.0004910361353492003,
          0.0004910361353492003,
          0.0004910361353492003,
          0.0004910361353492003,
          0.0004910361353492003,
          0.0004910361353492003,
          0.0004910361353492003,
          0.0004910361353492003,
          0.0005096839959225281,
          0.0005096839959225281,
          0.0008081853007257504,
          0.0008081853007257504,
          0.0008210113217461269,
          0.0008210113217461269,
          0.0008210113217461269,
          0.0008210113217461269,
          0.0008210113217461269,
          0.0008210113217461269,
          0.0008210113217461269,
          0.0008210113217461269,
          0.0008210113217461269,
          0.0008210113217461269,
          0.0008210113217461269,
          0.0008210113217461269,
          0.0008210113217461269,
          0.0008210113217461269,
          0.0008210113217461269,
          0.0008210113217461269,
          0.0008210113217461269,
          0.0008210113217461269,
          0.0008210113217461269,
          0.0008210113217461269,
          0.0008210113217461269,
          0.0008210113217461269,
          0.0008210113217461269,
          0.0008210113217461269,
          0.0008210113217461269,
          0.0008210113217461269,
          0.0008210113217461269,
          0.0008210113217461269,
          0.0008210113217461269,
          0.0008210113217461269,
          0.0008210113217461269,
          0.0009294889669659622,
          0.0009294889669659622,
          0.0009421873822265774,
          0.0009421873822265774,
          0.0013370950273435933,
          0.0013370950273435933,
          0.0013370950273435933,
          0.0013370950273435933,
          0.0013370950273435933,
          0.0013370950273435933,
          0.0013370950273435933,
          0.0013370950273435933,
          0.0013370950273435933,
          0.0013370950273435933,
          0.0013370950273435933,
          0.0013370950273435933,
          0.001994256541161455,
          0.001994256541161455,
          0.001994256541161455,
          0.001994256541161455,
          0.001994256541161455,
          0.001994256541161455,
          0.001994256541161455,
          0.001994256541161455,
          0.001994256541161455,
          0.001994256541161455,
          0.001994256541161455,
          0.001994256541161455,
          0.0021560552812574115,
          0.0021560552812574115,
          0.0023044129508007836,
          0.0023044129508007836
         ],
         "xaxis": "x",
         "y": [
          68.346,
          66.724,
          73.288,
          73.164,
          72.636,
          72.362,
          71.488,
          70.844,
          70.634,
          69.752,
          68.246,
          65.664,
          72.242,
          71.318,
          77.938,
          77.148,
          76.508,
          76.414,
          75.516,
          75.162,
          74.574,
          73.298,
          72.982,
          70.572,
          76.378,
          75.292,
          78.33,
          77.884,
          81.24,
          81.146,
          81.012,
          80.928,
          80.856,
          80.844,
          80.78,
          80.706,
          80.652,
          80.47,
          80.382,
          79.974,
          79.904,
          79.868,
          79.86,
          79.828,
          79.766,
          79.652,
          79.564,
          79.432,
          79.38,
          79.26,
          79.252,
          79.032,
          79.004,
          78.814,
          78.432,
          78.052,
          77.58,
          76.156,
          75.994,
          79.388,
          79.054,
          79.708,
          79.216,
          82.802,
          82.322,
          82.224,
          81.95,
          81.906,
          81.494,
          81.344,
          79.906,
          79.82,
          79.306,
          77.928,
          77.404,
          83.494,
          82.818,
          82.744,
          82.62,
          82.294,
          81.998,
          81.764,
          80.548,
          80.212,
          79.712,
          78.896,
          78.33,
          82.356,
          81.778,
          82.524,
          81.966
         ],
         "yaxis": "y"
        },
        {
         "hovertemplate": "<b>OLS trendline</b><br>top1 = 12.6071 * log10(secs) + 117.009<br>R<sup>2</sup>=0.759488<br><br>family=resnet<br>secs=%{x}<br>top1=%{y} <b>(trend)</b><extra></extra>",
         "legendgroup": "resnet",
         "marker": {
          "color": "#EF553B",
          "symbol": "circle"
         },
         "mode": "lines",
         "name": "resnet",
         "showlegend": false,
         "type": "scatter",
         "x": [
          0.00015826215492915395,
          0.00015826215492915395,
          0.00028720941587348996,
          0.00028720941587348996,
          0.00028720941587348996,
          0.00028720941587348996,
          0.00028720941587348996,
          0.00028720941587348996,
          0.00028720941587348996,
          0.00028720941587348996,
          0.00028720941587348996,
          0.00028720941587348996,
          0.00028798774324164766,
          0.00028798774324164766,
          0.0004910361353492003,
          0.0004910361353492003,
          0.0004910361353492003,
          0.0004910361353492003,
          0.0004910361353492003,
          0.0004910361353492003,
          0.0004910361353492003,
          0.0004910361353492003,
          0.0004910361353492003,
          0.0004910361353492003,
          0.0005096839959225281,
          0.0005096839959225281,
          0.0008081853007257504,
          0.0008081853007257504,
          0.0008210113217461269,
          0.0008210113217461269,
          0.0008210113217461269,
          0.0008210113217461269,
          0.0008210113217461269,
          0.0008210113217461269,
          0.0008210113217461269,
          0.0008210113217461269,
          0.0008210113217461269,
          0.0008210113217461269,
          0.0008210113217461269,
          0.0008210113217461269,
          0.0008210113217461269,
          0.0008210113217461269,
          0.0008210113217461269,
          0.0008210113217461269,
          0.0008210113217461269,
          0.0008210113217461269,
          0.0008210113217461269,
          0.0008210113217461269,
          0.0008210113217461269,
          0.0008210113217461269,
          0.0008210113217461269,
          0.0008210113217461269,
          0.0008210113217461269,
          0.0008210113217461269,
          0.0008210113217461269,
          0.0008210113217461269,
          0.0008210113217461269,
          0.0008210113217461269,
          0.0008210113217461269,
          0.0009294889669659622,
          0.0009294889669659622,
          0.0009421873822265774,
          0.0009421873822265774,
          0.0013370950273435933,
          0.0013370950273435933,
          0.0013370950273435933,
          0.0013370950273435933,
          0.0013370950273435933,
          0.0013370950273435933,
          0.0013370950273435933,
          0.0013370950273435933,
          0.0013370950273435933,
          0.0013370950273435933,
          0.0013370950273435933,
          0.0013370950273435933,
          0.001994256541161455,
          0.001994256541161455,
          0.001994256541161455,
          0.001994256541161455,
          0.001994256541161455,
          0.001994256541161455,
          0.001994256541161455,
          0.001994256541161455,
          0.001994256541161455,
          0.001994256541161455,
          0.001994256541161455,
          0.001994256541161455,
          0.0021560552812574115,
          0.0021560552812574115,
          0.0023044129508007836,
          0.0023044129508007836
         ],
         "xaxis": "x",
         "y": [
          69.09394856326915,
          69.09394856326915,
          72.35693945126515,
          72.35693945126515,
          72.35693945126515,
          72.35693945126515,
          72.35693945126515,
          72.35693945126515,
          72.35693945126515,
          72.35693945126515,
          72.35693945126515,
          72.35693945126515,
          72.37175697005611,
          72.37175697005611,
          75.29332036378887,
          75.29332036378887,
          75.29332036378887,
          75.29332036378887,
          75.29332036378887,
          75.29332036378887,
          75.29332036378887,
          75.29332036378887,
          75.29332036378887,
          75.29332036378887,
          75.49739841819581,
          75.49739841819581,
          78.02146614034513,
          78.02146614034513,
          78.10767602638894,
          78.10767602638894,
          78.10767602638894,
          78.10767602638894,
          78.10767602638894,
          78.10767602638894,
          78.10767602638894,
          78.10767602638894,
          78.10767602638894,
          78.10767602638894,
          78.10767602638894,
          78.10767602638894,
          78.10767602638894,
          78.10767602638894,
          78.10767602638894,
          78.10767602638894,
          78.10767602638894,
          78.10767602638894,
          78.10767602638894,
          78.10767602638894,
          78.10767602638894,
          78.10767602638894,
          78.10767602638894,
          78.10767602638894,
          78.10767602638894,
          78.10767602638894,
          78.10767602638894,
          78.10767602638894,
          78.10767602638894,
          78.10767602638894,
          78.10767602638894,
          78.78713708409413,
          78.78713708409413,
          78.86143131452945,
          78.86143131452945,
          80.77802621495226,
          80.77802621495226,
          80.77802621495226,
          80.77802621495226,
          80.77802621495226,
          80.77802621495226,
          80.77802621495226,
          80.77802621495226,
          80.77802621495226,
          80.77802621495226,
          80.77802621495226,
          80.77802621495226,
          82.96685592162345,
          82.96685592162345,
          82.96685592162345,
          82.96685592162345,
          82.96685592162345,
          82.96685592162345,
          82.96685592162345,
          82.96685592162345,
          82.96685592162345,
          82.96685592162345,
          82.96685592162345,
          82.96685592162345,
          83.39397032790455,
          83.39397032790455,
          83.75832087785008,
          83.75832087785008
         ],
         "yaxis": "y"
        },
        {
         "customdata": [
          [
           224
          ],
          [
           224
          ],
          [
           224
          ],
          [
           224
          ],
          [
           224
          ],
          [
           224
          ],
          [
           224
          ],
          [
           224
          ],
          [
           224
          ],
          [
           224
          ],
          [
           224
          ],
          [
           224
          ],
          [
           224
          ],
          [
           224
          ],
          [
           224
          ],
          [
           224
          ],
          [
           224
          ],
          [
           224
          ]
         ],
         "hovertemplate": "<b>%{hovertext}</b><br><br>family=regnetx<br>secs=%{x}<br>top1=%{y}<br>size=%{marker.size}<br>train_img_size=%{customdata[0]}<extra></extra>",
         "hovertext": [
          "regnetx_002",
          "regnetx_004",
          "regnetx_006",
          "regnetx_008",
          "regnetx_008",
          "regnetx_016",
          "regnetx_016",
          "regnetx_040",
          "regnetx_032",
          "regnetx_032",
          "regnetx_080",
          "regnetx_080",
          "regnetx_064",
          "regnetx_160",
          "regnetx_160",
          "regnetx_120",
          "regnetx_320",
          "regnetx_320"
         ],
         "legendgroup": "regnetx",
         "marker": {
          "color": "#00cc96",
          "size": [
           50176,
           50176,
           50176,
           50176,
           50176,
           50176,
           50176,
           50176,
           50176,
           50176,
           50176,
           50176,
           50176,
           50176,
           50176,
           50176,
           50176,
           50176
          ],
          "sizemode": "area",
          "sizeref": 655.36,
          "symbol": "circle"
         },
         "mode": "markers",
         "name": "regnetx",
         "orientation": "v",
         "showlegend": true,
         "type": "scatter",
         "x": [
          0.00024360298559819148,
          0.0005616052925682772,
          0.000777339013090389,
          0.0009664356885371063,
          0.0009664356885371063,
          0.001464707864016522,
          0.001464707864016522,
          0.0022606533288120267,
          0.0032375032375032376,
          0.0032375032375032376,
          0.005512375282509233,
          0.005512375282509233,
          0.007702973347712218,
          0.00929368029739777,
          0.00929368029739777,
          0.010634903754121025,
          0.020807324178110695,
          0.020807324178110695
         ],
         "xaxis": "x",
         "y": [
          68.76,
          72.432,
          73.884,
          77.288,
          75.062,
          79.452,
          76.924,
          78.494,
          80.926,
          78.166,
          81.56,
          79.216,
          79.06,
          82.576,
          79.858,
          79.608,
          82.824,
          80.262
         ],
         "yaxis": "y"
        },
        {
         "hovertemplate": "<b>OLS trendline</b><br>top1 = 5.68959 * log10(secs) + 92.4583<br>R<sup>2</sup>=0.757706<br><br>family=regnetx<br>secs=%{x}<br>top1=%{y} <b>(trend)</b><extra></extra>",
         "legendgroup": "regnetx",
         "marker": {
          "color": "#00cc96",
          "symbol": "circle"
         },
         "mode": "lines",
         "name": "regnetx",
         "showlegend": false,
         "type": "scatter",
         "x": [
          0.00024360298559819148,
          0.0005616052925682772,
          0.000777339013090389,
          0.0009664356885371063,
          0.0009664356885371063,
          0.001464707864016522,
          0.001464707864016522,
          0.0022606533288120267,
          0.0032375032375032376,
          0.0032375032375032376,
          0.005512375282509233,
          0.005512375282509233,
          0.007702973347712218,
          0.00929368029739777,
          0.00929368029739777,
          0.010634903754121025,
          0.020807324178110695,
          0.020807324178110695
         ],
         "xaxis": "x",
         "y": [
          71.89999669219932,
          73.96388561172232,
          74.76713708792994,
          75.30515844130406,
          75.30515844130406,
          76.332572634304,
          76.332572634304,
          77.40496243372233,
          78.29240253061133,
          78.29240253061133,
          79.6074281552913,
          79.6074281552913,
          80.43423648119524,
          80.89810455624041,
          80.89810455624041,
          81.23120606378572,
          82.88962149697112,
          82.88962149697112
         ],
         "yaxis": "y"
        },
        {
         "customdata": [
          [
           224
          ],
          [
           224
          ],
          [
           224
          ],
          [
           224
          ],
          [
           224
          ],
          [
           224
          ],
          [
           224
          ],
          [
           224
          ],
          [
           224
          ],
          [
           224
          ],
          [
           224
          ],
          [
           224
          ],
          [
           224
          ],
          [
           224
          ],
          [
           224
          ],
          [
           224
          ],
          [
           224
          ],
          [
           256
          ],
          [
           256
          ],
          [
           256
          ],
          [
           256
          ],
          [
           256
          ],
          [
           256
          ],
          [
           256
          ],
          [
           256
          ]
         ],
         "hovertemplate": "<b>%{hovertext}</b><br><br>family=resnetd<br>secs=%{x}<br>top1=%{y}<br>size=%{marker.size}<br>train_img_size=%{customdata[0]}<extra></extra>",
         "hovertext": [
          "resnet18d",
          "resnet18d",
          "resnet34d",
          "resnet34d",
          "resnet26d",
          "resnet26d",
          "resnet50d",
          "resnet50d",
          "resnet50d",
          "resnet50d",
          "resnet50d",
          "resnet50d",
          "resnet50d",
          "resnet50d",
          "resnet50d",
          "resnet50d",
          "resnet50d",
          "resnet101d",
          "resnet101d",
          "resnet101d",
          "resnet152d",
          "resnet152d",
          "resnet152d",
          "resnet200d",
          "resnet200d"
         ],
         "legendgroup": "resnetd",
         "marker": {
          "color": "#ab63fa",
          "size": [
           50176,
           50176,
           50176,
           50176,
           50176,
           50176,
           50176,
           50176,
           50176,
           50176,
           50176,
           50176,
           50176,
           50176,
           50176,
           50176,
           50176,
           65536,
           65536,
           65536,
           65536,
           65536,
           65536,
           65536,
           65536
          ],
          "sizemode": "area",
          "sizeref": 655.36,
          "symbol": "circle"
         },
         "mode": "markers",
         "name": "resnetd",
         "orientation": "v",
         "showlegend": true,
         "type": "scatter",
         "x": [
          0.0003477897958473898,
          0.0003477897958473898,
          0.0005515233073749696,
          0.0005515233073749696,
          0.00061602528167756,
          0.00061602528167756,
          0.0009276437847866419,
          0.0009276437847866419,
          0.0009276437847866419,
          0.0009276437847866419,
          0.0009276437847866419,
          0.0009276437847866419,
          0.0009276437847866419,
          0.0009276437847866419,
          0.0009276437847866419,
          0.0009276437847866419,
          0.0009276437847866419,
          0.001908943399828195,
          0.001908943399828195,
          0.001908943399828195,
          0.002796889858477373,
          0.002796889858477373,
          0.002796889858477373,
          0.003743916136278547,
          0.003743916136278547
         ],
         "xaxis": "x",
         "y": [
          73.794,
          72.268,
          78.44,
          77.104,
          77.424,
          76.698,
          81.83,
          81.444,
          81.35,
          81.168,
          80.956,
          80.73,
          80.548,
          80.268,
          79.08,
          78.742,
          77.222,
          83.018,
          82.252,
          80.466,
          83.684,
          83.156,
          80.476,
          83.976,
          83.24
         ],
         "yaxis": "y"
        },
        {
         "hovertemplate": "<b>OLS trendline</b><br>top1 = 8.44776 * log10(secs) + 104.94<br>R<sup>2</sup>=0.707064<br><br>family=resnetd<br>secs=%{x}<br>top1=%{y} <b>(trend)</b><extra></extra>",
         "legendgroup": "resnetd",
         "marker": {
          "color": "#ab63fa",
          "symbol": "circle"
         },
         "mode": "lines",
         "name": "resnetd",
         "showlegend": false,
         "type": "scatter",
         "x": [
          0.0003477897958473898,
          0.0003477897958473898,
          0.0005515233073749696,
          0.0005515233073749696,
          0.00061602528167756,
          0.00061602528167756,
          0.0009276437847866419,
          0.0009276437847866419,
          0.0009276437847866419,
          0.0009276437847866419,
          0.0009276437847866419,
          0.0009276437847866419,
          0.0009276437847866419,
          0.0009276437847866419,
          0.0009276437847866419,
          0.0009276437847866419,
          0.0009276437847866419,
          0.001908943399828195,
          0.001908943399828195,
          0.001908943399828195,
          0.002796889858477373,
          0.002796889858477373,
          0.002796889858477373,
          0.003743916136278547,
          0.003743916136278547
         ],
         "xaxis": "x",
         "y": [
          75.72167144501552,
          75.72167144501552,
          77.4133112703084,
          77.4133112703084,
          77.81909682055614,
          77.81909682055614,
          79.32096325889842,
          79.32096325889842,
          79.32096325889842,
          79.32096325889842,
          79.32096325889842,
          79.32096325889842,
          79.32096325889842,
          79.32096325889842,
          79.32096325889842,
          79.32096325889842,
          79.32096325889842,
          81.96859249575536,
          81.96859249575536,
          81.96859249575536,
          83.36992723371694,
          83.36992723371694,
          83.36992723371694,
          84.4398429459706,
          84.4398429459706
         ],
         "yaxis": "y"
        },
        {
         "customdata": [
          [
           224
          ],
          [
           224
          ],
          [
           224
          ],
          [
           224
          ],
          [
           224
          ],
          [
           224
          ],
          [
           224
          ],
          [
           224
          ],
          [
           224
          ],
          [
           224
          ],
          [
           224
          ],
          [
           224
          ],
          [
           224
          ],
          [
           224
          ],
          [
           224
          ],
          [
           224
          ],
          [
           224
          ],
          [
           224
          ],
          [
           224
          ],
          [
           224
          ],
          [
           224
          ],
          [
           224
          ],
          [
           224
          ],
          [
           224
          ],
          [
           224
          ],
          [
           224
          ],
          [
           224
          ],
          [
           224
          ],
          [
           224
          ],
          [
           224
          ],
          [
           224
          ],
          [
           224
          ],
          [
           224
          ],
          [
           224
          ],
          [
           224
          ],
          [
           224
          ],
          [
           224
          ],
          [
           224
          ]
         ],
         "hovertemplate": "<b>%{hovertext}</b><br><br>family=convnext<br>secs=%{x}<br>top1=%{y}<br>size=%{marker.size}<br>train_img_size=%{customdata[0]}<extra></extra>",
         "hovertext": [
          "convnext_nano_ols",
          "convnext_nano_ols",
          "convnext_nano",
          "convnext_nano",
          "convnext_nano",
          "convnext_nano",
          "convnext_tiny_hnf",
          "convnext_tiny_hnf",
          "convnext_tiny",
          "convnext_tiny",
          "convnext_tiny",
          "convnext_tiny",
          "convnext_tiny",
          "convnext_tiny",
          "convnext_tiny",
          "convnext_tiny",
          "convnext_small",
          "convnext_small",
          "convnext_small",
          "convnext_small",
          "convnext_small",
          "convnext_small",
          "convnext_small",
          "convnext_small",
          "convnext_base",
          "convnext_base",
          "convnext_base",
          "convnext_base",
          "convnext_base",
          "convnext_base",
          "convnext_base",
          "convnext_base",
          "convnext_base",
          "convnext_large",
          "convnext_large",
          "convnext_large",
          "convnext_large",
          "convnext_large"
         ],
         "legendgroup": "convnext",
         "marker": {
          "color": "#FFA15A",
          "size": [
           50176,
           50176,
           50176,
           50176,
           50176,
           50176,
           50176,
           50176,
           50176,
           50176,
           50176,
           50176,
           50176,
           50176,
           50176,
           50176,
           50176,
           50176,
           50176,
           50176,
           50176,
           50176,
           50176,
           50176,
           50176,
           50176,
           50176,
           50176,
           50176,
           50176,
           50176,
           50176,
           50176,
           50176,
           50176,
           50176,
           50176,
           50176
          ],
          "sizemode": "area",
          "sizeref": 655.36,
          "symbol": "circle"
         },
         "mode": "markers",
         "name": "convnext",
         "orientation": "v",
         "showlegend": true,
         "type": "scatter",
         "x": [
          0.0007985115744252714,
          0.0007985115744252714,
          0.0008000704061957452,
          0.0008000704061957452,
          0.0008000704061957452,
          0.0008000704061957452,
          0.0012203158177336293,
          0.0012203158177336293,
          0.0012206435232654655,
          0.0012206435232654655,
          0.0012206435232654655,
          0.0012206435232654655,
          0.0012206435232654655,
          0.0012206435232654655,
          0.0012206435232654655,
          0.0012206435232654655,
          0.0020527558246946527,
          0.0020527558246946527,
          0.0020527558246946527,
          0.0020527558246946527,
          0.0020527558246946527,
          0.0020527558246946527,
          0.0020527558246946527,
          0.0020527558246946527,
          0.002952639659855911,
          0.002952639659855911,
          0.002952639659855911,
          0.002952639659855911,
          0.002952639659855911,
          0.002952639659855911,
          0.002952639659855911,
          0.002952639659855911,
          0.002952639659855911,
          0.005321130208056191,
          0.005321130208056191,
          0.005321130208056191,
          0.005321130208056191,
          0.005321130208056191
         ],
         "xaxis": "x",
         "y": [
          81.612,
          80.906,
          82.882,
          82.306,
          81.474,
          80.762,
          82.608,
          82.23,
          85.154,
          84.448,
          84.192,
          84.098,
          82.888,
          82.694,
          82.066,
          78.95,
          86.186,
          85.754,
          85.324,
          85.276,
          85.164,
          84.582,
          83.704,
          83.144,
          87.15,
          86.826,
          86.488,
          86.386,
          86.298,
          86.184,
          85.816,
          84.466,
          83.834,
          87.456,
          87.014,
          86.612,
          84.862,
          84.298
         ],
         "yaxis": "y"
        },
        {
         "hovertemplate": "<b>OLS trendline</b><br>top1 = 6.05727 * log10(secs) + 100.741<br>R<sup>2</sup>=0.592734<br><br>family=convnext<br>secs=%{x}<br>top1=%{y} <b>(trend)</b><extra></extra>",
         "legendgroup": "convnext",
         "marker": {
          "color": "#FFA15A",
          "symbol": "circle"
         },
         "mode": "lines",
         "name": "convnext",
         "showlegend": false,
         "type": "scatter",
         "x": [
          0.0007985115744252714,
          0.0007985115744252714,
          0.0008000704061957452,
          0.0008000704061957452,
          0.0008000704061957452,
          0.0008000704061957452,
          0.0012203158177336293,
          0.0012203158177336293,
          0.0012206435232654655,
          0.0012206435232654655,
          0.0012206435232654655,
          0.0012206435232654655,
          0.0012206435232654655,
          0.0012206435232654655,
          0.0012206435232654655,
          0.0012206435232654655,
          0.0020527558246946527,
          0.0020527558246946527,
          0.0020527558246946527,
          0.0020527558246946527,
          0.0020527558246946527,
          0.0020527558246946527,
          0.0020527558246946527,
          0.0020527558246946527,
          0.002952639659855911,
          0.002952639659855911,
          0.002952639659855911,
          0.002952639659855911,
          0.002952639659855911,
          0.002952639659855911,
          0.002952639659855911,
          0.002952639659855911,
          0.002952639659855911,
          0.005321130208056191,
          0.005321130208056191,
          0.005321130208056191,
          0.005321130208056191,
          0.005321130208056191
         ],
         "xaxis": "x",
         "y": [
          81.9771556230794,
          81.9771556230794,
          81.98228607274132,
          81.98228607274132,
          81.98228607274132,
          81.98228607274132,
          83.09284966960006,
          83.09284966960006,
          83.0935560102288,
          83.0935560102288,
          83.0935560102288,
          83.0935560102288,
          83.0935560102288,
          83.0935560102288,
          83.0935560102288,
          83.0935560102288,
          84.46097438876224,
          84.46097438876224,
          84.46097438876224,
          84.46097438876224,
          84.46097438876224,
          84.46097438876224,
          84.46097438876224,
          84.46097438876224,
          85.41725409892861,
          85.41725409892861,
          85.41725409892861,
          85.41725409892861,
          85.41725409892861,
          85.41725409892861,
          85.41725409892861,
          85.41725409892861,
          85.41725409892861,
          86.96666300827805,
          86.96666300827805,
          86.96666300827805,
          86.96666300827805,
          86.96666300827805
         ],
         "yaxis": "y"
        },
        {
         "customdata": [
          [
           224
          ],
          [
           224
          ],
          [
           288
          ],
          [
           288
          ],
          [
           320
          ],
          [
           320
          ]
         ],
         "hovertemplate": "<b>%{hovertext}</b><br><br>family=efficientnetv2<br>secs=%{x}<br>top1=%{y}<br>size=%{marker.size}<br>train_img_size=%{customdata[0]}<extra></extra>",
         "hovertext": [
          "efficientnetv2_rw_t",
          "efficientnetv2_rw_t",
          "efficientnetv2_rw_s",
          "efficientnetv2_rw_s",
          "efficientnetv2_rw_m",
          "efficientnetv2_rw_m"
         ],
         "legendgroup": "efficientnetv2",
         "marker": {
          "color": "#19d3f3",
          "size": [
           50176,
           50176,
           82944,
           82944,
           102400,
           102400
          ],
          "sizemode": "area",
          "sizeref": 655.36,
          "symbol": "circle"
         },
         "mode": "markers",
         "name": "efficientnetv2",
         "orientation": "v",
         "showlegend": true,
         "type": "scatter",
         "x": [
          0.0009100340352729192,
          0.0009100340352729192,
          0.0019202335003936479,
          0.0019202335003936479,
          0.0044551367726989215,
          0.0044551367726989215
         ],
         "xaxis": "x",
         "y": [
          82.354,
          81.372,
          83.83,
          82.888,
          84.824,
          84.294
         ],
         "yaxis": "y"
        },
        {
         "hovertemplate": "<b>OLS trendline</b><br>top1 = 3.89518 * log10(secs) + 93.7887<br>R<sup>2</sup>=0.864197<br><br>family=efficientnetv2<br>secs=%{x}<br>top1=%{y} <b>(trend)</b><extra></extra>",
         "legendgroup": "efficientnetv2",
         "marker": {
          "color": "#19d3f3",
          "symbol": "circle"
         },
         "mode": "lines",
         "name": "efficientnetv2",
         "showlegend": false,
         "type": "scatter",
         "x": [
          0.0009100340352729192,
          0.0009100340352729192,
          0.0019202335003936479,
          0.0019202335003936479,
          0.0044551367726989215,
          0.0044551367726989215
         ],
         "xaxis": "x",
         "y": [
          81.94363275137769,
          81.94363275137769,
          83.20682576898022,
          83.20682576898022,
          84.63054147964203,
          84.63054147964203
         ],
         "yaxis": "y"
        },
        {
         "customdata": [
          [
           224
          ],
          [
           224
          ],
          [
           224
          ],
          [
           224
          ],
          [
           224
          ],
          [
           224
          ],
          [
           224
          ],
          [
           224
          ]
         ],
         "hovertemplate": "<b>%{hovertext}</b><br><br>family=vgg<br>secs=%{x}<br>top1=%{y}<br>size=%{marker.size}<br>train_img_size=%{customdata[0]}<extra></extra>",
         "hovertext": [
          "vgg11",
          "vgg11_bn",
          "vgg13",
          "vgg13_bn",
          "vgg16",
          "vgg16_bn",
          "vgg19",
          "vgg19_bn"
         ],
         "legendgroup": "vgg",
         "marker": {
          "color": "#FF6692",
          "size": [
           50176,
           50176,
           50176,
           50176,
           50176,
           50176,
           50176,
           50176
          ],
          "sizemode": "area",
          "sizeref": 655.36,
          "symbol": "circle"
         },
         "mode": "markers",
         "name": "vgg",
         "orientation": "v",
         "showlegend": true,
         "type": "scatter",
         "x": [
          0.0010481850675555277,
          0.0012008550087662414,
          0.00147612369916599,
          0.0017437703803163198,
          0.00183130058967879,
          0.00212630236019562,
          0.0021864136257297153,
          0.002509410288582183
         ],
         "xaxis": "x",
         "y": [
          69.048,
          70.384,
          69.94,
          71.556,
          71.6,
          73.356,
          72.4,
          74.236
         ],
         "yaxis": "y"
        },
        {
         "hovertemplate": "<b>OLS trendline</b><br>top1 = 12.5164 * log10(secs) + 106.235<br>R<sup>2</sup>=0.891236<br><br>family=vgg<br>secs=%{x}<br>top1=%{y} <b>(trend)</b><extra></extra>",
         "legendgroup": "vgg",
         "marker": {
          "color": "#FF6692",
          "symbol": "circle"
         },
         "mode": "lines",
         "name": "vgg",
         "showlegend": false,
         "type": "scatter",
         "x": [
          0.0010481850675555277,
          0.0012008550087662414,
          0.00147612369916599,
          0.0017437703803163198,
          0.00183130058967879,
          0.00212630236019562,
          0.0021864136257297153,
          0.002509410288582183
         ],
         "xaxis": "x",
         "y": [
          68.94167499598987,
          69.6808021878766,
          70.80267615676307,
          71.70844618630711,
          71.97467467309053,
          72.78655706647322,
          72.93809716395444,
          73.6870715695454
         ],
         "yaxis": "y"
        },
        {
         "customdata": [
          [
           224
          ],
          [
           224
          ],
          [
           384
          ],
          [
           384
          ],
          [
           512
          ]
         ],
         "hovertemplate": "<b>%{hovertext}</b><br><br>family=beit<br>secs=%{x}<br>top1=%{y}<br>size=%{marker.size}<br>train_img_size=%{customdata[0]}<extra></extra>",
         "hovertext": [
          "beit_base_patch16_224",
          "beit_large_patch16_224",
          "beit_base_patch16_384",
          "beit_large_patch16_384",
          "beit_large_patch16_512"
         ],
         "legendgroup": "beit",
         "marker": {
          "color": "#B6E880",
          "size": [
           50176,
           50176,
           147456,
           147456,
           262144
          ],
          "sizemode": "area",
          "sizeref": 655.36,
          "symbol": "circle"
         },
         "mode": "markers",
         "name": "beit",
         "orientation": "v",
         "showlegend": true,
         "type": "scatter",
         "x": [
          0.0027873010563871006,
          0.0091726288754357,
          0.011923214498628829,
          0.039525691699604744,
          0.10615711252653928
         ],
         "xaxis": "x",
         "y": [
          85.244,
          87.488,
          86.816,
          88.382,
          88.578
         ],
         "yaxis": "y"
        },
        {
         "hovertemplate": "<b>OLS trendline</b><br>top1 = 2.06369 * log10(secs) + 90.9721<br>R<sup>2</sup>=0.862673<br><br>family=beit<br>secs=%{x}<br>top1=%{y} <b>(trend)</b><extra></extra>",
         "legendgroup": "beit",
         "marker": {
          "color": "#B6E880",
          "symbol": "circle"
         },
         "mode": "lines",
         "name": "beit",
         "showlegend": false,
         "type": "scatter",
         "x": [
          0.0027873010563871006,
          0.0091726288754357,
          0.011923214498628829,
          0.039525691699604744,
          0.10615711252653928
         ],
         "xaxis": "x",
         "y": [
          85.6997752030168,
          86.76734041016086,
          87.00239326772439,
          88.07651311036435,
          88.9619780087335
         ],
         "yaxis": "y"
        }
       ],
       "layout": {
        "height": 800,
        "legend": {
         "itemsizing": "constant",
         "title": {
          "text": "family"
         },
         "tracegroupgap": 0
        },
        "template": {
         "data": {
          "bar": [
           {
            "error_x": {
             "color": "#2a3f5f"
            },
            "error_y": {
             "color": "#2a3f5f"
            },
            "marker": {
             "line": {
              "color": "#E5ECF6",
              "width": 0.5
             },
             "pattern": {
              "fillmode": "overlay",
              "size": 10,
              "solidity": 0.2
             }
            },
            "type": "bar"
           }
          ],
          "barpolar": [
           {
            "marker": {
             "line": {
              "color": "#E5ECF6",
              "width": 0.5
             },
             "pattern": {
              "fillmode": "overlay",
              "size": 10,
              "solidity": 0.2
             }
            },
            "type": "barpolar"
           }
          ],
          "carpet": [
           {
            "aaxis": {
             "endlinecolor": "#2a3f5f",
             "gridcolor": "white",
             "linecolor": "white",
             "minorgridcolor": "white",
             "startlinecolor": "#2a3f5f"
            },
            "baxis": {
             "endlinecolor": "#2a3f5f",
             "gridcolor": "white",
             "linecolor": "white",
             "minorgridcolor": "white",
             "startlinecolor": "#2a3f5f"
            },
            "type": "carpet"
           }
          ],
          "choropleth": [
           {
            "colorbar": {
             "outlinewidth": 0,
             "ticks": ""
            },
            "type": "choropleth"
           }
          ],
          "contour": [
           {
            "colorbar": {
             "outlinewidth": 0,
             "ticks": ""
            },
            "colorscale": [
             [
              0,
              "#0d0887"
             ],
             [
              0.1111111111111111,
              "#46039f"
             ],
             [
              0.2222222222222222,
              "#7201a8"
             ],
             [
              0.3333333333333333,
              "#9c179e"
             ],
             [
              0.4444444444444444,
              "#bd3786"
             ],
             [
              0.5555555555555556,
              "#d8576b"
             ],
             [
              0.6666666666666666,
              "#ed7953"
             ],
             [
              0.7777777777777778,
              "#fb9f3a"
             ],
             [
              0.8888888888888888,
              "#fdca26"
             ],
             [
              1,
              "#f0f921"
             ]
            ],
            "type": "contour"
           }
          ],
          "contourcarpet": [
           {
            "colorbar": {
             "outlinewidth": 0,
             "ticks": ""
            },
            "type": "contourcarpet"
           }
          ],
          "heatmap": [
           {
            "colorbar": {
             "outlinewidth": 0,
             "ticks": ""
            },
            "colorscale": [
             [
              0,
              "#0d0887"
             ],
             [
              0.1111111111111111,
              "#46039f"
             ],
             [
              0.2222222222222222,
              "#7201a8"
             ],
             [
              0.3333333333333333,
              "#9c179e"
             ],
             [
              0.4444444444444444,
              "#bd3786"
             ],
             [
              0.5555555555555556,
              "#d8576b"
             ],
             [
              0.6666666666666666,
              "#ed7953"
             ],
             [
              0.7777777777777778,
              "#fb9f3a"
             ],
             [
              0.8888888888888888,
              "#fdca26"
             ],
             [
              1,
              "#f0f921"
             ]
            ],
            "type": "heatmap"
           }
          ],
          "heatmapgl": [
           {
            "colorbar": {
             "outlinewidth": 0,
             "ticks": ""
            },
            "colorscale": [
             [
              0,
              "#0d0887"
             ],
             [
              0.1111111111111111,
              "#46039f"
             ],
             [
              0.2222222222222222,
              "#7201a8"
             ],
             [
              0.3333333333333333,
              "#9c179e"
             ],
             [
              0.4444444444444444,
              "#bd3786"
             ],
             [
              0.5555555555555556,
              "#d8576b"
             ],
             [
              0.6666666666666666,
              "#ed7953"
             ],
             [
              0.7777777777777778,
              "#fb9f3a"
             ],
             [
              0.8888888888888888,
              "#fdca26"
             ],
             [
              1,
              "#f0f921"
             ]
            ],
            "type": "heatmapgl"
           }
          ],
          "histogram": [
           {
            "marker": {
             "pattern": {
              "fillmode": "overlay",
              "size": 10,
              "solidity": 0.2
             }
            },
            "type": "histogram"
           }
          ],
          "histogram2d": [
           {
            "colorbar": {
             "outlinewidth": 0,
             "ticks": ""
            },
            "colorscale": [
             [
              0,
              "#0d0887"
             ],
             [
              0.1111111111111111,
              "#46039f"
             ],
             [
              0.2222222222222222,
              "#7201a8"
             ],
             [
              0.3333333333333333,
              "#9c179e"
             ],
             [
              0.4444444444444444,
              "#bd3786"
             ],
             [
              0.5555555555555556,
              "#d8576b"
             ],
             [
              0.6666666666666666,
              "#ed7953"
             ],
             [
              0.7777777777777778,
              "#fb9f3a"
             ],
             [
              0.8888888888888888,
              "#fdca26"
             ],
             [
              1,
              "#f0f921"
             ]
            ],
            "type": "histogram2d"
           }
          ],
          "histogram2dcontour": [
           {
            "colorbar": {
             "outlinewidth": 0,
             "ticks": ""
            },
            "colorscale": [
             [
              0,
              "#0d0887"
             ],
             [
              0.1111111111111111,
              "#46039f"
             ],
             [
              0.2222222222222222,
              "#7201a8"
             ],
             [
              0.3333333333333333,
              "#9c179e"
             ],
             [
              0.4444444444444444,
              "#bd3786"
             ],
             [
              0.5555555555555556,
              "#d8576b"
             ],
             [
              0.6666666666666666,
              "#ed7953"
             ],
             [
              0.7777777777777778,
              "#fb9f3a"
             ],
             [
              0.8888888888888888,
              "#fdca26"
             ],
             [
              1,
              "#f0f921"
             ]
            ],
            "type": "histogram2dcontour"
           }
          ],
          "mesh3d": [
           {
            "colorbar": {
             "outlinewidth": 0,
             "ticks": ""
            },
            "type": "mesh3d"
           }
          ],
          "parcoords": [
           {
            "line": {
             "colorbar": {
              "outlinewidth": 0,
              "ticks": ""
             }
            },
            "type": "parcoords"
           }
          ],
          "pie": [
           {
            "automargin": true,
            "type": "pie"
           }
          ],
          "scatter": [
           {
            "fillpattern": {
             "fillmode": "overlay",
             "size": 10,
             "solidity": 0.2
            },
            "type": "scatter"
           }
          ],
          "scatter3d": [
           {
            "line": {
             "colorbar": {
              "outlinewidth": 0,
              "ticks": ""
             }
            },
            "marker": {
             "colorbar": {
              "outlinewidth": 0,
              "ticks": ""
             }
            },
            "type": "scatter3d"
           }
          ],
          "scattercarpet": [
           {
            "marker": {
             "colorbar": {
              "outlinewidth": 0,
              "ticks": ""
             }
            },
            "type": "scattercarpet"
           }
          ],
          "scattergeo": [
           {
            "marker": {
             "colorbar": {
              "outlinewidth": 0,
              "ticks": ""
             }
            },
            "type": "scattergeo"
           }
          ],
          "scattergl": [
           {
            "marker": {
             "colorbar": {
              "outlinewidth": 0,
              "ticks": ""
             }
            },
            "type": "scattergl"
           }
          ],
          "scattermapbox": [
           {
            "marker": {
             "colorbar": {
              "outlinewidth": 0,
              "ticks": ""
             }
            },
            "type": "scattermapbox"
           }
          ],
          "scatterpolar": [
           {
            "marker": {
             "colorbar": {
              "outlinewidth": 0,
              "ticks": ""
             }
            },
            "type": "scatterpolar"
           }
          ],
          "scatterpolargl": [
           {
            "marker": {
             "colorbar": {
              "outlinewidth": 0,
              "ticks": ""
             }
            },
            "type": "scatterpolargl"
           }
          ],
          "scatterternary": [
           {
            "marker": {
             "colorbar": {
              "outlinewidth": 0,
              "ticks": ""
             }
            },
            "type": "scatterternary"
           }
          ],
          "surface": [
           {
            "colorbar": {
             "outlinewidth": 0,
             "ticks": ""
            },
            "colorscale": [
             [
              0,
              "#0d0887"
             ],
             [
              0.1111111111111111,
              "#46039f"
             ],
             [
              0.2222222222222222,
              "#7201a8"
             ],
             [
              0.3333333333333333,
              "#9c179e"
             ],
             [
              0.4444444444444444,
              "#bd3786"
             ],
             [
              0.5555555555555556,
              "#d8576b"
             ],
             [
              0.6666666666666666,
              "#ed7953"
             ],
             [
              0.7777777777777778,
              "#fb9f3a"
             ],
             [
              0.8888888888888888,
              "#fdca26"
             ],
             [
              1,
              "#f0f921"
             ]
            ],
            "type": "surface"
           }
          ],
          "table": [
           {
            "cells": {
             "fill": {
              "color": "#EBF0F8"
             },
             "line": {
              "color": "white"
             }
            },
            "header": {
             "fill": {
              "color": "#C8D4E3"
             },
             "line": {
              "color": "white"
             }
            },
            "type": "table"
           }
          ]
         },
         "layout": {
          "annotationdefaults": {
           "arrowcolor": "#2a3f5f",
           "arrowhead": 0,
           "arrowwidth": 1
          },
          "autotypenumbers": "strict",
          "coloraxis": {
           "colorbar": {
            "outlinewidth": 0,
            "ticks": ""
           }
          },
          "colorscale": {
           "diverging": [
            [
             0,
             "#8e0152"
            ],
            [
             0.1,
             "#c51b7d"
            ],
            [
             0.2,
             "#de77ae"
            ],
            [
             0.3,
             "#f1b6da"
            ],
            [
             0.4,
             "#fde0ef"
            ],
            [
             0.5,
             "#f7f7f7"
            ],
            [
             0.6,
             "#e6f5d0"
            ],
            [
             0.7,
             "#b8e186"
            ],
            [
             0.8,
             "#7fbc41"
            ],
            [
             0.9,
             "#4d9221"
            ],
            [
             1,
             "#276419"
            ]
           ],
           "sequential": [
            [
             0,
             "#0d0887"
            ],
            [
             0.1111111111111111,
             "#46039f"
            ],
            [
             0.2222222222222222,
             "#7201a8"
            ],
            [
             0.3333333333333333,
             "#9c179e"
            ],
            [
             0.4444444444444444,
             "#bd3786"
            ],
            [
             0.5555555555555556,
             "#d8576b"
            ],
            [
             0.6666666666666666,
             "#ed7953"
            ],
            [
             0.7777777777777778,
             "#fb9f3a"
            ],
            [
             0.8888888888888888,
             "#fdca26"
            ],
            [
             1,
             "#f0f921"
            ]
           ],
           "sequentialminus": [
            [
             0,
             "#0d0887"
            ],
            [
             0.1111111111111111,
             "#46039f"
            ],
            [
             0.2222222222222222,
             "#7201a8"
            ],
            [
             0.3333333333333333,
             "#9c179e"
            ],
            [
             0.4444444444444444,
             "#bd3786"
            ],
            [
             0.5555555555555556,
             "#d8576b"
            ],
            [
             0.6666666666666666,
             "#ed7953"
            ],
            [
             0.7777777777777778,
             "#fb9f3a"
            ],
            [
             0.8888888888888888,
             "#fdca26"
            ],
            [
             1,
             "#f0f921"
            ]
           ]
          },
          "colorway": [
           "#636efa",
           "#EF553B",
           "#00cc96",
           "#ab63fa",
           "#FFA15A",
           "#19d3f3",
           "#FF6692",
           "#B6E880",
           "#FF97FF",
           "#FECB52"
          ],
          "font": {
           "color": "#2a3f5f"
          },
          "geo": {
           "bgcolor": "white",
           "lakecolor": "white",
           "landcolor": "#E5ECF6",
           "showlakes": true,
           "showland": true,
           "subunitcolor": "white"
          },
          "hoverlabel": {
           "align": "left"
          },
          "hovermode": "closest",
          "mapbox": {
           "style": "light"
          },
          "paper_bgcolor": "white",
          "plot_bgcolor": "#E5ECF6",
          "polar": {
           "angularaxis": {
            "gridcolor": "white",
            "linecolor": "white",
            "ticks": ""
           },
           "bgcolor": "#E5ECF6",
           "radialaxis": {
            "gridcolor": "white",
            "linecolor": "white",
            "ticks": ""
           }
          },
          "scene": {
           "xaxis": {
            "backgroundcolor": "#E5ECF6",
            "gridcolor": "white",
            "gridwidth": 2,
            "linecolor": "white",
            "showbackground": true,
            "ticks": "",
            "zerolinecolor": "white"
           },
           "yaxis": {
            "backgroundcolor": "#E5ECF6",
            "gridcolor": "white",
            "gridwidth": 2,
            "linecolor": "white",
            "showbackground": true,
            "ticks": "",
            "zerolinecolor": "white"
           },
           "zaxis": {
            "backgroundcolor": "#E5ECF6",
            "gridcolor": "white",
            "gridwidth": 2,
            "linecolor": "white",
            "showbackground": true,
            "ticks": "",
            "zerolinecolor": "white"
           }
          },
          "shapedefaults": {
           "line": {
            "color": "#2a3f5f"
           }
          },
          "ternary": {
           "aaxis": {
            "gridcolor": "white",
            "linecolor": "white",
            "ticks": ""
           },
           "baxis": {
            "gridcolor": "white",
            "linecolor": "white",
            "ticks": ""
           },
           "bgcolor": "#E5ECF6",
           "caxis": {
            "gridcolor": "white",
            "linecolor": "white",
            "ticks": ""
           }
          },
          "title": {
           "x": 0.05
          },
          "xaxis": {
           "automargin": true,
           "gridcolor": "white",
           "linecolor": "white",
           "ticks": "",
           "title": {
            "standoff": 15
           },
           "zerolinecolor": "white",
           "zerolinewidth": 2
          },
          "yaxis": {
           "automargin": true,
           "gridcolor": "white",
           "linecolor": "white",
           "ticks": "",
           "title": {
            "standoff": 15
           },
           "zerolinecolor": "white",
           "zerolinewidth": 2
          }
         }
        },
        "title": {
         "text": "Training"
        },
        "width": 1000,
        "xaxis": {
         "anchor": "y",
         "domain": [
          0,
          1
         ],
         "title": {
          "text": "secs"
         },
         "type": "log"
        },
        "yaxis": {
         "anchor": "x",
         "domain": [
          0,
          1
         ],
         "title": {
          "text": "top1"
         }
        }
       }
      },
      "text/html": [
       "<div>                            <div id=\"72593d7f-a5df-4735-adb9-498e3484d709\" class=\"plotly-graph-div\" style=\"height:800px; width:1000px;\"></div>            <script type=\"text/javascript\">                require([\"plotly\"], function(Plotly) {                    window.PLOTLYENV=window.PLOTLYENV || {};                                    if (document.getElementById(\"72593d7f-a5df-4735-adb9-498e3484d709\")) {                    Plotly.newPlot(                        \"72593d7f-a5df-4735-adb9-498e3484d709\",                        [{\"customdata\":[[224],[224],[224],[224],[224]],\"hovertemplate\":\"\\u003cb\\u003e%{hovertext}\\u003c\\u002fb\\u003e\\u003cbr\\u003e\\u003cbr\\u003efamily=levit\\u003cbr\\u003esecs=%{x}\\u003cbr\\u003etop1=%{y}\\u003cbr\\u003esize=%{marker.size}\\u003cbr\\u003etrain_img_size=%{customdata[0]}\\u003cextra\\u003e\\u003c\\u002fextra\\u003e\",\"hovertext\":[\"levit_128s\",\"levit_128\",\"levit_192\",\"levit_256\",\"levit_384\"],\"legendgroup\":\"levit\",\"marker\":{\"color\":\"#636efa\",\"size\":[50176,50176,50176,50176,50176],\"sizemode\":\"area\",\"sizeref\":655.36,\"symbol\":\"circle\"},\"mode\":\"markers\",\"name\":\"levit\",\"orientation\":\"v\",\"showlegend\":true,\"x\":[0.00015292484049939136,0.00021938099458567706,0.0002682914396250359,0.00033824578968553293,0.000555247084952804],\"xaxis\":\"x\",\"y\":[76.522,78.486,79.85,81.506,82.598],\"yaxis\":\"y\",\"type\":\"scatter\"},{\"hovertemplate\":\"\\u003cb\\u003eOLS trendline\\u003c\\u002fb\\u003e\\u003cbr\\u003etop1 = 11.2194 * log10(secs) + 119.671\\u003cbr\\u003eR\\u003csup\\u003e2\\u003c\\u002fsup\\u003e=0.952739\\u003cbr\\u003e\\u003cbr\\u003efamily=levit\\u003cbr\\u003esecs=%{x}\\u003cbr\\u003etop1=%{y} \\u003cb\\u003e(trend)\\u003c\\u002fb\\u003e\\u003cextra\\u003e\\u003c\\u002fextra\\u003e\",\"legendgroup\":\"levit\",\"marker\":{\"color\":\"#636efa\",\"symbol\":\"circle\"},\"mode\":\"lines\",\"name\":\"levit\",\"showlegend\":false,\"x\":[0.00015292484049939136,0.00021938099458567706,0.0002682914396250359,0.00033824578968553293,0.000555247084952804],\"xaxis\":\"x\",\"y\":[76.86276459120563,78.62107855364697,79.60174110445337,80.73069898643305,83.14571676426131],\"yaxis\":\"y\",\"type\":\"scatter\"},{\"customdata\":[[176],[176],[224],[224],[224],[224],[224],[224],[224],[224],[224],[224],[176],[176],[224],[224],[224],[224],[224],[224],[224],[224],[224],[224],[224],[224],[256],[256],[224],[224],[224],[224],[224],[224],[224],[224],[224],[224],[224],[224],[224],[224],[224],[224],[224],[224],[224],[224],[224],[224],[224],[224],[224],[224],[224],[224],[224],[224],[224],[256],[256],[256],[256],[224],[224],[224],[224],[224],[224],[224],[224],[224],[224],[224],[224],[224],[224],[224],[224],[224],[224],[224],[224],[224],[224],[224],[224],[256],[256],[256],[256]],\"hovertemplate\":\"\\u003cb\\u003e%{hovertext}\\u003c\\u002fb\\u003e\\u003cbr\\u003e\\u003cbr\\u003efamily=resnet\\u003cbr\\u003esecs=%{x}\\u003cbr\\u003etop1=%{y}\\u003cbr\\u003esize=%{marker.size}\\u003cbr\\u003etrain_img_size=%{customdata[0]}\\u003cextra\\u003e\\u003c\\u002fextra\\u003e\",\"hovertext\":[\"resnet10t\",\"resnet10t\",\"resnet18\",\"resnet18\",\"resnet18\",\"resnet18\",\"resnet18\",\"resnet18\",\"resnet18\",\"resnet18\",\"resnet18\",\"resnet18\",\"resnet14t\",\"resnet14t\",\"resnet34\",\"resnet34\",\"resnet34\",\"resnet34\",\"resnet34\",\"resnet34\",\"resnet34\",\"resnet34\",\"resnet34\",\"resnet34\",\"resnet26\",\"resnet26\",\"resnet26t\",\"resnet26t\",\"resnet50\",\"resnet50\",\"resnet50\",\"resnet50\",\"resnet50\",\"resnet50\",\"resnet50\",\"resnet50\",\"resnet50\",\"resnet50\",\"resnet50\",\"resnet50\",\"resnet50\",\"resnet50\",\"resnet50\",\"resnet50\",\"resnet50\",\"resnet50\",\"resnet50\",\"resnet50\",\"resnet50\",\"resnet50\",\"resnet50\",\"resnet50\",\"resnet50\",\"resnet50\",\"resnet50\",\"resnet50\",\"resnet50\",\"resnet50\",\"resnet50\",\"resnet32ts\",\"resnet32ts\",\"resnet33ts\",\"resnet33ts\",\"resnet101\",\"resnet101\",\"resnet101\",\"resnet101\",\"resnet101\",\"resnet101\",\"resnet101\",\"resnet101\",\"resnet101\",\"resnet101\",\"resnet101\",\"resnet101\",\"resnet152\",\"resnet152\",\"resnet152\",\"resnet152\",\"resnet152\",\"resnet152\",\"resnet152\",\"resnet152\",\"resnet152\",\"resnet152\",\"resnet152\",\"resnet152\",\"resnet51q\",\"resnet51q\",\"resnet61q\",\"resnet61q\"],\"legendgroup\":\"resnet\",\"marker\":{\"color\":\"#EF553B\",\"size\":[30976,30976,50176,50176,50176,50176,50176,50176,50176,50176,50176,50176,30976,30976,50176,50176,50176,50176,50176,50176,50176,50176,50176,50176,50176,50176,65536,65536,50176,50176,50176,50176,50176,50176,50176,50176,50176,50176,50176,50176,50176,50176,50176,50176,50176,50176,50176,50176,50176,50176,50176,50176,50176,50176,50176,50176,50176,50176,50176,65536,65536,65536,65536,50176,50176,50176,50176,50176,50176,50176,50176,50176,50176,50176,50176,50176,50176,50176,50176,50176,50176,50176,50176,50176,50176,50176,50176,65536,65536,65536,65536],\"sizemode\":\"area\",\"sizeref\":655.36,\"symbol\":\"circle\"},\"mode\":\"markers\",\"name\":\"resnet\",\"orientation\":\"v\",\"showlegend\":true,\"x\":[0.00015826215492915395,0.00015826215492915395,0.00028720941587348996,0.00028720941587348996,0.00028720941587348996,0.00028720941587348996,0.00028720941587348996,0.00028720941587348996,0.00028720941587348996,0.00028720941587348996,0.00028720941587348996,0.00028720941587348996,0.00028798774324164766,0.00028798774324164766,0.0004910361353492003,0.0004910361353492003,0.0004910361353492003,0.0004910361353492003,0.0004910361353492003,0.0004910361353492003,0.0004910361353492003,0.0004910361353492003,0.0004910361353492003,0.0004910361353492003,0.0005096839959225281,0.0005096839959225281,0.0008081853007257504,0.0008081853007257504,0.0008210113217461269,0.0008210113217461269,0.0008210113217461269,0.0008210113217461269,0.0008210113217461269,0.0008210113217461269,0.0008210113217461269,0.0008210113217461269,0.0008210113217461269,0.0008210113217461269,0.0008210113217461269,0.0008210113217461269,0.0008210113217461269,0.0008210113217461269,0.0008210113217461269,0.0008210113217461269,0.0008210113217461269,0.0008210113217461269,0.0008210113217461269,0.0008210113217461269,0.0008210113217461269,0.0008210113217461269,0.0008210113217461269,0.0008210113217461269,0.0008210113217461269,0.0008210113217461269,0.0008210113217461269,0.0008210113217461269,0.0008210113217461269,0.0008210113217461269,0.0008210113217461269,0.0009294889669659622,0.0009294889669659622,0.0009421873822265774,0.0009421873822265774,0.0013370950273435933,0.0013370950273435933,0.0013370950273435933,0.0013370950273435933,0.0013370950273435933,0.0013370950273435933,0.0013370950273435933,0.0013370950273435933,0.0013370950273435933,0.0013370950273435933,0.0013370950273435933,0.0013370950273435933,0.001994256541161455,0.001994256541161455,0.001994256541161455,0.001994256541161455,0.001994256541161455,0.001994256541161455,0.001994256541161455,0.001994256541161455,0.001994256541161455,0.001994256541161455,0.001994256541161455,0.001994256541161455,0.0021560552812574115,0.0021560552812574115,0.0023044129508007836,0.0023044129508007836],\"xaxis\":\"x\",\"y\":[68.346,66.724,73.288,73.164,72.636,72.362,71.488,70.844,70.634,69.752,68.246,65.664,72.242,71.318,77.938,77.148,76.508,76.414,75.516,75.162,74.574,73.298,72.982,70.572,76.378,75.292,78.33,77.884,81.24,81.146,81.012,80.928,80.856,80.844,80.78,80.706,80.652,80.47,80.382,79.974,79.904,79.868,79.86,79.828,79.766,79.652,79.564,79.432,79.38,79.26,79.252,79.032,79.004,78.814,78.432,78.052,77.58,76.156,75.994,79.388,79.054,79.708,79.216,82.802,82.322,82.224,81.95,81.906,81.494,81.344,79.906,79.82,79.306,77.928,77.404,83.494,82.818,82.744,82.62,82.294,81.998,81.764,80.548,80.212,79.712,78.896,78.33,82.356,81.778,82.524,81.966],\"yaxis\":\"y\",\"type\":\"scatter\"},{\"hovertemplate\":\"\\u003cb\\u003eOLS trendline\\u003c\\u002fb\\u003e\\u003cbr\\u003etop1 = 12.6071 * log10(secs) + 117.009\\u003cbr\\u003eR\\u003csup\\u003e2\\u003c\\u002fsup\\u003e=0.759488\\u003cbr\\u003e\\u003cbr\\u003efamily=resnet\\u003cbr\\u003esecs=%{x}\\u003cbr\\u003etop1=%{y} \\u003cb\\u003e(trend)\\u003c\\u002fb\\u003e\\u003cextra\\u003e\\u003c\\u002fextra\\u003e\",\"legendgroup\":\"resnet\",\"marker\":{\"color\":\"#EF553B\",\"symbol\":\"circle\"},\"mode\":\"lines\",\"name\":\"resnet\",\"showlegend\":false,\"x\":[0.00015826215492915395,0.00015826215492915395,0.00028720941587348996,0.00028720941587348996,0.00028720941587348996,0.00028720941587348996,0.00028720941587348996,0.00028720941587348996,0.00028720941587348996,0.00028720941587348996,0.00028720941587348996,0.00028720941587348996,0.00028798774324164766,0.00028798774324164766,0.0004910361353492003,0.0004910361353492003,0.0004910361353492003,0.0004910361353492003,0.0004910361353492003,0.0004910361353492003,0.0004910361353492003,0.0004910361353492003,0.0004910361353492003,0.0004910361353492003,0.0005096839959225281,0.0005096839959225281,0.0008081853007257504,0.0008081853007257504,0.0008210113217461269,0.0008210113217461269,0.0008210113217461269,0.0008210113217461269,0.0008210113217461269,0.0008210113217461269,0.0008210113217461269,0.0008210113217461269,0.0008210113217461269,0.0008210113217461269,0.0008210113217461269,0.0008210113217461269,0.0008210113217461269,0.0008210113217461269,0.0008210113217461269,0.0008210113217461269,0.0008210113217461269,0.0008210113217461269,0.0008210113217461269,0.0008210113217461269,0.0008210113217461269,0.0008210113217461269,0.0008210113217461269,0.0008210113217461269,0.0008210113217461269,0.0008210113217461269,0.0008210113217461269,0.0008210113217461269,0.0008210113217461269,0.0008210113217461269,0.0008210113217461269,0.0009294889669659622,0.0009294889669659622,0.0009421873822265774,0.0009421873822265774,0.0013370950273435933,0.0013370950273435933,0.0013370950273435933,0.0013370950273435933,0.0013370950273435933,0.0013370950273435933,0.0013370950273435933,0.0013370950273435933,0.0013370950273435933,0.0013370950273435933,0.0013370950273435933,0.0013370950273435933,0.001994256541161455,0.001994256541161455,0.001994256541161455,0.001994256541161455,0.001994256541161455,0.001994256541161455,0.001994256541161455,0.001994256541161455,0.001994256541161455,0.001994256541161455,0.001994256541161455,0.001994256541161455,0.0021560552812574115,0.0021560552812574115,0.0023044129508007836,0.0023044129508007836],\"xaxis\":\"x\",\"y\":[69.09394856326915,69.09394856326915,72.35693945126515,72.35693945126515,72.35693945126515,72.35693945126515,72.35693945126515,72.35693945126515,72.35693945126515,72.35693945126515,72.35693945126515,72.35693945126515,72.37175697005611,72.37175697005611,75.29332036378887,75.29332036378887,75.29332036378887,75.29332036378887,75.29332036378887,75.29332036378887,75.29332036378887,75.29332036378887,75.29332036378887,75.29332036378887,75.49739841819581,75.49739841819581,78.02146614034513,78.02146614034513,78.10767602638894,78.10767602638894,78.10767602638894,78.10767602638894,78.10767602638894,78.10767602638894,78.10767602638894,78.10767602638894,78.10767602638894,78.10767602638894,78.10767602638894,78.10767602638894,78.10767602638894,78.10767602638894,78.10767602638894,78.10767602638894,78.10767602638894,78.10767602638894,78.10767602638894,78.10767602638894,78.10767602638894,78.10767602638894,78.10767602638894,78.10767602638894,78.10767602638894,78.10767602638894,78.10767602638894,78.10767602638894,78.10767602638894,78.10767602638894,78.10767602638894,78.78713708409413,78.78713708409413,78.86143131452945,78.86143131452945,80.77802621495226,80.77802621495226,80.77802621495226,80.77802621495226,80.77802621495226,80.77802621495226,80.77802621495226,80.77802621495226,80.77802621495226,80.77802621495226,80.77802621495226,80.77802621495226,82.96685592162345,82.96685592162345,82.96685592162345,82.96685592162345,82.96685592162345,82.96685592162345,82.96685592162345,82.96685592162345,82.96685592162345,82.96685592162345,82.96685592162345,82.96685592162345,83.39397032790455,83.39397032790455,83.75832087785008,83.75832087785008],\"yaxis\":\"y\",\"type\":\"scatter\"},{\"customdata\":[[224],[224],[224],[224],[224],[224],[224],[224],[224],[224],[224],[224],[224],[224],[224],[224],[224],[224]],\"hovertemplate\":\"\\u003cb\\u003e%{hovertext}\\u003c\\u002fb\\u003e\\u003cbr\\u003e\\u003cbr\\u003efamily=regnetx\\u003cbr\\u003esecs=%{x}\\u003cbr\\u003etop1=%{y}\\u003cbr\\u003esize=%{marker.size}\\u003cbr\\u003etrain_img_size=%{customdata[0]}\\u003cextra\\u003e\\u003c\\u002fextra\\u003e\",\"hovertext\":[\"regnetx_002\",\"regnetx_004\",\"regnetx_006\",\"regnetx_008\",\"regnetx_008\",\"regnetx_016\",\"regnetx_016\",\"regnetx_040\",\"regnetx_032\",\"regnetx_032\",\"regnetx_080\",\"regnetx_080\",\"regnetx_064\",\"regnetx_160\",\"regnetx_160\",\"regnetx_120\",\"regnetx_320\",\"regnetx_320\"],\"legendgroup\":\"regnetx\",\"marker\":{\"color\":\"#00cc96\",\"size\":[50176,50176,50176,50176,50176,50176,50176,50176,50176,50176,50176,50176,50176,50176,50176,50176,50176,50176],\"sizemode\":\"area\",\"sizeref\":655.36,\"symbol\":\"circle\"},\"mode\":\"markers\",\"name\":\"regnetx\",\"orientation\":\"v\",\"showlegend\":true,\"x\":[0.00024360298559819148,0.0005616052925682772,0.000777339013090389,0.0009664356885371063,0.0009664356885371063,0.001464707864016522,0.001464707864016522,0.0022606533288120267,0.0032375032375032376,0.0032375032375032376,0.005512375282509233,0.005512375282509233,0.007702973347712218,0.00929368029739777,0.00929368029739777,0.010634903754121025,0.020807324178110695,0.020807324178110695],\"xaxis\":\"x\",\"y\":[68.76,72.432,73.884,77.288,75.062,79.452,76.924,78.494,80.926,78.166,81.56,79.216,79.06,82.576,79.858,79.608,82.824,80.262],\"yaxis\":\"y\",\"type\":\"scatter\"},{\"hovertemplate\":\"\\u003cb\\u003eOLS trendline\\u003c\\u002fb\\u003e\\u003cbr\\u003etop1 = 5.68959 * log10(secs) + 92.4583\\u003cbr\\u003eR\\u003csup\\u003e2\\u003c\\u002fsup\\u003e=0.757706\\u003cbr\\u003e\\u003cbr\\u003efamily=regnetx\\u003cbr\\u003esecs=%{x}\\u003cbr\\u003etop1=%{y} \\u003cb\\u003e(trend)\\u003c\\u002fb\\u003e\\u003cextra\\u003e\\u003c\\u002fextra\\u003e\",\"legendgroup\":\"regnetx\",\"marker\":{\"color\":\"#00cc96\",\"symbol\":\"circle\"},\"mode\":\"lines\",\"name\":\"regnetx\",\"showlegend\":false,\"x\":[0.00024360298559819148,0.0005616052925682772,0.000777339013090389,0.0009664356885371063,0.0009664356885371063,0.001464707864016522,0.001464707864016522,0.0022606533288120267,0.0032375032375032376,0.0032375032375032376,0.005512375282509233,0.005512375282509233,0.007702973347712218,0.00929368029739777,0.00929368029739777,0.010634903754121025,0.020807324178110695,0.020807324178110695],\"xaxis\":\"x\",\"y\":[71.89999669219932,73.96388561172232,74.76713708792994,75.30515844130406,75.30515844130406,76.332572634304,76.332572634304,77.40496243372233,78.29240253061133,78.29240253061133,79.6074281552913,79.6074281552913,80.43423648119524,80.89810455624041,80.89810455624041,81.23120606378572,82.88962149697112,82.88962149697112],\"yaxis\":\"y\",\"type\":\"scatter\"},{\"customdata\":[[224],[224],[224],[224],[224],[224],[224],[224],[224],[224],[224],[224],[224],[224],[224],[224],[224],[256],[256],[256],[256],[256],[256],[256],[256]],\"hovertemplate\":\"\\u003cb\\u003e%{hovertext}\\u003c\\u002fb\\u003e\\u003cbr\\u003e\\u003cbr\\u003efamily=resnetd\\u003cbr\\u003esecs=%{x}\\u003cbr\\u003etop1=%{y}\\u003cbr\\u003esize=%{marker.size}\\u003cbr\\u003etrain_img_size=%{customdata[0]}\\u003cextra\\u003e\\u003c\\u002fextra\\u003e\",\"hovertext\":[\"resnet18d\",\"resnet18d\",\"resnet34d\",\"resnet34d\",\"resnet26d\",\"resnet26d\",\"resnet50d\",\"resnet50d\",\"resnet50d\",\"resnet50d\",\"resnet50d\",\"resnet50d\",\"resnet50d\",\"resnet50d\",\"resnet50d\",\"resnet50d\",\"resnet50d\",\"resnet101d\",\"resnet101d\",\"resnet101d\",\"resnet152d\",\"resnet152d\",\"resnet152d\",\"resnet200d\",\"resnet200d\"],\"legendgroup\":\"resnetd\",\"marker\":{\"color\":\"#ab63fa\",\"size\":[50176,50176,50176,50176,50176,50176,50176,50176,50176,50176,50176,50176,50176,50176,50176,50176,50176,65536,65536,65536,65536,65536,65536,65536,65536],\"sizemode\":\"area\",\"sizeref\":655.36,\"symbol\":\"circle\"},\"mode\":\"markers\",\"name\":\"resnetd\",\"orientation\":\"v\",\"showlegend\":true,\"x\":[0.0003477897958473898,0.0003477897958473898,0.0005515233073749696,0.0005515233073749696,0.00061602528167756,0.00061602528167756,0.0009276437847866419,0.0009276437847866419,0.0009276437847866419,0.0009276437847866419,0.0009276437847866419,0.0009276437847866419,0.0009276437847866419,0.0009276437847866419,0.0009276437847866419,0.0009276437847866419,0.0009276437847866419,0.001908943399828195,0.001908943399828195,0.001908943399828195,0.002796889858477373,0.002796889858477373,0.002796889858477373,0.003743916136278547,0.003743916136278547],\"xaxis\":\"x\",\"y\":[73.794,72.268,78.44,77.104,77.424,76.698,81.83,81.444,81.35,81.168,80.956,80.73,80.548,80.268,79.08,78.742,77.222,83.018,82.252,80.466,83.684,83.156,80.476,83.976,83.24],\"yaxis\":\"y\",\"type\":\"scatter\"},{\"hovertemplate\":\"\\u003cb\\u003eOLS trendline\\u003c\\u002fb\\u003e\\u003cbr\\u003etop1 = 8.44776 * log10(secs) + 104.94\\u003cbr\\u003eR\\u003csup\\u003e2\\u003c\\u002fsup\\u003e=0.707064\\u003cbr\\u003e\\u003cbr\\u003efamily=resnetd\\u003cbr\\u003esecs=%{x}\\u003cbr\\u003etop1=%{y} \\u003cb\\u003e(trend)\\u003c\\u002fb\\u003e\\u003cextra\\u003e\\u003c\\u002fextra\\u003e\",\"legendgroup\":\"resnetd\",\"marker\":{\"color\":\"#ab63fa\",\"symbol\":\"circle\"},\"mode\":\"lines\",\"name\":\"resnetd\",\"showlegend\":false,\"x\":[0.0003477897958473898,0.0003477897958473898,0.0005515233073749696,0.0005515233073749696,0.00061602528167756,0.00061602528167756,0.0009276437847866419,0.0009276437847866419,0.0009276437847866419,0.0009276437847866419,0.0009276437847866419,0.0009276437847866419,0.0009276437847866419,0.0009276437847866419,0.0009276437847866419,0.0009276437847866419,0.0009276437847866419,0.001908943399828195,0.001908943399828195,0.001908943399828195,0.002796889858477373,0.002796889858477373,0.002796889858477373,0.003743916136278547,0.003743916136278547],\"xaxis\":\"x\",\"y\":[75.72167144501552,75.72167144501552,77.4133112703084,77.4133112703084,77.81909682055614,77.81909682055614,79.32096325889842,79.32096325889842,79.32096325889842,79.32096325889842,79.32096325889842,79.32096325889842,79.32096325889842,79.32096325889842,79.32096325889842,79.32096325889842,79.32096325889842,81.96859249575536,81.96859249575536,81.96859249575536,83.36992723371694,83.36992723371694,83.36992723371694,84.4398429459706,84.4398429459706],\"yaxis\":\"y\",\"type\":\"scatter\"},{\"customdata\":[[224],[224],[224],[224],[224],[224],[224],[224],[224],[224],[224],[224],[224],[224],[224],[224],[224],[224],[224],[224],[224],[224],[224],[224],[224],[224],[224],[224],[224],[224],[224],[224],[224],[224],[224],[224],[224],[224]],\"hovertemplate\":\"\\u003cb\\u003e%{hovertext}\\u003c\\u002fb\\u003e\\u003cbr\\u003e\\u003cbr\\u003efamily=convnext\\u003cbr\\u003esecs=%{x}\\u003cbr\\u003etop1=%{y}\\u003cbr\\u003esize=%{marker.size}\\u003cbr\\u003etrain_img_size=%{customdata[0]}\\u003cextra\\u003e\\u003c\\u002fextra\\u003e\",\"hovertext\":[\"convnext_nano_ols\",\"convnext_nano_ols\",\"convnext_nano\",\"convnext_nano\",\"convnext_nano\",\"convnext_nano\",\"convnext_tiny_hnf\",\"convnext_tiny_hnf\",\"convnext_tiny\",\"convnext_tiny\",\"convnext_tiny\",\"convnext_tiny\",\"convnext_tiny\",\"convnext_tiny\",\"convnext_tiny\",\"convnext_tiny\",\"convnext_small\",\"convnext_small\",\"convnext_small\",\"convnext_small\",\"convnext_small\",\"convnext_small\",\"convnext_small\",\"convnext_small\",\"convnext_base\",\"convnext_base\",\"convnext_base\",\"convnext_base\",\"convnext_base\",\"convnext_base\",\"convnext_base\",\"convnext_base\",\"convnext_base\",\"convnext_large\",\"convnext_large\",\"convnext_large\",\"convnext_large\",\"convnext_large\"],\"legendgroup\":\"convnext\",\"marker\":{\"color\":\"#FFA15A\",\"size\":[50176,50176,50176,50176,50176,50176,50176,50176,50176,50176,50176,50176,50176,50176,50176,50176,50176,50176,50176,50176,50176,50176,50176,50176,50176,50176,50176,50176,50176,50176,50176,50176,50176,50176,50176,50176,50176,50176],\"sizemode\":\"area\",\"sizeref\":655.36,\"symbol\":\"circle\"},\"mode\":\"markers\",\"name\":\"convnext\",\"orientation\":\"v\",\"showlegend\":true,\"x\":[0.0007985115744252714,0.0007985115744252714,0.0008000704061957452,0.0008000704061957452,0.0008000704061957452,0.0008000704061957452,0.0012203158177336293,0.0012203158177336293,0.0012206435232654655,0.0012206435232654655,0.0012206435232654655,0.0012206435232654655,0.0012206435232654655,0.0012206435232654655,0.0012206435232654655,0.0012206435232654655,0.0020527558246946527,0.0020527558246946527,0.0020527558246946527,0.0020527558246946527,0.0020527558246946527,0.0020527558246946527,0.0020527558246946527,0.0020527558246946527,0.002952639659855911,0.002952639659855911,0.002952639659855911,0.002952639659855911,0.002952639659855911,0.002952639659855911,0.002952639659855911,0.002952639659855911,0.002952639659855911,0.005321130208056191,0.005321130208056191,0.005321130208056191,0.005321130208056191,0.005321130208056191],\"xaxis\":\"x\",\"y\":[81.612,80.906,82.882,82.306,81.474,80.762,82.608,82.23,85.154,84.448,84.192,84.098,82.888,82.694,82.066,78.95,86.186,85.754,85.324,85.276,85.164,84.582,83.704,83.144,87.15,86.826,86.488,86.386,86.298,86.184,85.816,84.466,83.834,87.456,87.014,86.612,84.862,84.298],\"yaxis\":\"y\",\"type\":\"scatter\"},{\"hovertemplate\":\"\\u003cb\\u003eOLS trendline\\u003c\\u002fb\\u003e\\u003cbr\\u003etop1 = 6.05727 * log10(secs) + 100.741\\u003cbr\\u003eR\\u003csup\\u003e2\\u003c\\u002fsup\\u003e=0.592734\\u003cbr\\u003e\\u003cbr\\u003efamily=convnext\\u003cbr\\u003esecs=%{x}\\u003cbr\\u003etop1=%{y} \\u003cb\\u003e(trend)\\u003c\\u002fb\\u003e\\u003cextra\\u003e\\u003c\\u002fextra\\u003e\",\"legendgroup\":\"convnext\",\"marker\":{\"color\":\"#FFA15A\",\"symbol\":\"circle\"},\"mode\":\"lines\",\"name\":\"convnext\",\"showlegend\":false,\"x\":[0.0007985115744252714,0.0007985115744252714,0.0008000704061957452,0.0008000704061957452,0.0008000704061957452,0.0008000704061957452,0.0012203158177336293,0.0012203158177336293,0.0012206435232654655,0.0012206435232654655,0.0012206435232654655,0.0012206435232654655,0.0012206435232654655,0.0012206435232654655,0.0012206435232654655,0.0012206435232654655,0.0020527558246946527,0.0020527558246946527,0.0020527558246946527,0.0020527558246946527,0.0020527558246946527,0.0020527558246946527,0.0020527558246946527,0.0020527558246946527,0.002952639659855911,0.002952639659855911,0.002952639659855911,0.002952639659855911,0.002952639659855911,0.002952639659855911,0.002952639659855911,0.002952639659855911,0.002952639659855911,0.005321130208056191,0.005321130208056191,0.005321130208056191,0.005321130208056191,0.005321130208056191],\"xaxis\":\"x\",\"y\":[81.9771556230794,81.9771556230794,81.98228607274132,81.98228607274132,81.98228607274132,81.98228607274132,83.09284966960006,83.09284966960006,83.0935560102288,83.0935560102288,83.0935560102288,83.0935560102288,83.0935560102288,83.0935560102288,83.0935560102288,83.0935560102288,84.46097438876224,84.46097438876224,84.46097438876224,84.46097438876224,84.46097438876224,84.46097438876224,84.46097438876224,84.46097438876224,85.41725409892861,85.41725409892861,85.41725409892861,85.41725409892861,85.41725409892861,85.41725409892861,85.41725409892861,85.41725409892861,85.41725409892861,86.96666300827805,86.96666300827805,86.96666300827805,86.96666300827805,86.96666300827805],\"yaxis\":\"y\",\"type\":\"scatter\"},{\"customdata\":[[224],[224],[288],[288],[320],[320]],\"hovertemplate\":\"\\u003cb\\u003e%{hovertext}\\u003c\\u002fb\\u003e\\u003cbr\\u003e\\u003cbr\\u003efamily=efficientnetv2\\u003cbr\\u003esecs=%{x}\\u003cbr\\u003etop1=%{y}\\u003cbr\\u003esize=%{marker.size}\\u003cbr\\u003etrain_img_size=%{customdata[0]}\\u003cextra\\u003e\\u003c\\u002fextra\\u003e\",\"hovertext\":[\"efficientnetv2_rw_t\",\"efficientnetv2_rw_t\",\"efficientnetv2_rw_s\",\"efficientnetv2_rw_s\",\"efficientnetv2_rw_m\",\"efficientnetv2_rw_m\"],\"legendgroup\":\"efficientnetv2\",\"marker\":{\"color\":\"#19d3f3\",\"size\":[50176,50176,82944,82944,102400,102400],\"sizemode\":\"area\",\"sizeref\":655.36,\"symbol\":\"circle\"},\"mode\":\"markers\",\"name\":\"efficientnetv2\",\"orientation\":\"v\",\"showlegend\":true,\"x\":[0.0009100340352729192,0.0009100340352729192,0.0019202335003936479,0.0019202335003936479,0.0044551367726989215,0.0044551367726989215],\"xaxis\":\"x\",\"y\":[82.354,81.372,83.83,82.888,84.824,84.294],\"yaxis\":\"y\",\"type\":\"scatter\"},{\"hovertemplate\":\"\\u003cb\\u003eOLS trendline\\u003c\\u002fb\\u003e\\u003cbr\\u003etop1 = 3.89518 * log10(secs) + 93.7887\\u003cbr\\u003eR\\u003csup\\u003e2\\u003c\\u002fsup\\u003e=0.864197\\u003cbr\\u003e\\u003cbr\\u003efamily=efficientnetv2\\u003cbr\\u003esecs=%{x}\\u003cbr\\u003etop1=%{y} \\u003cb\\u003e(trend)\\u003c\\u002fb\\u003e\\u003cextra\\u003e\\u003c\\u002fextra\\u003e\",\"legendgroup\":\"efficientnetv2\",\"marker\":{\"color\":\"#19d3f3\",\"symbol\":\"circle\"},\"mode\":\"lines\",\"name\":\"efficientnetv2\",\"showlegend\":false,\"x\":[0.0009100340352729192,0.0009100340352729192,0.0019202335003936479,0.0019202335003936479,0.0044551367726989215,0.0044551367726989215],\"xaxis\":\"x\",\"y\":[81.94363275137769,81.94363275137769,83.20682576898022,83.20682576898022,84.63054147964203,84.63054147964203],\"yaxis\":\"y\",\"type\":\"scatter\"},{\"customdata\":[[224],[224],[224],[224],[224],[224],[224],[224]],\"hovertemplate\":\"\\u003cb\\u003e%{hovertext}\\u003c\\u002fb\\u003e\\u003cbr\\u003e\\u003cbr\\u003efamily=vgg\\u003cbr\\u003esecs=%{x}\\u003cbr\\u003etop1=%{y}\\u003cbr\\u003esize=%{marker.size}\\u003cbr\\u003etrain_img_size=%{customdata[0]}\\u003cextra\\u003e\\u003c\\u002fextra\\u003e\",\"hovertext\":[\"vgg11\",\"vgg11_bn\",\"vgg13\",\"vgg13_bn\",\"vgg16\",\"vgg16_bn\",\"vgg19\",\"vgg19_bn\"],\"legendgroup\":\"vgg\",\"marker\":{\"color\":\"#FF6692\",\"size\":[50176,50176,50176,50176,50176,50176,50176,50176],\"sizemode\":\"area\",\"sizeref\":655.36,\"symbol\":\"circle\"},\"mode\":\"markers\",\"name\":\"vgg\",\"orientation\":\"v\",\"showlegend\":true,\"x\":[0.0010481850675555277,0.0012008550087662414,0.00147612369916599,0.0017437703803163198,0.00183130058967879,0.00212630236019562,0.0021864136257297153,0.002509410288582183],\"xaxis\":\"x\",\"y\":[69.048,70.384,69.94,71.556,71.6,73.356,72.4,74.236],\"yaxis\":\"y\",\"type\":\"scatter\"},{\"hovertemplate\":\"\\u003cb\\u003eOLS trendline\\u003c\\u002fb\\u003e\\u003cbr\\u003etop1 = 12.5164 * log10(secs) + 106.235\\u003cbr\\u003eR\\u003csup\\u003e2\\u003c\\u002fsup\\u003e=0.891236\\u003cbr\\u003e\\u003cbr\\u003efamily=vgg\\u003cbr\\u003esecs=%{x}\\u003cbr\\u003etop1=%{y} \\u003cb\\u003e(trend)\\u003c\\u002fb\\u003e\\u003cextra\\u003e\\u003c\\u002fextra\\u003e\",\"legendgroup\":\"vgg\",\"marker\":{\"color\":\"#FF6692\",\"symbol\":\"circle\"},\"mode\":\"lines\",\"name\":\"vgg\",\"showlegend\":false,\"x\":[0.0010481850675555277,0.0012008550087662414,0.00147612369916599,0.0017437703803163198,0.00183130058967879,0.00212630236019562,0.0021864136257297153,0.002509410288582183],\"xaxis\":\"x\",\"y\":[68.94167499598987,69.6808021878766,70.80267615676307,71.70844618630711,71.97467467309053,72.78655706647322,72.93809716395444,73.6870715695454],\"yaxis\":\"y\",\"type\":\"scatter\"},{\"customdata\":[[224],[224],[384],[384],[512]],\"hovertemplate\":\"\\u003cb\\u003e%{hovertext}\\u003c\\u002fb\\u003e\\u003cbr\\u003e\\u003cbr\\u003efamily=beit\\u003cbr\\u003esecs=%{x}\\u003cbr\\u003etop1=%{y}\\u003cbr\\u003esize=%{marker.size}\\u003cbr\\u003etrain_img_size=%{customdata[0]}\\u003cextra\\u003e\\u003c\\u002fextra\\u003e\",\"hovertext\":[\"beit_base_patch16_224\",\"beit_large_patch16_224\",\"beit_base_patch16_384\",\"beit_large_patch16_384\",\"beit_large_patch16_512\"],\"legendgroup\":\"beit\",\"marker\":{\"color\":\"#B6E880\",\"size\":[50176,50176,147456,147456,262144],\"sizemode\":\"area\",\"sizeref\":655.36,\"symbol\":\"circle\"},\"mode\":\"markers\",\"name\":\"beit\",\"orientation\":\"v\",\"showlegend\":true,\"x\":[0.0027873010563871006,0.0091726288754357,0.011923214498628829,0.039525691699604744,0.10615711252653928],\"xaxis\":\"x\",\"y\":[85.244,87.488,86.816,88.382,88.578],\"yaxis\":\"y\",\"type\":\"scatter\"},{\"hovertemplate\":\"\\u003cb\\u003eOLS trendline\\u003c\\u002fb\\u003e\\u003cbr\\u003etop1 = 2.06369 * log10(secs) + 90.9721\\u003cbr\\u003eR\\u003csup\\u003e2\\u003c\\u002fsup\\u003e=0.862673\\u003cbr\\u003e\\u003cbr\\u003efamily=beit\\u003cbr\\u003esecs=%{x}\\u003cbr\\u003etop1=%{y} \\u003cb\\u003e(trend)\\u003c\\u002fb\\u003e\\u003cextra\\u003e\\u003c\\u002fextra\\u003e\",\"legendgroup\":\"beit\",\"marker\":{\"color\":\"#B6E880\",\"symbol\":\"circle\"},\"mode\":\"lines\",\"name\":\"beit\",\"showlegend\":false,\"x\":[0.0027873010563871006,0.0091726288754357,0.011923214498628829,0.039525691699604744,0.10615711252653928],\"xaxis\":\"x\",\"y\":[85.6997752030168,86.76734041016086,87.00239326772439,88.07651311036435,88.9619780087335],\"yaxis\":\"y\",\"type\":\"scatter\"}],                        {\"template\":{\"data\":{\"histogram2dcontour\":[{\"type\":\"histogram2dcontour\",\"colorbar\":{\"outlinewidth\":0,\"ticks\":\"\"},\"colorscale\":[[0.0,\"#0d0887\"],[0.1111111111111111,\"#46039f\"],[0.2222222222222222,\"#7201a8\"],[0.3333333333333333,\"#9c179e\"],[0.4444444444444444,\"#bd3786\"],[0.5555555555555556,\"#d8576b\"],[0.6666666666666666,\"#ed7953\"],[0.7777777777777778,\"#fb9f3a\"],[0.8888888888888888,\"#fdca26\"],[1.0,\"#f0f921\"]]}],\"choropleth\":[{\"type\":\"choropleth\",\"colorbar\":{\"outlinewidth\":0,\"ticks\":\"\"}}],\"histogram2d\":[{\"type\":\"histogram2d\",\"colorbar\":{\"outlinewidth\":0,\"ticks\":\"\"},\"colorscale\":[[0.0,\"#0d0887\"],[0.1111111111111111,\"#46039f\"],[0.2222222222222222,\"#7201a8\"],[0.3333333333333333,\"#9c179e\"],[0.4444444444444444,\"#bd3786\"],[0.5555555555555556,\"#d8576b\"],[0.6666666666666666,\"#ed7953\"],[0.7777777777777778,\"#fb9f3a\"],[0.8888888888888888,\"#fdca26\"],[1.0,\"#f0f921\"]]}],\"heatmap\":[{\"type\":\"heatmap\",\"colorbar\":{\"outlinewidth\":0,\"ticks\":\"\"},\"colorscale\":[[0.0,\"#0d0887\"],[0.1111111111111111,\"#46039f\"],[0.2222222222222222,\"#7201a8\"],[0.3333333333333333,\"#9c179e\"],[0.4444444444444444,\"#bd3786\"],[0.5555555555555556,\"#d8576b\"],[0.6666666666666666,\"#ed7953\"],[0.7777777777777778,\"#fb9f3a\"],[0.8888888888888888,\"#fdca26\"],[1.0,\"#f0f921\"]]}],\"heatmapgl\":[{\"type\":\"heatmapgl\",\"colorbar\":{\"outlinewidth\":0,\"ticks\":\"\"},\"colorscale\":[[0.0,\"#0d0887\"],[0.1111111111111111,\"#46039f\"],[0.2222222222222222,\"#7201a8\"],[0.3333333333333333,\"#9c179e\"],[0.4444444444444444,\"#bd3786\"],[0.5555555555555556,\"#d8576b\"],[0.6666666666666666,\"#ed7953\"],[0.7777777777777778,\"#fb9f3a\"],[0.8888888888888888,\"#fdca26\"],[1.0,\"#f0f921\"]]}],\"contourcarpet\":[{\"type\":\"contourcarpet\",\"colorbar\":{\"outlinewidth\":0,\"ticks\":\"\"}}],\"contour\":[{\"type\":\"contour\",\"colorbar\":{\"outlinewidth\":0,\"ticks\":\"\"},\"colorscale\":[[0.0,\"#0d0887\"],[0.1111111111111111,\"#46039f\"],[0.2222222222222222,\"#7201a8\"],[0.3333333333333333,\"#9c179e\"],[0.4444444444444444,\"#bd3786\"],[0.5555555555555556,\"#d8576b\"],[0.6666666666666666,\"#ed7953\"],[0.7777777777777778,\"#fb9f3a\"],[0.8888888888888888,\"#fdca26\"],[1.0,\"#f0f921\"]]}],\"surface\":[{\"type\":\"surface\",\"colorbar\":{\"outlinewidth\":0,\"ticks\":\"\"},\"colorscale\":[[0.0,\"#0d0887\"],[0.1111111111111111,\"#46039f\"],[0.2222222222222222,\"#7201a8\"],[0.3333333333333333,\"#9c179e\"],[0.4444444444444444,\"#bd3786\"],[0.5555555555555556,\"#d8576b\"],[0.6666666666666666,\"#ed7953\"],[0.7777777777777778,\"#fb9f3a\"],[0.8888888888888888,\"#fdca26\"],[1.0,\"#f0f921\"]]}],\"mesh3d\":[{\"type\":\"mesh3d\",\"colorbar\":{\"outlinewidth\":0,\"ticks\":\"\"}}],\"scatter\":[{\"fillpattern\":{\"fillmode\":\"overlay\",\"size\":10,\"solidity\":0.2},\"type\":\"scatter\"}],\"parcoords\":[{\"type\":\"parcoords\",\"line\":{\"colorbar\":{\"outlinewidth\":0,\"ticks\":\"\"}}}],\"scatterpolargl\":[{\"type\":\"scatterpolargl\",\"marker\":{\"colorbar\":{\"outlinewidth\":0,\"ticks\":\"\"}}}],\"bar\":[{\"error_x\":{\"color\":\"#2a3f5f\"},\"error_y\":{\"color\":\"#2a3f5f\"},\"marker\":{\"line\":{\"color\":\"#E5ECF6\",\"width\":0.5},\"pattern\":{\"fillmode\":\"overlay\",\"size\":10,\"solidity\":0.2}},\"type\":\"bar\"}],\"scattergeo\":[{\"type\":\"scattergeo\",\"marker\":{\"colorbar\":{\"outlinewidth\":0,\"ticks\":\"\"}}}],\"scatterpolar\":[{\"type\":\"scatterpolar\",\"marker\":{\"colorbar\":{\"outlinewidth\":0,\"ticks\":\"\"}}}],\"histogram\":[{\"marker\":{\"pattern\":{\"fillmode\":\"overlay\",\"size\":10,\"solidity\":0.2}},\"type\":\"histogram\"}],\"scattergl\":[{\"type\":\"scattergl\",\"marker\":{\"colorbar\":{\"outlinewidth\":0,\"ticks\":\"\"}}}],\"scatter3d\":[{\"type\":\"scatter3d\",\"line\":{\"colorbar\":{\"outlinewidth\":0,\"ticks\":\"\"}},\"marker\":{\"colorbar\":{\"outlinewidth\":0,\"ticks\":\"\"}}}],\"scattermapbox\":[{\"type\":\"scattermapbox\",\"marker\":{\"colorbar\":{\"outlinewidth\":0,\"ticks\":\"\"}}}],\"scatterternary\":[{\"type\":\"scatterternary\",\"marker\":{\"colorbar\":{\"outlinewidth\":0,\"ticks\":\"\"}}}],\"scattercarpet\":[{\"type\":\"scattercarpet\",\"marker\":{\"colorbar\":{\"outlinewidth\":0,\"ticks\":\"\"}}}],\"carpet\":[{\"aaxis\":{\"endlinecolor\":\"#2a3f5f\",\"gridcolor\":\"white\",\"linecolor\":\"white\",\"minorgridcolor\":\"white\",\"startlinecolor\":\"#2a3f5f\"},\"baxis\":{\"endlinecolor\":\"#2a3f5f\",\"gridcolor\":\"white\",\"linecolor\":\"white\",\"minorgridcolor\":\"white\",\"startlinecolor\":\"#2a3f5f\"},\"type\":\"carpet\"}],\"table\":[{\"cells\":{\"fill\":{\"color\":\"#EBF0F8\"},\"line\":{\"color\":\"white\"}},\"header\":{\"fill\":{\"color\":\"#C8D4E3\"},\"line\":{\"color\":\"white\"}},\"type\":\"table\"}],\"barpolar\":[{\"marker\":{\"line\":{\"color\":\"#E5ECF6\",\"width\":0.5},\"pattern\":{\"fillmode\":\"overlay\",\"size\":10,\"solidity\":0.2}},\"type\":\"barpolar\"}],\"pie\":[{\"automargin\":true,\"type\":\"pie\"}]},\"layout\":{\"autotypenumbers\":\"strict\",\"colorway\":[\"#636efa\",\"#EF553B\",\"#00cc96\",\"#ab63fa\",\"#FFA15A\",\"#19d3f3\",\"#FF6692\",\"#B6E880\",\"#FF97FF\",\"#FECB52\"],\"font\":{\"color\":\"#2a3f5f\"},\"hovermode\":\"closest\",\"hoverlabel\":{\"align\":\"left\"},\"paper_bgcolor\":\"white\",\"plot_bgcolor\":\"#E5ECF6\",\"polar\":{\"bgcolor\":\"#E5ECF6\",\"angularaxis\":{\"gridcolor\":\"white\",\"linecolor\":\"white\",\"ticks\":\"\"},\"radialaxis\":{\"gridcolor\":\"white\",\"linecolor\":\"white\",\"ticks\":\"\"}},\"ternary\":{\"bgcolor\":\"#E5ECF6\",\"aaxis\":{\"gridcolor\":\"white\",\"linecolor\":\"white\",\"ticks\":\"\"},\"baxis\":{\"gridcolor\":\"white\",\"linecolor\":\"white\",\"ticks\":\"\"},\"caxis\":{\"gridcolor\":\"white\",\"linecolor\":\"white\",\"ticks\":\"\"}},\"coloraxis\":{\"colorbar\":{\"outlinewidth\":0,\"ticks\":\"\"}},\"colorscale\":{\"sequential\":[[0.0,\"#0d0887\"],[0.1111111111111111,\"#46039f\"],[0.2222222222222222,\"#7201a8\"],[0.3333333333333333,\"#9c179e\"],[0.4444444444444444,\"#bd3786\"],[0.5555555555555556,\"#d8576b\"],[0.6666666666666666,\"#ed7953\"],[0.7777777777777778,\"#fb9f3a\"],[0.8888888888888888,\"#fdca26\"],[1.0,\"#f0f921\"]],\"sequentialminus\":[[0.0,\"#0d0887\"],[0.1111111111111111,\"#46039f\"],[0.2222222222222222,\"#7201a8\"],[0.3333333333333333,\"#9c179e\"],[0.4444444444444444,\"#bd3786\"],[0.5555555555555556,\"#d8576b\"],[0.6666666666666666,\"#ed7953\"],[0.7777777777777778,\"#fb9f3a\"],[0.8888888888888888,\"#fdca26\"],[1.0,\"#f0f921\"]],\"diverging\":[[0,\"#8e0152\"],[0.1,\"#c51b7d\"],[0.2,\"#de77ae\"],[0.3,\"#f1b6da\"],[0.4,\"#fde0ef\"],[0.5,\"#f7f7f7\"],[0.6,\"#e6f5d0\"],[0.7,\"#b8e186\"],[0.8,\"#7fbc41\"],[0.9,\"#4d9221\"],[1,\"#276419\"]]},\"xaxis\":{\"gridcolor\":\"white\",\"linecolor\":\"white\",\"ticks\":\"\",\"title\":{\"standoff\":15},\"zerolinecolor\":\"white\",\"automargin\":true,\"zerolinewidth\":2},\"yaxis\":{\"gridcolor\":\"white\",\"linecolor\":\"white\",\"ticks\":\"\",\"title\":{\"standoff\":15},\"zerolinecolor\":\"white\",\"automargin\":true,\"zerolinewidth\":2},\"scene\":{\"xaxis\":{\"backgroundcolor\":\"#E5ECF6\",\"gridcolor\":\"white\",\"linecolor\":\"white\",\"showbackground\":true,\"ticks\":\"\",\"zerolinecolor\":\"white\",\"gridwidth\":2},\"yaxis\":{\"backgroundcolor\":\"#E5ECF6\",\"gridcolor\":\"white\",\"linecolor\":\"white\",\"showbackground\":true,\"ticks\":\"\",\"zerolinecolor\":\"white\",\"gridwidth\":2},\"zaxis\":{\"backgroundcolor\":\"#E5ECF6\",\"gridcolor\":\"white\",\"linecolor\":\"white\",\"showbackground\":true,\"ticks\":\"\",\"zerolinecolor\":\"white\",\"gridwidth\":2}},\"shapedefaults\":{\"line\":{\"color\":\"#2a3f5f\"}},\"annotationdefaults\":{\"arrowcolor\":\"#2a3f5f\",\"arrowhead\":0,\"arrowwidth\":1},\"geo\":{\"bgcolor\":\"white\",\"landcolor\":\"#E5ECF6\",\"subunitcolor\":\"white\",\"showland\":true,\"showlakes\":true,\"lakecolor\":\"white\"},\"title\":{\"x\":0.05},\"mapbox\":{\"style\":\"light\"}}},\"xaxis\":{\"anchor\":\"y\",\"domain\":[0.0,1.0],\"title\":{\"text\":\"secs\"},\"type\":\"log\"},\"yaxis\":{\"anchor\":\"x\",\"domain\":[0.0,1.0],\"title\":{\"text\":\"top1\"}},\"legend\":{\"title\":{\"text\":\"family\"},\"tracegroupgap\":0,\"itemsizing\":\"constant\"},\"title\":{\"text\":\"Training\"},\"height\":800,\"width\":1000},                        {\"responsive\": true}                    ).then(function(){\n",
       "                            \n",
       "var gd = document.getElementById('72593d7f-a5df-4735-adb9-498e3484d709');\n",
       "var x = new MutationObserver(function (mutations, observer) {{\n",
       "        var display = window.getComputedStyle(gd).display;\n",
       "        if (!display || display === 'none') {{\n",
       "            console.log([gd, 'removed!']);\n",
       "            Plotly.purge(gd);\n",
       "            observer.disconnect();\n",
       "        }}\n",
       "}});\n",
       "\n",
       "// Listen for the removal of the full notebook cells\n",
       "var notebookContainer = gd.closest('#notebook-container');\n",
       "if (notebookContainer) {{\n",
       "    x.observe(notebookContainer, {childList: true});\n",
       "}}\n",
       "\n",
       "// Listen for the clearing of the current output cell\n",
       "var outputEl = gd.closest('.output');\n",
       "if (outputEl) {{\n",
       "    x.observe(outputEl, {childList: true});\n",
       "}}\n",
       "\n",
       "                        })                };                });            </script>        </div>"
      ]
     },
     "metadata": {},
     "output_type": "display_data"
    }
   ],
   "source": [
    "show_subs(tdf, 'Training', 'train_img_size')"
   ]
  },
  {
   "cell_type": "markdown",
   "metadata": {},
   "source": [
    "Finally, we should remember that speed depends on hardware. If you're using something other than a modern NVIDIA GPU, your results may be different. In particular, I suspect that transformers-based models might have worse performance in general on CPUs (although I need to study this more to be sure)."
   ]
  },
  {
   "cell_type": "code",
   "execution_count": null,
   "metadata": {},
   "outputs": [],
   "source": []
  }
 ],
 "metadata": {
  "kernelspec": {
   "display_name": "Python 3",
   "language": "python",
   "name": "python3"
  },
  "language_info": {
   "codemirror_mode": {
    "name": "ipython",
    "version": 3
   },
   "file_extension": ".py",
   "mimetype": "text/x-python",
   "name": "python",
   "nbconvert_exporter": "python",
   "pygments_lexer": "ipython3",
   "version": "3.10.12"
  }
 },
 "nbformat": 4,
 "nbformat_minor": 4
}
